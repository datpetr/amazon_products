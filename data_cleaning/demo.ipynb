{
 "cells": [
  {
   "cell_type": "markdown",
   "source": [
    "First of all, let's import the libraries we'll be working with"
   ],
   "metadata": {
    "collapsed": false
   },
   "id": "78e7ef115d69c9c1"
  },
  {
   "cell_type": "code",
   "outputs": [],
   "source": [
    "import pandas as pd\n",
    "from pandas import DataFrame"
   ],
   "metadata": {
    "collapsed": false
   },
   "id": "82364a621d74631e",
   "execution_count": null
  },
  {
   "cell_type": "markdown",
   "source": [
    "Now we will create a functions that we will use throughout the code\n",
    "\n",
    "- First of it will be function that will show the head of the table"
   ],
   "metadata": {
    "collapsed": false
   },
   "id": "edfe86d3dbfb50f"
  },
  {
   "cell_type": "code",
   "outputs": [],
   "source": [
    "def show_head(df):\n",
    "    return df.head()"
   ],
   "metadata": {
    "collapsed": false
   },
   "id": "f3cd9e3d16bfa94a",
   "execution_count": null
  },
  {
   "cell_type": "markdown",
   "source": [
    "- this function will show the datatypes of variables"
   ],
   "metadata": {
    "collapsed": false
   },
   "id": "88fe6c8deea957f1"
  },
  {
   "cell_type": "code",
   "outputs": [],
   "source": [
    "def show_data_type(df):\n",
    "    return df.dtypes"
   ],
   "metadata": {
    "collapsed": false
   },
   "id": "732bdd3d689e19d5",
   "execution_count": null
  },
  {
   "cell_type": "markdown",
   "source": [
    "- and the third will show the general info about datasets"
   ],
   "metadata": {
    "collapsed": false
   },
   "id": "a6014ff3cf45ce0a"
  },
  {
   "cell_type": "code",
   "outputs": [],
   "source": [
    "def show_info(df):\n",
    "    return df.info()"
   ],
   "metadata": {
    "collapsed": false
   },
   "id": "58b24d9e953984f5",
   "execution_count": null
  },
  {
   "cell_type": "markdown",
   "source": [
    "0. To start with, I have read the file to a dataframe."
   ],
   "metadata": {
    "collapsed": false
   },
   "id": "c6c8c85ff28a787c"
  },
  {
   "cell_type": "code",
   "outputs": [],
   "source": [
    "show_head(pd.read_excel('/home/master/pycharm_projects/amazon_products/data/original/Amazon.xlsx'))"
   ],
   "metadata": {
    "collapsed": false
   },
   "id": "ea02241a217bf5d8",
   "execution_count": null
  },
  {
   "cell_type": "markdown",
   "source": [
    "I wanted to skip the title and the empty row in order to have a better view."
   ],
   "metadata": {
    "collapsed": false
   },
   "id": "67e6536d0f4e08d5"
  },
  {
   "cell_type": "code",
   "outputs": [],
   "source": [
    "df = pd.read_excel('/home/master/pycharm_projects/amazon_products/data/original/Amazon.xlsx', header=None, skiprows=3)"
   ],
   "metadata": {
    "collapsed": false
   },
   "id": "62098d6ecc38ace2",
   "execution_count": null
  },
  {
   "cell_type": "markdown",
   "source": [
    "let's check the changed data"
   ],
   "metadata": {
    "collapsed": false
   },
   "id": "16494adba9825ecf"
  },
  {
   "cell_type": "code",
   "outputs": [],
   "source": [
    "show_head(df)"
   ],
   "metadata": {
    "collapsed": false
   },
   "id": "9aeffe5ca2ca021e",
   "execution_count": null
  },
  {
   "cell_type": "markdown",
   "source": [
    "after the checking, it seems good. To check the datatype we first name columns"
   ],
   "metadata": {
    "collapsed": false
   },
   "id": "6d5156c6eb526ce1"
  },
  {
   "cell_type": "code",
   "outputs": [],
   "source": [
    "df.columns = [\"Category\", \"Product ID\", \"Year\", \"Quarter\", \"Quarterly Sales\", \"Customer Rating\", \"Seller Rating\", \"Price\", \"Discount Rate\", \"Units Sold\", \"Revenue\", \"Shipping Method\", \"Location\", \"Advertising Cost\"]"
   ],
   "metadata": {
    "collapsed": false
   },
   "id": "e9af46281815a996",
   "execution_count": null
  },
  {
   "cell_type": "markdown",
   "source": [
    "let's check the changed names of variables "
   ],
   "metadata": {
    "collapsed": false
   },
   "id": "b9da3e4d5ac242ec"
  },
  {
   "cell_type": "code",
   "outputs": [],
   "source": [
    "show_head(df)"
   ],
   "metadata": {
    "collapsed": false
   },
   "id": "49b5269687d96c46",
   "execution_count": null
  },
  {
   "cell_type": "markdown",
   "source": [
    "1. examine the variables and their datatypes"
   ],
   "metadata": {
    "collapsed": false
   },
   "id": "313a29884c5b9a46"
  },
  {
   "cell_type": "code",
   "outputs": [],
   "source": [
    "show_data_type(df)"
   ],
   "metadata": {
    "collapsed": false
   },
   "id": "3565e22180085ef5",
   "execution_count": null
  },
  {
   "cell_type": "markdown",
   "source": [
    "there seems to be problem with Discount Rate and Seller Rating, they should ve integer instead of floats. We are going to do this change later since it will be much easier"
   ],
   "metadata": {
    "collapsed": false
   },
   "id": "b44b66162e38f7c3"
  },
  {
   "cell_type": "markdown",
   "source": [
    "2. remove any separation error in variables.\n",
    "\n",
    "since we defined the header there is no need to check the existence of it check the exising of NA's"
   ],
   "metadata": {
    "collapsed": false
   },
   "id": "25da40cb1f56354"
  },
  {
   "cell_type": "code",
   "outputs": [],
   "source": [
    "df.isna().sum()"
   ],
   "metadata": {
    "collapsed": false
   },
   "id": "2ba2ee5eefde3d5f",
   "execution_count": null
  },
  {
   "cell_type": "markdown",
   "source": [
    "it is showed that there are NA's values in Seller Rating, Advertising Cost, Quarterly Sales\n",
    "\n",
    "for making sure that there isn't any NA type of string type let's first of all get rid of white spaces in the code"
   ],
   "metadata": {
    "collapsed": false
   },
   "id": "bfc0fd8999a956ff"
  },
  {
   "cell_type": "code",
   "outputs": [],
   "source": [
    "df = df.applymap(lambda x: x.strip() if isinstance(x, str) else x)"
   ],
   "metadata": {
    "collapsed": false
   },
   "id": "94db1e43d1b06711",
   "execution_count": null
  },
  {
   "cell_type": "markdown",
   "source": [
    "and replacing string NA by NA"
   ],
   "metadata": {
    "collapsed": false
   },
   "id": "df87f3a2af12877a"
  },
  {
   "cell_type": "code",
   "outputs": [],
   "source": [
    "df.replace('NA', pd.NA, inplace=True)"
   ],
   "metadata": {
    "collapsed": false
   },
   "id": "9f5ed4b8a51fd7f0",
   "execution_count": null
  },
  {
   "cell_type": "markdown",
   "source": [
    "let's check whether if there are new NA "
   ],
   "metadata": {
    "collapsed": false
   },
   "id": "59d293c6c04195b9"
  },
  {
   "cell_type": "code",
   "outputs": [],
   "source": [
    "df.isna().sum()"
   ],
   "metadata": {
    "collapsed": false
   },
   "id": "319662135b756aa8",
   "execution_count": null
  },
  {
   "cell_type": "markdown",
   "source": [
    "so, there was 1 string NA in column \"Quarterly Sales\"  "
   ],
   "metadata": {
    "collapsed": false
   },
   "id": "659b3f9e4fe634b8"
  },
  {
   "cell_type": "markdown",
   "source": [
    "so, there is a problem only in The column: Quarterly Sales, we will consider it later"
   ],
   "metadata": {
    "collapsed": false
   },
   "id": "4b79680fc963274f"
  },
  {
   "cell_type": "markdown",
   "source": [
    "Remove specified characters from string columns"
   ],
   "metadata": {
    "collapsed": false
   },
   "id": "dbe4c5e742806fb9"
  },
  {
   "cell_type": "code",
   "outputs": [],
   "source": [
    "df.replace(to_replace=[r'\\{', r'\\}', r';', r':', r',', r'\\t', r'\\n'], value='', regex=True, inplace=True)"
   ],
   "metadata": {
    "collapsed": false
   },
   "id": "f59629be1b75e106",
   "execution_count": null
  },
  {
   "cell_type": "markdown",
   "source": [
    "\n",
    "3. since we define by ourselves the names of columns there is no need to check whether column headers are values, not variables names"
   ],
   "metadata": {
    "collapsed": false
   },
   "id": "b6d5d362f3bf7fa3"
  },
  {
   "cell_type": "markdown",
   "source": [
    "- for checking whether multiple variables are stored in both rows and columns. First of all, let's find out whether multiple datatypes present in a column"
   ],
   "metadata": {
    "collapsed": false
   },
   "id": "d0b3c65be82d801"
  },
  {
   "cell_type": "code",
   "outputs": [],
   "source": [
    "df.applymap(type).apply(set)"
   ],
   "metadata": {
    "collapsed": false
   },
   "id": "37620d97b9875f08",
   "execution_count": null
  },
  {
   "cell_type": "markdown",
   "source": [
    "so, we can see that in Quarterly Sales there are three types of value, we will fix it later, since we need to first of all find out what shall we do with NA's"
   ],
   "metadata": {
    "collapsed": false
   },
   "id": "fac5679d9830febc"
  },
  {
   "cell_type": "markdown",
   "source": [
    "Check if specific values indicate multiple variables in all columns"
   ],
   "metadata": {
    "collapsed": false
   },
   "id": "f9d25fd43928081c"
  },
  {
   "cell_type": "markdown",
   "source": [
    "creating the function that will check for presenting of a specific characters and after this remove it "
   ],
   "metadata": {
    "collapsed": false
   },
   "id": "b6a4e41a738f1d2f"
  },
  {
   "cell_type": "code",
   "outputs": [],
   "source": [
    "def check_and_remove_specific_values(df, specific_values):\n",
    "    return df.applymap(lambda x: ''.join(c for c in str(x) if c not in specific_values))"
   ],
   "metadata": {
    "collapsed": false
   },
   "id": "e252753d2b01be8c",
   "execution_count": null
  },
  {
   "cell_type": "markdown",
   "source": [
    "let's check the columns"
   ],
   "metadata": {
    "collapsed": false
   },
   "id": "15093cf78fa8a773"
  },
  {
   "cell_type": "code",
   "outputs": [],
   "source": [
    "# Define a list of specific values to check for and remove\n",
    "specific_values = [':', ';', ',', '.', '/', '?', '|', '*', '%']\n",
    "\n",
    "# Check for the presence of specific values in all columns\n",
    "check_and_remove_specific_values(df, specific_values)"
   ],
   "metadata": {
    "collapsed": false
   },
   "id": "93eed3edd726997b",
   "execution_count": null
  },
  {
   "cell_type": "markdown",
   "source": [
    "so, right now we have the data that don't have any if these specific charters "
   ],
   "metadata": {
    "collapsed": false
   },
   "id": "c3d58be94143993f"
  },
  {
   "cell_type": "markdown",
   "source": [
    " let's check whether each string in each column one or more word characters let's check the pattern letter and one digit ot more digits Product ID"
   ],
   "metadata": {
    "collapsed": false
   },
   "id": "6329e62f99fe7f1c"
  },
  {
   "cell_type": "code",
   "outputs": [],
   "source": [
    "pattern_to_check_product_id = '^[A-Z]\\d+$'\n",
    "# Check if the pattern is present in Product ID column\n",
    "\n",
    "df['Product ID'] = df['Product ID'].astype(str)  # Ensure the column is of string type\n",
    "df['Product ID'].str.match(pattern_to_check_product_id)"
   ],
   "metadata": {
    "collapsed": false
   },
   "id": "655d18d3527d2cdd",
   "execution_count": null
  },
  {
   "cell_type": "markdown",
   "source": [
    "it seems that everything is ok "
   ],
   "metadata": {
    "collapsed": false
   },
   "id": "3088adffb6c88d1a"
  },
  {
   "cell_type": "markdown",
   "source": [
    "check whether quarter column has a patter Q and after this digit from 1 to 4 "
   ],
   "metadata": {
    "collapsed": false
   },
   "id": "5f89303f1ae573e9"
  },
  {
   "cell_type": "code",
   "outputs": [],
   "source": [
    "pattern_to_check_quarter = '^Q[1-4]$'\n",
    "\n",
    "# Check if the pattern is present in Quarter column\n",
    "df['Quarter'] = df['Quarter'].astype(str)  # Ensure the column is of string type\n",
    "df['Quarter'].str.match(pattern_to_check_quarter)"
   ],
   "metadata": {
    "collapsed": false
   },
   "id": "b0342a14fce57e3e",
   "execution_count": null
  },
  {
   "cell_type": "markdown",
   "source": [
    "it seems that everything is ok "
   ],
   "metadata": {
    "collapsed": false
   },
   "id": "c622f0061bd2f7c4"
  },
  {
   "cell_type": "markdown",
   "source": [
    "let's check the others categorical columns that they contain only letters "
   ],
   "metadata": {
    "collapsed": false
   },
   "id": "bffd4c5917c84680"
  },
  {
   "cell_type": "code",
   "outputs": [],
   "source": [
    "# Identify categorical columns (excluding 'Product ID' and 'Quarter')\n",
    "categorical_columns = df.select_dtypes(include='object').columns.difference(['Product ID', 'Quarter', 'Quarterly Sales'])\n",
    "\n",
    "# Check if categorical columns contain only digits\n",
    "for column in categorical_columns:\n",
    "    df[column] = df[column].astype(str)  # Ensure the column is of string type\n",
    "    contains_only_digits = df[column].str.match(r'\\w+')\n",
    "    print(f\"{column} contains only digits:\")\n",
    "    print(contains_only_digits)"
   ],
   "metadata": {
    "collapsed": false
   },
   "id": "27f57fff67c89459",
   "execution_count": null
  },
  {
   "cell_type": "markdown",
   "source": [
    "Column Category, Location, Shipping method contains only letters they are Ok"
   ],
   "metadata": {
    "collapsed": false
   },
   "id": "a81d107c0e0c128f"
  },
  {
   "cell_type": "markdown",
   "source": [
    "other columns should be check later since they contain NA values that should be evaluated "
   ],
   "metadata": {
    "collapsed": false
   },
   "id": "231410e1c363749"
  },
  {
   "cell_type": "markdown",
   "source": [
    "Check if variables are stored in both rows and columns"
   ],
   "metadata": {
    "collapsed": false
   },
   "id": "46d45974f189f3ca"
  },
  {
   "cell_type": "code",
   "outputs": [],
   "source": [
    "set(df.columns) & set(df.values.flatten())"
   ],
   "metadata": {
    "collapsed": false
   },
   "id": "75af7c8712b54201",
   "execution_count": null
  },
  {
   "cell_type": "markdown",
   "source": [
    "so it is shown the empty set it means none of variables are stored in both rows and columns"
   ],
   "metadata": {
    "collapsed": false
   },
   "id": "b4a9aa417b6e0e1a"
  },
  {
   "cell_type": "markdown",
   "source": [
    "since we have one table there is no need to check for whether a single observational unit exist in a different tables, only drop duplicates"
   ],
   "metadata": {
    "collapsed": false
   },
   "id": "95969dd0c7058f9c"
  },
  {
   "cell_type": "code",
   "outputs": [],
   "source": [
    "df.drop_duplicates(inplace=True)"
   ],
   "metadata": {
    "collapsed": false
   },
   "id": "f99b30bd4de687d7",
   "execution_count": null
  },
  {
   "cell_type": "markdown",
   "source": [
    "4. we already fixed the column names"
   ],
   "metadata": {
    "collapsed": false
   },
   "id": "21ab94c6621b235a"
  },
  {
   "cell_type": "markdown",
   "source": [
    "5. The product ID column is unnecessary for data visualization, so I'm deleting it."
   ],
   "metadata": {
    "collapsed": false
   },
   "id": "2d2800920623b70a"
  },
  {
   "cell_type": "code",
   "outputs": [],
   "source": [
    "df = df.drop(\"Product ID\", axis=1)"
   ],
   "metadata": {
    "collapsed": false
   },
   "id": "b7f7bd2bfa8b48a4",
   "execution_count": null
  },
  {
   "cell_type": "markdown",
   "source": [
    "6. we already clean data from duplicates "
   ],
   "metadata": {
    "collapsed": false
   },
   "id": "6971d06a188d7b99"
  },
  {
   "cell_type": "markdown",
   "source": [
    "7. we already check if we have any unnecessary strings in the values."
   ],
   "metadata": {
    "collapsed": false
   },
   "id": "d0330f69989ccd88"
  },
  {
   "cell_type": "markdown",
   "source": [
    "8. we already check for whitespaces"
   ],
   "metadata": {
    "collapsed": false
   },
   "id": "4b37407a55e4795b"
  },
  {
   "cell_type": "markdown",
   "source": [
    "9. we need to format a titles"
   ],
   "metadata": {
    "collapsed": false
   },
   "id": "ad78606959778988"
  },
  {
   "cell_type": "code",
   "outputs": [],
   "source": [
    "df[\"Category\"] = df[\"Category\"].str.title()"
   ],
   "metadata": {
    "collapsed": false
   },
   "id": "50ea4b060fc90cb0",
   "execution_count": null
  },
  {
   "cell_type": "markdown",
   "source": [
    "10. We don't have to check if levels of categories are unique since we don't need it to be unique for this data set."
   ],
   "metadata": {
    "collapsed": false
   },
   "id": "7a7f8204de0b20a6"
  },
  {
   "cell_type": "markdown",
   "source": [
    "11. we need to create a column that would specify year and quarter but firstly we need to work with Year column."
   ],
   "metadata": {
    "collapsed": false
   },
   "id": "b42e59f2cfb23b38"
  },
  {
   "cell_type": "markdown",
   "source": [
    "some data has at the end uneceasty one more digit let's get rid of id"
   ],
   "metadata": {
    "collapsed": false
   },
   "id": "a7790b506521055c"
  },
  {
   "cell_type": "code",
   "outputs": [],
   "source": [
    "df['Year'] = df['Year'].astype(str)\n",
    "df['Year'] = df['Year'].str[:4]\n",
    "df['Year'] = df['Year'].astype(int)"
   ],
   "metadata": {
    "collapsed": false
   },
   "id": "8c647a3ad8ea844e",
   "execution_count": null
  },
  {
   "cell_type": "markdown",
   "source": [
    "right now we can create a new column"
   ],
   "metadata": {
    "collapsed": false
   },
   "id": "5da9eaafe30a7d1"
  },
  {
   "cell_type": "code",
   "outputs": [],
   "source": [
    "# Function to create date range for each row\n",
    "def generate_date(row):\n",
    "    quarter_map = {'Q1': '01', 'Q2': '04', 'Q3': '07', 'Q4': '10'}\n",
    "    start_date_str = f\"{row['Year']}-{quarter_map[row['Quarter']]}\"\n",
    "    start_date = pd.to_datetime(start_date_str, format=\"%Y-%m\")\n",
    "    end_date = start_date + pd.DateOffset(months=2)\n",
    "    return pd.date_range(start=start_date, end=end_date, freq='M')\n",
    "# Apply the function to create the 'Date' column\n",
    "df['Date'] = df.apply(generate_date, axis=1)\n",
    "\n",
    "# Explode the 'Date' column to handle the date range\n",
    "df = df.explode('Date').reset_index(drop=True)\n",
    "\n",
    "# Display the DataFrame\n",
    "df[\"Date\"]"
   ],
   "metadata": {
    "collapsed": false
   },
   "id": "b519a4582749a5d3",
   "execution_count": null
  },
  {
   "cell_type": "markdown",
   "source": [
    "we created a new column that will have date format with specifying purchases in the quarter"
   ],
   "metadata": {
    "collapsed": false
   },
   "id": "2fd2d3af95190950"
  },
  {
   "cell_type": "markdown",
   "source": [
    "so, as we checked we NA's in Quarterly Sales and in Seller Rating"
   ],
   "metadata": {
    "collapsed": false
   },
   "id": "75a4f91d04f071af"
  },
  {
   "cell_type": "markdown",
   "source": [
    "we've found that values in Quarterly Sales is Revenue divide on Units Sold. So, instead of replacing all data by the mean/median/mode we can just replace it by Revenue divide on Units Sold"
   ],
   "metadata": {
    "collapsed": false
   },
   "id": "326c8b090d2390cc"
  },
  {
   "cell_type": "code",
   "outputs": [],
   "source": [
    "df['Quarterly Sales'] = df['Quarterly Sales'].fillna(df[\"Revenue\"] // df[\"Units Sold\"])\n",
    "df['Quarterly Sales'] = df['Quarterly Sales'].astype(int)"
   ],
   "metadata": {
    "collapsed": false
   },
   "id": "5a529477aca96082",
   "execution_count": null
  },
  {
   "cell_type": "markdown",
   "source": [
    "let's see if there are a NA in column"
   ],
   "metadata": {
    "collapsed": false
   },
   "id": "fcf778308a5e2b7"
  },
  {
   "cell_type": "code",
   "outputs": [],
   "source": [
    "df[\"Quarterly Sales\"].isna().sum()"
   ],
   "metadata": {
    "collapsed": false
   },
   "id": "3b981fbe843b8036",
   "execution_count": null
  },
  {
   "cell_type": "markdown",
   "source": [
    "so, there isn't any NA's"
   ],
   "metadata": {
    "collapsed": false
   },
   "id": "563bc5264176e9d8"
  },
  {
   "cell_type": "markdown",
   "source": [
    "let's the data in this column"
   ],
   "metadata": {
    "collapsed": false
   },
   "id": "ac833424ae065967"
  },
  {
   "cell_type": "code",
   "outputs": [],
   "source": [
    "sorted_df = df.sort_values(by='Category')\n",
    "sorted_df[[\"Category\", \"Quarterly Sales\"]]"
   ],
   "metadata": {
    "collapsed": false
   },
   "id": "f5b04c6f270a2f4",
   "execution_count": null
  },
  {
   "cell_type": "markdown",
   "source": [
    "median of rating since all data in integer we should use meidan"
   ],
   "metadata": {
    "collapsed": false
   },
   "id": "2c91965285ea6442"
  },
  {
   "cell_type": "code",
   "outputs": [],
   "source": [
    "df['Seller Rating'].fillna(df['Seller Rating'].median(), inplace=True)"
   ],
   "metadata": {
    "collapsed": false
   },
   "id": "a2f6f7747c6a715b",
   "execution_count": null
  },
  {
   "cell_type": "markdown",
   "source": [
    "the same with advertising cost "
   ],
   "metadata": {
    "collapsed": false
   },
   "id": "de14595b6c848596"
  },
  {
   "cell_type": "code",
   "outputs": [],
   "source": [
    "df['Advertising Cost'].fillna(df['Advertising Cost'].mean(), inplace=True)"
   ],
   "metadata": {
    "collapsed": false
   },
   "id": "3a730e5c14f17a20",
   "execution_count": null
  },
  {
   "cell_type": "markdown",
   "source": [
    "some data in year is typed in a wring for example instead of 2019 there is written 20199"
   ],
   "metadata": {
    "collapsed": false
   },
   "id": "a24c360feb1f5224"
  },
  {
   "cell_type": "code",
   "outputs": [],
   "source": [
    "df['Year'] = df[\"Year\"].astype(str)\n",
    "df['Year'] = df['Year'].str[:4]\n",
    "df['Year'] = df[\"Year\"].astype(int)"
   ],
   "metadata": {
    "collapsed": false
   },
   "id": "502774f6ecfee929",
   "execution_count": null
  },
  {
   "cell_type": "markdown",
   "source": [
    "let's review our change "
   ],
   "metadata": {
    "collapsed": false
   },
   "id": "52c5784bc6bd2836"
  },
  {
   "cell_type": "code",
   "outputs": [],
   "source": [
    "df['Year']"
   ],
   "metadata": {
    "collapsed": false
   },
   "id": "966d701caecf6675",
   "execution_count": null
  },
  {
   "cell_type": "markdown",
   "source": [
    "let's check whether in numeric exist negative, in our data it is unlikely if there would exist such values    "
   ],
   "metadata": {
    "collapsed": false
   },
   "id": "2fc48e158fe0e709"
  },
  {
   "cell_type": "code",
   "outputs": [],
   "source": [
    "negative_values_columns = df.select_dtypes(include='number').columns[df.select_dtypes(include='number').lt(0).any()]\n",
    "\n",
    "# Display the result\n",
    "if not negative_values_columns.empty:\n",
    "    print(f\"Negative values exist in the following columns: {', '.join(negative_values_columns)}\")\n",
    "else:\n",
    "    print(\"No negative values found in any numeric column.\")"
   ],
   "metadata": {
    "collapsed": false
   },
   "id": "b6847204092bfee9",
   "execution_count": null
  },
  {
   "cell_type": "markdown",
   "source": [
    "range of rating is unlikely to be negative since almost all data is ranging\n",
    "from 0 to 5. we should change the negative values to positive one also convert all data to integer since all data is integer numbers"
   ],
   "metadata": {
    "collapsed": false
   },
   "id": "fe3d30cba540cf1f"
  },
  {
   "cell_type": "code",
   "outputs": [],
   "source": [
    "df[\"Customer Rating\"] = df[\"Customer Rating\"].abs().astype(int)"
   ],
   "metadata": {
    "collapsed": false
   },
   "id": "99c617265ef925c3",
   "execution_count": null
  },
  {
   "cell_type": "markdown",
   "source": [
    "let's review the column"
   ],
   "metadata": {
    "collapsed": false
   },
   "id": "d726db1e14b9e60e"
  },
  {
   "cell_type": "code",
   "outputs": [],
   "source": [
    "(df['Customer Rating'] < 0).any()"
   ],
   "metadata": {
    "collapsed": false
   },
   "id": "7c7fe0c83915ba28",
   "execution_count": null
  },
  {
   "cell_type": "markdown",
   "source": [
    "it shows that everything is OK"
   ],
   "metadata": {
    "collapsed": false
   },
   "id": "5b22ee4c104d2367"
  },
  {
   "cell_type": "markdown",
   "source": [
    "make all data inn columns in one type"
   ],
   "metadata": {
    "collapsed": false
   },
   "id": "3c27f693b4a90cd6"
  },
  {
   "cell_type": "code",
   "outputs": [],
   "source": [
    "df['Category'] = df['Category'].replace({'BEAUTY': 'Beauty',\n",
    "                                         'ELECTRONICS': 'Electronics',\n",
    "                                         'Home - Kitchen': 'Home & Kitchen',\n",
    "                                         'Book': 'Books'})\n",
    "df['Location'] = df['Location'].replace({'United States': 'US', 'ASIA': 'Asia', 'European Union': 'EU'})"
   ],
   "metadata": {
    "collapsed": false
   },
   "id": "12b0c5511ac80cec",
   "execution_count": null
  },
  {
   "cell_type": "markdown",
   "source": [
    "let's check for outliers. It would be more logical if we will detect outliers in each column based on category since if we will change outliers based only on colum we might replace the data that corresponds to one category. Furthermore, average price might be 10 $ bur for the car might be 100000 $ and it would be unwise if we replace some of the by the median of column.   "
   ],
   "metadata": {
    "collapsed": false
   },
   "id": "f419b68ee82d4494"
  },
  {
   "cell_type": "markdown",
   "source": [
    "Let's write the function that will detect outliers based on Box-plot. Since each category isn't large we should detect extreme outliers  "
   ],
   "metadata": {
    "collapsed": false
   },
   "id": "3b20ca7895ace216"
  },
  {
   "cell_type": "code",
   "outputs": [],
   "source": [
    "def identify_outliers_by_category(df, category_column, numerical_column):\n",
    "    categories = df[category_column].unique()\n",
    "    outliers_dict = {}\n",
    "\n",
    "    for category in categories:\n",
    "        subset = df[df[category_column] == category]\n",
    "        column = subset[numerical_column]\n",
    "\n",
    "        Q1 = column.quantile(0.25)\n",
    "        Q3 = column.quantile(0.75)\n",
    "        IQR = Q3 - Q1\n",
    "        lower_bound = Q1 - 3 * IQR\n",
    "        upper_bound = Q3 + 3 * IQR\n",
    "        outliers = column[(column < lower_bound) | (column > upper_bound)]\n",
    "\n",
    "        # Check if the number of outliers doesn't exceed 10% of the category's data\n",
    "        if not outliers.empty:\n",
    "            category_count = len(subset)\n",
    "            outlier_count = len(outliers)\n",
    "            if outlier_count / category_count <= 0.1:\n",
    "                outliers_dict[category] = outliers\n",
    "\n",
    "    return outliers_dict"
   ],
   "metadata": {
    "collapsed": false
   },
   "id": "d2153a83331bc004",
   "execution_count": null
  },
  {
   "cell_type": "markdown",
   "source": [
    "and part f the code that will proces all columns "
   ],
   "metadata": {
    "collapsed": false
   },
   "id": "757d30b6760a9070"
  },
  {
   "cell_type": "code",
   "outputs": [],
   "source": [
    "# create a dict that will store outliers based on column \n",
    "outliers_by_category = {}\n",
    "for numerical_column in df.select_dtypes(include='number').columns:\n",
    "    if numerical_column not in [\"Customer Rating\", \"Seller Rating\", \"Discount Rate\"]:\n",
    "        outliers_by_category[numerical_column] = {}\n",
    "        for category_column in ['Category']:\n",
    "            outliers_by_category[numerical_column][category_column] = identify_outliers_by_category(df, category_column, numerical_column)\n",
    "                                                                           \n",
    "\n",
    "# Displaying outliers for each category\n",
    "for numerical_column, category_dict in outliers_by_category.items():\n",
    "    print(f\"\\nOutliers in {numerical_column} by Category:\")\n",
    "    for category_column, outliers in category_dict.items():\n",
    "        if outliers:\n",
    "            for cat, out_vals in outliers.items():\n",
    "                print(f\"Outliers in {cat}: {out_vals.values}\")\n",
    "        else:\n",
    "            print(f\"No outliers in {category_column}\")\n",
    "\n",
    "# Replacing outliers by mean of the specific columns within each category\n",
    "for numerical_column, category_dict in outliers_by_category.items():\n",
    "    for category_column, outliers in category_dict.items():\n",
    "        for cat, out_vals in outliers.items():\n",
    "            category_mean = df.loc[df[category_column] == cat, numerical_column].mean().astype(int)\n",
    "            df.loc[(df[category_column] == cat) & df[numerical_column].isin(out_vals), numerical_column] = category_mean\n"
   ],
   "metadata": {
    "collapsed": false
   },
   "id": "14482158ea39ce52",
   "execution_count": null
  },
  {
   "cell_type": "markdown",
   "source": [
    "it is done"
   ],
   "metadata": {
    "collapsed": false
   },
   "id": "6b0153b435e5c3d0"
  },
  {
   "cell_type": "markdown",
   "source": [
    "let's check datatypes of colums"
   ],
   "metadata": {
    "collapsed": false
   },
   "id": "434a1802be0cfbf7"
  },
  {
   "cell_type": "code",
   "outputs": [],
   "source": [
    "show_data_type(df)"
   ],
   "metadata": {
    "collapsed": false
   },
   "id": "21504d1f968b3dff",
   "execution_count": null
  },
  {
   "cell_type": "markdown",
   "source": [
    "so, let's make all numeric column in one type float64"
   ],
   "metadata": {
    "collapsed": false
   },
   "id": "10ddf886cbd7b2c7"
  },
  {
   "cell_type": "code",
   "outputs": [],
   "source": [
    "# Get a list of columns to convert to float (excluding datetime and object columns)\n",
    "columns_to_convert = df.select_dtypes(include=['int']).columns\n",
    "columns_to_exclude = df.select_dtypes(exclude=['datetime', 'object']).columns\n",
    "\n",
    "# Convert integer columns to float\n",
    "df[columns_to_convert] = df[columns_to_convert].astype(float)"
   ],
   "metadata": {
    "collapsed": false
   },
   "id": "bab3f8b5d0190dd1",
   "execution_count": null
  },
  {
   "cell_type": "markdown",
   "source": [
    "review the change"
   ],
   "metadata": {
    "collapsed": false
   },
   "id": "fe7972c364ef66d8"
  },
  {
   "cell_type": "code",
   "outputs": [],
   "source": [
    "show_data_type(df)"
   ],
   "metadata": {
    "collapsed": false
   },
   "id": "db8466c7f6f928eb",
   "execution_count": null
  },
  {
   "cell_type": "markdown",
   "source": [
    "Year isn't supposed to be float, is should be integer"
   ],
   "metadata": {
    "collapsed": false
   },
   "id": "961f9ecd4c7c97cd"
  },
  {
   "cell_type": "code",
   "outputs": [],
   "source": [
    "df['Year'] = df['Year'].astype(int)"
   ],
   "metadata": {
    "collapsed": false
   },
   "id": "fe5feec99f272eb8",
   "execution_count": null
  },
  {
   "cell_type": "code",
   "outputs": [],
   "source": [
    "show_data_type(df)"
   ],
   "metadata": {
    "collapsed": false
   },
   "id": "76c2adabffcf8138",
   "execution_count": null
  },
  {
   "cell_type": "markdown",
   "source": [
    "save a new data in csv and excel files"
   ],
   "metadata": {
    "collapsed": false
   },
   "id": "a1f7be5f9ff0845d"
  },
  {
   "cell_type": "code",
   "outputs": [],
   "source": [
    "# Save data to Excel file and csv file\n",
    "csv_filename = '/home/master/pycharm_projects/amazon_products/data/filtered/filtered_amazon.csv'\n",
    "df.to_csv(csv_filename, index=False)\n",
    "\n",
    "csv_filename = '/home/master/pycharm_projects/amazon_products/data/filtered/filtered_amazon.xlsx'\n",
    "df.to_excel(csv_filename, index=False)"
   ],
   "metadata": {
    "collapsed": false
   },
   "id": "4956b8a6273d0f0b",
   "execution_count": null
  }
 ],
 "metadata": {
  "kernelspec": {
   "display_name": "Python 3",
   "language": "python",
   "name": "python3"
  },
  "language_info": {
   "codemirror_mode": {
    "name": "ipython",
    "version": 2
   },
   "file_extension": ".py",
   "mimetype": "text/x-python",
   "name": "python",
   "nbconvert_exporter": "python",
   "pygments_lexer": "ipython2",
   "version": "2.7.6"
  }
 },
 "nbformat": 4,
 "nbformat_minor": 5
}
