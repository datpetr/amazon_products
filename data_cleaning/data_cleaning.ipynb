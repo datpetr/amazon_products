{
 "cells": [
  {
   "cell_type": "markdown",
   "source": [
    "Let's start by importing the libraries that will be utilized in our work."
   ],
   "metadata": {
    "collapsed": false,
    "id": "78e7ef115d69c9c1"
   },
   "id": "78e7ef115d69c9c1"
  },
  {
   "cell_type": "code",
   "outputs": [],
   "source": [
    "import pandas as pd"
   ],
   "metadata": {
    "id": "82364a621d74631e",
    "ExecuteTime": {
     "end_time": "2024-01-14T17:37:25.738923221Z",
     "start_time": "2024-01-14T17:37:25.269504855Z"
    }
   },
   "id": "82364a621d74631e",
   "execution_count": 1
  },
  {
   "cell_type": "markdown",
   "source": [
    "Next, we will establish functions that will be employed consistently throughout the code.\n",
    "\n",
    "- Firstly, we will define a function that will show the head of the table."
   ],
   "metadata": {
    "collapsed": false,
    "id": "edfe86d3dbfb50f"
   },
   "id": "edfe86d3dbfb50f"
  },
  {
   "cell_type": "code",
   "outputs": [],
   "source": [
    "def show_head(df):\n",
    "    return df.head()"
   ],
   "metadata": {
    "id": "f3cd9e3d16bfa94a",
    "ExecuteTime": {
     "end_time": "2024-01-14T17:37:25.756275648Z",
     "start_time": "2024-01-14T17:37:25.729615817Z"
    }
   },
   "id": "f3cd9e3d16bfa94a",
   "execution_count": 2
  },
  {
   "cell_type": "markdown",
   "source": [
    "This one will show the datatypes of variables."
   ],
   "metadata": {
    "collapsed": false,
    "id": "88fe6c8deea957f1"
   },
   "id": "88fe6c8deea957f1"
  },
  {
   "cell_type": "code",
   "outputs": [],
   "source": [
    "def show_data_type(df):\n",
    "    return df.dtypes"
   ],
   "metadata": {
    "id": "732bdd3d689e19d5",
    "ExecuteTime": {
     "end_time": "2024-01-14T17:37:25.759546038Z",
     "start_time": "2024-01-14T17:37:25.730569640Z"
    }
   },
   "id": "732bdd3d689e19d5",
   "execution_count": 3
  },
  {
   "cell_type": "markdown",
   "source": [
    "- And the third will show the general info about datasets."
   ],
   "metadata": {
    "collapsed": false,
    "id": "a6014ff3cf45ce0a"
   },
   "id": "a6014ff3cf45ce0a"
  },
  {
   "cell_type": "code",
   "outputs": [],
   "source": [
    "def show_info(df):\n",
    "    return df.info()"
   ],
   "metadata": {
    "id": "58b24d9e953984f5",
    "ExecuteTime": {
     "end_time": "2024-01-14T17:37:25.764336385Z",
     "start_time": "2024-01-14T17:37:25.731406130Z"
    }
   },
   "id": "58b24d9e953984f5",
   "execution_count": 4
  },
  {
   "cell_type": "markdown",
   "source": [
    "0. To start with, I have loaded the file to a dataframe."
   ],
   "metadata": {
    "collapsed": false,
    "id": "c6c8c85ff28a787c"
   },
   "id": "c6c8c85ff28a787c"
  },
  {
   "cell_type": "code",
   "outputs": [
    {
     "data": {
      "text/plain": "  Amazon Sales Dataset : The dataset consists of 121 observations Unnamed: 1  \\\n0                                                NaN                     NaN   \n1                                           CATEGORY               PRODUCTID   \n2                                        Electronics                      E1   \n3                                           Clothing                      C2   \n4                                              Books                      B3   \n\n  Unnamed: 2 Unnamed: 3      Unnamed: 4      Unnamed: 5    Unnamed: 6  \\\n0        NaN        NaN             NaN             NaN           NaN   \n1      YEASR    QUARTER  QuarterlySales  CustomerRating  SELLERRATING   \n2       2018         Q1            1200               4             4   \n3       2019         Q2             800               5             4   \n4       2020         Q3             600               4             3   \n\n                  Unnamed: 7  \\\n0                        NaN   \n1  the product price in USD.   \n2                        200   \n3                         50   \n4                         30   \n\n                                          Unnamed: 8 Unnamed: 9 Unnamed: 10  \\\n0                                                NaN        NaN         NaN   \n1  the discount applied to the product in percentage  UnitsSold     Revenue   \n2                                                 10         50       10000   \n3                                                  5        200       16000   \n4                                                 15        100        6000   \n\n      Unnamed: 11               Unnamed: 12      Unnamed: 13  \n0             NaN                       NaN              NaN  \n1  ShippingMethod  the location of the sale  AdvertisingCost  \n2        Standard                        US              500  \n3         Express                        EU              200  \n4        Standard                      Asia              300  ",
      "text/html": "<div>\n<style scoped>\n    .dataframe tbody tr th:only-of-type {\n        vertical-align: middle;\n    }\n\n    .dataframe tbody tr th {\n        vertical-align: top;\n    }\n\n    .dataframe thead th {\n        text-align: right;\n    }\n</style>\n<table border=\"1\" class=\"dataframe\">\n  <thead>\n    <tr style=\"text-align: right;\">\n      <th></th>\n      <th>Amazon Sales Dataset : The dataset consists of 121 observations</th>\n      <th>Unnamed: 1</th>\n      <th>Unnamed: 2</th>\n      <th>Unnamed: 3</th>\n      <th>Unnamed: 4</th>\n      <th>Unnamed: 5</th>\n      <th>Unnamed: 6</th>\n      <th>Unnamed: 7</th>\n      <th>Unnamed: 8</th>\n      <th>Unnamed: 9</th>\n      <th>Unnamed: 10</th>\n      <th>Unnamed: 11</th>\n      <th>Unnamed: 12</th>\n      <th>Unnamed: 13</th>\n    </tr>\n  </thead>\n  <tbody>\n    <tr>\n      <th>0</th>\n      <td>NaN</td>\n      <td>NaN</td>\n      <td>NaN</td>\n      <td>NaN</td>\n      <td>NaN</td>\n      <td>NaN</td>\n      <td>NaN</td>\n      <td>NaN</td>\n      <td>NaN</td>\n      <td>NaN</td>\n      <td>NaN</td>\n      <td>NaN</td>\n      <td>NaN</td>\n      <td>NaN</td>\n    </tr>\n    <tr>\n      <th>1</th>\n      <td>CATEGORY</td>\n      <td>PRODUCTID</td>\n      <td>YEASR</td>\n      <td>QUARTER</td>\n      <td>QuarterlySales</td>\n      <td>CustomerRating</td>\n      <td>SELLERRATING</td>\n      <td>the product price in USD.</td>\n      <td>the discount applied to the product in percentage</td>\n      <td>UnitsSold</td>\n      <td>Revenue</td>\n      <td>ShippingMethod</td>\n      <td>the location of the sale</td>\n      <td>AdvertisingCost</td>\n    </tr>\n    <tr>\n      <th>2</th>\n      <td>Electronics</td>\n      <td>E1</td>\n      <td>2018</td>\n      <td>Q1</td>\n      <td>1200</td>\n      <td>4</td>\n      <td>4</td>\n      <td>200</td>\n      <td>10</td>\n      <td>50</td>\n      <td>10000</td>\n      <td>Standard</td>\n      <td>US</td>\n      <td>500</td>\n    </tr>\n    <tr>\n      <th>3</th>\n      <td>Clothing</td>\n      <td>C2</td>\n      <td>2019</td>\n      <td>Q2</td>\n      <td>800</td>\n      <td>5</td>\n      <td>4</td>\n      <td>50</td>\n      <td>5</td>\n      <td>200</td>\n      <td>16000</td>\n      <td>Express</td>\n      <td>EU</td>\n      <td>200</td>\n    </tr>\n    <tr>\n      <th>4</th>\n      <td>Books</td>\n      <td>B3</td>\n      <td>2020</td>\n      <td>Q3</td>\n      <td>600</td>\n      <td>4</td>\n      <td>3</td>\n      <td>30</td>\n      <td>15</td>\n      <td>100</td>\n      <td>6000</td>\n      <td>Standard</td>\n      <td>Asia</td>\n      <td>300</td>\n    </tr>\n  </tbody>\n</table>\n</div>"
     },
     "execution_count": 5,
     "metadata": {},
     "output_type": "execute_result"
    }
   ],
   "source": [
    "show_head(pd.read_excel('/content/data/original/Amazon.xlsx'))"
   ],
   "metadata": {
    "colab": {
     "base_uri": "https://localhost:8080/",
     "height": 362
    },
    "id": "ea02241a217bf5d8",
    "outputId": "9d0e9765-ad44-48db-eda6-857a77fa8164",
    "ExecuteTime": {
     "end_time": "2024-01-14T17:37:26.054999925Z",
     "start_time": "2024-01-14T17:37:25.732069971Z"
    }
   },
   "id": "ea02241a217bf5d8",
   "execution_count": 5
  },
  {
   "cell_type": "markdown",
   "source": [
    "I wanted to skip the title and the empty row in order to have a better view."
   ],
   "metadata": {
    "collapsed": false,
    "id": "67e6536d0f4e08d5"
   },
   "id": "67e6536d0f4e08d5"
  },
  {
   "cell_type": "code",
   "outputs": [],
   "source": [
    "df = pd.read_excel('/content/data/original/Amazon.xlsx', header=None, skiprows=3)"
   ],
   "metadata": {
    "id": "62098d6ecc38ace2",
    "ExecuteTime": {
     "end_time": "2024-01-14T17:37:26.058600944Z",
     "start_time": "2024-01-14T17:37:26.015711245Z"
    }
   },
   "id": "62098d6ecc38ace2",
   "execution_count": 6
  },
  {
   "cell_type": "markdown",
   "source": [
    "Now, let's examine the modified data."
   ],
   "metadata": {
    "collapsed": false,
    "id": "16494adba9825ecf"
   },
   "id": "16494adba9825ecf"
  },
  {
   "cell_type": "code",
   "outputs": [
    {
     "data": {
      "text/plain": "               0   1     2   3     4   5    6    7     8    9      10  \\\n0     Electronics  E1  2018  Q1  1200   4  4.0  200  10.0   50  10000   \n1        Clothing  C2  2019  Q2   800   5  4.0   50   5.0  200  16000   \n2           Books  B3  2020  Q3   600   4  3.0   30  15.0  100   6000   \n3  Home & Kitchen  H4  2021  Q4  1500   5  5.0  120   8.0   30  45000   \n4          Beauty  B5  2018  Q1  1000   4  3.0   80  12.0   40  40000   \n\n         11    12     13  \n0  Standard    US  500.0  \n1   Express    EU  200.0  \n2  Standard  Asia  300.0  \n3   Express    US  700.0  \n4  Standard    EU  400.0  ",
      "text/html": "<div>\n<style scoped>\n    .dataframe tbody tr th:only-of-type {\n        vertical-align: middle;\n    }\n\n    .dataframe tbody tr th {\n        vertical-align: top;\n    }\n\n    .dataframe thead th {\n        text-align: right;\n    }\n</style>\n<table border=\"1\" class=\"dataframe\">\n  <thead>\n    <tr style=\"text-align: right;\">\n      <th></th>\n      <th>0</th>\n      <th>1</th>\n      <th>2</th>\n      <th>3</th>\n      <th>4</th>\n      <th>5</th>\n      <th>6</th>\n      <th>7</th>\n      <th>8</th>\n      <th>9</th>\n      <th>10</th>\n      <th>11</th>\n      <th>12</th>\n      <th>13</th>\n    </tr>\n  </thead>\n  <tbody>\n    <tr>\n      <th>0</th>\n      <td>Electronics</td>\n      <td>E1</td>\n      <td>2018</td>\n      <td>Q1</td>\n      <td>1200</td>\n      <td>4</td>\n      <td>4.0</td>\n      <td>200</td>\n      <td>10.0</td>\n      <td>50</td>\n      <td>10000</td>\n      <td>Standard</td>\n      <td>US</td>\n      <td>500.0</td>\n    </tr>\n    <tr>\n      <th>1</th>\n      <td>Clothing</td>\n      <td>C2</td>\n      <td>2019</td>\n      <td>Q2</td>\n      <td>800</td>\n      <td>5</td>\n      <td>4.0</td>\n      <td>50</td>\n      <td>5.0</td>\n      <td>200</td>\n      <td>16000</td>\n      <td>Express</td>\n      <td>EU</td>\n      <td>200.0</td>\n    </tr>\n    <tr>\n      <th>2</th>\n      <td>Books</td>\n      <td>B3</td>\n      <td>2020</td>\n      <td>Q3</td>\n      <td>600</td>\n      <td>4</td>\n      <td>3.0</td>\n      <td>30</td>\n      <td>15.0</td>\n      <td>100</td>\n      <td>6000</td>\n      <td>Standard</td>\n      <td>Asia</td>\n      <td>300.0</td>\n    </tr>\n    <tr>\n      <th>3</th>\n      <td>Home &amp; Kitchen</td>\n      <td>H4</td>\n      <td>2021</td>\n      <td>Q4</td>\n      <td>1500</td>\n      <td>5</td>\n      <td>5.0</td>\n      <td>120</td>\n      <td>8.0</td>\n      <td>30</td>\n      <td>45000</td>\n      <td>Express</td>\n      <td>US</td>\n      <td>700.0</td>\n    </tr>\n    <tr>\n      <th>4</th>\n      <td>Beauty</td>\n      <td>B5</td>\n      <td>2018</td>\n      <td>Q1</td>\n      <td>1000</td>\n      <td>4</td>\n      <td>3.0</td>\n      <td>80</td>\n      <td>12.0</td>\n      <td>40</td>\n      <td>40000</td>\n      <td>Standard</td>\n      <td>EU</td>\n      <td>400.0</td>\n    </tr>\n  </tbody>\n</table>\n</div>"
     },
     "execution_count": 7,
     "metadata": {},
     "output_type": "execute_result"
    }
   ],
   "source": [
    "show_head(df)"
   ],
   "metadata": {
    "id": "9aeffe5ca2ca021e",
    "colab": {
     "base_uri": "https://localhost:8080/",
     "height": 206
    },
    "outputId": "e1cc9bd1-5ab1-471a-dd00-6b116ef0886a",
    "ExecuteTime": {
     "end_time": "2024-01-14T17:37:26.082852646Z",
     "start_time": "2024-01-14T17:37:26.023608204Z"
    }
   },
   "id": "9aeffe5ca2ca021e",
   "execution_count": 7
  },
  {
   "cell_type": "markdown",
   "source": [
    "After taking a look, it seems fine. To examine the data types, let's first assign names to the columns."
   ],
   "metadata": {
    "collapsed": false,
    "id": "6d5156c6eb526ce1"
   },
   "id": "6d5156c6eb526ce1"
  },
  {
   "cell_type": "code",
   "outputs": [],
   "source": [
    "df.columns = [\"Category\", \"Product ID\", \"Year\", \"Quarter\", \"Quarterly Sales\", \"Customer Rating\", \"Seller Rating\", \"Price\", \"Discount Rate\", \"Units Sold\", \"Revenue\", \"Shipping Method\", \"Location\", \"Advertising Cost\"]"
   ],
   "metadata": {
    "id": "e9af46281815a996",
    "ExecuteTime": {
     "end_time": "2024-01-14T17:37:26.105528659Z",
     "start_time": "2024-01-14T17:37:26.030971156Z"
    }
   },
   "id": "e9af46281815a996",
   "execution_count": 8
  },
  {
   "cell_type": "markdown",
   "source": [
    "Now, let's verify the updated variable names."
   ],
   "metadata": {
    "collapsed": false,
    "id": "b9da3e4d5ac242ec"
   },
   "id": "b9da3e4d5ac242ec"
  },
  {
   "cell_type": "code",
   "outputs": [
    {
     "data": {
      "text/plain": "         Category Product ID  Year Quarter Quarterly Sales  Customer Rating  \\\n0     Electronics         E1  2018      Q1            1200                4   \n1        Clothing         C2  2019      Q2             800                5   \n2           Books         B3  2020      Q3             600                4   \n3  Home & Kitchen         H4  2021      Q4            1500                5   \n4          Beauty         B5  2018      Q1            1000                4   \n\n   Seller Rating  Price  Discount Rate  Units Sold  Revenue Shipping Method  \\\n0            4.0    200           10.0          50    10000        Standard   \n1            4.0     50            5.0         200    16000         Express   \n2            3.0     30           15.0         100     6000        Standard   \n3            5.0    120            8.0          30    45000         Express   \n4            3.0     80           12.0          40    40000        Standard   \n\n  Location  Advertising Cost  \n0       US             500.0  \n1       EU             200.0  \n2     Asia             300.0  \n3       US             700.0  \n4       EU             400.0  ",
      "text/html": "<div>\n<style scoped>\n    .dataframe tbody tr th:only-of-type {\n        vertical-align: middle;\n    }\n\n    .dataframe tbody tr th {\n        vertical-align: top;\n    }\n\n    .dataframe thead th {\n        text-align: right;\n    }\n</style>\n<table border=\"1\" class=\"dataframe\">\n  <thead>\n    <tr style=\"text-align: right;\">\n      <th></th>\n      <th>Category</th>\n      <th>Product ID</th>\n      <th>Year</th>\n      <th>Quarter</th>\n      <th>Quarterly Sales</th>\n      <th>Customer Rating</th>\n      <th>Seller Rating</th>\n      <th>Price</th>\n      <th>Discount Rate</th>\n      <th>Units Sold</th>\n      <th>Revenue</th>\n      <th>Shipping Method</th>\n      <th>Location</th>\n      <th>Advertising Cost</th>\n    </tr>\n  </thead>\n  <tbody>\n    <tr>\n      <th>0</th>\n      <td>Electronics</td>\n      <td>E1</td>\n      <td>2018</td>\n      <td>Q1</td>\n      <td>1200</td>\n      <td>4</td>\n      <td>4.0</td>\n      <td>200</td>\n      <td>10.0</td>\n      <td>50</td>\n      <td>10000</td>\n      <td>Standard</td>\n      <td>US</td>\n      <td>500.0</td>\n    </tr>\n    <tr>\n      <th>1</th>\n      <td>Clothing</td>\n      <td>C2</td>\n      <td>2019</td>\n      <td>Q2</td>\n      <td>800</td>\n      <td>5</td>\n      <td>4.0</td>\n      <td>50</td>\n      <td>5.0</td>\n      <td>200</td>\n      <td>16000</td>\n      <td>Express</td>\n      <td>EU</td>\n      <td>200.0</td>\n    </tr>\n    <tr>\n      <th>2</th>\n      <td>Books</td>\n      <td>B3</td>\n      <td>2020</td>\n      <td>Q3</td>\n      <td>600</td>\n      <td>4</td>\n      <td>3.0</td>\n      <td>30</td>\n      <td>15.0</td>\n      <td>100</td>\n      <td>6000</td>\n      <td>Standard</td>\n      <td>Asia</td>\n      <td>300.0</td>\n    </tr>\n    <tr>\n      <th>3</th>\n      <td>Home &amp; Kitchen</td>\n      <td>H4</td>\n      <td>2021</td>\n      <td>Q4</td>\n      <td>1500</td>\n      <td>5</td>\n      <td>5.0</td>\n      <td>120</td>\n      <td>8.0</td>\n      <td>30</td>\n      <td>45000</td>\n      <td>Express</td>\n      <td>US</td>\n      <td>700.0</td>\n    </tr>\n    <tr>\n      <th>4</th>\n      <td>Beauty</td>\n      <td>B5</td>\n      <td>2018</td>\n      <td>Q1</td>\n      <td>1000</td>\n      <td>4</td>\n      <td>3.0</td>\n      <td>80</td>\n      <td>12.0</td>\n      <td>40</td>\n      <td>40000</td>\n      <td>Standard</td>\n      <td>EU</td>\n      <td>400.0</td>\n    </tr>\n  </tbody>\n</table>\n</div>"
     },
     "execution_count": 9,
     "metadata": {},
     "output_type": "execute_result"
    }
   ],
   "source": [
    "show_head(df)"
   ],
   "metadata": {
    "id": "49b5269687d96c46",
    "colab": {
     "base_uri": "https://localhost:8080/",
     "height": 206
    },
    "outputId": "f944186b-957c-4191-c54a-bf25f4d204d1",
    "ExecuteTime": {
     "end_time": "2024-01-14T17:37:26.337209941Z",
     "start_time": "2024-01-14T17:37:26.077028508Z"
    }
   },
   "id": "49b5269687d96c46",
   "execution_count": 9
  },
  {
   "cell_type": "markdown",
   "source": [
    "1. Examine the variables and their datatypes."
   ],
   "metadata": {
    "collapsed": false,
    "id": "313a29884c5b9a46"
   },
   "id": "313a29884c5b9a46"
  },
  {
   "cell_type": "code",
   "outputs": [
    {
     "data": {
      "text/plain": "Category             object\nProduct ID           object\nYear                  int64\nQuarter              object\nQuarterly Sales      object\nCustomer Rating       int64\nSeller Rating       float64\nPrice                 int64\nDiscount Rate       float64\nUnits Sold            int64\nRevenue               int64\nShipping Method      object\nLocation             object\nAdvertising Cost    float64\ndtype: object"
     },
     "execution_count": 10,
     "metadata": {},
     "output_type": "execute_result"
    }
   ],
   "source": [
    "show_data_type(df)"
   ],
   "metadata": {
    "id": "3565e22180085ef5",
    "colab": {
     "base_uri": "https://localhost:8080/"
    },
    "outputId": "7b1d454c-221a-443b-94fd-af28b0a26338",
    "ExecuteTime": {
     "end_time": "2024-01-14T17:37:26.365048205Z",
     "start_time": "2024-01-14T17:37:26.077841811Z"
    }
   },
   "id": "3565e22180085ef5",
   "execution_count": 10
  },
  {
   "cell_type": "markdown",
   "source": [
    "There appears to be a problem with 'Discount Rate' and 'Seller Rating'; they should be integers instead of floats. We plan to make this adjustment later for simplicity."
   ],
   "metadata": {
    "collapsed": false,
    "id": "b44b66162e38f7c3"
   },
   "id": "b44b66162e38f7c3"
  },
  {
   "cell_type": "markdown",
   "source": [
    "2. Remove any separation error in variables.\n",
    "\n",
    "Given that we've defined the header, there is no necessity to verify its existence. Let's instead check for the presence of any NA's."
   ],
   "metadata": {
    "collapsed": false,
    "id": "25da40cb1f56354"
   },
   "id": "25da40cb1f56354"
  },
  {
   "cell_type": "code",
   "outputs": [
    {
     "data": {
      "text/plain": "Category            0\nProduct ID          0\nYear                0\nQuarter             0\nQuarterly Sales     2\nCustomer Rating     0\nSeller Rating       1\nPrice               0\nDiscount Rate       0\nUnits Sold          0\nRevenue             0\nShipping Method     0\nLocation            0\nAdvertising Cost    2\ndtype: int64"
     },
     "execution_count": 11,
     "metadata": {},
     "output_type": "execute_result"
    }
   ],
   "source": [
    "df.isna().sum()"
   ],
   "metadata": {
    "id": "2ba2ee5eefde3d5f",
    "colab": {
     "base_uri": "https://localhost:8080/"
    },
    "outputId": "92d78825-d4c7-44c8-9625-86eb467965cc",
    "ExecuteTime": {
     "end_time": "2024-01-14T17:37:26.368655090Z",
     "start_time": "2024-01-14T17:37:26.078785996Z"
    }
   },
   "id": "2ba2ee5eefde3d5f",
   "execution_count": 11
  },
  {
   "cell_type": "markdown",
   "source": [
    "There are NA values in 'Seller Rating', 'Advertising Cost', and 'Quarterly Sales'.\n",
    "\n",
    "To ensure there are no NA or string-type NA values, let's start by removing any white spaces in the code."
   ],
   "metadata": {
    "collapsed": false,
    "id": "bfc0fd8999a956ff"
   },
   "id": "bfc0fd8999a956ff"
  },
  {
   "cell_type": "code",
   "outputs": [],
   "source": [
    "df = df.applymap(lambda x: x.strip() if isinstance(x, str) else x)"
   ],
   "metadata": {
    "id": "94db1e43d1b06711",
    "ExecuteTime": {
     "end_time": "2024-01-14T17:37:26.385387955Z",
     "start_time": "2024-01-14T17:37:26.080002771Z"
    }
   },
   "id": "94db1e43d1b06711",
   "execution_count": 12
  },
  {
   "cell_type": "markdown",
   "source": [
    "Additionally, we will replace string 'NA' occurrences with actual NA values."
   ],
   "metadata": {
    "collapsed": false,
    "id": "df87f3a2af12877a"
   },
   "id": "df87f3a2af12877a"
  },
  {
   "cell_type": "code",
   "outputs": [],
   "source": [
    "df.replace('NA', pd.NA, inplace=True)"
   ],
   "metadata": {
    "id": "9f5ed4b8a51fd7f0",
    "ExecuteTime": {
     "end_time": "2024-01-14T17:37:26.402977772Z",
     "start_time": "2024-01-14T17:37:26.083079980Z"
    }
   },
   "id": "9f5ed4b8a51fd7f0",
   "execution_count": 13
  },
  {
   "cell_type": "markdown",
   "source": [
    "Now, let's verify whether there are any new occurrences of NA values."
   ],
   "metadata": {
    "collapsed": false,
    "id": "59d293c6c04195b9"
   },
   "id": "59d293c6c04195b9"
  },
  {
   "cell_type": "code",
   "outputs": [
    {
     "data": {
      "text/plain": "Category            0\nProduct ID          0\nYear                0\nQuarter             0\nQuarterly Sales     3\nCustomer Rating     0\nSeller Rating       1\nPrice               0\nDiscount Rate       0\nUnits Sold          0\nRevenue             0\nShipping Method     0\nLocation            0\nAdvertising Cost    2\ndtype: int64"
     },
     "execution_count": 14,
     "metadata": {},
     "output_type": "execute_result"
    }
   ],
   "source": [
    "df.isna().sum()"
   ],
   "metadata": {
    "id": "319662135b756aa8",
    "colab": {
     "base_uri": "https://localhost:8080/"
    },
    "outputId": "f3a2cf47-67b0-42aa-d808-0ae1cbae44d1",
    "ExecuteTime": {
     "end_time": "2024-01-14T17:37:26.427392275Z",
     "start_time": "2024-01-14T17:37:26.088511819Z"
    }
   },
   "id": "319662135b756aa8",
   "execution_count": 14
  },
  {
   "cell_type": "markdown",
   "source": [
    "There was one occurrence of the string 'NA' in the \"Quarterly Sales\" column."
   ],
   "metadata": {
    "collapsed": false,
    "id": "659b3f9e4fe634b8"
   },
   "id": "659b3f9e4fe634b8"
  },
  {
   "cell_type": "markdown",
   "source": [
    "Only the \"Quarterly Sales\" column has a problem; we'll address it later."
   ],
   "metadata": {
    "collapsed": false,
    "id": "4b79680fc963274f"
   },
   "id": "4b79680fc963274f"
  },
  {
   "cell_type": "markdown",
   "source": [
    "Remove specified characters from string columns."
   ],
   "metadata": {
    "collapsed": false,
    "id": "dbe4c5e742806fb9"
   },
   "id": "dbe4c5e742806fb9"
  },
  {
   "cell_type": "code",
   "outputs": [],
   "source": [
    "df.replace(to_replace=[r'\\{', r'\\}', r';', r':', r',', r'\\t', r'\\n'], value='', regex=True, inplace=True)"
   ],
   "metadata": {
    "id": "f59629be1b75e106",
    "ExecuteTime": {
     "end_time": "2024-01-14T17:37:26.718819879Z",
     "start_time": "2024-01-14T17:37:26.107221333Z"
    }
   },
   "id": "f59629be1b75e106",
   "execution_count": 15
  },
  {
   "cell_type": "markdown",
   "source": [
    "\n",
    "3. Given that we've manually defined the column names, there's no need to verify whether column headers are treated as values or variable names."
   ],
   "metadata": {
    "collapsed": false,
    "id": "b6d5d362f3bf7fa3"
   },
   "id": "b6d5d362f3bf7fa3"
  },
  {
   "cell_type": "markdown",
   "source": [
    "- To check for multiple data types in a column, let's see if there is a mix of data types present."
   ],
   "metadata": {
    "collapsed": false,
    "id": "d0b3c65be82d801"
   },
   "id": "d0b3c65be82d801"
  },
  {
   "cell_type": "code",
   "outputs": [
    {
     "data": {
      "text/plain": "Category                                              {<class 'str'>}\nProduct ID                                            {<class 'str'>}\nYear                                                  {<class 'int'>}\nQuarter                                               {<class 'str'>}\nQuarterly Sales     {<class 'pandas._libs.missing.NAType'>, <class...\nCustomer Rating                                       {<class 'int'>}\nSeller Rating                                       {<class 'float'>}\nPrice                                                 {<class 'int'>}\nDiscount Rate                                       {<class 'float'>}\nUnits Sold                                            {<class 'int'>}\nRevenue                                               {<class 'int'>}\nShipping Method                                       {<class 'str'>}\nLocation                                              {<class 'str'>}\nAdvertising Cost                                    {<class 'float'>}\ndtype: object"
     },
     "execution_count": 16,
     "metadata": {},
     "output_type": "execute_result"
    }
   ],
   "source": [
    "df.applymap(type).apply(set)"
   ],
   "metadata": {
    "id": "37620d97b9875f08",
    "colab": {
     "base_uri": "https://localhost:8080/"
    },
    "outputId": "9d953e12-0e7e-40bc-cd47-a6f3332fb231",
    "ExecuteTime": {
     "end_time": "2024-01-14T17:37:26.723051146Z",
     "start_time": "2024-01-14T17:37:26.149351368Z"
    }
   },
   "id": "37620d97b9875f08",
   "execution_count": 16
  },
  {
   "cell_type": "markdown",
   "source": [
    "In the \"Quarterly Sales\" column, we observe three types of values. We'll address this later; for now, let's decide how to handle the NA values."
   ],
   "metadata": {
    "collapsed": false,
    "id": "fac5679d9830febc"
   },
   "id": "fac5679d9830febc"
  },
  {
   "cell_type": "markdown",
   "source": [
    "Check if certain values suggest the existence of multiple variables in any columns."
   ],
   "metadata": {
    "collapsed": false,
    "id": "f9d25fd43928081c"
   },
   "id": "f9d25fd43928081c"
  },
  {
   "cell_type": "markdown",
   "source": [
    "Creating a function to check for the presence of specific characters and subsequently removing them."
   ],
   "metadata": {
    "collapsed": false,
    "id": "b6a4e41a738f1d2f"
   },
   "id": "b6a4e41a738f1d2f"
  },
  {
   "cell_type": "code",
   "outputs": [],
   "source": [
    "def check_and_remove_specific_values(df, specific_values):\n",
    "    return df.applymap(lambda x: ''.join(c for c in str(x) if c not in specific_values))"
   ],
   "metadata": {
    "id": "e252753d2b01be8c",
    "ExecuteTime": {
     "end_time": "2024-01-14T17:37:26.768086440Z",
     "start_time": "2024-01-14T17:37:26.150018492Z"
    }
   },
   "id": "e252753d2b01be8c",
   "execution_count": 17
  },
  {
   "cell_type": "markdown",
   "source": [
    "Now, let's take a look at the columns."
   ],
   "metadata": {
    "collapsed": false,
    "id": "15093cf78fa8a773"
   },
   "id": "15093cf78fa8a773"
  },
  {
   "cell_type": "code",
   "outputs": [],
   "source": [
    "# Define a list of specific values to check for and remove\n",
    "specific_values = [':', ';', ',', '.', '/', '?', '|', '*', '%']\n",
    "\n",
    "# Check for the presence of specific values in all columns\n",
    "check_and_remove_specific_values(df, specific_values)\n",
    "\n",
    "df.loc[df[\"Discount Rate\"] < 1, \"Discount Rate\"] *= 100"
   ],
   "metadata": {
    "id": "93eed3edd726997b",
    "ExecuteTime": {
     "end_time": "2024-01-14T17:37:26.794590525Z",
     "start_time": "2024-01-14T17:37:26.150441032Z"
    }
   },
   "id": "93eed3edd726997b",
   "execution_count": 18
  },
  {
   "cell_type": "markdown",
   "source": [
    "So now, the data does not contain the specified characters."
   ],
   "metadata": {
    "collapsed": false,
    "id": "c3d58be94143993f"
   },
   "id": "c3d58be94143993f"
  },
  {
   "cell_type": "markdown",
   "source": [
    "Let's verify whether each string in each column consists of one or more word characters. Specifically, we'll check for the pattern of a letter followed by one or more digits in the \"Product ID\" column."
   ],
   "metadata": {
    "collapsed": false,
    "id": "6329e62f99fe7f1c"
   },
   "id": "6329e62f99fe7f1c"
  },
  {
   "cell_type": "code",
   "outputs": [
    {
     "data": {
      "text/plain": "0      True\n1      True\n2      True\n3      True\n4      True\n       ... \n117    True\n118    True\n119    True\n120    True\n121    True\nName: Product ID, Length: 122, dtype: bool"
     },
     "execution_count": 19,
     "metadata": {},
     "output_type": "execute_result"
    }
   ],
   "source": [
    "pattern_to_check_product_id = '^[A-Z]\\d+$'\n",
    "# Check if the pattern is present in Product ID column\n",
    "\n",
    "df['Product ID'] = df['Product ID'].astype(str)  # Ensure the column is of string type\n",
    "df['Product ID'].str.match(pattern_to_check_product_id)"
   ],
   "metadata": {
    "id": "655d18d3527d2cdd",
    "colab": {
     "base_uri": "https://localhost:8080/"
    },
    "outputId": "ba6678e1-4e5e-4523-e584-907f44a12089",
    "ExecuteTime": {
     "end_time": "2024-01-14T17:37:26.832417077Z",
     "start_time": "2024-01-14T17:37:26.157219692Z"
    }
   },
   "id": "655d18d3527d2cdd",
   "execution_count": 19
  },
  {
   "cell_type": "markdown",
   "source": [
    "It appears that everything is fine."
   ],
   "metadata": {
    "collapsed": false,
    "id": "3088adffb6c88d1a"
   },
   "id": "3088adffb6c88d1a"
  },
  {
   "cell_type": "markdown",
   "source": [
    "Verify if the \"quarter\" column follows the pattern of 'Q' followed by a digit from 1 to 4."
   ],
   "metadata": {
    "collapsed": false,
    "id": "5f89303f1ae573e9"
   },
   "id": "5f89303f1ae573e9"
  },
  {
   "cell_type": "code",
   "outputs": [
    {
     "data": {
      "text/plain": "0      True\n1      True\n2      True\n3      True\n4      True\n       ... \n117    True\n118    True\n119    True\n120    True\n121    True\nName: Quarter, Length: 122, dtype: bool"
     },
     "execution_count": 20,
     "metadata": {},
     "output_type": "execute_result"
    }
   ],
   "source": [
    "pattern_to_check_quarter = '^Q[1-4]$'\n",
    "\n",
    "# Check if the pattern is present in Quarter column\n",
    "df['Quarter'] = df['Quarter'].astype(str)  # Ensure the column is of string type\n",
    "df['Quarter'].str.match(pattern_to_check_quarter)"
   ],
   "metadata": {
    "id": "b0342a14fce57e3e",
    "colab": {
     "base_uri": "https://localhost:8080/"
    },
    "outputId": "b573fd89-ec4a-46fa-d1a3-880c01772b83",
    "ExecuteTime": {
     "end_time": "2024-01-14T17:37:26.984087366Z",
     "start_time": "2024-01-14T17:37:26.424323447Z"
    }
   },
   "id": "b0342a14fce57e3e",
   "execution_count": 20
  },
  {
   "cell_type": "markdown",
   "source": [
    "It appears that everything is fine."
   ],
   "metadata": {
    "collapsed": false,
    "id": "c622f0061bd2f7c4"
   },
   "id": "c622f0061bd2f7c4"
  },
  {
   "cell_type": "markdown",
   "source": [
    "Now, let's ensure that the other categorical columns only consist of letters."
   ],
   "metadata": {
    "collapsed": false,
    "id": "bffd4c5917c84680"
   },
   "id": "bffd4c5917c84680"
  },
  {
   "cell_type": "code",
   "outputs": [
    {
     "name": "stdout",
     "output_type": "stream",
     "text": [
      "Category contains only digits:\n",
      "0      True\n",
      "1      True\n",
      "2      True\n",
      "3      True\n",
      "4      True\n",
      "       ... \n",
      "117    True\n",
      "118    True\n",
      "119    True\n",
      "120    True\n",
      "121    True\n",
      "Name: Category, Length: 122, dtype: bool\n",
      "Location contains only digits:\n",
      "0      True\n",
      "1      True\n",
      "2      True\n",
      "3      True\n",
      "4      True\n",
      "       ... \n",
      "117    True\n",
      "118    True\n",
      "119    True\n",
      "120    True\n",
      "121    True\n",
      "Name: Location, Length: 122, dtype: bool\n",
      "Shipping Method contains only digits:\n",
      "0      True\n",
      "1      True\n",
      "2      True\n",
      "3      True\n",
      "4      True\n",
      "       ... \n",
      "117    True\n",
      "118    True\n",
      "119    True\n",
      "120    True\n",
      "121    True\n",
      "Name: Shipping Method, Length: 122, dtype: bool\n"
     ]
    }
   ],
   "source": [
    "# Identify categorical columns (excluding 'Product ID' and 'Quarter')\n",
    "categorical_columns = df.select_dtypes(include='object').columns.difference(['Product ID', 'Quarter', 'Quarterly Sales'])\n",
    "\n",
    "# Check if categorical columns contain only digits\n",
    "for column in categorical_columns:\n",
    "    df[column] = df[column].astype(str)  # Ensure the column is of string type\n",
    "    contains_only_digits = df[column].str.match(r'\\w+')\n",
    "    print(f\"{column} contains only digits:\")\n",
    "    print(contains_only_digits)"
   ],
   "metadata": {
    "id": "27f57fff67c89459",
    "colab": {
     "base_uri": "https://localhost:8080/"
    },
    "outputId": "3ec063d8-7f7f-42dd-b278-f26556e0e368",
    "ExecuteTime": {
     "end_time": "2024-01-14T17:37:27.545394499Z",
     "start_time": "2024-01-14T17:37:26.992190497Z"
    }
   },
   "id": "27f57fff67c89459",
   "execution_count": 21
  },
  {
   "cell_type": "markdown",
   "source": [
    "\"Category,\" \"Location,\" and \"Shipping method\" columns are confirmed to only contain letters, so they are fine."
   ],
   "metadata": {
    "collapsed": false,
    "id": "a81d107c0e0c128f"
   },
   "id": "a81d107c0e0c128f"
  },
  {
   "cell_type": "markdown",
   "source": [
    "The remaining columns will be checked later, as they contain NA values that need to be assessed."
   ],
   "metadata": {
    "collapsed": false,
    "id": "231410e1c363749"
   },
   "id": "231410e1c363749"
  },
  {
   "cell_type": "markdown",
   "source": [
    "Check if variables are stored in both rows and columns."
   ],
   "metadata": {
    "collapsed": false,
    "id": "46d45974f189f3ca"
   },
   "id": "46d45974f189f3ca"
  },
  {
   "cell_type": "code",
   "outputs": [
    {
     "data": {
      "text/plain": "set()"
     },
     "execution_count": 22,
     "metadata": {},
     "output_type": "execute_result"
    }
   ],
   "source": [
    "set(df.columns) & set(df.values.flatten())"
   ],
   "metadata": {
    "id": "75af7c8712b54201",
    "colab": {
     "base_uri": "https://localhost:8080/"
    },
    "outputId": "0474b194-1f9a-4212-ffe4-f7c825e1d604",
    "ExecuteTime": {
     "end_time": "2024-01-14T17:37:27.668742663Z",
     "start_time": "2024-01-14T17:37:27.528570771Z"
    }
   },
   "id": "75af7c8712b54201",
   "execution_count": 22
  },
  {
   "cell_type": "markdown",
   "source": [
    "The result is an empty set, indicating that no variables are stored in both rows and columns."
   ],
   "metadata": {
    "collapsed": false,
    "id": "b4a9aa417b6e0e1a"
   },
   "id": "b4a9aa417b6e0e1a"
  },
  {
   "cell_type": "markdown",
   "source": [
    "Given that we have a single table, there's no need to check whether a single observational unit exists in different tables. We can simply proceed by dropping duplicates."
   ],
   "metadata": {
    "collapsed": false,
    "id": "95969dd0c7058f9c"
   },
   "id": "95969dd0c7058f9c"
  },
  {
   "cell_type": "code",
   "outputs": [],
   "source": [
    "df.drop_duplicates(inplace=True)"
   ],
   "metadata": {
    "id": "f99b30bd4de687d7",
    "ExecuteTime": {
     "end_time": "2024-01-14T17:37:27.844279340Z",
     "start_time": "2024-01-14T17:37:27.672893264Z"
    }
   },
   "id": "f99b30bd4de687d7",
   "execution_count": 23
  },
  {
   "cell_type": "markdown",
   "source": [
    "To avoid confusion, I modified the Product IDs for books and beauty products. They are now labeled as \"BK\" for books and \"BE\" for beauty products"
   ],
   "metadata": {
    "collapsed": false,
    "id": "53f2cdd4d2fb933a"
   },
   "id": "53f2cdd4d2fb933a"
  },
  {
   "cell_type": "markdown",
   "source": [
    "We used .lower() and in commands to prevent any error from happening"
   ],
   "metadata": {
    "collapsed": false,
    "id": "9b50c0d0c3266ff1"
   },
   "id": "9b50c0d0c3266ff1"
  },
  {
   "cell_type": "code",
   "outputs": [],
   "source": [
    "for index, row in df.iterrows():\n",
    "    if row[\"Category\"].lower() in \"books\":\n",
    "        df.loc[index, \"Product ID\"] = 'BK' + row[\"Product ID\"][1:]\n",
    "    elif row[\"Category\"].lower() in \"beauty\":\n",
    "        df.loc[index, \"Product ID\"] = 'BE' + row[\"Product ID\"][1:]"
   ],
   "metadata": {
    "id": "f8d771ca4487150a",
    "ExecuteTime": {
     "end_time": "2024-01-14T17:37:27.936145200Z",
     "start_time": "2024-01-14T17:37:27.853230624Z"
    }
   },
   "id": "f8d771ca4487150a",
   "execution_count": 24
  },
  {
   "cell_type": "markdown",
   "source": [
    "4. The column names have already been fixed."
   ],
   "metadata": {
    "collapsed": false,
    "id": "21ab94c6621b235a"
   },
   "id": "21ab94c6621b235a"
  },
  {
   "cell_type": "markdown",
   "source": [
    "5. We don't have to remove any of the columns  "
   ],
   "metadata": {
    "collapsed": false,
    "id": "2d2800920623b70a"
   },
   "id": "2d2800920623b70a"
  },
  {
   "cell_type": "markdown",
   "source": [
    "6. We have already eliminated duplicate entries from the dataset."
   ],
   "metadata": {
    "collapsed": false,
    "id": "6971d06a188d7b99"
   },
   "id": "6971d06a188d7b99"
  },
  {
   "cell_type": "markdown",
   "source": [
    "7. We have already checked if there are any unnecessary strings in the values."
   ],
   "metadata": {
    "collapsed": false,
    "id": "d0330f69989ccd88"
   },
   "id": "d0330f69989ccd88"
  },
  {
   "cell_type": "markdown",
   "source": [
    "8. We have already checked for white spaces."
   ],
   "metadata": {
    "collapsed": false,
    "id": "4b37407a55e4795b"
   },
   "id": "4b37407a55e4795b"
  },
  {
   "cell_type": "markdown",
   "source": [
    "9. Now, we need to format the titles."
   ],
   "metadata": {
    "collapsed": false,
    "id": "ad78606959778988"
   },
   "id": "ad78606959778988"
  },
  {
   "cell_type": "code",
   "outputs": [],
   "source": [
    "df[\"Category\"] = df[\"Category\"].str.title()"
   ],
   "metadata": {
    "id": "50ea4b060fc90cb0",
    "ExecuteTime": {
     "end_time": "2024-01-14T17:37:28.016126859Z",
     "start_time": "2024-01-14T17:37:27.924152326Z"
    }
   },
   "id": "50ea4b060fc90cb0",
   "execution_count": 25
  },
  {
   "cell_type": "markdown",
   "source": [
    "10. We don't have to check if levels of categories are unique, as we don't need it to be unique for this data set."
   ],
   "metadata": {
    "collapsed": false,
    "id": "7a7f8204de0b20a6"
   },
   "id": "7a7f8204de0b20a6"
  },
  {
   "cell_type": "markdown",
   "source": [
    "11. We need to create a column that specifies the year and quarter, but before that, we must fix the \"Year\" column."
   ],
   "metadata": {
    "collapsed": false,
    "id": "b42e59f2cfb23b38"
   },
   "id": "b42e59f2cfb23b38"
  },
  {
   "cell_type": "markdown",
   "source": [
    "Some of the values in the Year column has an unnecessary extra digit at the end; let's fix it."
   ],
   "metadata": {
    "collapsed": false,
    "id": "a7790b506521055c"
   },
   "id": "a7790b506521055c"
  },
  {
   "cell_type": "code",
   "outputs": [],
   "source": [
    "df['Year'] = df['Year'].astype(str)\n",
    "df['Year'] = df['Year'].str[:4]\n",
    "df['Year'] = df['Year'].astype(int)"
   ],
   "metadata": {
    "id": "8c647a3ad8ea844e",
    "ExecuteTime": {
     "end_time": "2024-01-14T17:37:28.059581224Z",
     "start_time": "2024-01-14T17:37:28.021162907Z"
    }
   },
   "id": "8c647a3ad8ea844e",
   "execution_count": 26
  },
  {
   "cell_type": "markdown",
   "source": [
    "Now, we can proceed to create a new column for the date."
   ],
   "metadata": {
    "collapsed": false,
    "id": "5da9eaafe30a7d1"
   },
   "id": "5da9eaafe30a7d1"
  },
  {
   "cell_type": "code",
   "outputs": [
    {
     "data": {
      "text/plain": "0      2018-01\n1      2019-02\n2      2020-03\n3      2021-04\n4      2018-01\n        ...   \n117    2019-03\n118    2020-04\n119    2021-01\n120    2018-02\n121    2019-03\nName: Date, Length: 119, dtype: object"
     },
     "execution_count": 27,
     "metadata": {},
     "output_type": "execute_result"
    }
   ],
   "source": [
    "#First, let's create a column with modified quarter values to use them as integers.\n",
    "quarter_map = {'Q1': '01', 'Q2': '02', 'Q3': '03', 'Q4': '4'}\n",
    "modified_quarter = df['Quarter'].map(quarter_map)\n",
    "#Then, let's go on with creating a date column.\n",
    "df['Date'] = df['Year'].astype(str) + '.' + modified_quarter.astype(str)\n",
    "df['Date'] = pd.to_datetime(df['Date'], format='%Y.%m')\n",
    "df['Date'] = df['Date'].dt.strftime('%Y-%m')\n",
    "df['Date']"
   ],
   "metadata": {
    "id": "b519a4582749a5d3",
    "colab": {
     "base_uri": "https://localhost:8080/"
    },
    "outputId": "dad0a010-54e1-4eb7-a3e3-60f914cb0909",
    "ExecuteTime": {
     "end_time": "2024-01-14T17:37:28.202112217Z",
     "start_time": "2024-01-14T17:37:28.065554544Z"
    }
   },
   "id": "b519a4582749a5d3",
   "execution_count": 27
  },
  {
   "cell_type": "markdown",
   "source": [
    "We have generated a new column that combines the information from the \"Year\" and \"Quarter\" columns, with the data type designated as date."
   ],
   "metadata": {
    "collapsed": false,
    "id": "2fd2d3af95190950"
   },
   "id": "2fd2d3af95190950"
  },
  {
   "cell_type": "markdown",
   "source": [
    "so, as we checked we NA's in Quarterly Sales and in Seller Rating"
   ],
   "metadata": {
    "collapsed": false,
    "id": "75a4f91d04f071af"
   },
   "id": "75a4f91d04f071af"
  },
  {
   "cell_type": "markdown",
   "source": [
    "We can use the mean of the Quarterly Sales to override the NA's."
   ],
   "metadata": {
    "collapsed": false,
    "id": "326c8b090d2390cc"
   },
   "id": "326c8b090d2390cc"
  },
  {
   "cell_type": "code",
   "outputs": [],
   "source": [
    "df['Quarterly Sales'].fillna(df['Quarterly Sales'].mean(), inplace=True)\n",
    "df['Quarterly Sales'] = df['Quarterly Sales'].astype(int)"
   ],
   "metadata": {
    "id": "5a529477aca96082",
    "ExecuteTime": {
     "end_time": "2024-01-14T17:37:28.264072160Z",
     "start_time": "2024-01-14T17:37:28.189537356Z"
    }
   },
   "id": "5a529477aca96082",
   "execution_count": 28
  },
  {
   "cell_type": "markdown",
   "source": [
    "Let's check if there are any NA values in the \"Quarterly Sales\" column."
   ],
   "metadata": {
    "collapsed": false,
    "id": "fcf778308a5e2b7"
   },
   "id": "fcf778308a5e2b7"
  },
  {
   "cell_type": "code",
   "outputs": [
    {
     "data": {
      "text/plain": "0"
     },
     "execution_count": 29,
     "metadata": {},
     "output_type": "execute_result"
    }
   ],
   "source": [
    "df[\"Quarterly Sales\"].isna().sum()"
   ],
   "metadata": {
    "id": "3b981fbe843b8036",
    "colab": {
     "base_uri": "https://localhost:8080/"
    },
    "outputId": "070120b1-8f97-4c80-af95-36a4214a6fd6",
    "ExecuteTime": {
     "end_time": "2024-01-14T17:37:28.356379835Z",
     "start_time": "2024-01-14T17:37:28.215741543Z"
    }
   },
   "id": "3b981fbe843b8036",
   "execution_count": 29
  },
  {
   "cell_type": "markdown",
   "source": [
    "So, there are no NA values in the \"Quarterly Sales\" column."
   ],
   "metadata": {
    "collapsed": false,
    "id": "563bc5264176e9d8"
   },
   "id": "563bc5264176e9d8"
  },
  {
   "cell_type": "markdown",
   "source": [
    "Let's sort the data of the \"Quarterly Sales\" column."
   ],
   "metadata": {
    "collapsed": false,
    "id": "ac833424ae065967"
   },
   "id": "ac833424ae065967"
  },
  {
   "cell_type": "code",
   "outputs": [
    {
     "data": {
      "text/plain": "           Category  Quarterly Sales\n61           Beauty             1300\n35           Beauty              800\n40           Beauty             1100\n45           Beauty             1050\n50           Beauty             1015\n..              ...              ...\n120  Home & Kitchen             1300\n65   Home & Kitchen             1400\n24   Home & Kitchen             1400\n9    Home - Kitchen             1300\n14   Home - Kitchen             1400\n\n[119 rows x 2 columns]",
      "text/html": "<div>\n<style scoped>\n    .dataframe tbody tr th:only-of-type {\n        vertical-align: middle;\n    }\n\n    .dataframe tbody tr th {\n        vertical-align: top;\n    }\n\n    .dataframe thead th {\n        text-align: right;\n    }\n</style>\n<table border=\"1\" class=\"dataframe\">\n  <thead>\n    <tr style=\"text-align: right;\">\n      <th></th>\n      <th>Category</th>\n      <th>Quarterly Sales</th>\n    </tr>\n  </thead>\n  <tbody>\n    <tr>\n      <th>61</th>\n      <td>Beauty</td>\n      <td>1300</td>\n    </tr>\n    <tr>\n      <th>35</th>\n      <td>Beauty</td>\n      <td>800</td>\n    </tr>\n    <tr>\n      <th>40</th>\n      <td>Beauty</td>\n      <td>1100</td>\n    </tr>\n    <tr>\n      <th>45</th>\n      <td>Beauty</td>\n      <td>1050</td>\n    </tr>\n    <tr>\n      <th>50</th>\n      <td>Beauty</td>\n      <td>1015</td>\n    </tr>\n    <tr>\n      <th>...</th>\n      <td>...</td>\n      <td>...</td>\n    </tr>\n    <tr>\n      <th>120</th>\n      <td>Home &amp; Kitchen</td>\n      <td>1300</td>\n    </tr>\n    <tr>\n      <th>65</th>\n      <td>Home &amp; Kitchen</td>\n      <td>1400</td>\n    </tr>\n    <tr>\n      <th>24</th>\n      <td>Home &amp; Kitchen</td>\n      <td>1400</td>\n    </tr>\n    <tr>\n      <th>9</th>\n      <td>Home - Kitchen</td>\n      <td>1300</td>\n    </tr>\n    <tr>\n      <th>14</th>\n      <td>Home - Kitchen</td>\n      <td>1400</td>\n    </tr>\n  </tbody>\n</table>\n<p>119 rows × 2 columns</p>\n</div>"
     },
     "execution_count": 30,
     "metadata": {},
     "output_type": "execute_result"
    }
   ],
   "source": [
    "sorted_df = df.sort_values(by='Category')\n",
    "sorted_df[[\"Category\", \"Quarterly Sales\"]]"
   ],
   "metadata": {
    "id": "f5b04c6f270a2f4",
    "colab": {
     "base_uri": "https://localhost:8080/",
     "height": 423
    },
    "outputId": "7e6b5104-95a3-44e8-c28f-0da9c074c05e",
    "ExecuteTime": {
     "end_time": "2024-01-14T17:37:28.426909798Z",
     "start_time": "2024-01-14T17:37:28.309124984Z"
    }
   },
   "id": "f5b04c6f270a2f4",
   "execution_count": 30
  },
  {
   "cell_type": "markdown",
   "source": [
    "Since it makes more sense according to the nature of the data, we can change the NA's in Seller Rating with median and change the NA's in the Advertising Cost with the mean."
   ],
   "metadata": {
    "collapsed": false,
    "id": "2c91965285ea6442"
   },
   "id": "2c91965285ea6442"
  },
  {
   "cell_type": "code",
   "outputs": [],
   "source": [
    "df['Seller Rating'].fillna(df['Seller Rating'].median(), inplace=True)"
   ],
   "metadata": {
    "id": "a2f6f7747c6a715b",
    "ExecuteTime": {
     "end_time": "2024-01-14T17:37:28.578155731Z",
     "start_time": "2024-01-14T17:37:28.411440991Z"
    }
   },
   "id": "a2f6f7747c6a715b",
   "execution_count": 31
  },
  {
   "cell_type": "code",
   "outputs": [],
   "source": [
    "df['Advertising Cost'].fillna(df['Advertising Cost'].mean(), inplace=True)"
   ],
   "metadata": {
    "id": "3a730e5c14f17a20",
    "ExecuteTime": {
     "end_time": "2024-01-14T17:37:28.675232591Z",
     "start_time": "2024-01-14T17:37:28.537184155Z"
    }
   },
   "id": "3a730e5c14f17a20",
   "execution_count": 32
  },
  {
   "cell_type": "markdown",
   "source": [
    "\n",
    "Let's verify if there are any negative values in the numeric columns. There shouldn't be any in our dataset."
   ],
   "metadata": {
    "collapsed": false,
    "id": "2fc48e158fe0e709"
   },
   "id": "2fc48e158fe0e709"
  },
  {
   "cell_type": "code",
   "outputs": [
    {
     "name": "stdout",
     "output_type": "stream",
     "text": [
      "Negative values exist in the following columns: Customer Rating\n"
     ]
    }
   ],
   "source": [
    "negative_values_columns = df.select_dtypes(include='number').columns[df.select_dtypes(include='number').lt(0).any()]\n",
    "\n",
    "# Display the result\n",
    "if not negative_values_columns.empty:\n",
    "    print(f\"Negative values exist in the following columns: {', '.join(negative_values_columns)}\")\n",
    "else:\n",
    "    print(\"No negative values found in any numeric column.\")"
   ],
   "metadata": {
    "id": "b6847204092bfee9",
    "colab": {
     "base_uri": "https://localhost:8080/"
    },
    "outputId": "ed29867e-f1ca-410a-a57c-a8e3d2310c4c",
    "ExecuteTime": {
     "end_time": "2024-01-14T17:37:28.838723874Z",
     "start_time": "2024-01-14T17:37:28.623438124Z"
    }
   },
   "id": "b6847204092bfee9",
   "execution_count": 33
  },
  {
   "cell_type": "markdown",
   "source": [
    "The range should not be negative since all the data in our dataset falls within the range of 1 to 5."
   ],
   "metadata": {
    "collapsed": false,
    "id": "fe3d30cba540cf1f"
   },
   "id": "fe3d30cba540cf1f"
  },
  {
   "cell_type": "code",
   "outputs": [],
   "source": [
    "df[\"Customer Rating\"] = df[\"Customer Rating\"].abs().astype(int)"
   ],
   "metadata": {
    "id": "99c617265ef925c3",
    "ExecuteTime": {
     "end_time": "2024-01-14T17:37:28.881033610Z",
     "start_time": "2024-01-14T17:37:28.777256662Z"
    }
   },
   "id": "99c617265ef925c3",
   "execution_count": 34
  },
  {
   "cell_type": "markdown",
   "source": [
    "Let's check it again."
   ],
   "metadata": {
    "collapsed": false,
    "id": "d726db1e14b9e60e"
   },
   "id": "d726db1e14b9e60e"
  },
  {
   "cell_type": "code",
   "outputs": [
    {
     "data": {
      "text/plain": "False"
     },
     "execution_count": 35,
     "metadata": {},
     "output_type": "execute_result"
    }
   ],
   "source": [
    "(df['Customer Rating'] < 0).any()"
   ],
   "metadata": {
    "id": "7c7fe0c83915ba28",
    "colab": {
     "base_uri": "https://localhost:8080/"
    },
    "outputId": "2ac64a97-6aad-4f7d-831b-9b886ad4105d",
    "ExecuteTime": {
     "end_time": "2024-01-14T17:37:28.989522893Z",
     "start_time": "2024-01-14T17:37:28.872651464Z"
    }
   },
   "id": "7c7fe0c83915ba28",
   "execution_count": 35
  },
  {
   "cell_type": "markdown",
   "source": [
    "It shows that everything is fine now."
   ],
   "metadata": {
    "collapsed": false,
    "id": "5b22ee4c104d2367"
   },
   "id": "5b22ee4c104d2367"
  },
  {
   "cell_type": "markdown",
   "source": [
    "Let's standardize the writing format for the data in the category columns."
   ],
   "metadata": {
    "collapsed": false,
    "id": "3c27f693b4a90cd6"
   },
   "id": "3c27f693b4a90cd6"
  },
  {
   "cell_type": "code",
   "outputs": [],
   "source": [
    "df['Category'] = df['Category'].replace({'BEAUTY': 'Beauty',\n",
    "                                         'ELECTRONICS': 'Electronics',\n",
    "                                         'Home - Kitchen': 'Home & Kitchen',\n",
    "                                         'Book': 'Books'})\n",
    "df['Location'] = df['Location'].replace({'United States': 'US', 'ASIA': 'Asia', 'European Union': 'EU'})"
   ],
   "metadata": {
    "id": "12b0c5511ac80cec",
    "ExecuteTime": {
     "end_time": "2024-01-14T17:37:29.158744237Z",
     "start_time": "2024-01-14T17:37:28.971740523Z"
    }
   },
   "id": "12b0c5511ac80cec",
   "execution_count": 36
  },
  {
   "cell_type": "markdown",
   "source": [
    "Let's check the outliers based on the values of each column categorized by their respective categories, as it would be more logical since the values vary a lot in different categories."
   ],
   "metadata": {
    "collapsed": false,
    "id": "f419b68ee82d4494"
   },
   "id": "f419b68ee82d4494"
  },
  {
   "cell_type": "markdown",
   "source": [
    "Let's create a function that will identify outliers using a box plot. Given that each category isn't extensive, we will focus on detecting extreme outliers."
   ],
   "metadata": {
    "collapsed": false,
    "id": "3b20ca7895ace216"
   },
   "id": "3b20ca7895ace216"
  },
  {
   "cell_type": "code",
   "outputs": [],
   "source": [
    "def identify_outliers_by_category(df, category_column, numerical_column):\n",
    "    categories = df[category_column].unique()\n",
    "    outliers_dict = {}\n",
    "\n",
    "    for category in categories:\n",
    "        subset = df[df[category_column] == category]\n",
    "        column = subset[numerical_column]\n",
    "\n",
    "        Q1 = column.quantile(0.25)\n",
    "        Q3 = column.quantile(0.75)\n",
    "        IQR = Q3 - Q1\n",
    "        lower_bound = Q1 - 3 * IQR\n",
    "        upper_bound = Q3 + 3 * IQR\n",
    "        outliers = column[(column < lower_bound) | (column > upper_bound)]\n",
    "\n",
    "        # Check if the number of outliers doesn't exceed 10% of the category's data\n",
    "        if not outliers.empty:\n",
    "            category_count = len(subset)\n",
    "            outlier_count = len(outliers)\n",
    "            if outlier_count / category_count <= 0.1:\n",
    "                outliers_dict[category] = outliers\n",
    "\n",
    "    return outliers_dict"
   ],
   "metadata": {
    "id": "d2153a83331bc004",
    "ExecuteTime": {
     "end_time": "2024-01-14T17:37:29.234122445Z",
     "start_time": "2024-01-14T17:37:29.055540896Z"
    }
   },
   "id": "d2153a83331bc004",
   "execution_count": 37
  },
  {
   "cell_type": "markdown",
   "source": [
    "And here is the part of the code that will process for every column."
   ],
   "metadata": {
    "collapsed": false,
    "id": "757d30b6760a9070"
   },
   "id": "757d30b6760a9070"
  },
  {
   "cell_type": "code",
   "outputs": [
    {
     "name": "stdout",
     "output_type": "stream",
     "text": [
      "\n",
      "Outliers in Year by Category:\n",
      "No outliers in Category\n",
      "\n",
      "Outliers in Quarterly Sales by Category:\n",
      "No outliers in Category\n",
      "\n",
      "Outliers in Price by Category:\n",
      "No outliers in Category\n",
      "\n",
      "Outliers in Units Sold by Category:\n",
      "No outliers in Category\n",
      "\n",
      "Outliers in Revenue by Category:\n",
      "Outliers in Electronics: [78000 56250]\n",
      "Outliers in Books: [84000 84000]\n",
      "\n",
      "Outliers in Advertising Cost by Category:\n",
      "No outliers in Category\n"
     ]
    }
   ],
   "source": [
    "# create a dict that will store outliers based on column\n",
    "outliers_by_category = {}\n",
    "for numerical_column in df.select_dtypes(include='number').columns:\n",
    "    if numerical_column not in [\"Customer Rating\", \"Seller Rating\", \"Discount Rate\"]:\n",
    "        outliers_by_category[numerical_column] = {}\n",
    "        for category_column in ['Category']:\n",
    "            outliers_by_category[numerical_column][category_column] = identify_outliers_by_category(df, category_column, numerical_column)\n",
    "\n",
    "\n",
    "# Displaying outliers for each category\n",
    "for numerical_column, category_dict in outliers_by_category.items():\n",
    "    print(f\"\\nOutliers in {numerical_column} by Category:\")\n",
    "    for category_column, outliers in category_dict.items():\n",
    "        if outliers:\n",
    "            for cat, out_vals in outliers.items():\n",
    "                print(f\"Outliers in {cat}: {out_vals.values}\")\n",
    "        else:\n",
    "            print(f\"No outliers in {category_column}\")\n",
    "\n",
    "# Replacing outliers by mean of the specific columns within each category\n",
    "for numerical_column, category_dict in outliers_by_category.items():\n",
    "    for category_column, outliers in category_dict.items():\n",
    "        for cat, out_vals in outliers.items():\n",
    "            category_mean = df.loc[df[category_column] == cat, numerical_column].mean().astype(int)\n",
    "            df.loc[(df[category_column] == cat) & df[numerical_column].isin(out_vals), numerical_column] = category_mean\n"
   ],
   "metadata": {
    "id": "14482158ea39ce52",
    "colab": {
     "base_uri": "https://localhost:8080/"
    },
    "outputId": "872475df-81ac-4773-88b0-f7c0b9899c96",
    "ExecuteTime": {
     "end_time": "2024-01-14T17:37:29.336297792Z",
     "start_time": "2024-01-14T17:37:29.189341024Z"
    }
   },
   "id": "14482158ea39ce52",
   "execution_count": 38
  },
  {
   "cell_type": "markdown",
   "source": [
    "And now, it is done."
   ],
   "metadata": {
    "collapsed": false,
    "id": "6b0153b435e5c3d0"
   },
   "id": "6b0153b435e5c3d0"
  },
  {
   "cell_type": "markdown",
   "source": [
    "Let's check the datatypes of the columns."
   ],
   "metadata": {
    "collapsed": false,
    "id": "434a1802be0cfbf7"
   },
   "id": "434a1802be0cfbf7"
  },
  {
   "cell_type": "code",
   "outputs": [
    {
     "data": {
      "text/plain": "Category             object\nProduct ID           object\nYear                  int64\nQuarter              object\nQuarterly Sales       int64\nCustomer Rating       int64\nSeller Rating       float64\nPrice                 int64\nDiscount Rate       float64\nUnits Sold            int64\nRevenue               int64\nShipping Method      object\nLocation             object\nAdvertising Cost    float64\nDate                 object\ndtype: object"
     },
     "execution_count": 39,
     "metadata": {},
     "output_type": "execute_result"
    }
   ],
   "source": [
    "show_data_type(df)"
   ],
   "metadata": {
    "id": "21504d1f968b3dff",
    "colab": {
     "base_uri": "https://localhost:8080/"
    },
    "outputId": "d8493d7d-21fc-445b-9171-fc03a4047cb6",
    "ExecuteTime": {
     "end_time": "2024-01-14T17:37:29.446947615Z",
     "start_time": "2024-01-14T17:37:29.285598226Z"
    }
   },
   "id": "21504d1f968b3dff",
   "execution_count": 39
  },
  {
   "cell_type": "markdown",
   "source": [
    "Now, let's ensure that all numeric columns are of the same data type, specifically float64."
   ],
   "metadata": {
    "collapsed": false,
    "id": "10ddf886cbd7b2c7"
   },
   "id": "10ddf886cbd7b2c7"
  },
  {
   "cell_type": "code",
   "outputs": [],
   "source": [
    "# Get a list of columns to convert to float (excluding datetime and object columns)\n",
    "columns_to_convert = df.select_dtypes(include=['int']).columns\n",
    "columns_to_exclude = df.select_dtypes(exclude=['datetime', 'object']).columns\n",
    "\n",
    "# Convert integer columns to float\n",
    "df[columns_to_convert] = df[columns_to_convert].astype(float)"
   ],
   "metadata": {
    "id": "bab3f8b5d0190dd1",
    "ExecuteTime": {
     "end_time": "2024-01-14T17:37:29.498702762Z",
     "start_time": "2024-01-14T17:37:29.371516049Z"
    }
   },
   "id": "bab3f8b5d0190dd1",
   "execution_count": 40
  },
  {
   "cell_type": "markdown",
   "source": [
    "Let's review the fixed version."
   ],
   "metadata": {
    "collapsed": false,
    "id": "fe7972c364ef66d8"
   },
   "id": "fe7972c364ef66d8"
  },
  {
   "cell_type": "code",
   "outputs": [
    {
     "data": {
      "text/plain": "Category             object\nProduct ID           object\nYear                float64\nQuarter              object\nQuarterly Sales     float64\nCustomer Rating     float64\nSeller Rating       float64\nPrice               float64\nDiscount Rate       float64\nUnits Sold          float64\nRevenue             float64\nShipping Method      object\nLocation             object\nAdvertising Cost    float64\nDate                 object\ndtype: object"
     },
     "execution_count": 41,
     "metadata": {},
     "output_type": "execute_result"
    }
   ],
   "source": [
    "show_data_type(df)"
   ],
   "metadata": {
    "id": "db8466c7f6f928eb",
    "colab": {
     "base_uri": "https://localhost:8080/"
    },
    "outputId": "ea432b42-2977-47d8-94d2-a7d3d483a33b",
    "ExecuteTime": {
     "end_time": "2024-01-14T17:37:29.616132712Z",
     "start_time": "2024-01-14T17:37:29.502379559Z"
    }
   },
   "id": "db8466c7f6f928eb",
   "execution_count": 41
  },
  {
   "cell_type": "markdown",
   "source": [
    "The \"Year\" column should be of integer type, not float."
   ],
   "metadata": {
    "collapsed": false,
    "id": "961f9ecd4c7c97cd"
   },
   "id": "961f9ecd4c7c97cd"
  },
  {
   "cell_type": "code",
   "outputs": [],
   "source": [
    "df['Year'] = df['Year'].astype(int)"
   ],
   "metadata": {
    "id": "fe5feec99f272eb8",
    "ExecuteTime": {
     "end_time": "2024-01-14T17:37:29.665446346Z",
     "start_time": "2024-01-14T17:37:29.587098974Z"
    }
   },
   "id": "fe5feec99f272eb8",
   "execution_count": 42
  },
  {
   "cell_type": "code",
   "outputs": [
    {
     "data": {
      "text/plain": "Category             object\nProduct ID           object\nYear                  int64\nQuarter              object\nQuarterly Sales     float64\nCustomer Rating     float64\nSeller Rating       float64\nPrice               float64\nDiscount Rate       float64\nUnits Sold          float64\nRevenue             float64\nShipping Method      object\nLocation             object\nAdvertising Cost    float64\nDate                 object\ndtype: object"
     },
     "execution_count": 43,
     "metadata": {},
     "output_type": "execute_result"
    }
   ],
   "source": [
    "show_data_type(df)"
   ],
   "metadata": {
    "id": "76c2adabffcf8138",
    "colab": {
     "base_uri": "https://localhost:8080/"
    },
    "outputId": "4c77722a-efaf-49bb-e4ae-194a3567bf88",
    "ExecuteTime": {
     "end_time": "2024-01-14T17:37:29.830908341Z",
     "start_time": "2024-01-14T17:37:29.669672235Z"
    }
   },
   "id": "76c2adabffcf8138",
   "execution_count": 43
  },
  {
   "cell_type": "markdown",
   "source": [
    "Save the updated data into both CSV and Excel files."
   ],
   "metadata": {
    "collapsed": false,
    "id": "a1f7be5f9ff0845d"
   },
   "id": "a1f7be5f9ff0845d"
  },
  {
   "cell_type": "code",
   "outputs": [],
   "source": [
    "# Save data to Excel file and csv file\n",
    "csv_filename = '/content/data/filtered/filtered_amazon.csv'\n",
    "df.to_csv(csv_filename, index=False)\n",
    "\n",
    "csv_filename = '/content/data/filtered/filtered_amazon.xlsx'\n",
    "df.to_excel(csv_filename, index=False)"
   ],
   "metadata": {
    "id": "4956b8a6273d0f0b",
    "ExecuteTime": {
     "end_time": "2024-01-14T17:37:29.885611491Z",
     "start_time": "2024-01-14T17:37:29.797567Z"
    }
   },
   "id": "4956b8a6273d0f0b",
   "execution_count": 44
  }
 ],
 "metadata": {
  "kernelspec": {
   "display_name": "Python 3",
   "language": "python",
   "name": "python3"
  },
  "language_info": {
   "codemirror_mode": {
    "name": "ipython",
    "version": 2
   },
   "file_extension": ".py",
   "mimetype": "text/x-python",
   "name": "python",
   "nbconvert_exporter": "python",
   "pygments_lexer": "ipython2",
   "version": "2.7.6"
  },
  "colab": {
   "provenance": []
  }
 },
 "nbformat": 4,
 "nbformat_minor": 5
}
