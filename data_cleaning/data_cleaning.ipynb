{
  "cells": [
    {
      "cell_type": "markdown",
      "source": [
        "Let's start by importing the libraries that will be utilized in our work."
      ],
      "metadata": {
        "collapsed": false,
        "id": "78e7ef115d69c9c1"
      },
      "id": "78e7ef115d69c9c1"
    },
    {
      "cell_type": "code",
      "outputs": [],
      "source": [
        "import pandas as pd"
      ],
      "metadata": {
        "id": "82364a621d74631e",
        "ExecuteTime": {
          "end_time": "2024-01-14T12:04:54.083172990Z",
          "start_time": "2024-01-14T12:04:53.393244248Z"
        }
      },
      "id": "82364a621d74631e",
      "execution_count": 1
    },
    {
      "cell_type": "markdown",
      "source": [
        "Next, we will establish functions that will be employed consistently throughout the code.\n",
        "\n",
        "- Firstly, we will define a function that will show the head of the table."
      ],
      "metadata": {
        "collapsed": false,
        "id": "edfe86d3dbfb50f"
      },
      "id": "edfe86d3dbfb50f"
    },
    {
      "cell_type": "code",
      "outputs": [],
      "source": [
        "def show_head(df):\n",
        "    return df.head()"
      ],
      "metadata": {
        "id": "f3cd9e3d16bfa94a",
        "ExecuteTime": {
          "end_time": "2024-01-14T12:04:54.108707304Z",
          "start_time": "2024-01-14T12:04:54.053604795Z"
        }
      },
      "id": "f3cd9e3d16bfa94a",
      "execution_count": 2
    },
    {
      "cell_type": "markdown",
      "source": [
        "This one will show the datatypes of variables."
      ],
      "metadata": {
        "collapsed": false,
        "id": "88fe6c8deea957f1"
      },
      "id": "88fe6c8deea957f1"
    },
    {
      "cell_type": "code",
      "outputs": [],
      "source": [
        "def show_data_type(df):\n",
        "    return df.dtypes"
      ],
      "metadata": {
        "id": "732bdd3d689e19d5",
        "ExecuteTime": {
          "end_time": "2024-01-14T12:04:54.223347225Z",
          "start_time": "2024-01-14T12:04:54.099240408Z"
        }
      },
      "id": "732bdd3d689e19d5",
      "execution_count": 3
    },
    {
      "cell_type": "markdown",
      "source": [
        "- And the third will show the general info about datasets."
      ],
      "metadata": {
        "collapsed": false,
        "id": "a6014ff3cf45ce0a"
      },
      "id": "a6014ff3cf45ce0a"
    },
    {
      "cell_type": "code",
      "outputs": [],
      "source": [
        "def show_info(df):\n",
        "    return df.info()"
      ],
      "metadata": {
        "id": "58b24d9e953984f5",
        "ExecuteTime": {
          "end_time": "2024-01-14T12:04:54.241061472Z",
          "start_time": "2024-01-14T12:04:54.206648974Z"
        }
      },
      "id": "58b24d9e953984f5",
      "execution_count": 4
    },
    {
      "cell_type": "markdown",
      "source": [
        "0. To start with, I have loaded the file to a dataframe."
      ],
      "metadata": {
        "collapsed": false,
        "id": "c6c8c85ff28a787c"
      },
      "id": "c6c8c85ff28a787c"
    },
    {
      "cell_type": "code",
      "outputs": [
        {
          "output_type": "execute_result",
          "data": {
            "text/plain": [
              "  Amazon Sales Dataset : The dataset consists of 121 observations Unnamed: 1  \\\n",
              "0                                                NaN                     NaN   \n",
              "1                                           CATEGORY               PRODUCTID   \n",
              "2                                             Beauty                      B5   \n",
              "3                                             Beauty                     B10   \n",
              "4                                             Beauty                     B15   \n",
              "\n",
              "  Unnamed: 2 Unnamed: 3      Unnamed: 4      Unnamed: 5    Unnamed: 6  \\\n",
              "0        NaN        NaN             NaN             NaN           NaN   \n",
              "1      YEASR    QUARTER  QuarterlySales  CustomerRating  SELLERRATING   \n",
              "2       2018         Q1            1000               4             3   \n",
              "3       2018         Q2            1100               4             5   \n",
              "4       2019         Q3            1050               5             3   \n",
              "\n",
              "                  Unnamed: 7  \\\n",
              "0                        NaN   \n",
              "1  the product price in USD.   \n",
              "2                         80   \n",
              "3                         90   \n",
              "4                         70   \n",
              "\n",
              "                                          Unnamed: 8 Unnamed: 9 Unnamed: 10  \\\n",
              "0                                                NaN        NaN         NaN   \n",
              "1  the discount applied to the product in percentage  UnitsSold     Revenue   \n",
              "2                                                 12         40       40000   \n",
              "3                                                 18         50       55000   \n",
              "4                                                0.2         60       63000   \n",
              "\n",
              "      Unnamed: 11               Unnamed: 12      Unnamed: 13  \n",
              "0             NaN                       NaN              NaN  \n",
              "1  ShippingMethod  the location of the sale  AdvertisingCost  \n",
              "2        Standard                        EU              400  \n",
              "3        Standard                        US              450  \n",
              "4         Express                      Asia              NaN  "
            ],
            "text/html": [
              "\n",
              "  <div id=\"df-0dd0e985-82a1-4177-9323-75e24d2c2af7\" class=\"colab-df-container\">\n",
              "    <div>\n",
              "<style scoped>\n",
              "    .dataframe tbody tr th:only-of-type {\n",
              "        vertical-align: middle;\n",
              "    }\n",
              "\n",
              "    .dataframe tbody tr th {\n",
              "        vertical-align: top;\n",
              "    }\n",
              "\n",
              "    .dataframe thead th {\n",
              "        text-align: right;\n",
              "    }\n",
              "</style>\n",
              "<table border=\"1\" class=\"dataframe\">\n",
              "  <thead>\n",
              "    <tr style=\"text-align: right;\">\n",
              "      <th></th>\n",
              "      <th>Amazon Sales Dataset : The dataset consists of 121 observations</th>\n",
              "      <th>Unnamed: 1</th>\n",
              "      <th>Unnamed: 2</th>\n",
              "      <th>Unnamed: 3</th>\n",
              "      <th>Unnamed: 4</th>\n",
              "      <th>Unnamed: 5</th>\n",
              "      <th>Unnamed: 6</th>\n",
              "      <th>Unnamed: 7</th>\n",
              "      <th>Unnamed: 8</th>\n",
              "      <th>Unnamed: 9</th>\n",
              "      <th>Unnamed: 10</th>\n",
              "      <th>Unnamed: 11</th>\n",
              "      <th>Unnamed: 12</th>\n",
              "      <th>Unnamed: 13</th>\n",
              "    </tr>\n",
              "  </thead>\n",
              "  <tbody>\n",
              "    <tr>\n",
              "      <th>0</th>\n",
              "      <td>NaN</td>\n",
              "      <td>NaN</td>\n",
              "      <td>NaN</td>\n",
              "      <td>NaN</td>\n",
              "      <td>NaN</td>\n",
              "      <td>NaN</td>\n",
              "      <td>NaN</td>\n",
              "      <td>NaN</td>\n",
              "      <td>NaN</td>\n",
              "      <td>NaN</td>\n",
              "      <td>NaN</td>\n",
              "      <td>NaN</td>\n",
              "      <td>NaN</td>\n",
              "      <td>NaN</td>\n",
              "    </tr>\n",
              "    <tr>\n",
              "      <th>1</th>\n",
              "      <td>CATEGORY</td>\n",
              "      <td>PRODUCTID</td>\n",
              "      <td>YEASR</td>\n",
              "      <td>QUARTER</td>\n",
              "      <td>QuarterlySales</td>\n",
              "      <td>CustomerRating</td>\n",
              "      <td>SELLERRATING</td>\n",
              "      <td>the product price in USD.</td>\n",
              "      <td>the discount applied to the product in percentage</td>\n",
              "      <td>UnitsSold</td>\n",
              "      <td>Revenue</td>\n",
              "      <td>ShippingMethod</td>\n",
              "      <td>the location of the sale</td>\n",
              "      <td>AdvertisingCost</td>\n",
              "    </tr>\n",
              "    <tr>\n",
              "      <th>2</th>\n",
              "      <td>Beauty</td>\n",
              "      <td>B5</td>\n",
              "      <td>2018</td>\n",
              "      <td>Q1</td>\n",
              "      <td>1000</td>\n",
              "      <td>4</td>\n",
              "      <td>3</td>\n",
              "      <td>80</td>\n",
              "      <td>12</td>\n",
              "      <td>40</td>\n",
              "      <td>40000</td>\n",
              "      <td>Standard</td>\n",
              "      <td>EU</td>\n",
              "      <td>400</td>\n",
              "    </tr>\n",
              "    <tr>\n",
              "      <th>3</th>\n",
              "      <td>Beauty</td>\n",
              "      <td>B10</td>\n",
              "      <td>2018</td>\n",
              "      <td>Q2</td>\n",
              "      <td>1100</td>\n",
              "      <td>4</td>\n",
              "      <td>5</td>\n",
              "      <td>90</td>\n",
              "      <td>18</td>\n",
              "      <td>50</td>\n",
              "      <td>55000</td>\n",
              "      <td>Standard</td>\n",
              "      <td>US</td>\n",
              "      <td>450</td>\n",
              "    </tr>\n",
              "    <tr>\n",
              "      <th>4</th>\n",
              "      <td>Beauty</td>\n",
              "      <td>B15</td>\n",
              "      <td>2019</td>\n",
              "      <td>Q3</td>\n",
              "      <td>1050</td>\n",
              "      <td>5</td>\n",
              "      <td>3</td>\n",
              "      <td>70</td>\n",
              "      <td>0.2</td>\n",
              "      <td>60</td>\n",
              "      <td>63000</td>\n",
              "      <td>Express</td>\n",
              "      <td>Asia</td>\n",
              "      <td>NaN</td>\n",
              "    </tr>\n",
              "  </tbody>\n",
              "</table>\n",
              "</div>\n",
              "    <div class=\"colab-df-buttons\">\n",
              "\n",
              "  <div class=\"colab-df-container\">\n",
              "    <button class=\"colab-df-convert\" onclick=\"convertToInteractive('df-0dd0e985-82a1-4177-9323-75e24d2c2af7')\"\n",
              "            title=\"Convert this dataframe to an interactive table.\"\n",
              "            style=\"display:none;\">\n",
              "\n",
              "  <svg xmlns=\"http://www.w3.org/2000/svg\" height=\"24px\" viewBox=\"0 -960 960 960\">\n",
              "    <path d=\"M120-120v-720h720v720H120Zm60-500h600v-160H180v160Zm220 220h160v-160H400v160Zm0 220h160v-160H400v160ZM180-400h160v-160H180v160Zm440 0h160v-160H620v160ZM180-180h160v-160H180v160Zm440 0h160v-160H620v160Z\"/>\n",
              "  </svg>\n",
              "    </button>\n",
              "\n",
              "  <style>\n",
              "    .colab-df-container {\n",
              "      display:flex;\n",
              "      gap: 12px;\n",
              "    }\n",
              "\n",
              "    .colab-df-convert {\n",
              "      background-color: #E8F0FE;\n",
              "      border: none;\n",
              "      border-radius: 50%;\n",
              "      cursor: pointer;\n",
              "      display: none;\n",
              "      fill: #1967D2;\n",
              "      height: 32px;\n",
              "      padding: 0 0 0 0;\n",
              "      width: 32px;\n",
              "    }\n",
              "\n",
              "    .colab-df-convert:hover {\n",
              "      background-color: #E2EBFA;\n",
              "      box-shadow: 0px 1px 2px rgba(60, 64, 67, 0.3), 0px 1px 3px 1px rgba(60, 64, 67, 0.15);\n",
              "      fill: #174EA6;\n",
              "    }\n",
              "\n",
              "    .colab-df-buttons div {\n",
              "      margin-bottom: 4px;\n",
              "    }\n",
              "\n",
              "    [theme=dark] .colab-df-convert {\n",
              "      background-color: #3B4455;\n",
              "      fill: #D2E3FC;\n",
              "    }\n",
              "\n",
              "    [theme=dark] .colab-df-convert:hover {\n",
              "      background-color: #434B5C;\n",
              "      box-shadow: 0px 1px 3px 1px rgba(0, 0, 0, 0.15);\n",
              "      filter: drop-shadow(0px 1px 2px rgba(0, 0, 0, 0.3));\n",
              "      fill: #FFFFFF;\n",
              "    }\n",
              "  </style>\n",
              "\n",
              "    <script>\n",
              "      const buttonEl =\n",
              "        document.querySelector('#df-0dd0e985-82a1-4177-9323-75e24d2c2af7 button.colab-df-convert');\n",
              "      buttonEl.style.display =\n",
              "        google.colab.kernel.accessAllowed ? 'block' : 'none';\n",
              "\n",
              "      async function convertToInteractive(key) {\n",
              "        const element = document.querySelector('#df-0dd0e985-82a1-4177-9323-75e24d2c2af7');\n",
              "        const dataTable =\n",
              "          await google.colab.kernel.invokeFunction('convertToInteractive',\n",
              "                                                    [key], {});\n",
              "        if (!dataTable) return;\n",
              "\n",
              "        const docLinkHtml = 'Like what you see? Visit the ' +\n",
              "          '<a target=\"_blank\" href=https://colab.research.google.com/notebooks/data_table.ipynb>data table notebook</a>'\n",
              "          + ' to learn more about interactive tables.';\n",
              "        element.innerHTML = '';\n",
              "        dataTable['output_type'] = 'display_data';\n",
              "        await google.colab.output.renderOutput(dataTable, element);\n",
              "        const docLink = document.createElement('div');\n",
              "        docLink.innerHTML = docLinkHtml;\n",
              "        element.appendChild(docLink);\n",
              "      }\n",
              "    </script>\n",
              "  </div>\n",
              "\n",
              "\n",
              "<div id=\"df-b53d258f-1fa3-4a9b-b8c7-6f5182494251\">\n",
              "  <button class=\"colab-df-quickchart\" onclick=\"quickchart('df-b53d258f-1fa3-4a9b-b8c7-6f5182494251')\"\n",
              "            title=\"Suggest charts\"\n",
              "            style=\"display:none;\">\n",
              "\n",
              "<svg xmlns=\"http://www.w3.org/2000/svg\" height=\"24px\"viewBox=\"0 0 24 24\"\n",
              "     width=\"24px\">\n",
              "    <g>\n",
              "        <path d=\"M19 3H5c-1.1 0-2 .9-2 2v14c0 1.1.9 2 2 2h14c1.1 0 2-.9 2-2V5c0-1.1-.9-2-2-2zM9 17H7v-7h2v7zm4 0h-2V7h2v10zm4 0h-2v-4h2v4z\"/>\n",
              "    </g>\n",
              "</svg>\n",
              "  </button>\n",
              "\n",
              "<style>\n",
              "  .colab-df-quickchart {\n",
              "      --bg-color: #E8F0FE;\n",
              "      --fill-color: #1967D2;\n",
              "      --hover-bg-color: #E2EBFA;\n",
              "      --hover-fill-color: #174EA6;\n",
              "      --disabled-fill-color: #AAA;\n",
              "      --disabled-bg-color: #DDD;\n",
              "  }\n",
              "\n",
              "  [theme=dark] .colab-df-quickchart {\n",
              "      --bg-color: #3B4455;\n",
              "      --fill-color: #D2E3FC;\n",
              "      --hover-bg-color: #434B5C;\n",
              "      --hover-fill-color: #FFFFFF;\n",
              "      --disabled-bg-color: #3B4455;\n",
              "      --disabled-fill-color: #666;\n",
              "  }\n",
              "\n",
              "  .colab-df-quickchart {\n",
              "    background-color: var(--bg-color);\n",
              "    border: none;\n",
              "    border-radius: 50%;\n",
              "    cursor: pointer;\n",
              "    display: none;\n",
              "    fill: var(--fill-color);\n",
              "    height: 32px;\n",
              "    padding: 0;\n",
              "    width: 32px;\n",
              "  }\n",
              "\n",
              "  .colab-df-quickchart:hover {\n",
              "    background-color: var(--hover-bg-color);\n",
              "    box-shadow: 0 1px 2px rgba(60, 64, 67, 0.3), 0 1px 3px 1px rgba(60, 64, 67, 0.15);\n",
              "    fill: var(--button-hover-fill-color);\n",
              "  }\n",
              "\n",
              "  .colab-df-quickchart-complete:disabled,\n",
              "  .colab-df-quickchart-complete:disabled:hover {\n",
              "    background-color: var(--disabled-bg-color);\n",
              "    fill: var(--disabled-fill-color);\n",
              "    box-shadow: none;\n",
              "  }\n",
              "\n",
              "  .colab-df-spinner {\n",
              "    border: 2px solid var(--fill-color);\n",
              "    border-color: transparent;\n",
              "    border-bottom-color: var(--fill-color);\n",
              "    animation:\n",
              "      spin 1s steps(1) infinite;\n",
              "  }\n",
              "\n",
              "  @keyframes spin {\n",
              "    0% {\n",
              "      border-color: transparent;\n",
              "      border-bottom-color: var(--fill-color);\n",
              "      border-left-color: var(--fill-color);\n",
              "    }\n",
              "    20% {\n",
              "      border-color: transparent;\n",
              "      border-left-color: var(--fill-color);\n",
              "      border-top-color: var(--fill-color);\n",
              "    }\n",
              "    30% {\n",
              "      border-color: transparent;\n",
              "      border-left-color: var(--fill-color);\n",
              "      border-top-color: var(--fill-color);\n",
              "      border-right-color: var(--fill-color);\n",
              "    }\n",
              "    40% {\n",
              "      border-color: transparent;\n",
              "      border-right-color: var(--fill-color);\n",
              "      border-top-color: var(--fill-color);\n",
              "    }\n",
              "    60% {\n",
              "      border-color: transparent;\n",
              "      border-right-color: var(--fill-color);\n",
              "    }\n",
              "    80% {\n",
              "      border-color: transparent;\n",
              "      border-right-color: var(--fill-color);\n",
              "      border-bottom-color: var(--fill-color);\n",
              "    }\n",
              "    90% {\n",
              "      border-color: transparent;\n",
              "      border-bottom-color: var(--fill-color);\n",
              "    }\n",
              "  }\n",
              "</style>\n",
              "\n",
              "  <script>\n",
              "    async function quickchart(key) {\n",
              "      const quickchartButtonEl =\n",
              "        document.querySelector('#' + key + ' button');\n",
              "      quickchartButtonEl.disabled = true;  // To prevent multiple clicks.\n",
              "      quickchartButtonEl.classList.add('colab-df-spinner');\n",
              "      try {\n",
              "        const charts = await google.colab.kernel.invokeFunction(\n",
              "            'suggestCharts', [key], {});\n",
              "      } catch (error) {\n",
              "        console.error('Error during call to suggestCharts:', error);\n",
              "      }\n",
              "      quickchartButtonEl.classList.remove('colab-df-spinner');\n",
              "      quickchartButtonEl.classList.add('colab-df-quickchart-complete');\n",
              "    }\n",
              "    (() => {\n",
              "      let quickchartButtonEl =\n",
              "        document.querySelector('#df-b53d258f-1fa3-4a9b-b8c7-6f5182494251 button');\n",
              "      quickchartButtonEl.style.display =\n",
              "        google.colab.kernel.accessAllowed ? 'block' : 'none';\n",
              "    })();\n",
              "  </script>\n",
              "</div>\n",
              "\n",
              "    </div>\n",
              "  </div>\n"
            ]
          },
          "metadata": {},
          "execution_count": 5
        }
      ],
      "source": [
        "show_head(pd.read_excel('/content/data/original/Amazon.xlsx'))"
      ],
      "metadata": {
        "colab": {
          "base_uri": "https://localhost:8080/",
          "height": 362
        },
        "id": "ea02241a217bf5d8",
        "outputId": "9d0e9765-ad44-48db-eda6-857a77fa8164",
        "ExecuteTime": {
          "end_time": "2024-01-14T12:04:54.496620599Z",
          "start_time": "2024-01-14T12:04:54.234628107Z"
        }
      },
      "id": "ea02241a217bf5d8",
      "execution_count": 5
    },
    {
      "cell_type": "markdown",
      "source": [
        "I wanted to skip the title and the empty row in order to have a better view."
      ],
      "metadata": {
        "collapsed": false,
        "id": "67e6536d0f4e08d5"
      },
      "id": "67e6536d0f4e08d5"
    },
    {
      "cell_type": "code",
      "outputs": [],
      "source": [
        "df = pd.read_excel('/content/data/original/Amazon.xlsx', header=None, skiprows=3)"
      ],
      "metadata": {
        "id": "62098d6ecc38ace2",
        "ExecuteTime": {
          "end_time": "2024-01-14T12:04:54.500360682Z",
          "start_time": "2024-01-14T12:04:54.434089123Z"
        }
      },
      "id": "62098d6ecc38ace2",
      "execution_count": 6
    },
    {
      "cell_type": "markdown",
      "source": [
        "Now, let's examine the modified data."
      ],
      "metadata": {
        "collapsed": false,
        "id": "16494adba9825ecf"
      },
      "id": "16494adba9825ecf"
    },
    {
      "cell_type": "code",
      "outputs": [
        {
          "output_type": "execute_result",
          "data": {
            "text/plain": [
              "       0    1     2   3     4   5    6   7     8   9      10        11    12  \\\n",
              "0  Beauty   B5  2018  Q1  1000   4  3.0  80  12.0  40  40000  Standard    EU   \n",
              "1  Beauty  B10  2018  Q2  1100   4  5.0  90  18.0  50  55000  Standard    US   \n",
              "2  Beauty  B15  2019  Q3  1050   5  3.0  70   0.2  60  63000   Express  Asia   \n",
              "3  Beauty  B20  2020  Q4  1300  -4  4.0  80  15.0  25  32500  Standard    EU   \n",
              "4  Beauty  B25  2021  Q1  1050   5  4.0  90  18.0  60  63000   Express    US   \n",
              "\n",
              "      13  \n",
              "0  400.0  \n",
              "1  450.0  \n",
              "2    NaN  \n",
              "3  450.0  \n",
              "4  500.0  "
            ],
            "text/html": [
              "\n",
              "  <div id=\"df-57807523-2bb3-417f-8d13-9d9a99a2a413\" class=\"colab-df-container\">\n",
              "    <div>\n",
              "<style scoped>\n",
              "    .dataframe tbody tr th:only-of-type {\n",
              "        vertical-align: middle;\n",
              "    }\n",
              "\n",
              "    .dataframe tbody tr th {\n",
              "        vertical-align: top;\n",
              "    }\n",
              "\n",
              "    .dataframe thead th {\n",
              "        text-align: right;\n",
              "    }\n",
              "</style>\n",
              "<table border=\"1\" class=\"dataframe\">\n",
              "  <thead>\n",
              "    <tr style=\"text-align: right;\">\n",
              "      <th></th>\n",
              "      <th>0</th>\n",
              "      <th>1</th>\n",
              "      <th>2</th>\n",
              "      <th>3</th>\n",
              "      <th>4</th>\n",
              "      <th>5</th>\n",
              "      <th>6</th>\n",
              "      <th>7</th>\n",
              "      <th>8</th>\n",
              "      <th>9</th>\n",
              "      <th>10</th>\n",
              "      <th>11</th>\n",
              "      <th>12</th>\n",
              "      <th>13</th>\n",
              "    </tr>\n",
              "  </thead>\n",
              "  <tbody>\n",
              "    <tr>\n",
              "      <th>0</th>\n",
              "      <td>Beauty</td>\n",
              "      <td>B5</td>\n",
              "      <td>2018</td>\n",
              "      <td>Q1</td>\n",
              "      <td>1000</td>\n",
              "      <td>4</td>\n",
              "      <td>3.0</td>\n",
              "      <td>80</td>\n",
              "      <td>12.0</td>\n",
              "      <td>40</td>\n",
              "      <td>40000</td>\n",
              "      <td>Standard</td>\n",
              "      <td>EU</td>\n",
              "      <td>400.0</td>\n",
              "    </tr>\n",
              "    <tr>\n",
              "      <th>1</th>\n",
              "      <td>Beauty</td>\n",
              "      <td>B10</td>\n",
              "      <td>2018</td>\n",
              "      <td>Q2</td>\n",
              "      <td>1100</td>\n",
              "      <td>4</td>\n",
              "      <td>5.0</td>\n",
              "      <td>90</td>\n",
              "      <td>18.0</td>\n",
              "      <td>50</td>\n",
              "      <td>55000</td>\n",
              "      <td>Standard</td>\n",
              "      <td>US</td>\n",
              "      <td>450.0</td>\n",
              "    </tr>\n",
              "    <tr>\n",
              "      <th>2</th>\n",
              "      <td>Beauty</td>\n",
              "      <td>B15</td>\n",
              "      <td>2019</td>\n",
              "      <td>Q3</td>\n",
              "      <td>1050</td>\n",
              "      <td>5</td>\n",
              "      <td>3.0</td>\n",
              "      <td>70</td>\n",
              "      <td>0.2</td>\n",
              "      <td>60</td>\n",
              "      <td>63000</td>\n",
              "      <td>Express</td>\n",
              "      <td>Asia</td>\n",
              "      <td>NaN</td>\n",
              "    </tr>\n",
              "    <tr>\n",
              "      <th>3</th>\n",
              "      <td>Beauty</td>\n",
              "      <td>B20</td>\n",
              "      <td>2020</td>\n",
              "      <td>Q4</td>\n",
              "      <td>1300</td>\n",
              "      <td>-4</td>\n",
              "      <td>4.0</td>\n",
              "      <td>80</td>\n",
              "      <td>15.0</td>\n",
              "      <td>25</td>\n",
              "      <td>32500</td>\n",
              "      <td>Standard</td>\n",
              "      <td>EU</td>\n",
              "      <td>450.0</td>\n",
              "    </tr>\n",
              "    <tr>\n",
              "      <th>4</th>\n",
              "      <td>Beauty</td>\n",
              "      <td>B25</td>\n",
              "      <td>2021</td>\n",
              "      <td>Q1</td>\n",
              "      <td>1050</td>\n",
              "      <td>5</td>\n",
              "      <td>4.0</td>\n",
              "      <td>90</td>\n",
              "      <td>18.0</td>\n",
              "      <td>60</td>\n",
              "      <td>63000</td>\n",
              "      <td>Express</td>\n",
              "      <td>US</td>\n",
              "      <td>500.0</td>\n",
              "    </tr>\n",
              "  </tbody>\n",
              "</table>\n",
              "</div>\n",
              "    <div class=\"colab-df-buttons\">\n",
              "\n",
              "  <div class=\"colab-df-container\">\n",
              "    <button class=\"colab-df-convert\" onclick=\"convertToInteractive('df-57807523-2bb3-417f-8d13-9d9a99a2a413')\"\n",
              "            title=\"Convert this dataframe to an interactive table.\"\n",
              "            style=\"display:none;\">\n",
              "\n",
              "  <svg xmlns=\"http://www.w3.org/2000/svg\" height=\"24px\" viewBox=\"0 -960 960 960\">\n",
              "    <path d=\"M120-120v-720h720v720H120Zm60-500h600v-160H180v160Zm220 220h160v-160H400v160Zm0 220h160v-160H400v160ZM180-400h160v-160H180v160Zm440 0h160v-160H620v160ZM180-180h160v-160H180v160Zm440 0h160v-160H620v160Z\"/>\n",
              "  </svg>\n",
              "    </button>\n",
              "\n",
              "  <style>\n",
              "    .colab-df-container {\n",
              "      display:flex;\n",
              "      gap: 12px;\n",
              "    }\n",
              "\n",
              "    .colab-df-convert {\n",
              "      background-color: #E8F0FE;\n",
              "      border: none;\n",
              "      border-radius: 50%;\n",
              "      cursor: pointer;\n",
              "      display: none;\n",
              "      fill: #1967D2;\n",
              "      height: 32px;\n",
              "      padding: 0 0 0 0;\n",
              "      width: 32px;\n",
              "    }\n",
              "\n",
              "    .colab-df-convert:hover {\n",
              "      background-color: #E2EBFA;\n",
              "      box-shadow: 0px 1px 2px rgba(60, 64, 67, 0.3), 0px 1px 3px 1px rgba(60, 64, 67, 0.15);\n",
              "      fill: #174EA6;\n",
              "    }\n",
              "\n",
              "    .colab-df-buttons div {\n",
              "      margin-bottom: 4px;\n",
              "    }\n",
              "\n",
              "    [theme=dark] .colab-df-convert {\n",
              "      background-color: #3B4455;\n",
              "      fill: #D2E3FC;\n",
              "    }\n",
              "\n",
              "    [theme=dark] .colab-df-convert:hover {\n",
              "      background-color: #434B5C;\n",
              "      box-shadow: 0px 1px 3px 1px rgba(0, 0, 0, 0.15);\n",
              "      filter: drop-shadow(0px 1px 2px rgba(0, 0, 0, 0.3));\n",
              "      fill: #FFFFFF;\n",
              "    }\n",
              "  </style>\n",
              "\n",
              "    <script>\n",
              "      const buttonEl =\n",
              "        document.querySelector('#df-57807523-2bb3-417f-8d13-9d9a99a2a413 button.colab-df-convert');\n",
              "      buttonEl.style.display =\n",
              "        google.colab.kernel.accessAllowed ? 'block' : 'none';\n",
              "\n",
              "      async function convertToInteractive(key) {\n",
              "        const element = document.querySelector('#df-57807523-2bb3-417f-8d13-9d9a99a2a413');\n",
              "        const dataTable =\n",
              "          await google.colab.kernel.invokeFunction('convertToInteractive',\n",
              "                                                    [key], {});\n",
              "        if (!dataTable) return;\n",
              "\n",
              "        const docLinkHtml = 'Like what you see? Visit the ' +\n",
              "          '<a target=\"_blank\" href=https://colab.research.google.com/notebooks/data_table.ipynb>data table notebook</a>'\n",
              "          + ' to learn more about interactive tables.';\n",
              "        element.innerHTML = '';\n",
              "        dataTable['output_type'] = 'display_data';\n",
              "        await google.colab.output.renderOutput(dataTable, element);\n",
              "        const docLink = document.createElement('div');\n",
              "        docLink.innerHTML = docLinkHtml;\n",
              "        element.appendChild(docLink);\n",
              "      }\n",
              "    </script>\n",
              "  </div>\n",
              "\n",
              "\n",
              "<div id=\"df-519e1587-8110-46fc-9642-ef1279ed76a9\">\n",
              "  <button class=\"colab-df-quickchart\" onclick=\"quickchart('df-519e1587-8110-46fc-9642-ef1279ed76a9')\"\n",
              "            title=\"Suggest charts\"\n",
              "            style=\"display:none;\">\n",
              "\n",
              "<svg xmlns=\"http://www.w3.org/2000/svg\" height=\"24px\"viewBox=\"0 0 24 24\"\n",
              "     width=\"24px\">\n",
              "    <g>\n",
              "        <path d=\"M19 3H5c-1.1 0-2 .9-2 2v14c0 1.1.9 2 2 2h14c1.1 0 2-.9 2-2V5c0-1.1-.9-2-2-2zM9 17H7v-7h2v7zm4 0h-2V7h2v10zm4 0h-2v-4h2v4z\"/>\n",
              "    </g>\n",
              "</svg>\n",
              "  </button>\n",
              "\n",
              "<style>\n",
              "  .colab-df-quickchart {\n",
              "      --bg-color: #E8F0FE;\n",
              "      --fill-color: #1967D2;\n",
              "      --hover-bg-color: #E2EBFA;\n",
              "      --hover-fill-color: #174EA6;\n",
              "      --disabled-fill-color: #AAA;\n",
              "      --disabled-bg-color: #DDD;\n",
              "  }\n",
              "\n",
              "  [theme=dark] .colab-df-quickchart {\n",
              "      --bg-color: #3B4455;\n",
              "      --fill-color: #D2E3FC;\n",
              "      --hover-bg-color: #434B5C;\n",
              "      --hover-fill-color: #FFFFFF;\n",
              "      --disabled-bg-color: #3B4455;\n",
              "      --disabled-fill-color: #666;\n",
              "  }\n",
              "\n",
              "  .colab-df-quickchart {\n",
              "    background-color: var(--bg-color);\n",
              "    border: none;\n",
              "    border-radius: 50%;\n",
              "    cursor: pointer;\n",
              "    display: none;\n",
              "    fill: var(--fill-color);\n",
              "    height: 32px;\n",
              "    padding: 0;\n",
              "    width: 32px;\n",
              "  }\n",
              "\n",
              "  .colab-df-quickchart:hover {\n",
              "    background-color: var(--hover-bg-color);\n",
              "    box-shadow: 0 1px 2px rgba(60, 64, 67, 0.3), 0 1px 3px 1px rgba(60, 64, 67, 0.15);\n",
              "    fill: var(--button-hover-fill-color);\n",
              "  }\n",
              "\n",
              "  .colab-df-quickchart-complete:disabled,\n",
              "  .colab-df-quickchart-complete:disabled:hover {\n",
              "    background-color: var(--disabled-bg-color);\n",
              "    fill: var(--disabled-fill-color);\n",
              "    box-shadow: none;\n",
              "  }\n",
              "\n",
              "  .colab-df-spinner {\n",
              "    border: 2px solid var(--fill-color);\n",
              "    border-color: transparent;\n",
              "    border-bottom-color: var(--fill-color);\n",
              "    animation:\n",
              "      spin 1s steps(1) infinite;\n",
              "  }\n",
              "\n",
              "  @keyframes spin {\n",
              "    0% {\n",
              "      border-color: transparent;\n",
              "      border-bottom-color: var(--fill-color);\n",
              "      border-left-color: var(--fill-color);\n",
              "    }\n",
              "    20% {\n",
              "      border-color: transparent;\n",
              "      border-left-color: var(--fill-color);\n",
              "      border-top-color: var(--fill-color);\n",
              "    }\n",
              "    30% {\n",
              "      border-color: transparent;\n",
              "      border-left-color: var(--fill-color);\n",
              "      border-top-color: var(--fill-color);\n",
              "      border-right-color: var(--fill-color);\n",
              "    }\n",
              "    40% {\n",
              "      border-color: transparent;\n",
              "      border-right-color: var(--fill-color);\n",
              "      border-top-color: var(--fill-color);\n",
              "    }\n",
              "    60% {\n",
              "      border-color: transparent;\n",
              "      border-right-color: var(--fill-color);\n",
              "    }\n",
              "    80% {\n",
              "      border-color: transparent;\n",
              "      border-right-color: var(--fill-color);\n",
              "      border-bottom-color: var(--fill-color);\n",
              "    }\n",
              "    90% {\n",
              "      border-color: transparent;\n",
              "      border-bottom-color: var(--fill-color);\n",
              "    }\n",
              "  }\n",
              "</style>\n",
              "\n",
              "  <script>\n",
              "    async function quickchart(key) {\n",
              "      const quickchartButtonEl =\n",
              "        document.querySelector('#' + key + ' button');\n",
              "      quickchartButtonEl.disabled = true;  // To prevent multiple clicks.\n",
              "      quickchartButtonEl.classList.add('colab-df-spinner');\n",
              "      try {\n",
              "        const charts = await google.colab.kernel.invokeFunction(\n",
              "            'suggestCharts', [key], {});\n",
              "      } catch (error) {\n",
              "        console.error('Error during call to suggestCharts:', error);\n",
              "      }\n",
              "      quickchartButtonEl.classList.remove('colab-df-spinner');\n",
              "      quickchartButtonEl.classList.add('colab-df-quickchart-complete');\n",
              "    }\n",
              "    (() => {\n",
              "      let quickchartButtonEl =\n",
              "        document.querySelector('#df-519e1587-8110-46fc-9642-ef1279ed76a9 button');\n",
              "      quickchartButtonEl.style.display =\n",
              "        google.colab.kernel.accessAllowed ? 'block' : 'none';\n",
              "    })();\n",
              "  </script>\n",
              "</div>\n",
              "\n",
              "    </div>\n",
              "  </div>\n"
            ]
          },
          "metadata": {},
          "execution_count": 7
        }
      ],
      "source": [
        "show_head(df)"
      ],
      "metadata": {
        "id": "9aeffe5ca2ca021e",
        "colab": {
          "base_uri": "https://localhost:8080/",
          "height": 206
        },
        "outputId": "e1cc9bd1-5ab1-471a-dd00-6b116ef0886a",
        "ExecuteTime": {
          "end_time": "2024-01-14T12:04:54.528779743Z",
          "start_time": "2024-01-14T12:04:54.474189877Z"
        }
      },
      "id": "9aeffe5ca2ca021e",
      "execution_count": 7
    },
    {
      "cell_type": "markdown",
      "source": [
        "After taking a look, it seems fine. To examine the data types, let's first assign names to the columns."
      ],
      "metadata": {
        "collapsed": false,
        "id": "6d5156c6eb526ce1"
      },
      "id": "6d5156c6eb526ce1"
    },
    {
      "cell_type": "code",
      "outputs": [],
      "source": [
        "df.columns = [\"Category\", \"Product ID\", \"Year\", \"Quarter\", \"Quarterly Sales\", \"Customer Rating\", \"Seller Rating\", \"Price\", \"Discount Rate\", \"Units Sold\", \"Revenue\", \"Shipping Method\", \"Location\", \"Advertising Cost\"]"
      ],
      "metadata": {
        "id": "e9af46281815a996",
        "ExecuteTime": {
          "end_time": "2024-01-14T12:04:54.531580387Z",
          "start_time": "2024-01-14T12:04:54.474442182Z"
        }
      },
      "id": "e9af46281815a996",
      "execution_count": 8
    },
    {
      "cell_type": "markdown",
      "source": [
        "Now, let's verify the updated variable names."
      ],
      "metadata": {
        "collapsed": false,
        "id": "b9da3e4d5ac242ec"
      },
      "id": "b9da3e4d5ac242ec"
    },
    {
      "cell_type": "code",
      "outputs": [
        {
          "output_type": "execute_result",
          "data": {
            "text/plain": [
              "  Category Product ID  Year Quarter Quarterly Sales  Customer Rating  \\\n",
              "0   Beauty         B5  2018      Q1            1000                4   \n",
              "1   Beauty        B10  2018      Q2            1100                4   \n",
              "2   Beauty        B15  2019      Q3            1050                5   \n",
              "3   Beauty        B20  2020      Q4            1300               -4   \n",
              "4   Beauty        B25  2021      Q1            1050                5   \n",
              "\n",
              "   Seller Rating  Price  Discount Rate  Units Sold  Revenue Shipping Method  \\\n",
              "0            3.0     80           12.0          40    40000        Standard   \n",
              "1            5.0     90           18.0          50    55000        Standard   \n",
              "2            3.0     70            0.2          60    63000         Express   \n",
              "3            4.0     80           15.0          25    32500        Standard   \n",
              "4            4.0     90           18.0          60    63000         Express   \n",
              "\n",
              "  Location  Advertising Cost  \n",
              "0       EU             400.0  \n",
              "1       US             450.0  \n",
              "2     Asia               NaN  \n",
              "3       EU             450.0  \n",
              "4       US             500.0  "
            ],
            "text/html": [
              "\n",
              "  <div id=\"df-b7a98a8c-fbe3-4c7d-8c5a-9f7d5956967f\" class=\"colab-df-container\">\n",
              "    <div>\n",
              "<style scoped>\n",
              "    .dataframe tbody tr th:only-of-type {\n",
              "        vertical-align: middle;\n",
              "    }\n",
              "\n",
              "    .dataframe tbody tr th {\n",
              "        vertical-align: top;\n",
              "    }\n",
              "\n",
              "    .dataframe thead th {\n",
              "        text-align: right;\n",
              "    }\n",
              "</style>\n",
              "<table border=\"1\" class=\"dataframe\">\n",
              "  <thead>\n",
              "    <tr style=\"text-align: right;\">\n",
              "      <th></th>\n",
              "      <th>Category</th>\n",
              "      <th>Product ID</th>\n",
              "      <th>Year</th>\n",
              "      <th>Quarter</th>\n",
              "      <th>Quarterly Sales</th>\n",
              "      <th>Customer Rating</th>\n",
              "      <th>Seller Rating</th>\n",
              "      <th>Price</th>\n",
              "      <th>Discount Rate</th>\n",
              "      <th>Units Sold</th>\n",
              "      <th>Revenue</th>\n",
              "      <th>Shipping Method</th>\n",
              "      <th>Location</th>\n",
              "      <th>Advertising Cost</th>\n",
              "    </tr>\n",
              "  </thead>\n",
              "  <tbody>\n",
              "    <tr>\n",
              "      <th>0</th>\n",
              "      <td>Beauty</td>\n",
              "      <td>B5</td>\n",
              "      <td>2018</td>\n",
              "      <td>Q1</td>\n",
              "      <td>1000</td>\n",
              "      <td>4</td>\n",
              "      <td>3.0</td>\n",
              "      <td>80</td>\n",
              "      <td>12.0</td>\n",
              "      <td>40</td>\n",
              "      <td>40000</td>\n",
              "      <td>Standard</td>\n",
              "      <td>EU</td>\n",
              "      <td>400.0</td>\n",
              "    </tr>\n",
              "    <tr>\n",
              "      <th>1</th>\n",
              "      <td>Beauty</td>\n",
              "      <td>B10</td>\n",
              "      <td>2018</td>\n",
              "      <td>Q2</td>\n",
              "      <td>1100</td>\n",
              "      <td>4</td>\n",
              "      <td>5.0</td>\n",
              "      <td>90</td>\n",
              "      <td>18.0</td>\n",
              "      <td>50</td>\n",
              "      <td>55000</td>\n",
              "      <td>Standard</td>\n",
              "      <td>US</td>\n",
              "      <td>450.0</td>\n",
              "    </tr>\n",
              "    <tr>\n",
              "      <th>2</th>\n",
              "      <td>Beauty</td>\n",
              "      <td>B15</td>\n",
              "      <td>2019</td>\n",
              "      <td>Q3</td>\n",
              "      <td>1050</td>\n",
              "      <td>5</td>\n",
              "      <td>3.0</td>\n",
              "      <td>70</td>\n",
              "      <td>0.2</td>\n",
              "      <td>60</td>\n",
              "      <td>63000</td>\n",
              "      <td>Express</td>\n",
              "      <td>Asia</td>\n",
              "      <td>NaN</td>\n",
              "    </tr>\n",
              "    <tr>\n",
              "      <th>3</th>\n",
              "      <td>Beauty</td>\n",
              "      <td>B20</td>\n",
              "      <td>2020</td>\n",
              "      <td>Q4</td>\n",
              "      <td>1300</td>\n",
              "      <td>-4</td>\n",
              "      <td>4.0</td>\n",
              "      <td>80</td>\n",
              "      <td>15.0</td>\n",
              "      <td>25</td>\n",
              "      <td>32500</td>\n",
              "      <td>Standard</td>\n",
              "      <td>EU</td>\n",
              "      <td>450.0</td>\n",
              "    </tr>\n",
              "    <tr>\n",
              "      <th>4</th>\n",
              "      <td>Beauty</td>\n",
              "      <td>B25</td>\n",
              "      <td>2021</td>\n",
              "      <td>Q1</td>\n",
              "      <td>1050</td>\n",
              "      <td>5</td>\n",
              "      <td>4.0</td>\n",
              "      <td>90</td>\n",
              "      <td>18.0</td>\n",
              "      <td>60</td>\n",
              "      <td>63000</td>\n",
              "      <td>Express</td>\n",
              "      <td>US</td>\n",
              "      <td>500.0</td>\n",
              "    </tr>\n",
              "  </tbody>\n",
              "</table>\n",
              "</div>\n",
              "    <div class=\"colab-df-buttons\">\n",
              "\n",
              "  <div class=\"colab-df-container\">\n",
              "    <button class=\"colab-df-convert\" onclick=\"convertToInteractive('df-b7a98a8c-fbe3-4c7d-8c5a-9f7d5956967f')\"\n",
              "            title=\"Convert this dataframe to an interactive table.\"\n",
              "            style=\"display:none;\">\n",
              "\n",
              "  <svg xmlns=\"http://www.w3.org/2000/svg\" height=\"24px\" viewBox=\"0 -960 960 960\">\n",
              "    <path d=\"M120-120v-720h720v720H120Zm60-500h600v-160H180v160Zm220 220h160v-160H400v160Zm0 220h160v-160H400v160ZM180-400h160v-160H180v160Zm440 0h160v-160H620v160ZM180-180h160v-160H180v160Zm440 0h160v-160H620v160Z\"/>\n",
              "  </svg>\n",
              "    </button>\n",
              "\n",
              "  <style>\n",
              "    .colab-df-container {\n",
              "      display:flex;\n",
              "      gap: 12px;\n",
              "    }\n",
              "\n",
              "    .colab-df-convert {\n",
              "      background-color: #E8F0FE;\n",
              "      border: none;\n",
              "      border-radius: 50%;\n",
              "      cursor: pointer;\n",
              "      display: none;\n",
              "      fill: #1967D2;\n",
              "      height: 32px;\n",
              "      padding: 0 0 0 0;\n",
              "      width: 32px;\n",
              "    }\n",
              "\n",
              "    .colab-df-convert:hover {\n",
              "      background-color: #E2EBFA;\n",
              "      box-shadow: 0px 1px 2px rgba(60, 64, 67, 0.3), 0px 1px 3px 1px rgba(60, 64, 67, 0.15);\n",
              "      fill: #174EA6;\n",
              "    }\n",
              "\n",
              "    .colab-df-buttons div {\n",
              "      margin-bottom: 4px;\n",
              "    }\n",
              "\n",
              "    [theme=dark] .colab-df-convert {\n",
              "      background-color: #3B4455;\n",
              "      fill: #D2E3FC;\n",
              "    }\n",
              "\n",
              "    [theme=dark] .colab-df-convert:hover {\n",
              "      background-color: #434B5C;\n",
              "      box-shadow: 0px 1px 3px 1px rgba(0, 0, 0, 0.15);\n",
              "      filter: drop-shadow(0px 1px 2px rgba(0, 0, 0, 0.3));\n",
              "      fill: #FFFFFF;\n",
              "    }\n",
              "  </style>\n",
              "\n",
              "    <script>\n",
              "      const buttonEl =\n",
              "        document.querySelector('#df-b7a98a8c-fbe3-4c7d-8c5a-9f7d5956967f button.colab-df-convert');\n",
              "      buttonEl.style.display =\n",
              "        google.colab.kernel.accessAllowed ? 'block' : 'none';\n",
              "\n",
              "      async function convertToInteractive(key) {\n",
              "        const element = document.querySelector('#df-b7a98a8c-fbe3-4c7d-8c5a-9f7d5956967f');\n",
              "        const dataTable =\n",
              "          await google.colab.kernel.invokeFunction('convertToInteractive',\n",
              "                                                    [key], {});\n",
              "        if (!dataTable) return;\n",
              "\n",
              "        const docLinkHtml = 'Like what you see? Visit the ' +\n",
              "          '<a target=\"_blank\" href=https://colab.research.google.com/notebooks/data_table.ipynb>data table notebook</a>'\n",
              "          + ' to learn more about interactive tables.';\n",
              "        element.innerHTML = '';\n",
              "        dataTable['output_type'] = 'display_data';\n",
              "        await google.colab.output.renderOutput(dataTable, element);\n",
              "        const docLink = document.createElement('div');\n",
              "        docLink.innerHTML = docLinkHtml;\n",
              "        element.appendChild(docLink);\n",
              "      }\n",
              "    </script>\n",
              "  </div>\n",
              "\n",
              "\n",
              "<div id=\"df-2f5081fd-33e2-4bbc-88ef-8d644485b310\">\n",
              "  <button class=\"colab-df-quickchart\" onclick=\"quickchart('df-2f5081fd-33e2-4bbc-88ef-8d644485b310')\"\n",
              "            title=\"Suggest charts\"\n",
              "            style=\"display:none;\">\n",
              "\n",
              "<svg xmlns=\"http://www.w3.org/2000/svg\" height=\"24px\"viewBox=\"0 0 24 24\"\n",
              "     width=\"24px\">\n",
              "    <g>\n",
              "        <path d=\"M19 3H5c-1.1 0-2 .9-2 2v14c0 1.1.9 2 2 2h14c1.1 0 2-.9 2-2V5c0-1.1-.9-2-2-2zM9 17H7v-7h2v7zm4 0h-2V7h2v10zm4 0h-2v-4h2v4z\"/>\n",
              "    </g>\n",
              "</svg>\n",
              "  </button>\n",
              "\n",
              "<style>\n",
              "  .colab-df-quickchart {\n",
              "      --bg-color: #E8F0FE;\n",
              "      --fill-color: #1967D2;\n",
              "      --hover-bg-color: #E2EBFA;\n",
              "      --hover-fill-color: #174EA6;\n",
              "      --disabled-fill-color: #AAA;\n",
              "      --disabled-bg-color: #DDD;\n",
              "  }\n",
              "\n",
              "  [theme=dark] .colab-df-quickchart {\n",
              "      --bg-color: #3B4455;\n",
              "      --fill-color: #D2E3FC;\n",
              "      --hover-bg-color: #434B5C;\n",
              "      --hover-fill-color: #FFFFFF;\n",
              "      --disabled-bg-color: #3B4455;\n",
              "      --disabled-fill-color: #666;\n",
              "  }\n",
              "\n",
              "  .colab-df-quickchart {\n",
              "    background-color: var(--bg-color);\n",
              "    border: none;\n",
              "    border-radius: 50%;\n",
              "    cursor: pointer;\n",
              "    display: none;\n",
              "    fill: var(--fill-color);\n",
              "    height: 32px;\n",
              "    padding: 0;\n",
              "    width: 32px;\n",
              "  }\n",
              "\n",
              "  .colab-df-quickchart:hover {\n",
              "    background-color: var(--hover-bg-color);\n",
              "    box-shadow: 0 1px 2px rgba(60, 64, 67, 0.3), 0 1px 3px 1px rgba(60, 64, 67, 0.15);\n",
              "    fill: var(--button-hover-fill-color);\n",
              "  }\n",
              "\n",
              "  .colab-df-quickchart-complete:disabled,\n",
              "  .colab-df-quickchart-complete:disabled:hover {\n",
              "    background-color: var(--disabled-bg-color);\n",
              "    fill: var(--disabled-fill-color);\n",
              "    box-shadow: none;\n",
              "  }\n",
              "\n",
              "  .colab-df-spinner {\n",
              "    border: 2px solid var(--fill-color);\n",
              "    border-color: transparent;\n",
              "    border-bottom-color: var(--fill-color);\n",
              "    animation:\n",
              "      spin 1s steps(1) infinite;\n",
              "  }\n",
              "\n",
              "  @keyframes spin {\n",
              "    0% {\n",
              "      border-color: transparent;\n",
              "      border-bottom-color: var(--fill-color);\n",
              "      border-left-color: var(--fill-color);\n",
              "    }\n",
              "    20% {\n",
              "      border-color: transparent;\n",
              "      border-left-color: var(--fill-color);\n",
              "      border-top-color: var(--fill-color);\n",
              "    }\n",
              "    30% {\n",
              "      border-color: transparent;\n",
              "      border-left-color: var(--fill-color);\n",
              "      border-top-color: var(--fill-color);\n",
              "      border-right-color: var(--fill-color);\n",
              "    }\n",
              "    40% {\n",
              "      border-color: transparent;\n",
              "      border-right-color: var(--fill-color);\n",
              "      border-top-color: var(--fill-color);\n",
              "    }\n",
              "    60% {\n",
              "      border-color: transparent;\n",
              "      border-right-color: var(--fill-color);\n",
              "    }\n",
              "    80% {\n",
              "      border-color: transparent;\n",
              "      border-right-color: var(--fill-color);\n",
              "      border-bottom-color: var(--fill-color);\n",
              "    }\n",
              "    90% {\n",
              "      border-color: transparent;\n",
              "      border-bottom-color: var(--fill-color);\n",
              "    }\n",
              "  }\n",
              "</style>\n",
              "\n",
              "  <script>\n",
              "    async function quickchart(key) {\n",
              "      const quickchartButtonEl =\n",
              "        document.querySelector('#' + key + ' button');\n",
              "      quickchartButtonEl.disabled = true;  // To prevent multiple clicks.\n",
              "      quickchartButtonEl.classList.add('colab-df-spinner');\n",
              "      try {\n",
              "        const charts = await google.colab.kernel.invokeFunction(\n",
              "            'suggestCharts', [key], {});\n",
              "      } catch (error) {\n",
              "        console.error('Error during call to suggestCharts:', error);\n",
              "      }\n",
              "      quickchartButtonEl.classList.remove('colab-df-spinner');\n",
              "      quickchartButtonEl.classList.add('colab-df-quickchart-complete');\n",
              "    }\n",
              "    (() => {\n",
              "      let quickchartButtonEl =\n",
              "        document.querySelector('#df-2f5081fd-33e2-4bbc-88ef-8d644485b310 button');\n",
              "      quickchartButtonEl.style.display =\n",
              "        google.colab.kernel.accessAllowed ? 'block' : 'none';\n",
              "    })();\n",
              "  </script>\n",
              "</div>\n",
              "\n",
              "    </div>\n",
              "  </div>\n"
            ]
          },
          "metadata": {},
          "execution_count": 9
        }
      ],
      "source": [
        "show_head(df)"
      ],
      "metadata": {
        "id": "49b5269687d96c46",
        "colab": {
          "base_uri": "https://localhost:8080/",
          "height": 206
        },
        "outputId": "f944186b-957c-4191-c54a-bf25f4d204d1",
        "ExecuteTime": {
          "end_time": "2024-01-14T12:04:54.674489606Z",
          "start_time": "2024-01-14T12:04:54.477060722Z"
        }
      },
      "id": "49b5269687d96c46",
      "execution_count": 9
    },
    {
      "cell_type": "markdown",
      "source": [
        "1. Examine the variables and their datatypes."
      ],
      "metadata": {
        "collapsed": false,
        "id": "313a29884c5b9a46"
      },
      "id": "313a29884c5b9a46"
    },
    {
      "cell_type": "code",
      "outputs": [
        {
          "output_type": "execute_result",
          "data": {
            "text/plain": [
              "Category             object\n",
              "Product ID           object\n",
              "Year                  int64\n",
              "Quarter              object\n",
              "Quarterly Sales      object\n",
              "Customer Rating       int64\n",
              "Seller Rating       float64\n",
              "Price                 int64\n",
              "Discount Rate       float64\n",
              "Units Sold            int64\n",
              "Revenue               int64\n",
              "Shipping Method      object\n",
              "Location             object\n",
              "Advertising Cost    float64\n",
              "dtype: object"
            ]
          },
          "metadata": {},
          "execution_count": 10
        }
      ],
      "source": [
        "show_data_type(df)"
      ],
      "metadata": {
        "id": "3565e22180085ef5",
        "colab": {
          "base_uri": "https://localhost:8080/"
        },
        "outputId": "7b1d454c-221a-443b-94fd-af28b0a26338",
        "ExecuteTime": {
          "end_time": "2024-01-14T12:04:54.711988653Z",
          "start_time": "2024-01-14T12:04:54.496925013Z"
        }
      },
      "id": "3565e22180085ef5",
      "execution_count": 10
    },
    {
      "cell_type": "markdown",
      "source": [
        "There appears to be a problem with 'Discount Rate' and 'Seller Rating'; they should be integers instead of floats. We plan to make this adjustment later for simplicity."
      ],
      "metadata": {
        "collapsed": false,
        "id": "b44b66162e38f7c3"
      },
      "id": "b44b66162e38f7c3"
    },
    {
      "cell_type": "markdown",
      "source": [
        "2. Remove any separation error in variables.\n",
        "\n",
        "Given that we've defined the header, there is no necessity to verify its existence. Let's instead check for the presence of any NA's."
      ],
      "metadata": {
        "collapsed": false,
        "id": "25da40cb1f56354"
      },
      "id": "25da40cb1f56354"
    },
    {
      "cell_type": "code",
      "outputs": [
        {
          "output_type": "execute_result",
          "data": {
            "text/plain": [
              "Category            0\n",
              "Product ID          0\n",
              "Year                0\n",
              "Quarter             0\n",
              "Quarterly Sales     2\n",
              "Customer Rating     0\n",
              "Seller Rating       1\n",
              "Price               0\n",
              "Discount Rate       0\n",
              "Units Sold          0\n",
              "Revenue             0\n",
              "Shipping Method     0\n",
              "Location            0\n",
              "Advertising Cost    2\n",
              "dtype: int64"
            ]
          },
          "metadata": {},
          "execution_count": 11
        }
      ],
      "source": [
        "df.isna().sum()"
      ],
      "metadata": {
        "id": "2ba2ee5eefde3d5f",
        "colab": {
          "base_uri": "https://localhost:8080/"
        },
        "outputId": "92d78825-d4c7-44c8-9625-86eb467965cc",
        "ExecuteTime": {
          "end_time": "2024-01-14T12:04:54.716791394Z",
          "start_time": "2024-01-14T12:04:54.537178323Z"
        }
      },
      "id": "2ba2ee5eefde3d5f",
      "execution_count": 11
    },
    {
      "cell_type": "markdown",
      "source": [
        "There are NA values in 'Seller Rating', 'Advertising Cost', and 'Quarterly Sales'.\n",
        "\n",
        "To ensure there are no NA or string-type NA values, let's start by removing any white spaces in the code."
      ],
      "metadata": {
        "collapsed": false,
        "id": "bfc0fd8999a956ff"
      },
      "id": "bfc0fd8999a956ff"
    },
    {
      "cell_type": "code",
      "outputs": [],
      "source": [
        "df = df.applymap(lambda x: x.strip() if isinstance(x, str) else x)"
      ],
      "metadata": {
        "id": "94db1e43d1b06711",
        "ExecuteTime": {
          "end_time": "2024-01-14T12:04:54.847583533Z",
          "start_time": "2024-01-14T12:04:54.657102405Z"
        }
      },
      "id": "94db1e43d1b06711",
      "execution_count": 12
    },
    {
      "cell_type": "markdown",
      "source": [
        "Additionally, we will replace string 'NA' occurrences with actual NA values."
      ],
      "metadata": {
        "collapsed": false,
        "id": "df87f3a2af12877a"
      },
      "id": "df87f3a2af12877a"
    },
    {
      "cell_type": "code",
      "outputs": [],
      "source": [
        "df.replace('NA', pd.NA, inplace=True)"
      ],
      "metadata": {
        "id": "9f5ed4b8a51fd7f0",
        "ExecuteTime": {
          "end_time": "2024-01-14T12:04:55.136875331Z",
          "start_time": "2024-01-14T12:04:54.850582068Z"
        }
      },
      "id": "9f5ed4b8a51fd7f0",
      "execution_count": 13
    },
    {
      "cell_type": "markdown",
      "source": [
        "Now, let's verify whether there are any new occurrences of NA values."
      ],
      "metadata": {
        "collapsed": false,
        "id": "59d293c6c04195b9"
      },
      "id": "59d293c6c04195b9"
    },
    {
      "cell_type": "code",
      "outputs": [
        {
          "output_type": "execute_result",
          "data": {
            "text/plain": [
              "Category            0\n",
              "Product ID          0\n",
              "Year                0\n",
              "Quarter             0\n",
              "Quarterly Sales     3\n",
              "Customer Rating     0\n",
              "Seller Rating       1\n",
              "Price               0\n",
              "Discount Rate       0\n",
              "Units Sold          0\n",
              "Revenue             0\n",
              "Shipping Method     0\n",
              "Location            0\n",
              "Advertising Cost    2\n",
              "dtype: int64"
            ]
          },
          "metadata": {},
          "execution_count": 14
        }
      ],
      "source": [
        "df.isna().sum()"
      ],
      "metadata": {
        "id": "319662135b756aa8",
        "colab": {
          "base_uri": "https://localhost:8080/"
        },
        "outputId": "f3a2cf47-67b0-42aa-d808-0ae1cbae44d1",
        "ExecuteTime": {
          "end_time": "2024-01-14T12:04:55.275691055Z",
          "start_time": "2024-01-14T12:04:55.116374633Z"
        }
      },
      "id": "319662135b756aa8",
      "execution_count": 14
    },
    {
      "cell_type": "markdown",
      "source": [
        "There was one occurrence of the string 'NA' in the \"Quarterly Sales\" column."
      ],
      "metadata": {
        "collapsed": false,
        "id": "659b3f9e4fe634b8"
      },
      "id": "659b3f9e4fe634b8"
    },
    {
      "cell_type": "markdown",
      "source": [
        "Only the \"Quarterly Sales\" column has a problem; we'll address it later."
      ],
      "metadata": {
        "collapsed": false,
        "id": "4b79680fc963274f"
      },
      "id": "4b79680fc963274f"
    },
    {
      "cell_type": "markdown",
      "source": [
        "Remove specified characters from string columns."
      ],
      "metadata": {
        "collapsed": false,
        "id": "dbe4c5e742806fb9"
      },
      "id": "dbe4c5e742806fb9"
    },
    {
      "cell_type": "code",
      "outputs": [],
      "source": [
        "df.replace(to_replace=[r'\\{', r'\\}', r';', r':', r',', r'\\t', r'\\n'], value='', regex=True, inplace=True)"
      ],
      "metadata": {
        "id": "f59629be1b75e106",
        "ExecuteTime": {
          "end_time": "2024-01-14T12:04:55.379470598Z",
          "start_time": "2024-01-14T12:04:55.285217668Z"
        }
      },
      "id": "f59629be1b75e106",
      "execution_count": 15
    },
    {
      "cell_type": "markdown",
      "source": [
        "\n",
        "3. Given that we've manually defined the column names, there's no need to verify whether column headers are treated as values or variable names."
      ],
      "metadata": {
        "collapsed": false,
        "id": "b6d5d362f3bf7fa3"
      },
      "id": "b6d5d362f3bf7fa3"
    },
    {
      "cell_type": "markdown",
      "source": [
        "- To check for multiple data types in a column, let's see if there is a mix of data types present."
      ],
      "metadata": {
        "collapsed": false,
        "id": "d0b3c65be82d801"
      },
      "id": "d0b3c65be82d801"
    },
    {
      "cell_type": "code",
      "outputs": [
        {
          "output_type": "execute_result",
          "data": {
            "text/plain": [
              "Category                                              {<class 'str'>}\n",
              "Product ID                                            {<class 'str'>}\n",
              "Year                                                  {<class 'int'>}\n",
              "Quarter                                               {<class 'str'>}\n",
              "Quarterly Sales     {<class 'int'>, <class 'float'>, <class 'panda...\n",
              "Customer Rating                                       {<class 'int'>}\n",
              "Seller Rating                                       {<class 'float'>}\n",
              "Price                                                 {<class 'int'>}\n",
              "Discount Rate                                       {<class 'float'>}\n",
              "Units Sold                                            {<class 'int'>}\n",
              "Revenue                                               {<class 'int'>}\n",
              "Shipping Method                                       {<class 'str'>}\n",
              "Location                                              {<class 'str'>}\n",
              "Advertising Cost                                    {<class 'float'>}\n",
              "dtype: object"
            ]
          },
          "metadata": {},
          "execution_count": 16
        }
      ],
      "source": [
        "df.applymap(type).apply(set)"
      ],
      "metadata": {
        "id": "37620d97b9875f08",
        "colab": {
          "base_uri": "https://localhost:8080/"
        },
        "outputId": "9d953e12-0e7e-40bc-cd47-a6f3332fb231",
        "ExecuteTime": {
          "end_time": "2024-01-14T12:04:55.509738893Z",
          "start_time": "2024-01-14T12:04:55.346330686Z"
        }
      },
      "id": "37620d97b9875f08",
      "execution_count": 16
    },
    {
      "cell_type": "markdown",
      "source": [
        "In the \"Quarterly Sales\" column, we observe three types of values. We'll address this later; for now, let's decide how to handle the NA values."
      ],
      "metadata": {
        "collapsed": false,
        "id": "fac5679d9830febc"
      },
      "id": "fac5679d9830febc"
    },
    {
      "cell_type": "markdown",
      "source": [
        "Check if certain values suggest the existence of multiple variables in any columns."
      ],
      "metadata": {
        "collapsed": false,
        "id": "f9d25fd43928081c"
      },
      "id": "f9d25fd43928081c"
    },
    {
      "cell_type": "markdown",
      "source": [
        "Creating a function to check for the presence of specific characters and subsequently removing them."
      ],
      "metadata": {
        "collapsed": false,
        "id": "b6a4e41a738f1d2f"
      },
      "id": "b6a4e41a738f1d2f"
    },
    {
      "cell_type": "code",
      "outputs": [],
      "source": [
        "def check_and_remove_specific_values(df, specific_values):\n",
        "    return df.applymap(lambda x: ''.join(c for c in str(x) if c not in specific_values))"
      ],
      "metadata": {
        "id": "e252753d2b01be8c",
        "ExecuteTime": {
          "end_time": "2024-01-14T12:04:55.528191952Z",
          "start_time": "2024-01-14T12:04:55.488011596Z"
        }
      },
      "id": "e252753d2b01be8c",
      "execution_count": 17
    },
    {
      "cell_type": "markdown",
      "source": [
        "Now, let's take a look at the columns."
      ],
      "metadata": {
        "collapsed": false,
        "id": "15093cf78fa8a773"
      },
      "id": "15093cf78fa8a773"
    },
    {
      "cell_type": "code",
      "outputs": [],
      "source": [
        "# Define a list of specific values to check for and remove\n",
        "specific_values = [':', ';', ',', '.', '/', '?', '|', '*', '%']\n",
        "\n",
        "# Check for the presence of specific values in all columns\n",
        "check_and_remove_specific_values(df, specific_values)\n",
        "\n",
        "df.loc[df[\"Discount Rate\"] < 1, \"Discount Rate\"] *= 100"
      ],
      "metadata": {
        "id": "93eed3edd726997b",
        "ExecuteTime": {
          "end_time": "2024-01-14T12:04:55.673617553Z",
          "start_time": "2024-01-14T12:04:55.529841784Z"
        }
      },
      "id": "93eed3edd726997b",
      "execution_count": 18
    },
    {
      "cell_type": "markdown",
      "source": [
        "So now, the data does not contain the specified characters."
      ],
      "metadata": {
        "collapsed": false,
        "id": "c3d58be94143993f"
      },
      "id": "c3d58be94143993f"
    },
    {
      "cell_type": "markdown",
      "source": [
        "Let's verify whether each string in each column consists of one or more word characters. Specifically, we'll check for the pattern of a letter followed by one or more digits in the \"Product ID\" column."
      ],
      "metadata": {
        "collapsed": false,
        "id": "6329e62f99fe7f1c"
      },
      "id": "6329e62f99fe7f1c"
    },
    {
      "cell_type": "code",
      "outputs": [
        {
          "output_type": "execute_result",
          "data": {
            "text/plain": [
              "0      True\n",
              "1      True\n",
              "2      True\n",
              "3      True\n",
              "4      True\n",
              "       ... \n",
              "117    True\n",
              "118    True\n",
              "119    True\n",
              "120    True\n",
              "121    True\n",
              "Name: Product ID, Length: 122, dtype: bool"
            ]
          },
          "metadata": {},
          "execution_count": 19
        }
      ],
      "source": [
        "pattern_to_check_product_id = '^[A-Z]\\d+$'\n",
        "# Check if the pattern is present in Product ID column\n",
        "\n",
        "df['Product ID'] = df['Product ID'].astype(str)  # Ensure the column is of string type\n",
        "df['Product ID'].str.match(pattern_to_check_product_id)"
      ],
      "metadata": {
        "id": "655d18d3527d2cdd",
        "colab": {
          "base_uri": "https://localhost:8080/"
        },
        "outputId": "ba6678e1-4e5e-4523-e584-907f44a12089",
        "ExecuteTime": {
          "end_time": "2024-01-14T12:04:55.714312019Z",
          "start_time": "2024-01-14T12:04:55.633475057Z"
        }
      },
      "id": "655d18d3527d2cdd",
      "execution_count": 19
    },
    {
      "cell_type": "markdown",
      "source": [
        "It appears that everything is fine."
      ],
      "metadata": {
        "collapsed": false,
        "id": "3088adffb6c88d1a"
      },
      "id": "3088adffb6c88d1a"
    },
    {
      "cell_type": "markdown",
      "source": [
        "Verify if the \"quarter\" column follows the pattern of 'Q' followed by a digit from 1 to 4."
      ],
      "metadata": {
        "collapsed": false,
        "id": "5f89303f1ae573e9"
      },
      "id": "5f89303f1ae573e9"
    },
    {
      "cell_type": "code",
      "outputs": [
        {
          "output_type": "execute_result",
          "data": {
            "text/plain": [
              "0      True\n",
              "1      True\n",
              "2      True\n",
              "3      True\n",
              "4      True\n",
              "       ... \n",
              "117    True\n",
              "118    True\n",
              "119    True\n",
              "120    True\n",
              "121    True\n",
              "Name: Quarter, Length: 122, dtype: bool"
            ]
          },
          "metadata": {},
          "execution_count": 20
        }
      ],
      "source": [
        "pattern_to_check_quarter = '^Q[1-4]$'\n",
        "\n",
        "# Check if the pattern is present in Quarter column\n",
        "df['Quarter'] = df['Quarter'].astype(str)  # Ensure the column is of string type\n",
        "df['Quarter'].str.match(pattern_to_check_quarter)"
      ],
      "metadata": {
        "id": "b0342a14fce57e3e",
        "colab": {
          "base_uri": "https://localhost:8080/"
        },
        "outputId": "b573fd89-ec4a-46fa-d1a3-880c01772b83",
        "ExecuteTime": {
          "end_time": "2024-01-14T12:04:55.898586459Z",
          "start_time": "2024-01-14T12:04:55.703307409Z"
        }
      },
      "id": "b0342a14fce57e3e",
      "execution_count": 20
    },
    {
      "cell_type": "markdown",
      "source": [
        "It appears that everything is fine."
      ],
      "metadata": {
        "collapsed": false,
        "id": "c622f0061bd2f7c4"
      },
      "id": "c622f0061bd2f7c4"
    },
    {
      "cell_type": "markdown",
      "source": [
        "Now, let's ensure that the other categorical columns only consist of letters."
      ],
      "metadata": {
        "collapsed": false,
        "id": "bffd4c5917c84680"
      },
      "id": "bffd4c5917c84680"
    },
    {
      "cell_type": "code",
      "outputs": [
        {
          "output_type": "stream",
          "name": "stdout",
          "text": [
            "Category contains only digits:\n",
            "0      True\n",
            "1      True\n",
            "2      True\n",
            "3      True\n",
            "4      True\n",
            "       ... \n",
            "117    True\n",
            "118    True\n",
            "119    True\n",
            "120    True\n",
            "121    True\n",
            "Name: Category, Length: 122, dtype: bool\n",
            "Location contains only digits:\n",
            "0      True\n",
            "1      True\n",
            "2      True\n",
            "3      True\n",
            "4      True\n",
            "       ... \n",
            "117    True\n",
            "118    True\n",
            "119    True\n",
            "120    True\n",
            "121    True\n",
            "Name: Location, Length: 122, dtype: bool\n",
            "Shipping Method contains only digits:\n",
            "0      True\n",
            "1      True\n",
            "2      True\n",
            "3      True\n",
            "4      True\n",
            "       ... \n",
            "117    True\n",
            "118    True\n",
            "119    True\n",
            "120    True\n",
            "121    True\n",
            "Name: Shipping Method, Length: 122, dtype: bool\n"
          ]
        }
      ],
      "source": [
        "# Identify categorical columns (excluding 'Product ID' and 'Quarter')\n",
        "categorical_columns = df.select_dtypes(include='object').columns.difference(['Product ID', 'Quarter', 'Quarterly Sales'])\n",
        "\n",
        "# Check if categorical columns contain only digits\n",
        "for column in categorical_columns:\n",
        "    df[column] = df[column].astype(str)  # Ensure the column is of string type\n",
        "    contains_only_digits = df[column].str.match(r'\\w+')\n",
        "    print(f\"{column} contains only digits:\")\n",
        "    print(contains_only_digits)"
      ],
      "metadata": {
        "id": "27f57fff67c89459",
        "colab": {
          "base_uri": "https://localhost:8080/"
        },
        "outputId": "3ec063d8-7f7f-42dd-b278-f26556e0e368",
        "ExecuteTime": {
          "end_time": "2024-01-14T12:04:55.969891010Z",
          "start_time": "2024-01-14T12:04:55.824034423Z"
        }
      },
      "id": "27f57fff67c89459",
      "execution_count": 21
    },
    {
      "cell_type": "markdown",
      "source": [
        "\"Category,\" \"Location,\" and \"Shipping method\" columns are confirmed to only contain letters, so they are fine."
      ],
      "metadata": {
        "collapsed": false,
        "id": "a81d107c0e0c128f"
      },
      "id": "a81d107c0e0c128f"
    },
    {
      "cell_type": "markdown",
      "source": [
        "The remaining columns will be checked later, as they contain NA values that need to be assessed."
      ],
      "metadata": {
        "collapsed": false,
        "id": "231410e1c363749"
      },
      "id": "231410e1c363749"
    },
    {
      "cell_type": "markdown",
      "source": [
        "Check if variables are stored in both rows and columns."
      ],
      "metadata": {
        "collapsed": false,
        "id": "46d45974f189f3ca"
      },
      "id": "46d45974f189f3ca"
    },
    {
      "cell_type": "code",
      "outputs": [
        {
          "output_type": "execute_result",
          "data": {
            "text/plain": [
              "set()"
            ]
          },
          "metadata": {},
          "execution_count": 22
        }
      ],
      "source": [
        "set(df.columns) & set(df.values.flatten())"
      ],
      "metadata": {
        "id": "75af7c8712b54201",
        "colab": {
          "base_uri": "https://localhost:8080/"
        },
        "outputId": "0474b194-1f9a-4212-ffe4-f7c825e1d604",
        "ExecuteTime": {
          "end_time": "2024-01-14T12:04:56.013822055Z",
          "start_time": "2024-01-14T12:04:55.919638009Z"
        }
      },
      "id": "75af7c8712b54201",
      "execution_count": 22
    },
    {
      "cell_type": "markdown",
      "source": [
        "The result is an empty set, indicating that no variables are stored in both rows and columns."
      ],
      "metadata": {
        "collapsed": false,
        "id": "b4a9aa417b6e0e1a"
      },
      "id": "b4a9aa417b6e0e1a"
    },
    {
      "cell_type": "markdown",
      "source": [
        "Given that we have a single table, there's no need to check whether a single observational unit exists in different tables. We can simply proceed by dropping duplicates."
      ],
      "metadata": {
        "collapsed": false,
        "id": "95969dd0c7058f9c"
      },
      "id": "95969dd0c7058f9c"
    },
    {
      "cell_type": "code",
      "outputs": [],
      "source": [
        "df.drop_duplicates(inplace=True)"
      ],
      "metadata": {
        "id": "f99b30bd4de687d7",
        "ExecuteTime": {
          "end_time": "2024-01-14T12:04:56.151018305Z",
          "start_time": "2024-01-14T12:04:56.015204214Z"
        }
      },
      "id": "f99b30bd4de687d7",
      "execution_count": 23
    },
    {
      "cell_type": "markdown",
      "source": [
        "To avoid confusion, I modified the Product IDs for books and beauty products. They are now labeled as \"BK\" for books and \"BE\" for beauty products"
      ],
      "metadata": {
        "collapsed": false,
        "id": "53f2cdd4d2fb933a"
      },
      "id": "53f2cdd4d2fb933a"
    },
    {
      "cell_type": "markdown",
      "source": [
        "We used .lower() and in commands to prevent any error from happening"
      ],
      "metadata": {
        "collapsed": false,
        "id": "9b50c0d0c3266ff1"
      },
      "id": "9b50c0d0c3266ff1"
    },
    {
      "cell_type": "code",
      "outputs": [],
      "source": [
        "for index, row in df.iterrows():\n",
        "    if row[\"Category\"].lower() in \"books\":\n",
        "        df.loc[index, \"Product ID\"] = 'BK' + row[\"Product ID\"][1:]\n",
        "    elif row[\"Category\"].lower() in \"beauty\":\n",
        "        df.loc[index, \"Product ID\"] = 'BE' + row[\"Product ID\"][1:]"
      ],
      "metadata": {
        "ExecuteTime": {
          "end_time": "2024-01-14T12:04:56.260794067Z",
          "start_time": "2024-01-14T12:04:56.155197961Z"
        },
        "id": "f8d771ca4487150a"
      },
      "id": "f8d771ca4487150a",
      "execution_count": 24
    },
    {
      "cell_type": "markdown",
      "source": [
        "4. The column names have already been fixed."
      ],
      "metadata": {
        "collapsed": false,
        "id": "21ab94c6621b235a"
      },
      "id": "21ab94c6621b235a"
    },
    {
      "cell_type": "markdown",
      "source": [
        "5. We don't have to remove any of the columns  "
      ],
      "metadata": {
        "collapsed": false,
        "id": "2d2800920623b70a"
      },
      "id": "2d2800920623b70a"
    },
    {
      "cell_type": "markdown",
      "source": [
        "6. We have already eliminated duplicate entries from the dataset."
      ],
      "metadata": {
        "collapsed": false,
        "id": "6971d06a188d7b99"
      },
      "id": "6971d06a188d7b99"
    },
    {
      "cell_type": "markdown",
      "source": [
        "7. We have already checked if there are any unnecessary strings in the values."
      ],
      "metadata": {
        "collapsed": false,
        "id": "d0330f69989ccd88"
      },
      "id": "d0330f69989ccd88"
    },
    {
      "cell_type": "markdown",
      "source": [
        "8. We have already checked for white spaces."
      ],
      "metadata": {
        "collapsed": false,
        "id": "4b37407a55e4795b"
      },
      "id": "4b37407a55e4795b"
    },
    {
      "cell_type": "markdown",
      "source": [
        "9. Now, we need to format the titles."
      ],
      "metadata": {
        "collapsed": false,
        "id": "ad78606959778988"
      },
      "id": "ad78606959778988"
    },
    {
      "cell_type": "code",
      "outputs": [],
      "source": [
        "df[\"Category\"] = df[\"Category\"].str.title()"
      ],
      "metadata": {
        "id": "50ea4b060fc90cb0",
        "ExecuteTime": {
          "end_time": "2024-01-14T12:04:56.292514006Z",
          "start_time": "2024-01-14T12:04:56.208573444Z"
        }
      },
      "id": "50ea4b060fc90cb0",
      "execution_count": 25
    },
    {
      "cell_type": "markdown",
      "source": [
        "10. We don't have to check if levels of categories are unique, as we don't need it to be unique for this data set."
      ],
      "metadata": {
        "collapsed": false,
        "id": "7a7f8204de0b20a6"
      },
      "id": "7a7f8204de0b20a6"
    },
    {
      "cell_type": "markdown",
      "source": [
        "11. We need to create a column that specifies the year and quarter, but before that, we must fix the \"Year\" column."
      ],
      "metadata": {
        "collapsed": false,
        "id": "b42e59f2cfb23b38"
      },
      "id": "b42e59f2cfb23b38"
    },
    {
      "cell_type": "markdown",
      "source": [
        "Some of the values in the Year column has an unnecessary extra digit at the end; let's fix it."
      ],
      "metadata": {
        "collapsed": false,
        "id": "a7790b506521055c"
      },
      "id": "a7790b506521055c"
    },
    {
      "cell_type": "code",
      "outputs": [],
      "source": [
        "df['Year'] = df['Year'].astype(str)\n",
        "df['Year'] = df['Year'].str[:4]\n",
        "df['Year'] = df['Year'].astype(int)"
      ],
      "metadata": {
        "id": "8c647a3ad8ea844e",
        "ExecuteTime": {
          "end_time": "2024-01-14T12:04:56.413447067Z",
          "start_time": "2024-01-14T12:04:56.282566054Z"
        }
      },
      "id": "8c647a3ad8ea844e",
      "execution_count": 26
    },
    {
      "cell_type": "markdown",
      "source": [
        "Now, we can proceed to create a new column for the date."
      ],
      "metadata": {
        "collapsed": false,
        "id": "5da9eaafe30a7d1"
      },
      "id": "5da9eaafe30a7d1"
    },
    {
      "cell_type": "code",
      "outputs": [
        {
          "output_type": "execute_result",
          "data": {
            "text/plain": [
              "0      2018-01\n",
              "1      2018-02\n",
              "2      2019-03\n",
              "3      2020-04\n",
              "4      2021-01\n",
              "        ...   \n",
              "117    2018-04\n",
              "118    2019-03\n",
              "119    2020-04\n",
              "120    2021-01\n",
              "121    2018-02\n",
              "Name: Date, Length: 119, dtype: object"
            ]
          },
          "metadata": {},
          "execution_count": 27
        }
      ],
      "source": [
        "#First, let's create a column with modified quarter values to use them as integers.\n",
        "quarter_map = {'Q1': '01', 'Q2': '02', 'Q3': '03', 'Q4': '4'}\n",
        "modified_quarter = df['Quarter'].map(quarter_map)\n",
        "#Then, let's go on with creating a date column.\n",
        "df['Date'] = df['Year'].astype(str) + '.' + modified_quarter.astype(str)\n",
        "df['Date'] = pd.to_datetime(df['Date'], format='%Y.%m')\n",
        "df['Date'] = df['Date'].dt.strftime('%Y-%m')\n",
        "df['Date']"
      ],
      "metadata": {
        "id": "b519a4582749a5d3",
        "colab": {
          "base_uri": "https://localhost:8080/"
        },
        "outputId": "dad0a010-54e1-4eb7-a3e3-60f914cb0909",
        "ExecuteTime": {
          "end_time": "2024-01-14T12:04:56.416722630Z",
          "start_time": "2024-01-14T12:04:56.357107908Z"
        }
      },
      "id": "b519a4582749a5d3",
      "execution_count": 27
    },
    {
      "cell_type": "markdown",
      "source": [
        "We have generated a new column that combines the information from the \"Year\" and \"Quarter\" columns, with the data type designated as date."
      ],
      "metadata": {
        "collapsed": false,
        "id": "2fd2d3af95190950"
      },
      "id": "2fd2d3af95190950"
    },
    {
      "cell_type": "markdown",
      "source": [
        "so, as we checked we NA's in Quarterly Sales and in Seller Rating"
      ],
      "metadata": {
        "collapsed": false,
        "id": "75a4f91d04f071af"
      },
      "id": "75a4f91d04f071af"
    },
    {
      "cell_type": "markdown",
      "source": [
        "We can use the mean of the Quarterly Sales to override the NA's."
      ],
      "metadata": {
        "collapsed": false,
        "id": "326c8b090d2390cc"
      },
      "id": "326c8b090d2390cc"
    },
    {
      "cell_type": "code",
      "outputs": [],
      "source": [
        "df['Quarterly Sales'].fillna(df['Quarterly Sales'].mean(), inplace=True)\n",
        "df['Quarterly Sales'] = df['Quarterly Sales'].astype(int)"
      ],
      "metadata": {
        "id": "5a529477aca96082",
        "ExecuteTime": {
          "end_time": "2024-01-14T12:04:56.501592781Z",
          "start_time": "2024-01-14T12:04:56.419892577Z"
        }
      },
      "id": "5a529477aca96082",
      "execution_count": 28
    },
    {
      "cell_type": "markdown",
      "source": [
        "Let's check if there are any NA values in the \"Quarterly Sales\" column."
      ],
      "metadata": {
        "collapsed": false,
        "id": "fcf778308a5e2b7"
      },
      "id": "fcf778308a5e2b7"
    },
    {
      "cell_type": "code",
      "outputs": [
        {
          "output_type": "execute_result",
          "data": {
            "text/plain": [
              "0"
            ]
          },
          "metadata": {},
          "execution_count": 29
        }
      ],
      "source": [
        "df[\"Quarterly Sales\"].isna().sum()"
      ],
      "metadata": {
        "id": "3b981fbe843b8036",
        "colab": {
          "base_uri": "https://localhost:8080/"
        },
        "outputId": "070120b1-8f97-4c80-af95-36a4214a6fd6",
        "ExecuteTime": {
          "end_time": "2024-01-14T12:04:56.563417545Z",
          "start_time": "2024-01-14T12:04:56.487149511Z"
        }
      },
      "id": "3b981fbe843b8036",
      "execution_count": 29
    },
    {
      "cell_type": "markdown",
      "source": [
        "So, there are no NA values in the \"Quarterly Sales\" column."
      ],
      "metadata": {
        "collapsed": false,
        "id": "563bc5264176e9d8"
      },
      "id": "563bc5264176e9d8"
    },
    {
      "cell_type": "markdown",
      "source": [
        "Let's sort the data of the \"Quarterly Sales\" column."
      ],
      "metadata": {
        "collapsed": false,
        "id": "ac833424ae065967"
      },
      "id": "ac833424ae065967"
    },
    {
      "cell_type": "code",
      "outputs": [
        {
          "output_type": "execute_result",
          "data": {
            "text/plain": [
              "           Category  Quarterly Sales\n",
              "0            Beauty             1000\n",
              "23           Beauty             1100\n",
              "22           Beauty             1050\n",
              "21           Beauty              980\n",
              "20           Beauty              880\n",
              "..              ...              ...\n",
              "120  Home & Kitchen             1600\n",
              "108  Home & Kitchen             1100\n",
              "121  Home & Kitchen             1300\n",
              "99   Home - Kitchen             1400\n",
              "98   Home - Kitchen             1300\n",
              "\n",
              "[119 rows x 2 columns]"
            ],
            "text/html": [
              "\n",
              "  <div id=\"df-20b87d00-54a2-47ac-a13c-b3615133c5f4\" class=\"colab-df-container\">\n",
              "    <div>\n",
              "<style scoped>\n",
              "    .dataframe tbody tr th:only-of-type {\n",
              "        vertical-align: middle;\n",
              "    }\n",
              "\n",
              "    .dataframe tbody tr th {\n",
              "        vertical-align: top;\n",
              "    }\n",
              "\n",
              "    .dataframe thead th {\n",
              "        text-align: right;\n",
              "    }\n",
              "</style>\n",
              "<table border=\"1\" class=\"dataframe\">\n",
              "  <thead>\n",
              "    <tr style=\"text-align: right;\">\n",
              "      <th></th>\n",
              "      <th>Category</th>\n",
              "      <th>Quarterly Sales</th>\n",
              "    </tr>\n",
              "  </thead>\n",
              "  <tbody>\n",
              "    <tr>\n",
              "      <th>0</th>\n",
              "      <td>Beauty</td>\n",
              "      <td>1000</td>\n",
              "    </tr>\n",
              "    <tr>\n",
              "      <th>23</th>\n",
              "      <td>Beauty</td>\n",
              "      <td>1100</td>\n",
              "    </tr>\n",
              "    <tr>\n",
              "      <th>22</th>\n",
              "      <td>Beauty</td>\n",
              "      <td>1050</td>\n",
              "    </tr>\n",
              "    <tr>\n",
              "      <th>21</th>\n",
              "      <td>Beauty</td>\n",
              "      <td>980</td>\n",
              "    </tr>\n",
              "    <tr>\n",
              "      <th>20</th>\n",
              "      <td>Beauty</td>\n",
              "      <td>880</td>\n",
              "    </tr>\n",
              "    <tr>\n",
              "      <th>...</th>\n",
              "      <td>...</td>\n",
              "      <td>...</td>\n",
              "    </tr>\n",
              "    <tr>\n",
              "      <th>120</th>\n",
              "      <td>Home &amp; Kitchen</td>\n",
              "      <td>1600</td>\n",
              "    </tr>\n",
              "    <tr>\n",
              "      <th>108</th>\n",
              "      <td>Home &amp; Kitchen</td>\n",
              "      <td>1100</td>\n",
              "    </tr>\n",
              "    <tr>\n",
              "      <th>121</th>\n",
              "      <td>Home &amp; Kitchen</td>\n",
              "      <td>1300</td>\n",
              "    </tr>\n",
              "    <tr>\n",
              "      <th>99</th>\n",
              "      <td>Home - Kitchen</td>\n",
              "      <td>1400</td>\n",
              "    </tr>\n",
              "    <tr>\n",
              "      <th>98</th>\n",
              "      <td>Home - Kitchen</td>\n",
              "      <td>1300</td>\n",
              "    </tr>\n",
              "  </tbody>\n",
              "</table>\n",
              "<p>119 rows × 2 columns</p>\n",
              "</div>\n",
              "    <div class=\"colab-df-buttons\">\n",
              "\n",
              "  <div class=\"colab-df-container\">\n",
              "    <button class=\"colab-df-convert\" onclick=\"convertToInteractive('df-20b87d00-54a2-47ac-a13c-b3615133c5f4')\"\n",
              "            title=\"Convert this dataframe to an interactive table.\"\n",
              "            style=\"display:none;\">\n",
              "\n",
              "  <svg xmlns=\"http://www.w3.org/2000/svg\" height=\"24px\" viewBox=\"0 -960 960 960\">\n",
              "    <path d=\"M120-120v-720h720v720H120Zm60-500h600v-160H180v160Zm220 220h160v-160H400v160Zm0 220h160v-160H400v160ZM180-400h160v-160H180v160Zm440 0h160v-160H620v160ZM180-180h160v-160H180v160Zm440 0h160v-160H620v160Z\"/>\n",
              "  </svg>\n",
              "    </button>\n",
              "\n",
              "  <style>\n",
              "    .colab-df-container {\n",
              "      display:flex;\n",
              "      gap: 12px;\n",
              "    }\n",
              "\n",
              "    .colab-df-convert {\n",
              "      background-color: #E8F0FE;\n",
              "      border: none;\n",
              "      border-radius: 50%;\n",
              "      cursor: pointer;\n",
              "      display: none;\n",
              "      fill: #1967D2;\n",
              "      height: 32px;\n",
              "      padding: 0 0 0 0;\n",
              "      width: 32px;\n",
              "    }\n",
              "\n",
              "    .colab-df-convert:hover {\n",
              "      background-color: #E2EBFA;\n",
              "      box-shadow: 0px 1px 2px rgba(60, 64, 67, 0.3), 0px 1px 3px 1px rgba(60, 64, 67, 0.15);\n",
              "      fill: #174EA6;\n",
              "    }\n",
              "\n",
              "    .colab-df-buttons div {\n",
              "      margin-bottom: 4px;\n",
              "    }\n",
              "\n",
              "    [theme=dark] .colab-df-convert {\n",
              "      background-color: #3B4455;\n",
              "      fill: #D2E3FC;\n",
              "    }\n",
              "\n",
              "    [theme=dark] .colab-df-convert:hover {\n",
              "      background-color: #434B5C;\n",
              "      box-shadow: 0px 1px 3px 1px rgba(0, 0, 0, 0.15);\n",
              "      filter: drop-shadow(0px 1px 2px rgba(0, 0, 0, 0.3));\n",
              "      fill: #FFFFFF;\n",
              "    }\n",
              "  </style>\n",
              "\n",
              "    <script>\n",
              "      const buttonEl =\n",
              "        document.querySelector('#df-20b87d00-54a2-47ac-a13c-b3615133c5f4 button.colab-df-convert');\n",
              "      buttonEl.style.display =\n",
              "        google.colab.kernel.accessAllowed ? 'block' : 'none';\n",
              "\n",
              "      async function convertToInteractive(key) {\n",
              "        const element = document.querySelector('#df-20b87d00-54a2-47ac-a13c-b3615133c5f4');\n",
              "        const dataTable =\n",
              "          await google.colab.kernel.invokeFunction('convertToInteractive',\n",
              "                                                    [key], {});\n",
              "        if (!dataTable) return;\n",
              "\n",
              "        const docLinkHtml = 'Like what you see? Visit the ' +\n",
              "          '<a target=\"_blank\" href=https://colab.research.google.com/notebooks/data_table.ipynb>data table notebook</a>'\n",
              "          + ' to learn more about interactive tables.';\n",
              "        element.innerHTML = '';\n",
              "        dataTable['output_type'] = 'display_data';\n",
              "        await google.colab.output.renderOutput(dataTable, element);\n",
              "        const docLink = document.createElement('div');\n",
              "        docLink.innerHTML = docLinkHtml;\n",
              "        element.appendChild(docLink);\n",
              "      }\n",
              "    </script>\n",
              "  </div>\n",
              "\n",
              "\n",
              "<div id=\"df-6cbb4746-dab8-4ac1-b3f2-e16382216852\">\n",
              "  <button class=\"colab-df-quickchart\" onclick=\"quickchart('df-6cbb4746-dab8-4ac1-b3f2-e16382216852')\"\n",
              "            title=\"Suggest charts\"\n",
              "            style=\"display:none;\">\n",
              "\n",
              "<svg xmlns=\"http://www.w3.org/2000/svg\" height=\"24px\"viewBox=\"0 0 24 24\"\n",
              "     width=\"24px\">\n",
              "    <g>\n",
              "        <path d=\"M19 3H5c-1.1 0-2 .9-2 2v14c0 1.1.9 2 2 2h14c1.1 0 2-.9 2-2V5c0-1.1-.9-2-2-2zM9 17H7v-7h2v7zm4 0h-2V7h2v10zm4 0h-2v-4h2v4z\"/>\n",
              "    </g>\n",
              "</svg>\n",
              "  </button>\n",
              "\n",
              "<style>\n",
              "  .colab-df-quickchart {\n",
              "      --bg-color: #E8F0FE;\n",
              "      --fill-color: #1967D2;\n",
              "      --hover-bg-color: #E2EBFA;\n",
              "      --hover-fill-color: #174EA6;\n",
              "      --disabled-fill-color: #AAA;\n",
              "      --disabled-bg-color: #DDD;\n",
              "  }\n",
              "\n",
              "  [theme=dark] .colab-df-quickchart {\n",
              "      --bg-color: #3B4455;\n",
              "      --fill-color: #D2E3FC;\n",
              "      --hover-bg-color: #434B5C;\n",
              "      --hover-fill-color: #FFFFFF;\n",
              "      --disabled-bg-color: #3B4455;\n",
              "      --disabled-fill-color: #666;\n",
              "  }\n",
              "\n",
              "  .colab-df-quickchart {\n",
              "    background-color: var(--bg-color);\n",
              "    border: none;\n",
              "    border-radius: 50%;\n",
              "    cursor: pointer;\n",
              "    display: none;\n",
              "    fill: var(--fill-color);\n",
              "    height: 32px;\n",
              "    padding: 0;\n",
              "    width: 32px;\n",
              "  }\n",
              "\n",
              "  .colab-df-quickchart:hover {\n",
              "    background-color: var(--hover-bg-color);\n",
              "    box-shadow: 0 1px 2px rgba(60, 64, 67, 0.3), 0 1px 3px 1px rgba(60, 64, 67, 0.15);\n",
              "    fill: var(--button-hover-fill-color);\n",
              "  }\n",
              "\n",
              "  .colab-df-quickchart-complete:disabled,\n",
              "  .colab-df-quickchart-complete:disabled:hover {\n",
              "    background-color: var(--disabled-bg-color);\n",
              "    fill: var(--disabled-fill-color);\n",
              "    box-shadow: none;\n",
              "  }\n",
              "\n",
              "  .colab-df-spinner {\n",
              "    border: 2px solid var(--fill-color);\n",
              "    border-color: transparent;\n",
              "    border-bottom-color: var(--fill-color);\n",
              "    animation:\n",
              "      spin 1s steps(1) infinite;\n",
              "  }\n",
              "\n",
              "  @keyframes spin {\n",
              "    0% {\n",
              "      border-color: transparent;\n",
              "      border-bottom-color: var(--fill-color);\n",
              "      border-left-color: var(--fill-color);\n",
              "    }\n",
              "    20% {\n",
              "      border-color: transparent;\n",
              "      border-left-color: var(--fill-color);\n",
              "      border-top-color: var(--fill-color);\n",
              "    }\n",
              "    30% {\n",
              "      border-color: transparent;\n",
              "      border-left-color: var(--fill-color);\n",
              "      border-top-color: var(--fill-color);\n",
              "      border-right-color: var(--fill-color);\n",
              "    }\n",
              "    40% {\n",
              "      border-color: transparent;\n",
              "      border-right-color: var(--fill-color);\n",
              "      border-top-color: var(--fill-color);\n",
              "    }\n",
              "    60% {\n",
              "      border-color: transparent;\n",
              "      border-right-color: var(--fill-color);\n",
              "    }\n",
              "    80% {\n",
              "      border-color: transparent;\n",
              "      border-right-color: var(--fill-color);\n",
              "      border-bottom-color: var(--fill-color);\n",
              "    }\n",
              "    90% {\n",
              "      border-color: transparent;\n",
              "      border-bottom-color: var(--fill-color);\n",
              "    }\n",
              "  }\n",
              "</style>\n",
              "\n",
              "  <script>\n",
              "    async function quickchart(key) {\n",
              "      const quickchartButtonEl =\n",
              "        document.querySelector('#' + key + ' button');\n",
              "      quickchartButtonEl.disabled = true;  // To prevent multiple clicks.\n",
              "      quickchartButtonEl.classList.add('colab-df-spinner');\n",
              "      try {\n",
              "        const charts = await google.colab.kernel.invokeFunction(\n",
              "            'suggestCharts', [key], {});\n",
              "      } catch (error) {\n",
              "        console.error('Error during call to suggestCharts:', error);\n",
              "      }\n",
              "      quickchartButtonEl.classList.remove('colab-df-spinner');\n",
              "      quickchartButtonEl.classList.add('colab-df-quickchart-complete');\n",
              "    }\n",
              "    (() => {\n",
              "      let quickchartButtonEl =\n",
              "        document.querySelector('#df-6cbb4746-dab8-4ac1-b3f2-e16382216852 button');\n",
              "      quickchartButtonEl.style.display =\n",
              "        google.colab.kernel.accessAllowed ? 'block' : 'none';\n",
              "    })();\n",
              "  </script>\n",
              "</div>\n",
              "\n",
              "    </div>\n",
              "  </div>\n"
            ]
          },
          "metadata": {},
          "execution_count": 30
        }
      ],
      "source": [
        "sorted_df = df.sort_values(by='Category')\n",
        "sorted_df[[\"Category\", \"Quarterly Sales\"]]"
      ],
      "metadata": {
        "id": "f5b04c6f270a2f4",
        "colab": {
          "base_uri": "https://localhost:8080/",
          "height": 423
        },
        "outputId": "7e6b5104-95a3-44e8-c28f-0da9c074c05e",
        "ExecuteTime": {
          "end_time": "2024-01-14T12:04:56.655128079Z",
          "start_time": "2024-01-14T12:04:56.559532874Z"
        }
      },
      "id": "f5b04c6f270a2f4",
      "execution_count": 30
    },
    {
      "cell_type": "markdown",
      "source": [
        "Since it makes more sense according to the natures of the data, we can change the NA's in Seller Rating with median and change the NA's in the Advertising Cost with the mean."
      ],
      "metadata": {
        "collapsed": false,
        "id": "2c91965285ea6442"
      },
      "id": "2c91965285ea6442"
    },
    {
      "cell_type": "code",
      "outputs": [],
      "source": [
        "df['Seller Rating'].fillna(df['Seller Rating'].median(), inplace=True)"
      ],
      "metadata": {
        "id": "a2f6f7747c6a715b",
        "ExecuteTime": {
          "end_time": "2024-01-14T12:04:56.676257499Z",
          "start_time": "2024-01-14T12:04:56.612206206Z"
        }
      },
      "id": "a2f6f7747c6a715b",
      "execution_count": 31
    },
    {
      "cell_type": "code",
      "outputs": [],
      "source": [
        "df['Advertising Cost'].fillna(df['Advertising Cost'].median(), inplace=True)"
      ],
      "metadata": {
        "id": "3a730e5c14f17a20",
        "ExecuteTime": {
          "end_time": "2024-01-14T12:04:56.800666946Z",
          "start_time": "2024-01-14T12:04:56.646794194Z"
        }
      },
      "id": "3a730e5c14f17a20",
      "execution_count": 32
    },
    {
      "cell_type": "markdown",
      "source": [
        "\n",
        "Let's verify if there are any negative values in the numeric columns. There shouldn't be any in our dataset."
      ],
      "metadata": {
        "collapsed": false,
        "id": "2fc48e158fe0e709"
      },
      "id": "2fc48e158fe0e709"
    },
    {
      "cell_type": "code",
      "outputs": [
        {
          "output_type": "stream",
          "name": "stdout",
          "text": [
            "Negative values exist in the following columns: Customer Rating\n"
          ]
        }
      ],
      "source": [
        "negative_values_columns = df.select_dtypes(include='number').columns[df.select_dtypes(include='number').lt(0).any()]\n",
        "\n",
        "# Display the result\n",
        "if not negative_values_columns.empty:\n",
        "    print(f\"Negative values exist in the following columns: {', '.join(negative_values_columns)}\")\n",
        "else:\n",
        "    print(\"No negative values found in any numeric column.\")"
      ],
      "metadata": {
        "id": "b6847204092bfee9",
        "colab": {
          "base_uri": "https://localhost:8080/"
        },
        "outputId": "ed29867e-f1ca-410a-a57c-a8e3d2310c4c",
        "ExecuteTime": {
          "end_time": "2024-01-14T12:04:56.817761932Z",
          "start_time": "2024-01-14T12:04:56.755238300Z"
        }
      },
      "id": "b6847204092bfee9",
      "execution_count": 33
    },
    {
      "cell_type": "markdown",
      "source": [
        "The range should not be negative since all the data in our dataset falls within the range of 1 to 5."
      ],
      "metadata": {
        "collapsed": false,
        "id": "fe3d30cba540cf1f"
      },
      "id": "fe3d30cba540cf1f"
    },
    {
      "cell_type": "code",
      "outputs": [],
      "source": [
        "df[\"Customer Rating\"] = df[\"Customer Rating\"].abs().astype(int)"
      ],
      "metadata": {
        "id": "99c617265ef925c3",
        "ExecuteTime": {
          "end_time": "2024-01-14T12:04:57.040497905Z",
          "start_time": "2024-01-14T12:04:56.820672519Z"
        }
      },
      "id": "99c617265ef925c3",
      "execution_count": 34
    },
    {
      "cell_type": "markdown",
      "source": [
        "Let's check it again."
      ],
      "metadata": {
        "collapsed": false,
        "id": "d726db1e14b9e60e"
      },
      "id": "d726db1e14b9e60e"
    },
    {
      "cell_type": "code",
      "outputs": [
        {
          "output_type": "execute_result",
          "data": {
            "text/plain": [
              "False"
            ]
          },
          "metadata": {},
          "execution_count": 35
        }
      ],
      "source": [
        "(df['Customer Rating'] < 0).any()"
      ],
      "metadata": {
        "id": "7c7fe0c83915ba28",
        "colab": {
          "base_uri": "https://localhost:8080/"
        },
        "outputId": "2ac64a97-6aad-4f7d-831b-9b886ad4105d",
        "ExecuteTime": {
          "end_time": "2024-01-14T12:04:57.057502210Z",
          "start_time": "2024-01-14T12:04:56.989255865Z"
        }
      },
      "id": "7c7fe0c83915ba28",
      "execution_count": 35
    },
    {
      "cell_type": "markdown",
      "source": [
        "It shows that everything is fine now."
      ],
      "metadata": {
        "collapsed": false,
        "id": "5b22ee4c104d2367"
      },
      "id": "5b22ee4c104d2367"
    },
    {
      "cell_type": "markdown",
      "source": [
        "Let's standardize the writing format for the data in the category columns."
      ],
      "metadata": {
        "collapsed": false,
        "id": "3c27f693b4a90cd6"
      },
      "id": "3c27f693b4a90cd6"
    },
    {
      "cell_type": "code",
      "outputs": [],
      "source": [
        "df['Category'] = df['Category'].replace({'BEAUTY': 'Beauty',\n",
        "                                         'ELECTRONICS': 'Electronics',\n",
        "                                         'Home - Kitchen': 'Home & Kitchen',\n",
        "                                         'Book': 'Books'})\n",
        "df['Location'] = df['Location'].replace({'United States': 'US', 'ASIA': 'Asia', 'European Union': 'EU'})"
      ],
      "metadata": {
        "id": "12b0c5511ac80cec",
        "ExecuteTime": {
          "end_time": "2024-01-14T12:04:57.178522639Z",
          "start_time": "2024-01-14T12:04:57.056467915Z"
        }
      },
      "id": "12b0c5511ac80cec",
      "execution_count": 36
    },
    {
      "cell_type": "markdown",
      "source": [
        "Let's check the outliers based on the values of each column categorized by their respective categories, as it would be more logical since the values vary a lot in different categories."
      ],
      "metadata": {
        "collapsed": false,
        "id": "f419b68ee82d4494"
      },
      "id": "f419b68ee82d4494"
    },
    {
      "cell_type": "markdown",
      "source": [
        "Let's create a function that will identify outliers using a box plot. Given that each category isn't extensive, we will focus on detecting extreme outliers."
      ],
      "metadata": {
        "collapsed": false,
        "id": "3b20ca7895ace216"
      },
      "id": "3b20ca7895ace216"
    },
    {
      "cell_type": "code",
      "outputs": [],
      "source": [
        "def identify_outliers_by_category(df, category_column, numerical_column):\n",
        "    categories = df[category_column].unique()\n",
        "    outliers_dict = {}\n",
        "\n",
        "    for category in categories:\n",
        "        subset = df[df[category_column] == category]\n",
        "        column = subset[numerical_column]\n",
        "\n",
        "        Q1 = column.quantile(0.25)\n",
        "        Q3 = column.quantile(0.75)\n",
        "        IQR = Q3 - Q1\n",
        "        lower_bound = Q1 - 3 * IQR\n",
        "        upper_bound = Q3 + 3 * IQR\n",
        "        outliers = column[(column < lower_bound) | (column > upper_bound)]\n",
        "\n",
        "        # Check if the number of outliers doesn't exceed 10% of the category's data\n",
        "        if not outliers.empty:\n",
        "            category_count = len(subset)\n",
        "            outlier_count = len(outliers)\n",
        "            if outlier_count / category_count <= 0.1:\n",
        "                outliers_dict[category] = outliers\n",
        "\n",
        "    return outliers_dict"
      ],
      "metadata": {
        "id": "d2153a83331bc004",
        "ExecuteTime": {
          "end_time": "2024-01-14T12:04:57.181888658Z",
          "start_time": "2024-01-14T12:04:57.118187159Z"
        }
      },
      "id": "d2153a83331bc004",
      "execution_count": 37
    },
    {
      "cell_type": "markdown",
      "source": [
        "And here is the part of the code that will process for every column."
      ],
      "metadata": {
        "collapsed": false,
        "id": "757d30b6760a9070"
      },
      "id": "757d30b6760a9070"
    },
    {
      "cell_type": "code",
      "outputs": [
        {
          "output_type": "stream",
          "name": "stdout",
          "text": [
            "\n",
            "Outliers in Year by Category:\n",
            "No outliers in Category\n",
            "\n",
            "Outliers in Quarterly Sales by Category:\n",
            "No outliers in Category\n",
            "\n",
            "Outliers in Price by Category:\n",
            "No outliers in Category\n",
            "\n",
            "Outliers in Units Sold by Category:\n",
            "No outliers in Category\n",
            "\n",
            "Outliers in Revenue by Category:\n",
            "Outliers in Books: [84000 84000]\n",
            "Outliers in Electronics: [78000 56250]\n",
            "\n",
            "Outliers in Advertising Cost by Category:\n",
            "No outliers in Category\n"
          ]
        }
      ],
      "source": [
        "# create a dict that will store outliers based on column\n",
        "outliers_by_category = {}\n",
        "for numerical_column in df.select_dtypes(include='number').columns:\n",
        "    if numerical_column not in [\"Customer Rating\", \"Seller Rating\", \"Discount Rate\"]:\n",
        "        outliers_by_category[numerical_column] = {}\n",
        "        for category_column in ['Category']:\n",
        "            outliers_by_category[numerical_column][category_column] = identify_outliers_by_category(df, category_column, numerical_column)\n",
        "\n",
        "\n",
        "# Displaying outliers for each category\n",
        "for numerical_column, category_dict in outliers_by_category.items():\n",
        "    print(f\"\\nOutliers in {numerical_column} by Category:\")\n",
        "    for category_column, outliers in category_dict.items():\n",
        "        if outliers:\n",
        "            for cat, out_vals in outliers.items():\n",
        "                print(f\"Outliers in {cat}: {out_vals.values}\")\n",
        "        else:\n",
        "            print(f\"No outliers in {category_column}\")\n",
        "\n",
        "# Replacing outliers by mean of the specific columns within each category\n",
        "for numerical_column, category_dict in outliers_by_category.items():\n",
        "    for category_column, outliers in category_dict.items():\n",
        "        for cat, out_vals in outliers.items():\n",
        "            category_mean = df.loc[df[category_column] == cat, numerical_column].mean().astype(int)\n",
        "            df.loc[(df[category_column] == cat) & df[numerical_column].isin(out_vals), numerical_column] = category_mean\n"
      ],
      "metadata": {
        "id": "14482158ea39ce52",
        "colab": {
          "base_uri": "https://localhost:8080/"
        },
        "outputId": "872475df-81ac-4773-88b0-f7c0b9899c96",
        "ExecuteTime": {
          "end_time": "2024-01-14T12:04:57.340503681Z",
          "start_time": "2024-01-14T12:04:57.188599881Z"
        }
      },
      "id": "14482158ea39ce52",
      "execution_count": 38
    },
    {
      "cell_type": "markdown",
      "source": [
        "And now, it is done."
      ],
      "metadata": {
        "collapsed": false,
        "id": "6b0153b435e5c3d0"
      },
      "id": "6b0153b435e5c3d0"
    },
    {
      "cell_type": "markdown",
      "source": [
        "Let's check the datatypes of the columns."
      ],
      "metadata": {
        "collapsed": false,
        "id": "434a1802be0cfbf7"
      },
      "id": "434a1802be0cfbf7"
    },
    {
      "cell_type": "code",
      "outputs": [
        {
          "output_type": "execute_result",
          "data": {
            "text/plain": [
              "Category             object\n",
              "Product ID           object\n",
              "Year                  int64\n",
              "Quarter              object\n",
              "Quarterly Sales       int64\n",
              "Customer Rating       int64\n",
              "Seller Rating       float64\n",
              "Price                 int64\n",
              "Discount Rate       float64\n",
              "Units Sold            int64\n",
              "Revenue               int64\n",
              "Shipping Method      object\n",
              "Location             object\n",
              "Advertising Cost    float64\n",
              "Date                 object\n",
              "dtype: object"
            ]
          },
          "metadata": {},
          "execution_count": 39
        }
      ],
      "source": [
        "show_data_type(df)"
      ],
      "metadata": {
        "id": "21504d1f968b3dff",
        "colab": {
          "base_uri": "https://localhost:8080/"
        },
        "outputId": "d8493d7d-21fc-445b-9171-fc03a4047cb6",
        "ExecuteTime": {
          "end_time": "2024-01-14T12:04:57.360109129Z",
          "start_time": "2024-01-14T12:04:57.301203655Z"
        }
      },
      "id": "21504d1f968b3dff",
      "execution_count": 39
    },
    {
      "cell_type": "markdown",
      "source": [
        "Now, let's ensure that all numeric columns are of the same data type, specifically float64."
      ],
      "metadata": {
        "collapsed": false,
        "id": "10ddf886cbd7b2c7"
      },
      "id": "10ddf886cbd7b2c7"
    },
    {
      "cell_type": "code",
      "outputs": [],
      "source": [
        "# Get a list of columns to convert to float (excluding datetime and object columns)\n",
        "columns_to_convert = df.select_dtypes(include=['int']).columns\n",
        "columns_to_exclude = df.select_dtypes(exclude=['datetime', 'object']).columns\n",
        "\n",
        "# Convert integer columns to float\n",
        "df[columns_to_convert] = df[columns_to_convert].astype(float)"
      ],
      "metadata": {
        "id": "bab3f8b5d0190dd1",
        "ExecuteTime": {
          "end_time": "2024-01-14T12:04:57.466010412Z",
          "start_time": "2024-01-14T12:04:57.349518477Z"
        }
      },
      "id": "bab3f8b5d0190dd1",
      "execution_count": 40
    },
    {
      "cell_type": "markdown",
      "source": [
        "Let's review the fixed version."
      ],
      "metadata": {
        "collapsed": false,
        "id": "fe7972c364ef66d8"
      },
      "id": "fe7972c364ef66d8"
    },
    {
      "cell_type": "code",
      "outputs": [
        {
          "output_type": "execute_result",
          "data": {
            "text/plain": [
              "Category             object\n",
              "Product ID           object\n",
              "Year                float64\n",
              "Quarter              object\n",
              "Quarterly Sales     float64\n",
              "Customer Rating     float64\n",
              "Seller Rating       float64\n",
              "Price               float64\n",
              "Discount Rate       float64\n",
              "Units Sold          float64\n",
              "Revenue             float64\n",
              "Shipping Method      object\n",
              "Location             object\n",
              "Advertising Cost    float64\n",
              "Date                 object\n",
              "dtype: object"
            ]
          },
          "metadata": {},
          "execution_count": 41
        }
      ],
      "source": [
        "show_data_type(df)"
      ],
      "metadata": {
        "id": "db8466c7f6f928eb",
        "colab": {
          "base_uri": "https://localhost:8080/"
        },
        "outputId": "ea432b42-2977-47d8-94d2-a7d3d483a33b",
        "ExecuteTime": {
          "end_time": "2024-01-14T12:04:57.486742360Z",
          "start_time": "2024-01-14T12:04:57.443520853Z"
        }
      },
      "id": "db8466c7f6f928eb",
      "execution_count": 41
    },
    {
      "cell_type": "markdown",
      "source": [
        "The \"Year\" column should be of integer type, not float."
      ],
      "metadata": {
        "collapsed": false,
        "id": "961f9ecd4c7c97cd"
      },
      "id": "961f9ecd4c7c97cd"
    },
    {
      "cell_type": "code",
      "outputs": [],
      "source": [
        "df['Year'] = df['Year'].astype(int)"
      ],
      "metadata": {
        "id": "fe5feec99f272eb8",
        "ExecuteTime": {
          "end_time": "2024-01-14T12:04:57.588987879Z",
          "start_time": "2024-01-14T12:04:57.487273234Z"
        }
      },
      "id": "fe5feec99f272eb8",
      "execution_count": 42
    },
    {
      "cell_type": "code",
      "outputs": [
        {
          "output_type": "execute_result",
          "data": {
            "text/plain": [
              "Category             object\n",
              "Product ID           object\n",
              "Year                  int64\n",
              "Quarter              object\n",
              "Quarterly Sales     float64\n",
              "Customer Rating     float64\n",
              "Seller Rating       float64\n",
              "Price               float64\n",
              "Discount Rate       float64\n",
              "Units Sold          float64\n",
              "Revenue             float64\n",
              "Shipping Method      object\n",
              "Location             object\n",
              "Advertising Cost    float64\n",
              "Date                 object\n",
              "dtype: object"
            ]
          },
          "metadata": {},
          "execution_count": 43
        }
      ],
      "source": [
        "show_data_type(df)"
      ],
      "metadata": {
        "id": "76c2adabffcf8138",
        "colab": {
          "base_uri": "https://localhost:8080/"
        },
        "outputId": "4c77722a-efaf-49bb-e4ae-194a3567bf88",
        "ExecuteTime": {
          "end_time": "2024-01-14T12:04:57.620119086Z",
          "start_time": "2024-01-14T12:04:57.567454103Z"
        }
      },
      "id": "76c2adabffcf8138",
      "execution_count": 43
    },
    {
      "cell_type": "markdown",
      "source": [
        "Save the updated data into both CSV and Excel files."
      ],
      "metadata": {
        "collapsed": false,
        "id": "a1f7be5f9ff0845d"
      },
      "id": "a1f7be5f9ff0845d"
    },
    {
      "cell_type": "code",
      "outputs": [],
      "source": [
        "# Save data to Excel file and csv file\n",
        "csv_filename = '/content/data/filtered/filtered_amazon.csv'\n",
        "df.to_csv(csv_filename, index=False)\n",
        "\n",
        "csv_filename = '/content/data/filtered/filtered_amazon.xlsx'\n",
        "df.to_excel(csv_filename, index=False)"
      ],
      "metadata": {
        "id": "4956b8a6273d0f0b",
        "ExecuteTime": {
          "end_time": "2024-01-14T12:04:57.685119479Z",
          "start_time": "2024-01-14T12:04:57.642088807Z"
        }
      },
      "id": "4956b8a6273d0f0b",
      "execution_count": 44
    }
  ],
  "metadata": {
    "kernelspec": {
      "display_name": "Python 3",
      "language": "python",
      "name": "python3"
    },
    "language_info": {
      "codemirror_mode": {
        "name": "ipython",
        "version": 2
      },
      "file_extension": ".py",
      "mimetype": "text/x-python",
      "name": "python",
      "nbconvert_exporter": "python",
      "pygments_lexer": "ipython2",
      "version": "2.7.6"
    },
    "colab": {
      "provenance": []
    }
  },
  "nbformat": 4,
  "nbformat_minor": 5
}