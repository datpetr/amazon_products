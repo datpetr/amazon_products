{
 "cells": [
  {
   "cell_type": "markdown",
   "source": [
    "First of all, let's import the libraries we'll be working with"
   ],
   "metadata": {
    "collapsed": false
   },
   "id": "78e7ef115d69c9c1"
  },
  {
   "cell_type": "code",
   "outputs": [],
   "source": [
    "import pandas as pd\n",
    "from pandas import DataFrame"
   ],
   "metadata": {
    "collapsed": false,
    "ExecuteTime": {
     "end_time": "2024-01-12T18:03:19.975321102Z",
     "start_time": "2024-01-12T18:03:19.441138756Z"
    }
   },
   "id": "82364a621d74631e",
   "execution_count": 1
  },
  {
   "cell_type": "markdown",
   "source": [
    "Now we will create a functions that we will use throughout the code\n",
    "\n",
    "- First of it will be function that will show the head of the table"
   ],
   "metadata": {
    "collapsed": false
   },
   "id": "edfe86d3dbfb50f"
  },
  {
   "cell_type": "code",
   "outputs": [],
   "source": [
    "def show_head(df):\n",
    "    return df.head()"
   ],
   "metadata": {
    "collapsed": false,
    "ExecuteTime": {
     "end_time": "2024-01-12T18:03:20.591811922Z",
     "start_time": "2024-01-12T18:03:20.585132703Z"
    }
   },
   "id": "f3cd9e3d16bfa94a",
   "execution_count": 2
  },
  {
   "cell_type": "markdown",
   "source": [
    "- this function will show the datatypes of variables"
   ],
   "metadata": {
    "collapsed": false
   },
   "id": "88fe6c8deea957f1"
  },
  {
   "cell_type": "code",
   "outputs": [],
   "source": [
    "def show_data_type(df):\n",
    "    return df.dtypes"
   ],
   "metadata": {
    "collapsed": false,
    "ExecuteTime": {
     "end_time": "2024-01-12T18:03:21.714880028Z",
     "start_time": "2024-01-12T18:03:21.707993657Z"
    }
   },
   "id": "732bdd3d689e19d5",
   "execution_count": 3
  },
  {
   "cell_type": "markdown",
   "source": [
    "- and the third will show the general info about datasets"
   ],
   "metadata": {
    "collapsed": false
   },
   "id": "a6014ff3cf45ce0a"
  },
  {
   "cell_type": "code",
   "outputs": [],
   "source": [
    "def show_info(df):\n",
    "    return df.info()"
   ],
   "metadata": {
    "collapsed": false,
    "ExecuteTime": {
     "end_time": "2024-01-12T18:03:23.345555382Z",
     "start_time": "2024-01-12T18:03:23.339282086Z"
    }
   },
   "id": "58b24d9e953984f5",
   "execution_count": 4
  },
  {
   "cell_type": "markdown",
   "source": [
    "0. To start with, I have read the file to a dataframe."
   ],
   "metadata": {
    "collapsed": false
   },
   "id": "c6c8c85ff28a787c"
  },
  {
   "cell_type": "code",
   "outputs": [
    {
     "data": {
      "text/plain": "  Amazon Sales Dataset : The dataset consists of 121 observations Unnamed: 1  \\\n0                                                NaN                     NaN   \n1                                           CATEGORY               PRODUCTID   \n2                                        Electronics                      E1   \n3                                           Clothing                      C2   \n4                                              Books                      B3   \n\n  Unnamed: 2 Unnamed: 3      Unnamed: 4      Unnamed: 5    Unnamed: 6  \\\n0        NaN        NaN             NaN             NaN           NaN   \n1      YEASR    QUARTER  QuarterlySales  CustomerRating  SELLERRATING   \n2       2018         Q1            1200               4             4   \n3       2019         Q2             800               5             4   \n4       2020         Q3             600               4             3   \n\n                  Unnamed: 7  \\\n0                        NaN   \n1  the product price in USD.   \n2                        200   \n3                         50   \n4                         30   \n\n                                          Unnamed: 8 Unnamed: 9 Unnamed: 10  \\\n0                                                NaN        NaN         NaN   \n1  the discount applied to the product in percentage  UnitsSold     Revenue   \n2                                                 10         50       10000   \n3                                                  5        200       16000   \n4                                                 15        100        6000   \n\n      Unnamed: 11               Unnamed: 12      Unnamed: 13  \n0             NaN                       NaN              NaN  \n1  ShippingMethod  the location of the sale  AdvertisingCost  \n2        Standard                        US              500  \n3         Express                        EU              200  \n4        Standard                      Asia              300  ",
      "text/html": "<div>\n<style scoped>\n    .dataframe tbody tr th:only-of-type {\n        vertical-align: middle;\n    }\n\n    .dataframe tbody tr th {\n        vertical-align: top;\n    }\n\n    .dataframe thead th {\n        text-align: right;\n    }\n</style>\n<table border=\"1\" class=\"dataframe\">\n  <thead>\n    <tr style=\"text-align: right;\">\n      <th></th>\n      <th>Amazon Sales Dataset : The dataset consists of 121 observations</th>\n      <th>Unnamed: 1</th>\n      <th>Unnamed: 2</th>\n      <th>Unnamed: 3</th>\n      <th>Unnamed: 4</th>\n      <th>Unnamed: 5</th>\n      <th>Unnamed: 6</th>\n      <th>Unnamed: 7</th>\n      <th>Unnamed: 8</th>\n      <th>Unnamed: 9</th>\n      <th>Unnamed: 10</th>\n      <th>Unnamed: 11</th>\n      <th>Unnamed: 12</th>\n      <th>Unnamed: 13</th>\n    </tr>\n  </thead>\n  <tbody>\n    <tr>\n      <th>0</th>\n      <td>NaN</td>\n      <td>NaN</td>\n      <td>NaN</td>\n      <td>NaN</td>\n      <td>NaN</td>\n      <td>NaN</td>\n      <td>NaN</td>\n      <td>NaN</td>\n      <td>NaN</td>\n      <td>NaN</td>\n      <td>NaN</td>\n      <td>NaN</td>\n      <td>NaN</td>\n      <td>NaN</td>\n    </tr>\n    <tr>\n      <th>1</th>\n      <td>CATEGORY</td>\n      <td>PRODUCTID</td>\n      <td>YEASR</td>\n      <td>QUARTER</td>\n      <td>QuarterlySales</td>\n      <td>CustomerRating</td>\n      <td>SELLERRATING</td>\n      <td>the product price in USD.</td>\n      <td>the discount applied to the product in percentage</td>\n      <td>UnitsSold</td>\n      <td>Revenue</td>\n      <td>ShippingMethod</td>\n      <td>the location of the sale</td>\n      <td>AdvertisingCost</td>\n    </tr>\n    <tr>\n      <th>2</th>\n      <td>Electronics</td>\n      <td>E1</td>\n      <td>2018</td>\n      <td>Q1</td>\n      <td>1200</td>\n      <td>4</td>\n      <td>4</td>\n      <td>200</td>\n      <td>10</td>\n      <td>50</td>\n      <td>10000</td>\n      <td>Standard</td>\n      <td>US</td>\n      <td>500</td>\n    </tr>\n    <tr>\n      <th>3</th>\n      <td>Clothing</td>\n      <td>C2</td>\n      <td>2019</td>\n      <td>Q2</td>\n      <td>800</td>\n      <td>5</td>\n      <td>4</td>\n      <td>50</td>\n      <td>5</td>\n      <td>200</td>\n      <td>16000</td>\n      <td>Express</td>\n      <td>EU</td>\n      <td>200</td>\n    </tr>\n    <tr>\n      <th>4</th>\n      <td>Books</td>\n      <td>B3</td>\n      <td>2020</td>\n      <td>Q3</td>\n      <td>600</td>\n      <td>4</td>\n      <td>3</td>\n      <td>30</td>\n      <td>15</td>\n      <td>100</td>\n      <td>6000</td>\n      <td>Standard</td>\n      <td>Asia</td>\n      <td>300</td>\n    </tr>\n  </tbody>\n</table>\n</div>"
     },
     "execution_count": 5,
     "metadata": {},
     "output_type": "execute_result"
    }
   ],
   "source": [
    "show_head(pd.read_excel('data/Amazon.xlsx'))"
   ],
   "metadata": {
    "collapsed": false,
    "ExecuteTime": {
     "end_time": "2024-01-12T18:03:24.573652678Z",
     "start_time": "2024-01-12T18:03:24.325109359Z"
    }
   },
   "id": "ea02241a217bf5d8",
   "execution_count": 5
  },
  {
   "cell_type": "markdown",
   "source": [
    "I wanted to skip the title and the empty row in order to have a better view."
   ],
   "metadata": {
    "collapsed": false
   },
   "id": "67e6536d0f4e08d5"
  },
  {
   "cell_type": "code",
   "outputs": [],
   "source": [
    "df = pd.read_excel('data/Amazon.xlsx', header=None, skiprows=3)"
   ],
   "metadata": {
    "collapsed": false,
    "ExecuteTime": {
     "end_time": "2024-01-12T18:03:26.762966879Z",
     "start_time": "2024-01-12T18:03:26.687410957Z"
    }
   },
   "id": "62098d6ecc38ace2",
   "execution_count": 6
  },
  {
   "cell_type": "markdown",
   "source": [
    "let's check the changed data"
   ],
   "metadata": {
    "collapsed": false
   },
   "id": "16494adba9825ecf"
  },
  {
   "cell_type": "code",
   "outputs": [
    {
     "data": {
      "text/plain": "               0   1     2   3     4   5    6    7     8    9      10  \\\n0     Electronics  E1  2018  Q1  1200   4  4.0  200  10.0   50  10000   \n1        Clothing  C2  2019  Q2   800   5  4.0   50   5.0  200  16000   \n2           Books  B3  2020  Q3   600   4  3.0   30  15.0  100   6000   \n3  Home & Kitchen  H4  2021  Q4  1500   5  5.0  120   8.0   30  45000   \n4          Beauty  B5  2018  Q1  1000   4  3.0   80  12.0   40  40000   \n\n         11    12     13  \n0  Standard    US  500.0  \n1   Express    EU  200.0  \n2  Standard  Asia  300.0  \n3   Express    US  700.0  \n4  Standard    EU  400.0  ",
      "text/html": "<div>\n<style scoped>\n    .dataframe tbody tr th:only-of-type {\n        vertical-align: middle;\n    }\n\n    .dataframe tbody tr th {\n        vertical-align: top;\n    }\n\n    .dataframe thead th {\n        text-align: right;\n    }\n</style>\n<table border=\"1\" class=\"dataframe\">\n  <thead>\n    <tr style=\"text-align: right;\">\n      <th></th>\n      <th>0</th>\n      <th>1</th>\n      <th>2</th>\n      <th>3</th>\n      <th>4</th>\n      <th>5</th>\n      <th>6</th>\n      <th>7</th>\n      <th>8</th>\n      <th>9</th>\n      <th>10</th>\n      <th>11</th>\n      <th>12</th>\n      <th>13</th>\n    </tr>\n  </thead>\n  <tbody>\n    <tr>\n      <th>0</th>\n      <td>Electronics</td>\n      <td>E1</td>\n      <td>2018</td>\n      <td>Q1</td>\n      <td>1200</td>\n      <td>4</td>\n      <td>4.0</td>\n      <td>200</td>\n      <td>10.0</td>\n      <td>50</td>\n      <td>10000</td>\n      <td>Standard</td>\n      <td>US</td>\n      <td>500.0</td>\n    </tr>\n    <tr>\n      <th>1</th>\n      <td>Clothing</td>\n      <td>C2</td>\n      <td>2019</td>\n      <td>Q2</td>\n      <td>800</td>\n      <td>5</td>\n      <td>4.0</td>\n      <td>50</td>\n      <td>5.0</td>\n      <td>200</td>\n      <td>16000</td>\n      <td>Express</td>\n      <td>EU</td>\n      <td>200.0</td>\n    </tr>\n    <tr>\n      <th>2</th>\n      <td>Books</td>\n      <td>B3</td>\n      <td>2020</td>\n      <td>Q3</td>\n      <td>600</td>\n      <td>4</td>\n      <td>3.0</td>\n      <td>30</td>\n      <td>15.0</td>\n      <td>100</td>\n      <td>6000</td>\n      <td>Standard</td>\n      <td>Asia</td>\n      <td>300.0</td>\n    </tr>\n    <tr>\n      <th>3</th>\n      <td>Home &amp; Kitchen</td>\n      <td>H4</td>\n      <td>2021</td>\n      <td>Q4</td>\n      <td>1500</td>\n      <td>5</td>\n      <td>5.0</td>\n      <td>120</td>\n      <td>8.0</td>\n      <td>30</td>\n      <td>45000</td>\n      <td>Express</td>\n      <td>US</td>\n      <td>700.0</td>\n    </tr>\n    <tr>\n      <th>4</th>\n      <td>Beauty</td>\n      <td>B5</td>\n      <td>2018</td>\n      <td>Q1</td>\n      <td>1000</td>\n      <td>4</td>\n      <td>3.0</td>\n      <td>80</td>\n      <td>12.0</td>\n      <td>40</td>\n      <td>40000</td>\n      <td>Standard</td>\n      <td>EU</td>\n      <td>400.0</td>\n    </tr>\n  </tbody>\n</table>\n</div>"
     },
     "execution_count": 7,
     "metadata": {},
     "output_type": "execute_result"
    }
   ],
   "source": [
    "show_head(df)"
   ],
   "metadata": {
    "collapsed": false,
    "ExecuteTime": {
     "end_time": "2024-01-12T18:03:27.756848982Z",
     "start_time": "2024-01-12T18:03:27.738220460Z"
    }
   },
   "id": "9aeffe5ca2ca021e",
   "execution_count": 7
  },
  {
   "cell_type": "markdown",
   "source": [
    "after the checking, it seems good. To check the datatype we first name columns"
   ],
   "metadata": {
    "collapsed": false
   },
   "id": "6d5156c6eb526ce1"
  },
  {
   "cell_type": "code",
   "outputs": [],
   "source": [
    "df.columns = [\"Category\", \"Product ID\", \"Year\", \"Quarter\", \"Quarterly Sales\", \"Customer Rating\", \"Seller Rating\", \"Price\", \"Discount Rate\", \"Units Sold\", \"Revenue\", \"Shipping Method\", \"Location\", \"Advertising Cost\"]"
   ],
   "metadata": {
    "collapsed": false,
    "ExecuteTime": {
     "end_time": "2024-01-12T18:03:29.398243085Z",
     "start_time": "2024-01-12T18:03:29.390902879Z"
    }
   },
   "id": "e9af46281815a996",
   "execution_count": 8
  },
  {
   "cell_type": "markdown",
   "source": [
    "let's check the changed names of variables "
   ],
   "metadata": {
    "collapsed": false
   },
   "id": "b9da3e4d5ac242ec"
  },
  {
   "cell_type": "code",
   "outputs": [
    {
     "data": {
      "text/plain": "         Category Product ID  Year Quarter Quarterly Sales  Customer Rating  \\\n0     Electronics         E1  2018      Q1            1200                4   \n1        Clothing         C2  2019      Q2             800                5   \n2           Books         B3  2020      Q3             600                4   \n3  Home & Kitchen         H4  2021      Q4            1500                5   \n4          Beauty         B5  2018      Q1            1000                4   \n\n   Seller Rating  Price  Discount Rate  Units Sold  Revenue Shipping Method  \\\n0            4.0    200           10.0          50    10000        Standard   \n1            4.0     50            5.0         200    16000         Express   \n2            3.0     30           15.0         100     6000        Standard   \n3            5.0    120            8.0          30    45000         Express   \n4            3.0     80           12.0          40    40000        Standard   \n\n  Location  Advertising Cost  \n0       US             500.0  \n1       EU             200.0  \n2     Asia             300.0  \n3       US             700.0  \n4       EU             400.0  ",
      "text/html": "<div>\n<style scoped>\n    .dataframe tbody tr th:only-of-type {\n        vertical-align: middle;\n    }\n\n    .dataframe tbody tr th {\n        vertical-align: top;\n    }\n\n    .dataframe thead th {\n        text-align: right;\n    }\n</style>\n<table border=\"1\" class=\"dataframe\">\n  <thead>\n    <tr style=\"text-align: right;\">\n      <th></th>\n      <th>Category</th>\n      <th>Product ID</th>\n      <th>Year</th>\n      <th>Quarter</th>\n      <th>Quarterly Sales</th>\n      <th>Customer Rating</th>\n      <th>Seller Rating</th>\n      <th>Price</th>\n      <th>Discount Rate</th>\n      <th>Units Sold</th>\n      <th>Revenue</th>\n      <th>Shipping Method</th>\n      <th>Location</th>\n      <th>Advertising Cost</th>\n    </tr>\n  </thead>\n  <tbody>\n    <tr>\n      <th>0</th>\n      <td>Electronics</td>\n      <td>E1</td>\n      <td>2018</td>\n      <td>Q1</td>\n      <td>1200</td>\n      <td>4</td>\n      <td>4.0</td>\n      <td>200</td>\n      <td>10.0</td>\n      <td>50</td>\n      <td>10000</td>\n      <td>Standard</td>\n      <td>US</td>\n      <td>500.0</td>\n    </tr>\n    <tr>\n      <th>1</th>\n      <td>Clothing</td>\n      <td>C2</td>\n      <td>2019</td>\n      <td>Q2</td>\n      <td>800</td>\n      <td>5</td>\n      <td>4.0</td>\n      <td>50</td>\n      <td>5.0</td>\n      <td>200</td>\n      <td>16000</td>\n      <td>Express</td>\n      <td>EU</td>\n      <td>200.0</td>\n    </tr>\n    <tr>\n      <th>2</th>\n      <td>Books</td>\n      <td>B3</td>\n      <td>2020</td>\n      <td>Q3</td>\n      <td>600</td>\n      <td>4</td>\n      <td>3.0</td>\n      <td>30</td>\n      <td>15.0</td>\n      <td>100</td>\n      <td>6000</td>\n      <td>Standard</td>\n      <td>Asia</td>\n      <td>300.0</td>\n    </tr>\n    <tr>\n      <th>3</th>\n      <td>Home &amp; Kitchen</td>\n      <td>H4</td>\n      <td>2021</td>\n      <td>Q4</td>\n      <td>1500</td>\n      <td>5</td>\n      <td>5.0</td>\n      <td>120</td>\n      <td>8.0</td>\n      <td>30</td>\n      <td>45000</td>\n      <td>Express</td>\n      <td>US</td>\n      <td>700.0</td>\n    </tr>\n    <tr>\n      <th>4</th>\n      <td>Beauty</td>\n      <td>B5</td>\n      <td>2018</td>\n      <td>Q1</td>\n      <td>1000</td>\n      <td>4</td>\n      <td>3.0</td>\n      <td>80</td>\n      <td>12.0</td>\n      <td>40</td>\n      <td>40000</td>\n      <td>Standard</td>\n      <td>EU</td>\n      <td>400.0</td>\n    </tr>\n  </tbody>\n</table>\n</div>"
     },
     "execution_count": 9,
     "metadata": {},
     "output_type": "execute_result"
    }
   ],
   "source": [
    "show_head(df)"
   ],
   "metadata": {
    "collapsed": false,
    "ExecuteTime": {
     "end_time": "2024-01-12T18:03:30.414057454Z",
     "start_time": "2024-01-12T18:03:30.379878078Z"
    }
   },
   "id": "49b5269687d96c46",
   "execution_count": 9
  },
  {
   "cell_type": "markdown",
   "source": [
    "1. examine the variables and their datatypes"
   ],
   "metadata": {
    "collapsed": false
   },
   "id": "313a29884c5b9a46"
  },
  {
   "cell_type": "code",
   "outputs": [
    {
     "data": {
      "text/plain": "Category             object\nProduct ID           object\nYear                  int64\nQuarter              object\nQuarterly Sales      object\nCustomer Rating       int64\nSeller Rating       float64\nPrice                 int64\nDiscount Rate       float64\nUnits Sold            int64\nRevenue               int64\nShipping Method      object\nLocation             object\nAdvertising Cost    float64\ndtype: object"
     },
     "execution_count": 10,
     "metadata": {},
     "output_type": "execute_result"
    }
   ],
   "source": [
    "show_data_type(df)"
   ],
   "metadata": {
    "collapsed": false,
    "ExecuteTime": {
     "end_time": "2024-01-12T18:03:31.877135338Z",
     "start_time": "2024-01-12T18:03:31.871128839Z"
    }
   },
   "id": "3565e22180085ef5",
   "execution_count": 10
  },
  {
   "cell_type": "markdown",
   "source": [
    "there seems to be problem with Discount Rate and Seller Rating, they should ve integer instead of floats. We are going to do this change later since it will be much easier"
   ],
   "metadata": {
    "collapsed": false
   },
   "id": "b44b66162e38f7c3"
  },
  {
   "cell_type": "markdown",
   "source": [
    "2. remove any separation error in variables.\n",
    "\n",
    "since we defined the header there is no need to check the existence of it check the exising of NA's"
   ],
   "metadata": {
    "collapsed": false
   },
   "id": "25da40cb1f56354"
  },
  {
   "cell_type": "code",
   "outputs": [
    {
     "data": {
      "text/plain": "Category            0\nProduct ID          0\nYear                0\nQuarter             0\nQuarterly Sales     2\nCustomer Rating     0\nSeller Rating       1\nPrice               0\nDiscount Rate       0\nUnits Sold          0\nRevenue             0\nShipping Method     0\nLocation            0\nAdvertising Cost    2\ndtype: int64"
     },
     "execution_count": 11,
     "metadata": {},
     "output_type": "execute_result"
    }
   ],
   "source": [
    "df.isna().sum()"
   ],
   "metadata": {
    "collapsed": false,
    "ExecuteTime": {
     "end_time": "2024-01-12T18:03:33.396566449Z",
     "start_time": "2024-01-12T18:03:33.392537951Z"
    }
   },
   "id": "2ba2ee5eefde3d5f",
   "execution_count": 11
  },
  {
   "cell_type": "markdown",
   "source": [
    "it is showed that there are NA's values in Seller Rating, Advertising Cost, Quarterly Sales\n",
    "\n",
    "for making sure that there isn't any NA type of string type let's first of all get rid of white spaces in the code"
   ],
   "metadata": {
    "collapsed": false
   },
   "id": "bfc0fd8999a956ff"
  },
  {
   "cell_type": "code",
   "outputs": [],
   "source": [
    "df = df.applymap(lambda x: x.strip() if isinstance(x, str) else x)"
   ],
   "metadata": {
    "collapsed": false,
    "ExecuteTime": {
     "end_time": "2024-01-12T18:03:34.494334563Z",
     "start_time": "2024-01-12T18:03:34.492276313Z"
    }
   },
   "id": "94db1e43d1b06711",
   "execution_count": 12
  },
  {
   "cell_type": "markdown",
   "source": [
    "and replacing string NA by NA"
   ],
   "metadata": {
    "collapsed": false
   },
   "id": "df87f3a2af12877a"
  },
  {
   "cell_type": "code",
   "outputs": [],
   "source": [
    "df.replace('NA', pd.NA, inplace=True)"
   ],
   "metadata": {
    "collapsed": false,
    "ExecuteTime": {
     "end_time": "2024-01-12T18:03:36.094270193Z",
     "start_time": "2024-01-12T18:03:36.088932503Z"
    }
   },
   "id": "9f5ed4b8a51fd7f0",
   "execution_count": 13
  },
  {
   "cell_type": "markdown",
   "source": [
    "let's check whether if there are new NA "
   ],
   "metadata": {
    "collapsed": false
   },
   "id": "59d293c6c04195b9"
  },
  {
   "cell_type": "code",
   "outputs": [
    {
     "data": {
      "text/plain": "Category            0\nProduct ID          0\nYear                0\nQuarter             0\nQuarterly Sales     3\nCustomer Rating     0\nSeller Rating       1\nPrice               0\nDiscount Rate       0\nUnits Sold          0\nRevenue             0\nShipping Method     0\nLocation            0\nAdvertising Cost    2\ndtype: int64"
     },
     "execution_count": 14,
     "metadata": {},
     "output_type": "execute_result"
    }
   ],
   "source": [
    "df.isna().sum()"
   ],
   "metadata": {
    "collapsed": false,
    "ExecuteTime": {
     "end_time": "2024-01-12T18:03:37.062965659Z",
     "start_time": "2024-01-12T18:03:37.056544297Z"
    }
   },
   "id": "319662135b756aa8",
   "execution_count": 14
  },
  {
   "cell_type": "markdown",
   "source": [
    "so, there was 1 string NA in column \"Quarterly Sales\"  "
   ],
   "metadata": {
    "collapsed": false
   },
   "id": "659b3f9e4fe634b8"
  },
  {
   "cell_type": "markdown",
   "source": [
    "so, there is a problem only in The column: Quarterly Sales, we will consider it later"
   ],
   "metadata": {
    "collapsed": false
   },
   "id": "4b79680fc963274f"
  },
  {
   "cell_type": "markdown",
   "source": [
    "Remove specified characters from string columns"
   ],
   "metadata": {
    "collapsed": false
   },
   "id": "dbe4c5e742806fb9"
  },
  {
   "cell_type": "code",
   "outputs": [],
   "source": [
    "df.replace(to_replace=[r'\\{', r'\\}', r';', r':', r',', r'\\t', r'\\n'], value='', regex=True, inplace=True)"
   ],
   "metadata": {
    "collapsed": false,
    "ExecuteTime": {
     "end_time": "2024-01-12T18:39:02.277667248Z",
     "start_time": "2024-01-12T18:39:02.236347776Z"
    }
   },
   "id": "f59629be1b75e106",
   "execution_count": 46
  },
  {
   "cell_type": "markdown",
   "source": [
    "\n",
    "3. since we define by ourselves the names of columns there is no need to check whether column headers are values, not variables names"
   ],
   "metadata": {
    "collapsed": false
   },
   "id": "b6d5d362f3bf7fa3"
  },
  {
   "cell_type": "markdown",
   "source": [
    "- for checking whether multiple variables are stored in both rows and columns. First of all, let's find out whether multiple datatypes present in a column"
   ],
   "metadata": {
    "collapsed": false
   },
   "id": "d0b3c65be82d801"
  },
  {
   "cell_type": "code",
   "outputs": [
    {
     "data": {
      "text/plain": "Category                                              {<class 'str'>}\nProduct ID                                            {<class 'str'>}\nYear                                                  {<class 'int'>}\nQuarter                                               {<class 'str'>}\nQuarterly Sales     {<class 'float'>, <class 'pandas._libs.missing...\nCustomer Rating                                       {<class 'int'>}\nSeller Rating                                       {<class 'float'>}\nPrice                                                 {<class 'int'>}\nDiscount Rate                                       {<class 'float'>}\nUnits Sold                                            {<class 'int'>}\nRevenue                                               {<class 'int'>}\nShipping Method                                       {<class 'str'>}\nLocation                                              {<class 'str'>}\nAdvertising Cost                                    {<class 'float'>}\ndtype: object"
     },
     "execution_count": 15,
     "metadata": {},
     "output_type": "execute_result"
    }
   ],
   "source": [
    "df.applymap(type).apply(set)"
   ],
   "metadata": {
    "collapsed": false,
    "ExecuteTime": {
     "end_time": "2024-01-12T18:03:39.208972239Z",
     "start_time": "2024-01-12T18:03:39.205331226Z"
    }
   },
   "id": "37620d97b9875f08",
   "execution_count": 15
  },
  {
   "cell_type": "markdown",
   "source": [
    "so, we can see that in Quarterly Sales there are three types of value, we will fix it later, since we need to first of all find out what shall we do with NA's"
   ],
   "metadata": {
    "collapsed": false
   },
   "id": "fac5679d9830febc"
  },
  {
   "cell_type": "markdown",
   "source": [
    "Check if specific values indicate multiple variables in all columns"
   ],
   "metadata": {
    "collapsed": false
   },
   "id": "f9d25fd43928081c"
  },
  {
   "cell_type": "markdown",
   "source": [
    "creating the function that will check for presenting of a specific characters and after this remove it "
   ],
   "metadata": {
    "collapsed": false
   },
   "id": "b6a4e41a738f1d2f"
  },
  {
   "cell_type": "code",
   "outputs": [],
   "source": [
    "def check_and_remove_specific_values(df, specific_values):\n",
    "    return df.applymap(lambda x: ''.join(c for c in str(x) if c not in specific_values))"
   ],
   "metadata": {
    "collapsed": false,
    "ExecuteTime": {
     "end_time": "2024-01-12T18:03:41.003390667Z",
     "start_time": "2024-01-12T18:03:40.999248117Z"
    }
   },
   "id": "e252753d2b01be8c",
   "execution_count": 16
  },
  {
   "cell_type": "markdown",
   "source": [
    "let's check the columns"
   ],
   "metadata": {
    "collapsed": false
   },
   "id": "15093cf78fa8a773"
  },
  {
   "cell_type": "code",
   "outputs": [
    {
     "data": {
      "text/plain": "           Category Product ID  Year Quarter Quarterly Sales Customer Rating  \\\n0       Electronics         E1  2018      Q1            1200               4   \n1          Clothing         C2  2019      Q2             800               5   \n2             Books         B3  2020      Q3             600               4   \n3    Home & Kitchen         H4  2021      Q4            1500               5   \n4            Beauty         B5  2018      Q1            1000               4   \n..              ...        ...   ...     ...             ...             ...   \n117     Electronics        E26  2019      Q3             950               5   \n118        Clothing        C27  2020      Q4             680               4   \n119           Books        B28  2021      Q1             880               5   \n120  Home & Kitchen        H29  2018      Q2            1300               4   \n121          Beauty        B30  2019      Q3            1100               5   \n\n    Seller Rating Price Discount Rate Units Sold Revenue Shipping Method  \\\n0              40   200           100         50   10000        Standard   \n1              40    50            50        200   16000         Express   \n2              30    30           150        100    6000        Standard   \n3              50   120            80         30   45000         Express   \n4              30    80           120         40   40000        Standard   \n..            ...   ...           ...        ...     ...             ...   \n117            40   230           180         25   23750         Express   \n118            30    55            80         70    4760        Standard   \n119            50    38           120         60    5280         Express   \n120            30    90           150         25   32500        Standard   \n121            50    80           100         40   44000         Express   \n\n    Location Advertising Cost  \n0         US             5000  \n1         EU             2000  \n2       Asia             3000  \n3         US             7000  \n4         EU             4000  \n..       ...              ...  \n117       EU             5000  \n118     Asia             1500  \n119       US             2000  \n120       EU             6000  \n121     Asia             4000  \n\n[122 rows x 14 columns]",
      "text/html": "<div>\n<style scoped>\n    .dataframe tbody tr th:only-of-type {\n        vertical-align: middle;\n    }\n\n    .dataframe tbody tr th {\n        vertical-align: top;\n    }\n\n    .dataframe thead th {\n        text-align: right;\n    }\n</style>\n<table border=\"1\" class=\"dataframe\">\n  <thead>\n    <tr style=\"text-align: right;\">\n      <th></th>\n      <th>Category</th>\n      <th>Product ID</th>\n      <th>Year</th>\n      <th>Quarter</th>\n      <th>Quarterly Sales</th>\n      <th>Customer Rating</th>\n      <th>Seller Rating</th>\n      <th>Price</th>\n      <th>Discount Rate</th>\n      <th>Units Sold</th>\n      <th>Revenue</th>\n      <th>Shipping Method</th>\n      <th>Location</th>\n      <th>Advertising Cost</th>\n    </tr>\n  </thead>\n  <tbody>\n    <tr>\n      <th>0</th>\n      <td>Electronics</td>\n      <td>E1</td>\n      <td>2018</td>\n      <td>Q1</td>\n      <td>1200</td>\n      <td>4</td>\n      <td>40</td>\n      <td>200</td>\n      <td>100</td>\n      <td>50</td>\n      <td>10000</td>\n      <td>Standard</td>\n      <td>US</td>\n      <td>5000</td>\n    </tr>\n    <tr>\n      <th>1</th>\n      <td>Clothing</td>\n      <td>C2</td>\n      <td>2019</td>\n      <td>Q2</td>\n      <td>800</td>\n      <td>5</td>\n      <td>40</td>\n      <td>50</td>\n      <td>50</td>\n      <td>200</td>\n      <td>16000</td>\n      <td>Express</td>\n      <td>EU</td>\n      <td>2000</td>\n    </tr>\n    <tr>\n      <th>2</th>\n      <td>Books</td>\n      <td>B3</td>\n      <td>2020</td>\n      <td>Q3</td>\n      <td>600</td>\n      <td>4</td>\n      <td>30</td>\n      <td>30</td>\n      <td>150</td>\n      <td>100</td>\n      <td>6000</td>\n      <td>Standard</td>\n      <td>Asia</td>\n      <td>3000</td>\n    </tr>\n    <tr>\n      <th>3</th>\n      <td>Home &amp; Kitchen</td>\n      <td>H4</td>\n      <td>2021</td>\n      <td>Q4</td>\n      <td>1500</td>\n      <td>5</td>\n      <td>50</td>\n      <td>120</td>\n      <td>80</td>\n      <td>30</td>\n      <td>45000</td>\n      <td>Express</td>\n      <td>US</td>\n      <td>7000</td>\n    </tr>\n    <tr>\n      <th>4</th>\n      <td>Beauty</td>\n      <td>B5</td>\n      <td>2018</td>\n      <td>Q1</td>\n      <td>1000</td>\n      <td>4</td>\n      <td>30</td>\n      <td>80</td>\n      <td>120</td>\n      <td>40</td>\n      <td>40000</td>\n      <td>Standard</td>\n      <td>EU</td>\n      <td>4000</td>\n    </tr>\n    <tr>\n      <th>...</th>\n      <td>...</td>\n      <td>...</td>\n      <td>...</td>\n      <td>...</td>\n      <td>...</td>\n      <td>...</td>\n      <td>...</td>\n      <td>...</td>\n      <td>...</td>\n      <td>...</td>\n      <td>...</td>\n      <td>...</td>\n      <td>...</td>\n      <td>...</td>\n    </tr>\n    <tr>\n      <th>117</th>\n      <td>Electronics</td>\n      <td>E26</td>\n      <td>2019</td>\n      <td>Q3</td>\n      <td>950</td>\n      <td>5</td>\n      <td>40</td>\n      <td>230</td>\n      <td>180</td>\n      <td>25</td>\n      <td>23750</td>\n      <td>Express</td>\n      <td>EU</td>\n      <td>5000</td>\n    </tr>\n    <tr>\n      <th>118</th>\n      <td>Clothing</td>\n      <td>C27</td>\n      <td>2020</td>\n      <td>Q4</td>\n      <td>680</td>\n      <td>4</td>\n      <td>30</td>\n      <td>55</td>\n      <td>80</td>\n      <td>70</td>\n      <td>4760</td>\n      <td>Standard</td>\n      <td>Asia</td>\n      <td>1500</td>\n    </tr>\n    <tr>\n      <th>119</th>\n      <td>Books</td>\n      <td>B28</td>\n      <td>2021</td>\n      <td>Q1</td>\n      <td>880</td>\n      <td>5</td>\n      <td>50</td>\n      <td>38</td>\n      <td>120</td>\n      <td>60</td>\n      <td>5280</td>\n      <td>Express</td>\n      <td>US</td>\n      <td>2000</td>\n    </tr>\n    <tr>\n      <th>120</th>\n      <td>Home &amp; Kitchen</td>\n      <td>H29</td>\n      <td>2018</td>\n      <td>Q2</td>\n      <td>1300</td>\n      <td>4</td>\n      <td>30</td>\n      <td>90</td>\n      <td>150</td>\n      <td>25</td>\n      <td>32500</td>\n      <td>Standard</td>\n      <td>EU</td>\n      <td>6000</td>\n    </tr>\n    <tr>\n      <th>121</th>\n      <td>Beauty</td>\n      <td>B30</td>\n      <td>2019</td>\n      <td>Q3</td>\n      <td>1100</td>\n      <td>5</td>\n      <td>50</td>\n      <td>80</td>\n      <td>100</td>\n      <td>40</td>\n      <td>44000</td>\n      <td>Express</td>\n      <td>Asia</td>\n      <td>4000</td>\n    </tr>\n  </tbody>\n</table>\n<p>122 rows × 14 columns</p>\n</div>"
     },
     "execution_count": 17,
     "metadata": {},
     "output_type": "execute_result"
    }
   ],
   "source": [
    "# Define a list of specific values to check for and remove\n",
    "specific_values = [':', ';', ',', '.', '/', '?', '|', '*', '%']\n",
    "\n",
    "# Check for the presence of specific values in all columns\n",
    "check_and_remove_specific_values(df, specific_values)"
   ],
   "metadata": {
    "collapsed": false,
    "ExecuteTime": {
     "end_time": "2024-01-12T18:03:42.576988521Z",
     "start_time": "2024-01-12T18:03:42.570627154Z"
    }
   },
   "id": "93eed3edd726997b",
   "execution_count": 17
  },
  {
   "cell_type": "markdown",
   "source": [
    "so, right now we have the data that don't have any if these specific charters "
   ],
   "metadata": {
    "collapsed": false
   },
   "id": "c3d58be94143993f"
  },
  {
   "cell_type": "markdown",
   "source": [
    " let's check whether each string in each column one or more word characters let's check the pattern letter and one digit ot more digits Product ID"
   ],
   "metadata": {
    "collapsed": false
   },
   "id": "6329e62f99fe7f1c"
  },
  {
   "cell_type": "code",
   "outputs": [
    {
     "data": {
      "text/plain": "0      True\n1      True\n2      True\n3      True\n4      True\n       ... \n117    True\n118    True\n119    True\n120    True\n121    True\nName: Product ID, Length: 122, dtype: bool"
     },
     "execution_count": 32,
     "metadata": {},
     "output_type": "execute_result"
    }
   ],
   "source": [
    "pattern_to_check_product_id = '^[A-Z]\\d+$'\n",
    "# Check if the pattern is present in Product ID column\n",
    "\n",
    "df['Product ID'] = df['Product ID'].astype(str)  # Ensure the column is of string type\n",
    "df['Product ID'].str.match(pattern_to_check_product_id)"
   ],
   "metadata": {
    "collapsed": false,
    "ExecuteTime": {
     "end_time": "2024-01-12T18:17:57.307699342Z",
     "start_time": "2024-01-12T18:17:57.302282522Z"
    }
   },
   "id": "655d18d3527d2cdd",
   "execution_count": 32
  },
  {
   "cell_type": "markdown",
   "source": [
    "it seems that everything is ok "
   ],
   "metadata": {
    "collapsed": false
   },
   "id": "3088adffb6c88d1a"
  },
  {
   "cell_type": "markdown",
   "source": [
    "check whether quarter column has a patter Q and after this digit from 1 to 4 "
   ],
   "metadata": {
    "collapsed": false
   },
   "id": "5f89303f1ae573e9"
  },
  {
   "cell_type": "code",
   "outputs": [
    {
     "data": {
      "text/plain": "0      True\n1      True\n2      True\n3      True\n4      True\n       ... \n117    True\n118    True\n119    True\n120    True\n121    True\nName: Quarter, Length: 122, dtype: bool"
     },
     "execution_count": 29,
     "metadata": {},
     "output_type": "execute_result"
    }
   ],
   "source": [
    "pattern_to_check_quarter = '^Q[1-4]$'\n",
    "\n",
    "# Check if the pattern is present in Quarter column\n",
    "df['Quarter'] = df['Quarter'].astype(str)  # Ensure the column is of string type\n",
    "df['Quarter'].str.match(pattern_to_check_quarter)"
   ],
   "metadata": {
    "collapsed": false,
    "ExecuteTime": {
     "end_time": "2024-01-12T18:17:35.255985417Z",
     "start_time": "2024-01-12T18:17:35.214025769Z"
    }
   },
   "id": "b0342a14fce57e3e",
   "execution_count": 29
  },
  {
   "cell_type": "markdown",
   "source": [
    "it seems that everything is ok "
   ],
   "metadata": {
    "collapsed": false
   },
   "id": "c622f0061bd2f7c4"
  },
  {
   "cell_type": "markdown",
   "source": [
    "let's check the others categorical columns that they contain only letters "
   ],
   "metadata": {
    "collapsed": false
   },
   "id": "bffd4c5917c84680"
  },
  {
   "cell_type": "code",
   "outputs": [
    {
     "name": "stdout",
     "output_type": "stream",
     "text": [
      "Category contains only digits:\n",
      "0      True\n",
      "1      True\n",
      "2      True\n",
      "3      True\n",
      "4      True\n",
      "       ... \n",
      "117    True\n",
      "118    True\n",
      "119    True\n",
      "120    True\n",
      "121    True\n",
      "Name: Category, Length: 122, dtype: bool\n",
      "Location contains only digits:\n",
      "0      True\n",
      "1      True\n",
      "2      True\n",
      "3      True\n",
      "4      True\n",
      "       ... \n",
      "117    True\n",
      "118    True\n",
      "119    True\n",
      "120    True\n",
      "121    True\n",
      "Name: Location, Length: 122, dtype: bool\n",
      "Shipping Method contains only digits:\n",
      "0      True\n",
      "1      True\n",
      "2      True\n",
      "3      True\n",
      "4      True\n",
      "       ... \n",
      "117    True\n",
      "118    True\n",
      "119    True\n",
      "120    True\n",
      "121    True\n",
      "Name: Shipping Method, Length: 122, dtype: bool\n"
     ]
    }
   ],
   "source": [
    "# Identify categorical columns (excluding 'Product ID' and 'Quarter')\n",
    "categorical_columns = df.select_dtypes(include='object').columns.difference(['Product ID', 'Quarter', 'Quarterly Sales'])\n",
    "\n",
    "# Check if categorical columns contain only digits\n",
    "for column in categorical_columns:\n",
    "    df[column] = df[column].astype(str)  # Ensure the column is of string type\n",
    "    contains_only_digits = df[column].str.match(r'\\w+')\n",
    "    print(f\"{column} contains only digits:\")\n",
    "    print(contains_only_digits)"
   ],
   "metadata": {
    "collapsed": false,
    "ExecuteTime": {
     "end_time": "2024-01-12T18:26:43.022498879Z",
     "start_time": "2024-01-12T18:26:42.980255468Z"
    }
   },
   "id": "27f57fff67c89459",
   "execution_count": 41
  },
  {
   "cell_type": "markdown",
   "source": [
    "Column Category, Location, Shipping method contains only letters they are Ok"
   ],
   "metadata": {
    "collapsed": false
   },
   "id": "a81d107c0e0c128f"
  },
  {
   "cell_type": "markdown",
   "source": [
    "other columns should be check later since they contain NA values that should be evaluated "
   ],
   "metadata": {
    "collapsed": false
   },
   "id": "231410e1c363749"
  },
  {
   "cell_type": "markdown",
   "source": [
    "Check if variables are stored in both rows and columns"
   ],
   "metadata": {
    "collapsed": false
   },
   "id": "46d45974f189f3ca"
  },
  {
   "cell_type": "code",
   "outputs": [
    {
     "data": {
      "text/plain": "set()"
     },
     "execution_count": 44,
     "metadata": {},
     "output_type": "execute_result"
    }
   ],
   "source": [
    "# for index, row in df.iterrows():\n",
    "#     common_variables = set(row) & set(df.columns)\n",
    "#     print(f\"Row {index + 1} shares variables with columns: {common_variables}\")\n",
    "\n",
    "set(df.columns) & set(df.values.flatten())"
   ],
   "metadata": {
    "collapsed": false,
    "ExecuteTime": {
     "end_time": "2024-01-12T18:31:37.356772945Z",
     "start_time": "2024-01-12T18:31:37.348028148Z"
    }
   },
   "id": "75af7c8712b54201",
   "execution_count": 44
  },
  {
   "cell_type": "markdown",
   "source": [
    "so it is shown the empty set it means none of variables are stored in both rows and columns"
   ],
   "metadata": {
    "collapsed": false
   },
   "id": "b4a9aa417b6e0e1a"
  },
  {
   "cell_type": "markdown",
   "source": [
    "since we have one table there is no need to check for whether a single observational unit exist in a different tables, only drop duplicates"
   ],
   "metadata": {
    "collapsed": false
   },
   "id": "95969dd0c7058f9c"
  },
  {
   "cell_type": "code",
   "outputs": [],
   "source": [
    "df.drop_duplicates(inplace=True)"
   ],
   "metadata": {
    "collapsed": false,
    "ExecuteTime": {
     "end_time": "2024-01-12T18:36:38.027943147Z",
     "start_time": "2024-01-12T18:36:37.986530989Z"
    }
   },
   "id": "f99b30bd4de687d7",
   "execution_count": 45
  },
  {
   "cell_type": "markdown",
   "source": [
    "4. we already fixed the column names"
   ],
   "metadata": {
    "collapsed": false
   },
   "id": "21ab94c6621b235a"
  },
  {
   "cell_type": "markdown",
   "source": [
    "5. The product ID column is unnecessary for data visualization, so I'm deleting it."
   ],
   "metadata": {
    "collapsed": false
   },
   "id": "2d2800920623b70a"
  },
  {
   "cell_type": "code",
   "outputs": [],
   "source": [
    "df = df.drop(\"Product ID\", axis=1)"
   ],
   "metadata": {
    "collapsed": false
   },
   "id": "b7f7bd2bfa8b48a4"
  },
  {
   "cell_type": "markdown",
   "source": [
    "6. we already clean data from duplicates "
   ],
   "metadata": {
    "collapsed": false
   },
   "id": "6971d06a188d7b99"
  },
  {
   "cell_type": "markdown",
   "source": [
    "7. we already check if we have any unnecessary strings in the values."
   ],
   "metadata": {
    "collapsed": false
   },
   "id": "d0330f69989ccd88"
  },
  {
   "cell_type": "markdown",
   "source": [
    "8. we already check for whitespaces"
   ],
   "metadata": {
    "collapsed": false
   },
   "id": "4b37407a55e4795b"
  },
  {
   "cell_type": "markdown",
   "source": [
    "9. we need to format a titles"
   ],
   "metadata": {
    "collapsed": false
   },
   "id": "ad78606959778988"
  },
  {
   "cell_type": "code",
   "outputs": [],
   "source": [
    "df[\"Category\"] = df[\"Category\"].str.title()"
   ],
   "metadata": {
    "collapsed": false,
    "ExecuteTime": {
     "end_time": "2024-01-12T18:52:19.458156566Z",
     "start_time": "2024-01-12T18:52:19.412513678Z"
    }
   },
   "id": "50ea4b060fc90cb0",
   "execution_count": 54
  },
  {
   "cell_type": "markdown",
   "source": [
    "10. We don't have to check if levels of categories are unique since we don't need it to be unique for this data set."
   ],
   "metadata": {
    "collapsed": false
   },
   "id": "7a7f8204de0b20a6"
  },
  {
   "cell_type": "markdown",
   "source": [
    "11. we need to create a column that would specify year and quarter but firstly we need to work with Year column."
   ],
   "metadata": {
    "collapsed": false
   },
   "id": "b42e59f2cfb23b38"
  },
  {
   "cell_type": "markdown",
   "source": [
    "some data has at the end uneceasty one more digit let's get rid of id"
   ],
   "metadata": {
    "collapsed": false
   },
   "id": "a7790b506521055c"
  },
  {
   "cell_type": "code",
   "outputs": [],
   "source": [
    "df['Year'] = df['Year'].astype(str)\n",
    "df['Year'] = df['Year'].str[:4]\n",
    "df['Year'] = df['Year'].astype(int)"
   ],
   "metadata": {
    "collapsed": false,
    "ExecuteTime": {
     "end_time": "2024-01-12T18:50:08.032294970Z",
     "start_time": "2024-01-12T18:50:07.990496335Z"
    }
   },
   "id": "8c647a3ad8ea844e",
   "execution_count": 51
  },
  {
   "cell_type": "markdown",
   "source": [
    "right now we can create a new column"
   ],
   "metadata": {
    "collapsed": false
   },
   "id": "5da9eaafe30a7d1"
  },
  {
   "cell_type": "code",
   "outputs": [
    {
     "data": {
      "text/plain": "0     2018-01-31\n1     2018-02-28\n2     2018-01-31\n3     2018-02-28\n4     2018-01-31\n         ...    \n947   2019-08-31\n948   2019-07-31\n949   2019-08-31\n950   2019-07-31\n951   2019-08-31\nName: Date, Length: 952, dtype: datetime64[ns]"
     },
     "execution_count": 58,
     "metadata": {},
     "output_type": "execute_result"
    }
   ],
   "source": [
    "# Function to create date range for each row\n",
    "def generate_date(row):\n",
    "    quarter_map = {'Q1': '01', 'Q2': '04', 'Q3': '07', 'Q4': '10'}\n",
    "    start_date_str = f\"{row['Year']}-{quarter_map[row['Quarter']]}\"\n",
    "    start_date = pd.to_datetime(start_date_str, format=\"%Y-%m\")\n",
    "    end_date = start_date + pd.DateOffset(months=2)\n",
    "    return pd.date_range(start=start_date, end=end_date, freq='M')\n",
    "# Apply the function to create the 'Date' column\n",
    "df['Date'] = df.apply(generate_date, axis=1)\n",
    "\n",
    "# Explode the 'Date' column to handle the date range\n",
    "df = df.explode('Date').reset_index(drop=True)\n",
    "\n",
    "# Display the DataFrame\n",
    "df[\"Date\"]"
   ],
   "metadata": {
    "collapsed": false,
    "ExecuteTime": {
     "end_time": "2024-01-12T18:53:44.630060248Z",
     "start_time": "2024-01-12T18:53:44.489950836Z"
    }
   },
   "id": "b519a4582749a5d3",
   "execution_count": 58
  },
  {
   "cell_type": "markdown",
   "source": [
    "we created a new column that will have date format with specifying purchases in the quarter"
   ],
   "metadata": {
    "collapsed": false
   },
   "id": "2fd2d3af95190950"
  },
  {
   "cell_type": "markdown",
   "source": [
    "so, as we checked we NA's in Quarterly Sales and in Seller Rating"
   ],
   "metadata": {
    "collapsed": false
   },
   "id": "75a4f91d04f071af"
  },
  {
   "cell_type": "markdown",
   "source": [
    "we've found that values in Quarterly Sales is Revenue divide on Units Sold. So, instead of replacing all data by the mean/median/mode we can just replace it by Revenue divide on Units Sold"
   ],
   "metadata": {
    "collapsed": false
   },
   "id": "326c8b090d2390cc"
  },
  {
   "cell_type": "code",
   "outputs": [],
   "source": [
    "df['Quarterly Sales'] = pd.to_numeric(df['Quarterly Sales'], errors='coerce').fillna(df[\"Revenue\"] // df[\"Units Sold\"]).astype(int)"
   ],
   "metadata": {
    "collapsed": false,
    "ExecuteTime": {
     "end_time": "2024-01-12T18:56:54.887901766Z",
     "start_time": "2024-01-12T18:56:54.842697985Z"
    }
   },
   "id": "5a529477aca96082",
   "execution_count": 61
  },
  {
   "cell_type": "markdown",
   "source": [
    "let's see if there are a NA in column"
   ],
   "metadata": {
    "collapsed": false
   },
   "id": "fcf778308a5e2b7"
  },
  {
   "cell_type": "code",
   "outputs": [
    {
     "data": {
      "text/plain": "0"
     },
     "execution_count": 63,
     "metadata": {},
     "output_type": "execute_result"
    }
   ],
   "source": [
    "df[\"Quarterly Sales\"].isna().sum()"
   ],
   "metadata": {
    "collapsed": false,
    "ExecuteTime": {
     "end_time": "2024-01-12T18:58:02.052036964Z",
     "start_time": "2024-01-12T18:58:02.035999162Z"
    }
   },
   "id": "3b981fbe843b8036",
   "execution_count": 63
  },
  {
   "cell_type": "markdown",
   "source": [
    "so, there isn't any NA's"
   ],
   "metadata": {
    "collapsed": false
   },
   "id": "563bc5264176e9d8"
  },
  {
   "cell_type": "markdown",
   "source": [
    "let's the data in this column"
   ],
   "metadata": {
    "collapsed": false
   },
   "id": "ac833424ae065967"
  },
  {
   "cell_type": "code",
   "outputs": [
    {
     "data": {
      "text/plain": "0      1200\n1      1200\n2      1200\n3      1200\n4      1200\n       ... \n947    1100\n948    1100\n949    1100\n950    1100\n951    1100\nName: Quarterly Sales, Length: 952, dtype: int64"
     },
     "execution_count": 64,
     "metadata": {},
     "output_type": "execute_result"
    }
   ],
   "source": [
    "df[\"Quarterly Sales\"]"
   ],
   "metadata": {
    "collapsed": false,
    "ExecuteTime": {
     "end_time": "2024-01-12T18:58:58.727879835Z",
     "start_time": "2024-01-12T18:58:58.686743180Z"
    }
   },
   "id": "f5b04c6f270a2f4",
   "execution_count": 64
  },
  {
   "cell_type": "markdown",
   "source": [
    "median of rating since all data in integer we should use meidan"
   ],
   "metadata": {
    "collapsed": false
   },
   "id": "2c91965285ea6442"
  },
  {
   "cell_type": "code",
   "outputs": [],
   "source": [
    "df['Seller Rating'].fillna(df['Seller Rating'].median(), inplace=True)"
   ],
   "metadata": {
    "collapsed": false,
    "ExecuteTime": {
     "end_time": "2024-01-12T19:03:58.157859702Z",
     "start_time": "2024-01-12T19:03:58.150215745Z"
    }
   },
   "id": "a2f6f7747c6a715b",
   "execution_count": 66
  },
  {
   "cell_type": "markdown",
   "source": [
    "the same with advertising cost "
   ],
   "metadata": {
    "collapsed": false
   },
   "id": "de14595b6c848596"
  },
  {
   "cell_type": "code",
   "outputs": [],
   "source": [
    "df['Advertising Cost'].fillna(df['Advertising Cost'].mean(), inplace=True)"
   ],
   "metadata": {
    "collapsed": false,
    "ExecuteTime": {
     "end_time": "2024-01-12T19:03:56.614249570Z",
     "start_time": "2024-01-12T19:03:56.568035361Z"
    }
   },
   "id": "3a730e5c14f17a20",
   "execution_count": 65
  }
 ],
 "metadata": {
  "kernelspec": {
   "display_name": "Python 3",
   "language": "python",
   "name": "python3"
  },
  "language_info": {
   "codemirror_mode": {
    "name": "ipython",
    "version": 2
   },
   "file_extension": ".py",
   "mimetype": "text/x-python",
   "name": "python",
   "nbconvert_exporter": "python",
   "pygments_lexer": "ipython2",
   "version": "2.7.6"
  }
 },
 "nbformat": 4,
 "nbformat_minor": 5
}
