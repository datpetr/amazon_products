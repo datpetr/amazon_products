{
 "cells": [
  {
   "cell_type": "markdown",
   "source": [
    "First of all, let's import the libraries we'll be working with"
   ],
   "metadata": {
    "collapsed": false
   },
   "id": "78e7ef115d69c9c1"
  },
  {
   "cell_type": "code",
   "outputs": [],
   "source": [
    "import pandas as pd\n",
    "from pandas import DataFrame"
   ],
   "metadata": {
    "collapsed": false,
    "ExecuteTime": {
     "end_time": "2024-01-13T09:00:47.213748196Z",
     "start_time": "2024-01-13T09:00:46.707196046Z"
    }
   },
   "id": "82364a621d74631e",
   "execution_count": 1
  },
  {
   "cell_type": "markdown",
   "source": [
    "Now we will create a functions that we will use throughout the code\n",
    "\n",
    "- First of it will be function that will show the head of the table"
   ],
   "metadata": {
    "collapsed": false
   },
   "id": "edfe86d3dbfb50f"
  },
  {
   "cell_type": "code",
   "outputs": [],
   "source": [
    "def show_head(df):\n",
    "    return df.head()"
   ],
   "metadata": {
    "collapsed": false,
    "ExecuteTime": {
     "end_time": "2024-01-13T09:00:47.219386936Z",
     "start_time": "2024-01-13T09:00:47.133584853Z"
    }
   },
   "id": "f3cd9e3d16bfa94a",
   "execution_count": 2
  },
  {
   "cell_type": "markdown",
   "source": [
    "- this function will show the datatypes of variables"
   ],
   "metadata": {
    "collapsed": false
   },
   "id": "88fe6c8deea957f1"
  },
  {
   "cell_type": "code",
   "outputs": [],
   "source": [
    "def show_data_type(df):\n",
    "    return df.dtypes"
   ],
   "metadata": {
    "collapsed": false,
    "ExecuteTime": {
     "end_time": "2024-01-13T09:00:47.223133Z",
     "start_time": "2024-01-13T09:00:47.134111251Z"
    }
   },
   "id": "732bdd3d689e19d5",
   "execution_count": 3
  },
  {
   "cell_type": "markdown",
   "source": [
    "- and the third will show the general info about datasets"
   ],
   "metadata": {
    "collapsed": false
   },
   "id": "a6014ff3cf45ce0a"
  },
  {
   "cell_type": "code",
   "outputs": [],
   "source": [
    "def show_info(df):\n",
    "    return df.info()"
   ],
   "metadata": {
    "collapsed": false,
    "ExecuteTime": {
     "end_time": "2024-01-13T09:00:47.238167919Z",
     "start_time": "2024-01-13T09:00:47.134565212Z"
    }
   },
   "id": "58b24d9e953984f5",
   "execution_count": 4
  },
  {
   "cell_type": "markdown",
   "source": [
    "0. To start with, I have read the file to a dataframe."
   ],
   "metadata": {
    "collapsed": false
   },
   "id": "c6c8c85ff28a787c"
  },
  {
   "cell_type": "code",
   "outputs": [
    {
     "data": {
      "text/plain": "  Amazon Sales Dataset : The dataset consists of 121 observations Unnamed: 1  \\\n0                                                NaN                     NaN   \n1                                           CATEGORY               PRODUCTID   \n2                                        Electronics                      E1   \n3                                           Clothing                      C2   \n4                                              Books                      B3   \n\n  Unnamed: 2 Unnamed: 3      Unnamed: 4      Unnamed: 5    Unnamed: 6  \\\n0        NaN        NaN             NaN             NaN           NaN   \n1      YEASR    QUARTER  QuarterlySales  CustomerRating  SELLERRATING   \n2       2018         Q1            1200               4             4   \n3       2019         Q2             800               5             4   \n4       2020         Q3             600               4             3   \n\n                  Unnamed: 7  \\\n0                        NaN   \n1  the product price in USD.   \n2                        200   \n3                         50   \n4                         30   \n\n                                          Unnamed: 8 Unnamed: 9 Unnamed: 10  \\\n0                                                NaN        NaN         NaN   \n1  the discount applied to the product in percentage  UnitsSold     Revenue   \n2                                                 10         50       10000   \n3                                                  5        200       16000   \n4                                                 15        100        6000   \n\n      Unnamed: 11               Unnamed: 12      Unnamed: 13  \n0             NaN                       NaN              NaN  \n1  ShippingMethod  the location of the sale  AdvertisingCost  \n2        Standard                        US              500  \n3         Express                        EU              200  \n4        Standard                      Asia              300  ",
      "text/html": "<div>\n<style scoped>\n    .dataframe tbody tr th:only-of-type {\n        vertical-align: middle;\n    }\n\n    .dataframe tbody tr th {\n        vertical-align: top;\n    }\n\n    .dataframe thead th {\n        text-align: right;\n    }\n</style>\n<table border=\"1\" class=\"dataframe\">\n  <thead>\n    <tr style=\"text-align: right;\">\n      <th></th>\n      <th>Amazon Sales Dataset : The dataset consists of 121 observations</th>\n      <th>Unnamed: 1</th>\n      <th>Unnamed: 2</th>\n      <th>Unnamed: 3</th>\n      <th>Unnamed: 4</th>\n      <th>Unnamed: 5</th>\n      <th>Unnamed: 6</th>\n      <th>Unnamed: 7</th>\n      <th>Unnamed: 8</th>\n      <th>Unnamed: 9</th>\n      <th>Unnamed: 10</th>\n      <th>Unnamed: 11</th>\n      <th>Unnamed: 12</th>\n      <th>Unnamed: 13</th>\n    </tr>\n  </thead>\n  <tbody>\n    <tr>\n      <th>0</th>\n      <td>NaN</td>\n      <td>NaN</td>\n      <td>NaN</td>\n      <td>NaN</td>\n      <td>NaN</td>\n      <td>NaN</td>\n      <td>NaN</td>\n      <td>NaN</td>\n      <td>NaN</td>\n      <td>NaN</td>\n      <td>NaN</td>\n      <td>NaN</td>\n      <td>NaN</td>\n      <td>NaN</td>\n    </tr>\n    <tr>\n      <th>1</th>\n      <td>CATEGORY</td>\n      <td>PRODUCTID</td>\n      <td>YEASR</td>\n      <td>QUARTER</td>\n      <td>QuarterlySales</td>\n      <td>CustomerRating</td>\n      <td>SELLERRATING</td>\n      <td>the product price in USD.</td>\n      <td>the discount applied to the product in percentage</td>\n      <td>UnitsSold</td>\n      <td>Revenue</td>\n      <td>ShippingMethod</td>\n      <td>the location of the sale</td>\n      <td>AdvertisingCost</td>\n    </tr>\n    <tr>\n      <th>2</th>\n      <td>Electronics</td>\n      <td>E1</td>\n      <td>2018</td>\n      <td>Q1</td>\n      <td>1200</td>\n      <td>4</td>\n      <td>4</td>\n      <td>200</td>\n      <td>10</td>\n      <td>50</td>\n      <td>10000</td>\n      <td>Standard</td>\n      <td>US</td>\n      <td>500</td>\n    </tr>\n    <tr>\n      <th>3</th>\n      <td>Clothing</td>\n      <td>C2</td>\n      <td>2019</td>\n      <td>Q2</td>\n      <td>800</td>\n      <td>5</td>\n      <td>4</td>\n      <td>50</td>\n      <td>5</td>\n      <td>200</td>\n      <td>16000</td>\n      <td>Express</td>\n      <td>EU</td>\n      <td>200</td>\n    </tr>\n    <tr>\n      <th>4</th>\n      <td>Books</td>\n      <td>B3</td>\n      <td>2020</td>\n      <td>Q3</td>\n      <td>600</td>\n      <td>4</td>\n      <td>3</td>\n      <td>30</td>\n      <td>15</td>\n      <td>100</td>\n      <td>6000</td>\n      <td>Standard</td>\n      <td>Asia</td>\n      <td>300</td>\n    </tr>\n  </tbody>\n</table>\n</div>"
     },
     "execution_count": 5,
     "metadata": {},
     "output_type": "execute_result"
    }
   ],
   "source": [
    "show_head(pd.read_excel('data/Amazon.xlsx'))"
   ],
   "metadata": {
    "collapsed": false,
    "ExecuteTime": {
     "end_time": "2024-01-13T09:00:47.481190148Z",
     "start_time": "2024-01-13T09:00:47.135020010Z"
    }
   },
   "id": "ea02241a217bf5d8",
   "execution_count": 5
  },
  {
   "cell_type": "markdown",
   "source": [
    "I wanted to skip the title and the empty row in order to have a better view."
   ],
   "metadata": {
    "collapsed": false
   },
   "id": "67e6536d0f4e08d5"
  },
  {
   "cell_type": "code",
   "outputs": [],
   "source": [
    "df = pd.read_excel('data/Amazon.xlsx', header=None, skiprows=3)"
   ],
   "metadata": {
    "collapsed": false,
    "ExecuteTime": {
     "end_time": "2024-01-13T09:00:47.618535759Z",
     "start_time": "2024-01-13T09:00:47.308330315Z"
    }
   },
   "id": "62098d6ecc38ace2",
   "execution_count": 6
  },
  {
   "cell_type": "markdown",
   "source": [
    "let's check the changed data"
   ],
   "metadata": {
    "collapsed": false
   },
   "id": "16494adba9825ecf"
  },
  {
   "cell_type": "code",
   "outputs": [
    {
     "data": {
      "text/plain": "               0   1     2   3     4   5    6    7     8    9      10  \\\n0     Electronics  E1  2018  Q1  1200   4  4.0  200  10.0   50  10000   \n1        Clothing  C2  2019  Q2   800   5  4.0   50   5.0  200  16000   \n2           Books  B3  2020  Q3   600   4  3.0   30  15.0  100   6000   \n3  Home & Kitchen  H4  2021  Q4  1500   5  5.0  120   8.0   30  45000   \n4          Beauty  B5  2018  Q1  1000   4  3.0   80  12.0   40  40000   \n\n         11    12     13  \n0  Standard    US  500.0  \n1   Express    EU  200.0  \n2  Standard  Asia  300.0  \n3   Express    US  700.0  \n4  Standard    EU  400.0  ",
      "text/html": "<div>\n<style scoped>\n    .dataframe tbody tr th:only-of-type {\n        vertical-align: middle;\n    }\n\n    .dataframe tbody tr th {\n        vertical-align: top;\n    }\n\n    .dataframe thead th {\n        text-align: right;\n    }\n</style>\n<table border=\"1\" class=\"dataframe\">\n  <thead>\n    <tr style=\"text-align: right;\">\n      <th></th>\n      <th>0</th>\n      <th>1</th>\n      <th>2</th>\n      <th>3</th>\n      <th>4</th>\n      <th>5</th>\n      <th>6</th>\n      <th>7</th>\n      <th>8</th>\n      <th>9</th>\n      <th>10</th>\n      <th>11</th>\n      <th>12</th>\n      <th>13</th>\n    </tr>\n  </thead>\n  <tbody>\n    <tr>\n      <th>0</th>\n      <td>Electronics</td>\n      <td>E1</td>\n      <td>2018</td>\n      <td>Q1</td>\n      <td>1200</td>\n      <td>4</td>\n      <td>4.0</td>\n      <td>200</td>\n      <td>10.0</td>\n      <td>50</td>\n      <td>10000</td>\n      <td>Standard</td>\n      <td>US</td>\n      <td>500.0</td>\n    </tr>\n    <tr>\n      <th>1</th>\n      <td>Clothing</td>\n      <td>C2</td>\n      <td>2019</td>\n      <td>Q2</td>\n      <td>800</td>\n      <td>5</td>\n      <td>4.0</td>\n      <td>50</td>\n      <td>5.0</td>\n      <td>200</td>\n      <td>16000</td>\n      <td>Express</td>\n      <td>EU</td>\n      <td>200.0</td>\n    </tr>\n    <tr>\n      <th>2</th>\n      <td>Books</td>\n      <td>B3</td>\n      <td>2020</td>\n      <td>Q3</td>\n      <td>600</td>\n      <td>4</td>\n      <td>3.0</td>\n      <td>30</td>\n      <td>15.0</td>\n      <td>100</td>\n      <td>6000</td>\n      <td>Standard</td>\n      <td>Asia</td>\n      <td>300.0</td>\n    </tr>\n    <tr>\n      <th>3</th>\n      <td>Home &amp; Kitchen</td>\n      <td>H4</td>\n      <td>2021</td>\n      <td>Q4</td>\n      <td>1500</td>\n      <td>5</td>\n      <td>5.0</td>\n      <td>120</td>\n      <td>8.0</td>\n      <td>30</td>\n      <td>45000</td>\n      <td>Express</td>\n      <td>US</td>\n      <td>700.0</td>\n    </tr>\n    <tr>\n      <th>4</th>\n      <td>Beauty</td>\n      <td>B5</td>\n      <td>2018</td>\n      <td>Q1</td>\n      <td>1000</td>\n      <td>4</td>\n      <td>3.0</td>\n      <td>80</td>\n      <td>12.0</td>\n      <td>40</td>\n      <td>40000</td>\n      <td>Standard</td>\n      <td>EU</td>\n      <td>400.0</td>\n    </tr>\n  </tbody>\n</table>\n</div>"
     },
     "execution_count": 7,
     "metadata": {},
     "output_type": "execute_result"
    }
   ],
   "source": [
    "show_head(df)"
   ],
   "metadata": {
    "collapsed": false,
    "ExecuteTime": {
     "end_time": "2024-01-13T09:00:47.623615371Z",
     "start_time": "2024-01-13T09:00:47.341654570Z"
    }
   },
   "id": "9aeffe5ca2ca021e",
   "execution_count": 7
  },
  {
   "cell_type": "markdown",
   "source": [
    "after the checking, it seems good. To check the datatype we first name columns"
   ],
   "metadata": {
    "collapsed": false
   },
   "id": "6d5156c6eb526ce1"
  },
  {
   "cell_type": "code",
   "outputs": [],
   "source": [
    "df.columns = [\"Category\", \"Product ID\", \"Year\", \"Quarter\", \"Quarterly Sales\", \"Customer Rating\", \"Seller Rating\", \"Price\", \"Discount Rate\", \"Units Sold\", \"Revenue\", \"Shipping Method\", \"Location\", \"Advertising Cost\"]"
   ],
   "metadata": {
    "collapsed": false,
    "ExecuteTime": {
     "end_time": "2024-01-13T09:00:47.649572208Z",
     "start_time": "2024-01-13T09:00:47.344894403Z"
    }
   },
   "id": "e9af46281815a996",
   "execution_count": 8
  },
  {
   "cell_type": "markdown",
   "source": [
    "let's check the changed names of variables "
   ],
   "metadata": {
    "collapsed": false
   },
   "id": "b9da3e4d5ac242ec"
  },
  {
   "cell_type": "code",
   "outputs": [
    {
     "data": {
      "text/plain": "         Category Product ID  Year Quarter Quarterly Sales  Customer Rating  \\\n0     Electronics         E1  2018      Q1            1200                4   \n1        Clothing         C2  2019      Q2             800                5   \n2           Books         B3  2020      Q3             600                4   \n3  Home & Kitchen         H4  2021      Q4            1500                5   \n4          Beauty         B5  2018      Q1            1000                4   \n\n   Seller Rating  Price  Discount Rate  Units Sold  Revenue Shipping Method  \\\n0            4.0    200           10.0          50    10000        Standard   \n1            4.0     50            5.0         200    16000         Express   \n2            3.0     30           15.0         100     6000        Standard   \n3            5.0    120            8.0          30    45000         Express   \n4            3.0     80           12.0          40    40000        Standard   \n\n  Location  Advertising Cost  \n0       US             500.0  \n1       EU             200.0  \n2     Asia             300.0  \n3       US             700.0  \n4       EU             400.0  ",
      "text/html": "<div>\n<style scoped>\n    .dataframe tbody tr th:only-of-type {\n        vertical-align: middle;\n    }\n\n    .dataframe tbody tr th {\n        vertical-align: top;\n    }\n\n    .dataframe thead th {\n        text-align: right;\n    }\n</style>\n<table border=\"1\" class=\"dataframe\">\n  <thead>\n    <tr style=\"text-align: right;\">\n      <th></th>\n      <th>Category</th>\n      <th>Product ID</th>\n      <th>Year</th>\n      <th>Quarter</th>\n      <th>Quarterly Sales</th>\n      <th>Customer Rating</th>\n      <th>Seller Rating</th>\n      <th>Price</th>\n      <th>Discount Rate</th>\n      <th>Units Sold</th>\n      <th>Revenue</th>\n      <th>Shipping Method</th>\n      <th>Location</th>\n      <th>Advertising Cost</th>\n    </tr>\n  </thead>\n  <tbody>\n    <tr>\n      <th>0</th>\n      <td>Electronics</td>\n      <td>E1</td>\n      <td>2018</td>\n      <td>Q1</td>\n      <td>1200</td>\n      <td>4</td>\n      <td>4.0</td>\n      <td>200</td>\n      <td>10.0</td>\n      <td>50</td>\n      <td>10000</td>\n      <td>Standard</td>\n      <td>US</td>\n      <td>500.0</td>\n    </tr>\n    <tr>\n      <th>1</th>\n      <td>Clothing</td>\n      <td>C2</td>\n      <td>2019</td>\n      <td>Q2</td>\n      <td>800</td>\n      <td>5</td>\n      <td>4.0</td>\n      <td>50</td>\n      <td>5.0</td>\n      <td>200</td>\n      <td>16000</td>\n      <td>Express</td>\n      <td>EU</td>\n      <td>200.0</td>\n    </tr>\n    <tr>\n      <th>2</th>\n      <td>Books</td>\n      <td>B3</td>\n      <td>2020</td>\n      <td>Q3</td>\n      <td>600</td>\n      <td>4</td>\n      <td>3.0</td>\n      <td>30</td>\n      <td>15.0</td>\n      <td>100</td>\n      <td>6000</td>\n      <td>Standard</td>\n      <td>Asia</td>\n      <td>300.0</td>\n    </tr>\n    <tr>\n      <th>3</th>\n      <td>Home &amp; Kitchen</td>\n      <td>H4</td>\n      <td>2021</td>\n      <td>Q4</td>\n      <td>1500</td>\n      <td>5</td>\n      <td>5.0</td>\n      <td>120</td>\n      <td>8.0</td>\n      <td>30</td>\n      <td>45000</td>\n      <td>Express</td>\n      <td>US</td>\n      <td>700.0</td>\n    </tr>\n    <tr>\n      <th>4</th>\n      <td>Beauty</td>\n      <td>B5</td>\n      <td>2018</td>\n      <td>Q1</td>\n      <td>1000</td>\n      <td>4</td>\n      <td>3.0</td>\n      <td>80</td>\n      <td>12.0</td>\n      <td>40</td>\n      <td>40000</td>\n      <td>Standard</td>\n      <td>EU</td>\n      <td>400.0</td>\n    </tr>\n  </tbody>\n</table>\n</div>"
     },
     "execution_count": 9,
     "metadata": {},
     "output_type": "execute_result"
    }
   ],
   "source": [
    "show_head(df)"
   ],
   "metadata": {
    "collapsed": false,
    "ExecuteTime": {
     "end_time": "2024-01-13T09:00:47.683151254Z",
     "start_time": "2024-01-13T09:00:47.352210180Z"
    }
   },
   "id": "49b5269687d96c46",
   "execution_count": 9
  },
  {
   "cell_type": "markdown",
   "source": [
    "1. examine the variables and their datatypes"
   ],
   "metadata": {
    "collapsed": false
   },
   "id": "313a29884c5b9a46"
  },
  {
   "cell_type": "code",
   "outputs": [
    {
     "data": {
      "text/plain": "Category             object\nProduct ID           object\nYear                  int64\nQuarter              object\nQuarterly Sales      object\nCustomer Rating       int64\nSeller Rating       float64\nPrice                 int64\nDiscount Rate       float64\nUnits Sold            int64\nRevenue               int64\nShipping Method      object\nLocation             object\nAdvertising Cost    float64\ndtype: object"
     },
     "execution_count": 10,
     "metadata": {},
     "output_type": "execute_result"
    }
   ],
   "source": [
    "show_data_type(df)"
   ],
   "metadata": {
    "collapsed": false,
    "ExecuteTime": {
     "end_time": "2024-01-13T09:00:47.724462632Z",
     "start_time": "2024-01-13T09:00:47.365373777Z"
    }
   },
   "id": "3565e22180085ef5",
   "execution_count": 10
  },
  {
   "cell_type": "markdown",
   "source": [
    "there seems to be problem with Discount Rate and Seller Rating, they should ve integer instead of floats. We are going to do this change later since it will be much easier"
   ],
   "metadata": {
    "collapsed": false
   },
   "id": "b44b66162e38f7c3"
  },
  {
   "cell_type": "markdown",
   "source": [
    "2. remove any separation error in variables.\n",
    "\n",
    "since we defined the header there is no need to check the existence of it check the exising of NA's"
   ],
   "metadata": {
    "collapsed": false
   },
   "id": "25da40cb1f56354"
  },
  {
   "cell_type": "code",
   "outputs": [
    {
     "data": {
      "text/plain": "Category            0\nProduct ID          0\nYear                0\nQuarter             0\nQuarterly Sales     2\nCustomer Rating     0\nSeller Rating       1\nPrice               0\nDiscount Rate       0\nUnits Sold          0\nRevenue             0\nShipping Method     0\nLocation            0\nAdvertising Cost    2\ndtype: int64"
     },
     "execution_count": 11,
     "metadata": {},
     "output_type": "execute_result"
    }
   ],
   "source": [
    "df.isna().sum()"
   ],
   "metadata": {
    "collapsed": false,
    "ExecuteTime": {
     "end_time": "2024-01-13T09:00:47.768940846Z",
     "start_time": "2024-01-13T09:00:47.439727264Z"
    }
   },
   "id": "2ba2ee5eefde3d5f",
   "execution_count": 11
  },
  {
   "cell_type": "markdown",
   "source": [
    "it is showed that there are NA's values in Seller Rating, Advertising Cost, Quarterly Sales\n",
    "\n",
    "for making sure that there isn't any NA type of string type let's first of all get rid of white spaces in the code"
   ],
   "metadata": {
    "collapsed": false
   },
   "id": "bfc0fd8999a956ff"
  },
  {
   "cell_type": "code",
   "outputs": [],
   "source": [
    "df = df.applymap(lambda x: x.strip() if isinstance(x, str) else x)"
   ],
   "metadata": {
    "collapsed": false,
    "ExecuteTime": {
     "end_time": "2024-01-13T09:00:48.144050108Z",
     "start_time": "2024-01-13T09:00:47.767884280Z"
    }
   },
   "id": "94db1e43d1b06711",
   "execution_count": 12
  },
  {
   "cell_type": "markdown",
   "source": [
    "and replacing string NA by NA"
   ],
   "metadata": {
    "collapsed": false
   },
   "id": "df87f3a2af12877a"
  },
  {
   "cell_type": "code",
   "outputs": [],
   "source": [
    "df.replace('NA', pd.NA, inplace=True)"
   ],
   "metadata": {
    "collapsed": false,
    "ExecuteTime": {
     "end_time": "2024-01-13T09:00:48.390558738Z",
     "start_time": "2024-01-13T09:00:48.115322307Z"
    }
   },
   "id": "9f5ed4b8a51fd7f0",
   "execution_count": 13
  },
  {
   "cell_type": "markdown",
   "source": [
    "let's check whether if there are new NA "
   ],
   "metadata": {
    "collapsed": false
   },
   "id": "59d293c6c04195b9"
  },
  {
   "cell_type": "code",
   "outputs": [
    {
     "data": {
      "text/plain": "Category            0\nProduct ID          0\nYear                0\nQuarter             0\nQuarterly Sales     3\nCustomer Rating     0\nSeller Rating       1\nPrice               0\nDiscount Rate       0\nUnits Sold          0\nRevenue             0\nShipping Method     0\nLocation            0\nAdvertising Cost    2\ndtype: int64"
     },
     "execution_count": 14,
     "metadata": {},
     "output_type": "execute_result"
    }
   ],
   "source": [
    "df.isna().sum()"
   ],
   "metadata": {
    "collapsed": false,
    "ExecuteTime": {
     "end_time": "2024-01-13T09:00:48.660791465Z",
     "start_time": "2024-01-13T09:00:48.366337613Z"
    }
   },
   "id": "319662135b756aa8",
   "execution_count": 14
  },
  {
   "cell_type": "markdown",
   "source": [
    "so, there was 1 string NA in column \"Quarterly Sales\"  "
   ],
   "metadata": {
    "collapsed": false
   },
   "id": "659b3f9e4fe634b8"
  },
  {
   "cell_type": "markdown",
   "source": [
    "so, there is a problem only in The column: Quarterly Sales, we will consider it later"
   ],
   "metadata": {
    "collapsed": false
   },
   "id": "4b79680fc963274f"
  },
  {
   "cell_type": "markdown",
   "source": [
    "Remove specified characters from string columns"
   ],
   "metadata": {
    "collapsed": false
   },
   "id": "dbe4c5e742806fb9"
  },
  {
   "cell_type": "code",
   "outputs": [],
   "source": [
    "df.replace(to_replace=[r'\\{', r'\\}', r';', r':', r',', r'\\t', r'\\n'], value='', regex=True, inplace=True)"
   ],
   "metadata": {
    "collapsed": false,
    "ExecuteTime": {
     "end_time": "2024-01-13T09:00:48.701782908Z",
     "start_time": "2024-01-13T09:00:48.638098201Z"
    }
   },
   "id": "f59629be1b75e106",
   "execution_count": 15
  },
  {
   "cell_type": "markdown",
   "source": [
    "\n",
    "3. since we define by ourselves the names of columns there is no need to check whether column headers are values, not variables names"
   ],
   "metadata": {
    "collapsed": false
   },
   "id": "b6d5d362f3bf7fa3"
  },
  {
   "cell_type": "markdown",
   "source": [
    "- for checking whether multiple variables are stored in both rows and columns. First of all, let's find out whether multiple datatypes present in a column"
   ],
   "metadata": {
    "collapsed": false
   },
   "id": "d0b3c65be82d801"
  },
  {
   "cell_type": "code",
   "outputs": [
    {
     "data": {
      "text/plain": "Category                                              {<class 'str'>}\nProduct ID                                            {<class 'str'>}\nYear                                                  {<class 'int'>}\nQuarter                                               {<class 'str'>}\nQuarterly Sales     {<class 'float'>, <class 'int'>, <class 'panda...\nCustomer Rating                                       {<class 'int'>}\nSeller Rating                                       {<class 'float'>}\nPrice                                                 {<class 'int'>}\nDiscount Rate                                       {<class 'float'>}\nUnits Sold                                            {<class 'int'>}\nRevenue                                               {<class 'int'>}\nShipping Method                                       {<class 'str'>}\nLocation                                              {<class 'str'>}\nAdvertising Cost                                    {<class 'float'>}\ndtype: object"
     },
     "execution_count": 16,
     "metadata": {},
     "output_type": "execute_result"
    }
   ],
   "source": [
    "df.applymap(type).apply(set)"
   ],
   "metadata": {
    "collapsed": false,
    "ExecuteTime": {
     "end_time": "2024-01-13T09:00:48.916370045Z",
     "start_time": "2024-01-13T09:00:48.707255724Z"
    }
   },
   "id": "37620d97b9875f08",
   "execution_count": 16
  },
  {
   "cell_type": "markdown",
   "source": [
    "so, we can see that in Quarterly Sales there are three types of value, we will fix it later, since we need to first of all find out what shall we do with NA's"
   ],
   "metadata": {
    "collapsed": false
   },
   "id": "fac5679d9830febc"
  },
  {
   "cell_type": "markdown",
   "source": [
    "Check if specific values indicate multiple variables in all columns"
   ],
   "metadata": {
    "collapsed": false
   },
   "id": "f9d25fd43928081c"
  },
  {
   "cell_type": "markdown",
   "source": [
    "creating the function that will check for presenting of a specific characters and after this remove it "
   ],
   "metadata": {
    "collapsed": false
   },
   "id": "b6a4e41a738f1d2f"
  },
  {
   "cell_type": "code",
   "outputs": [],
   "source": [
    "def check_and_remove_specific_values(df, specific_values):\n",
    "    return df.applymap(lambda x: ''.join(c for c in str(x) if c not in specific_values))"
   ],
   "metadata": {
    "collapsed": false,
    "ExecuteTime": {
     "end_time": "2024-01-13T09:00:49.058299435Z",
     "start_time": "2024-01-13T09:00:48.901158365Z"
    }
   },
   "id": "e252753d2b01be8c",
   "execution_count": 17
  },
  {
   "cell_type": "markdown",
   "source": [
    "let's check the columns"
   ],
   "metadata": {
    "collapsed": false
   },
   "id": "15093cf78fa8a773"
  },
  {
   "cell_type": "code",
   "outputs": [
    {
     "data": {
      "text/plain": "           Category Product ID  Year Quarter Quarterly Sales Customer Rating  \\\n0       Electronics         E1  2018      Q1            1200               4   \n1          Clothing         C2  2019      Q2             800               5   \n2             Books         B3  2020      Q3             600               4   \n3    Home & Kitchen         H4  2021      Q4            1500               5   \n4            Beauty         B5  2018      Q1            1000               4   \n..              ...        ...   ...     ...             ...             ...   \n117     Electronics        E26  2019      Q3             950               5   \n118        Clothing        C27  2020      Q4             680               4   \n119           Books        B28  2021      Q1             880               5   \n120  Home & Kitchen        H29  2018      Q2            1300               4   \n121          Beauty        B30  2019      Q3            1100               5   \n\n    Seller Rating Price Discount Rate Units Sold Revenue Shipping Method  \\\n0              40   200           100         50   10000        Standard   \n1              40    50            50        200   16000         Express   \n2              30    30           150        100    6000        Standard   \n3              50   120            80         30   45000         Express   \n4              30    80           120         40   40000        Standard   \n..            ...   ...           ...        ...     ...             ...   \n117            40   230           180         25   23750         Express   \n118            30    55            80         70    4760        Standard   \n119            50    38           120         60    5280         Express   \n120            30    90           150         25   32500        Standard   \n121            50    80           100         40   44000         Express   \n\n    Location Advertising Cost  \n0         US             5000  \n1         EU             2000  \n2       Asia             3000  \n3         US             7000  \n4         EU             4000  \n..       ...              ...  \n117       EU             5000  \n118     Asia             1500  \n119       US             2000  \n120       EU             6000  \n121     Asia             4000  \n\n[122 rows x 14 columns]",
      "text/html": "<div>\n<style scoped>\n    .dataframe tbody tr th:only-of-type {\n        vertical-align: middle;\n    }\n\n    .dataframe tbody tr th {\n        vertical-align: top;\n    }\n\n    .dataframe thead th {\n        text-align: right;\n    }\n</style>\n<table border=\"1\" class=\"dataframe\">\n  <thead>\n    <tr style=\"text-align: right;\">\n      <th></th>\n      <th>Category</th>\n      <th>Product ID</th>\n      <th>Year</th>\n      <th>Quarter</th>\n      <th>Quarterly Sales</th>\n      <th>Customer Rating</th>\n      <th>Seller Rating</th>\n      <th>Price</th>\n      <th>Discount Rate</th>\n      <th>Units Sold</th>\n      <th>Revenue</th>\n      <th>Shipping Method</th>\n      <th>Location</th>\n      <th>Advertising Cost</th>\n    </tr>\n  </thead>\n  <tbody>\n    <tr>\n      <th>0</th>\n      <td>Electronics</td>\n      <td>E1</td>\n      <td>2018</td>\n      <td>Q1</td>\n      <td>1200</td>\n      <td>4</td>\n      <td>40</td>\n      <td>200</td>\n      <td>100</td>\n      <td>50</td>\n      <td>10000</td>\n      <td>Standard</td>\n      <td>US</td>\n      <td>5000</td>\n    </tr>\n    <tr>\n      <th>1</th>\n      <td>Clothing</td>\n      <td>C2</td>\n      <td>2019</td>\n      <td>Q2</td>\n      <td>800</td>\n      <td>5</td>\n      <td>40</td>\n      <td>50</td>\n      <td>50</td>\n      <td>200</td>\n      <td>16000</td>\n      <td>Express</td>\n      <td>EU</td>\n      <td>2000</td>\n    </tr>\n    <tr>\n      <th>2</th>\n      <td>Books</td>\n      <td>B3</td>\n      <td>2020</td>\n      <td>Q3</td>\n      <td>600</td>\n      <td>4</td>\n      <td>30</td>\n      <td>30</td>\n      <td>150</td>\n      <td>100</td>\n      <td>6000</td>\n      <td>Standard</td>\n      <td>Asia</td>\n      <td>3000</td>\n    </tr>\n    <tr>\n      <th>3</th>\n      <td>Home &amp; Kitchen</td>\n      <td>H4</td>\n      <td>2021</td>\n      <td>Q4</td>\n      <td>1500</td>\n      <td>5</td>\n      <td>50</td>\n      <td>120</td>\n      <td>80</td>\n      <td>30</td>\n      <td>45000</td>\n      <td>Express</td>\n      <td>US</td>\n      <td>7000</td>\n    </tr>\n    <tr>\n      <th>4</th>\n      <td>Beauty</td>\n      <td>B5</td>\n      <td>2018</td>\n      <td>Q1</td>\n      <td>1000</td>\n      <td>4</td>\n      <td>30</td>\n      <td>80</td>\n      <td>120</td>\n      <td>40</td>\n      <td>40000</td>\n      <td>Standard</td>\n      <td>EU</td>\n      <td>4000</td>\n    </tr>\n    <tr>\n      <th>...</th>\n      <td>...</td>\n      <td>...</td>\n      <td>...</td>\n      <td>...</td>\n      <td>...</td>\n      <td>...</td>\n      <td>...</td>\n      <td>...</td>\n      <td>...</td>\n      <td>...</td>\n      <td>...</td>\n      <td>...</td>\n      <td>...</td>\n      <td>...</td>\n    </tr>\n    <tr>\n      <th>117</th>\n      <td>Electronics</td>\n      <td>E26</td>\n      <td>2019</td>\n      <td>Q3</td>\n      <td>950</td>\n      <td>5</td>\n      <td>40</td>\n      <td>230</td>\n      <td>180</td>\n      <td>25</td>\n      <td>23750</td>\n      <td>Express</td>\n      <td>EU</td>\n      <td>5000</td>\n    </tr>\n    <tr>\n      <th>118</th>\n      <td>Clothing</td>\n      <td>C27</td>\n      <td>2020</td>\n      <td>Q4</td>\n      <td>680</td>\n      <td>4</td>\n      <td>30</td>\n      <td>55</td>\n      <td>80</td>\n      <td>70</td>\n      <td>4760</td>\n      <td>Standard</td>\n      <td>Asia</td>\n      <td>1500</td>\n    </tr>\n    <tr>\n      <th>119</th>\n      <td>Books</td>\n      <td>B28</td>\n      <td>2021</td>\n      <td>Q1</td>\n      <td>880</td>\n      <td>5</td>\n      <td>50</td>\n      <td>38</td>\n      <td>120</td>\n      <td>60</td>\n      <td>5280</td>\n      <td>Express</td>\n      <td>US</td>\n      <td>2000</td>\n    </tr>\n    <tr>\n      <th>120</th>\n      <td>Home &amp; Kitchen</td>\n      <td>H29</td>\n      <td>2018</td>\n      <td>Q2</td>\n      <td>1300</td>\n      <td>4</td>\n      <td>30</td>\n      <td>90</td>\n      <td>150</td>\n      <td>25</td>\n      <td>32500</td>\n      <td>Standard</td>\n      <td>EU</td>\n      <td>6000</td>\n    </tr>\n    <tr>\n      <th>121</th>\n      <td>Beauty</td>\n      <td>B30</td>\n      <td>2019</td>\n      <td>Q3</td>\n      <td>1100</td>\n      <td>5</td>\n      <td>50</td>\n      <td>80</td>\n      <td>100</td>\n      <td>40</td>\n      <td>44000</td>\n      <td>Express</td>\n      <td>Asia</td>\n      <td>4000</td>\n    </tr>\n  </tbody>\n</table>\n<p>122 rows × 14 columns</p>\n</div>"
     },
     "execution_count": 18,
     "metadata": {},
     "output_type": "execute_result"
    }
   ],
   "source": [
    "# Define a list of specific values to check for and remove\n",
    "specific_values = [':', ';', ',', '.', '/', '?', '|', '*', '%']\n",
    "\n",
    "# Check for the presence of specific values in all columns\n",
    "check_and_remove_specific_values(df, specific_values)"
   ],
   "metadata": {
    "collapsed": false,
    "ExecuteTime": {
     "end_time": "2024-01-13T09:00:49.106584355Z",
     "start_time": "2024-01-13T09:00:49.037362165Z"
    }
   },
   "id": "93eed3edd726997b",
   "execution_count": 18
  },
  {
   "cell_type": "markdown",
   "source": [
    "so, right now we have the data that don't have any if these specific charters "
   ],
   "metadata": {
    "collapsed": false
   },
   "id": "c3d58be94143993f"
  },
  {
   "cell_type": "markdown",
   "source": [
    " let's check whether each string in each column one or more word characters let's check the pattern letter and one digit ot more digits Product ID"
   ],
   "metadata": {
    "collapsed": false
   },
   "id": "6329e62f99fe7f1c"
  },
  {
   "cell_type": "code",
   "outputs": [
    {
     "data": {
      "text/plain": "0      True\n1      True\n2      True\n3      True\n4      True\n       ... \n117    True\n118    True\n119    True\n120    True\n121    True\nName: Product ID, Length: 122, dtype: bool"
     },
     "execution_count": 19,
     "metadata": {},
     "output_type": "execute_result"
    }
   ],
   "source": [
    "pattern_to_check_product_id = '^[A-Z]\\d+$'\n",
    "# Check if the pattern is present in Product ID column\n",
    "\n",
    "df['Product ID'] = df['Product ID'].astype(str)  # Ensure the column is of string type\n",
    "df['Product ID'].str.match(pattern_to_check_product_id)"
   ],
   "metadata": {
    "collapsed": false,
    "ExecuteTime": {
     "end_time": "2024-01-13T09:00:49.250747160Z",
     "start_time": "2024-01-13T09:00:49.093842385Z"
    }
   },
   "id": "655d18d3527d2cdd",
   "execution_count": 19
  },
  {
   "cell_type": "markdown",
   "source": [
    "it seems that everything is ok "
   ],
   "metadata": {
    "collapsed": false
   },
   "id": "3088adffb6c88d1a"
  },
  {
   "cell_type": "markdown",
   "source": [
    "check whether quarter column has a patter Q and after this digit from 1 to 4 "
   ],
   "metadata": {
    "collapsed": false
   },
   "id": "5f89303f1ae573e9"
  },
  {
   "cell_type": "code",
   "outputs": [
    {
     "data": {
      "text/plain": "0      True\n1      True\n2      True\n3      True\n4      True\n       ... \n117    True\n118    True\n119    True\n120    True\n121    True\nName: Quarter, Length: 122, dtype: bool"
     },
     "execution_count": 20,
     "metadata": {},
     "output_type": "execute_result"
    }
   ],
   "source": [
    "pattern_to_check_quarter = '^Q[1-4]$'\n",
    "\n",
    "# Check if the pattern is present in Quarter column\n",
    "df['Quarter'] = df['Quarter'].astype(str)  # Ensure the column is of string type\n",
    "df['Quarter'].str.match(pattern_to_check_quarter)"
   ],
   "metadata": {
    "collapsed": false,
    "ExecuteTime": {
     "end_time": "2024-01-13T09:00:49.298367133Z",
     "start_time": "2024-01-13T09:00:49.238088867Z"
    }
   },
   "id": "b0342a14fce57e3e",
   "execution_count": 20
  },
  {
   "cell_type": "markdown",
   "source": [
    "it seems that everything is ok "
   ],
   "metadata": {
    "collapsed": false
   },
   "id": "c622f0061bd2f7c4"
  },
  {
   "cell_type": "markdown",
   "source": [
    "let's check the others categorical columns that they contain only letters "
   ],
   "metadata": {
    "collapsed": false
   },
   "id": "bffd4c5917c84680"
  },
  {
   "cell_type": "code",
   "outputs": [
    {
     "name": "stdout",
     "output_type": "stream",
     "text": [
      "Category contains only digits:\n",
      "0      True\n",
      "1      True\n",
      "2      True\n",
      "3      True\n",
      "4      True\n",
      "       ... \n",
      "117    True\n",
      "118    True\n",
      "119    True\n",
      "120    True\n",
      "121    True\n",
      "Name: Category, Length: 122, dtype: bool\n",
      "Location contains only digits:\n",
      "0      True\n",
      "1      True\n",
      "2      True\n",
      "3      True\n",
      "4      True\n",
      "       ... \n",
      "117    True\n",
      "118    True\n",
      "119    True\n",
      "120    True\n",
      "121    True\n",
      "Name: Location, Length: 122, dtype: bool\n",
      "Shipping Method contains only digits:\n",
      "0      True\n",
      "1      True\n",
      "2      True\n",
      "3      True\n",
      "4      True\n",
      "       ... \n",
      "117    True\n",
      "118    True\n",
      "119    True\n",
      "120    True\n",
      "121    True\n",
      "Name: Shipping Method, Length: 122, dtype: bool\n"
     ]
    }
   ],
   "source": [
    "# Identify categorical columns (excluding 'Product ID' and 'Quarter')\n",
    "categorical_columns = df.select_dtypes(include='object').columns.difference(['Product ID', 'Quarter', 'Quarterly Sales'])\n",
    "\n",
    "# Check if categorical columns contain only digits\n",
    "for column in categorical_columns:\n",
    "    df[column] = df[column].astype(str)  # Ensure the column is of string type\n",
    "    contains_only_digits = df[column].str.match(r'\\w+')\n",
    "    print(f\"{column} contains only digits:\")\n",
    "    print(contains_only_digits)"
   ],
   "metadata": {
    "collapsed": false,
    "ExecuteTime": {
     "end_time": "2024-01-13T09:00:49.465378374Z",
     "start_time": "2024-01-13T09:00:49.286436667Z"
    }
   },
   "id": "27f57fff67c89459",
   "execution_count": 21
  },
  {
   "cell_type": "markdown",
   "source": [
    "Column Category, Location, Shipping method contains only letters they are Ok"
   ],
   "metadata": {
    "collapsed": false
   },
   "id": "a81d107c0e0c128f"
  },
  {
   "cell_type": "markdown",
   "source": [
    "other columns should be check later since they contain NA values that should be evaluated "
   ],
   "metadata": {
    "collapsed": false
   },
   "id": "231410e1c363749"
  },
  {
   "cell_type": "markdown",
   "source": [
    "Check if variables are stored in both rows and columns"
   ],
   "metadata": {
    "collapsed": false
   },
   "id": "46d45974f189f3ca"
  },
  {
   "cell_type": "code",
   "outputs": [
    {
     "data": {
      "text/plain": "set()"
     },
     "execution_count": 22,
     "metadata": {},
     "output_type": "execute_result"
    }
   ],
   "source": [
    "set(df.columns) & set(df.values.flatten())"
   ],
   "metadata": {
    "collapsed": false,
    "ExecuteTime": {
     "end_time": "2024-01-13T09:00:49.616418586Z",
     "start_time": "2024-01-13T09:00:49.439125221Z"
    }
   },
   "id": "75af7c8712b54201",
   "execution_count": 22
  },
  {
   "cell_type": "markdown",
   "source": [
    "so it is shown the empty set it means none of variables are stored in both rows and columns"
   ],
   "metadata": {
    "collapsed": false
   },
   "id": "b4a9aa417b6e0e1a"
  },
  {
   "cell_type": "markdown",
   "source": [
    "since we have one table there is no need to check for whether a single observational unit exist in a different tables, only drop duplicates"
   ],
   "metadata": {
    "collapsed": false
   },
   "id": "95969dd0c7058f9c"
  },
  {
   "cell_type": "code",
   "outputs": [],
   "source": [
    "df.drop_duplicates(inplace=True)"
   ],
   "metadata": {
    "collapsed": false,
    "ExecuteTime": {
     "end_time": "2024-01-13T09:00:49.676105950Z",
     "start_time": "2024-01-13T09:00:49.502086797Z"
    }
   },
   "id": "f99b30bd4de687d7",
   "execution_count": 23
  },
  {
   "cell_type": "markdown",
   "source": [
    "4. we already fixed the column names"
   ],
   "metadata": {
    "collapsed": false
   },
   "id": "21ab94c6621b235a"
  },
  {
   "cell_type": "markdown",
   "source": [
    "5. The product ID column is unnecessary for data visualization, so I'm deleting it."
   ],
   "metadata": {
    "collapsed": false
   },
   "id": "2d2800920623b70a"
  },
  {
   "cell_type": "code",
   "outputs": [],
   "source": [
    "df = df.drop(\"Product ID\", axis=1)"
   ],
   "metadata": {
    "collapsed": false,
    "ExecuteTime": {
     "end_time": "2024-01-13T09:00:49.845369834Z",
     "start_time": "2024-01-13T09:00:49.678092837Z"
    }
   },
   "id": "b7f7bd2bfa8b48a4",
   "execution_count": 24
  },
  {
   "cell_type": "markdown",
   "source": [
    "6. we already clean data from duplicates "
   ],
   "metadata": {
    "collapsed": false
   },
   "id": "6971d06a188d7b99"
  },
  {
   "cell_type": "markdown",
   "source": [
    "7. we already check if we have any unnecessary strings in the values."
   ],
   "metadata": {
    "collapsed": false
   },
   "id": "d0330f69989ccd88"
  },
  {
   "cell_type": "markdown",
   "source": [
    "8. we already check for whitespaces"
   ],
   "metadata": {
    "collapsed": false
   },
   "id": "4b37407a55e4795b"
  },
  {
   "cell_type": "markdown",
   "source": [
    "9. we need to format a titles"
   ],
   "metadata": {
    "collapsed": false
   },
   "id": "ad78606959778988"
  },
  {
   "cell_type": "code",
   "outputs": [],
   "source": [
    "df[\"Category\"] = df[\"Category\"].str.title()"
   ],
   "metadata": {
    "collapsed": false,
    "ExecuteTime": {
     "end_time": "2024-01-13T09:00:49.944457934Z",
     "start_time": "2024-01-13T09:00:49.827379815Z"
    }
   },
   "id": "50ea4b060fc90cb0",
   "execution_count": 25
  },
  {
   "cell_type": "markdown",
   "source": [
    "10. We don't have to check if levels of categories are unique since we don't need it to be unique for this data set."
   ],
   "metadata": {
    "collapsed": false
   },
   "id": "7a7f8204de0b20a6"
  },
  {
   "cell_type": "markdown",
   "source": [
    "11. we need to create a column that would specify year and quarter but firstly we need to work with Year column."
   ],
   "metadata": {
    "collapsed": false
   },
   "id": "b42e59f2cfb23b38"
  },
  {
   "cell_type": "markdown",
   "source": [
    "some data has at the end uneceasty one more digit let's get rid of id"
   ],
   "metadata": {
    "collapsed": false
   },
   "id": "a7790b506521055c"
  },
  {
   "cell_type": "code",
   "outputs": [],
   "source": [
    "df['Year'] = df['Year'].astype(str)\n",
    "df['Year'] = df['Year'].str[:4]\n",
    "df['Year'] = df['Year'].astype(int)"
   ],
   "metadata": {
    "collapsed": false,
    "ExecuteTime": {
     "end_time": "2024-01-13T09:00:50.036300353Z",
     "start_time": "2024-01-13T09:00:49.876641570Z"
    }
   },
   "id": "8c647a3ad8ea844e",
   "execution_count": 26
  },
  {
   "cell_type": "markdown",
   "source": [
    "right now we can create a new column"
   ],
   "metadata": {
    "collapsed": false
   },
   "id": "5da9eaafe30a7d1"
  },
  {
   "cell_type": "code",
   "outputs": [
    {
     "data": {
      "text/plain": "0     2018-01-31\n1     2018-02-28\n2     2019-04-30\n3     2019-05-31\n4     2020-07-31\n         ...    \n233   2021-02-28\n234   2018-04-30\n235   2018-05-31\n236   2019-07-31\n237   2019-08-31\nName: Date, Length: 238, dtype: datetime64[ns]"
     },
     "execution_count": 27,
     "metadata": {},
     "output_type": "execute_result"
    }
   ],
   "source": [
    "# Function to create date range for each row\n",
    "def generate_date(row):\n",
    "    quarter_map = {'Q1': '01', 'Q2': '04', 'Q3': '07', 'Q4': '10'}\n",
    "    start_date_str = f\"{row['Year']}-{quarter_map[row['Quarter']]}\"\n",
    "    start_date = pd.to_datetime(start_date_str, format=\"%Y-%m\")\n",
    "    end_date = start_date + pd.DateOffset(months=2)\n",
    "    return pd.date_range(start=start_date, end=end_date, freq='M')\n",
    "# Apply the function to create the 'Date' column\n",
    "df['Date'] = df.apply(generate_date, axis=1)\n",
    "\n",
    "# Explode the 'Date' column to handle the date range\n",
    "df = df.explode('Date').reset_index(drop=True)\n",
    "\n",
    "# Display the DataFrame\n",
    "df[\"Date\"]"
   ],
   "metadata": {
    "collapsed": false,
    "ExecuteTime": {
     "end_time": "2024-01-13T09:00:50.120037628Z",
     "start_time": "2024-01-13T09:00:49.998910998Z"
    }
   },
   "id": "b519a4582749a5d3",
   "execution_count": 27
  },
  {
   "cell_type": "markdown",
   "source": [
    "we created a new column that will have date format with specifying purchases in the quarter"
   ],
   "metadata": {
    "collapsed": false
   },
   "id": "2fd2d3af95190950"
  },
  {
   "cell_type": "markdown",
   "source": [
    "so, as we checked we NA's in Quarterly Sales and in Seller Rating"
   ],
   "metadata": {
    "collapsed": false
   },
   "id": "75a4f91d04f071af"
  },
  {
   "cell_type": "markdown",
   "source": [
    "we've found that values in Quarterly Sales is Revenue divide on Units Sold. So, instead of replacing all data by the mean/median/mode we can just replace it by Revenue divide on Units Sold"
   ],
   "metadata": {
    "collapsed": false
   },
   "id": "326c8b090d2390cc"
  },
  {
   "cell_type": "code",
   "outputs": [],
   "source": [
    "df['Quarterly Sales'] = df['Quarterly Sales'].fillna(df[\"Revenue\"] // df[\"Units Sold\"])\n",
    "df['Quarterly Sales'] = df['Quarterly Sales'].astype(int)"
   ],
   "metadata": {
    "collapsed": false,
    "ExecuteTime": {
     "end_time": "2024-01-13T09:00:50.204729558Z",
     "start_time": "2024-01-13T09:00:50.068857691Z"
    }
   },
   "id": "5a529477aca96082",
   "execution_count": 28
  },
  {
   "cell_type": "markdown",
   "source": [
    "let's see if there are a NA in column"
   ],
   "metadata": {
    "collapsed": false
   },
   "id": "fcf778308a5e2b7"
  },
  {
   "cell_type": "code",
   "outputs": [
    {
     "data": {
      "text/plain": "0"
     },
     "execution_count": 29,
     "metadata": {},
     "output_type": "execute_result"
    }
   ],
   "source": [
    "df[\"Quarterly Sales\"].isna().sum()"
   ],
   "metadata": {
    "collapsed": false,
    "ExecuteTime": {
     "end_time": "2024-01-13T09:00:50.262645337Z",
     "start_time": "2024-01-13T09:00:50.155281738Z"
    }
   },
   "id": "3b981fbe843b8036",
   "execution_count": 29
  },
  {
   "cell_type": "markdown",
   "source": [
    "so, there isn't any NA's"
   ],
   "metadata": {
    "collapsed": false
   },
   "id": "563bc5264176e9d8"
  },
  {
   "cell_type": "markdown",
   "source": [
    "let's the data in this column"
   ],
   "metadata": {
    "collapsed": false
   },
   "id": "ac833424ae065967"
  },
  {
   "cell_type": "code",
   "outputs": [
    {
     "data": {
      "text/plain": "           Category  Quarterly Sales\n118          Beauty             1300\n129          Beauty             1050\n128          Beauty             1050\n119          Beauty             1300\n236          Beauty             1100\n..              ...              ...\n7    Home & Kitchen             1500\n16   Home - Kitchen             1300\n17   Home - Kitchen             1300\n26   Home - Kitchen             1400\n27   Home - Kitchen             1400\n\n[238 rows x 2 columns]",
      "text/html": "<div>\n<style scoped>\n    .dataframe tbody tr th:only-of-type {\n        vertical-align: middle;\n    }\n\n    .dataframe tbody tr th {\n        vertical-align: top;\n    }\n\n    .dataframe thead th {\n        text-align: right;\n    }\n</style>\n<table border=\"1\" class=\"dataframe\">\n  <thead>\n    <tr style=\"text-align: right;\">\n      <th></th>\n      <th>Category</th>\n      <th>Quarterly Sales</th>\n    </tr>\n  </thead>\n  <tbody>\n    <tr>\n      <th>118</th>\n      <td>Beauty</td>\n      <td>1300</td>\n    </tr>\n    <tr>\n      <th>129</th>\n      <td>Beauty</td>\n      <td>1050</td>\n    </tr>\n    <tr>\n      <th>128</th>\n      <td>Beauty</td>\n      <td>1050</td>\n    </tr>\n    <tr>\n      <th>119</th>\n      <td>Beauty</td>\n      <td>1300</td>\n    </tr>\n    <tr>\n      <th>236</th>\n      <td>Beauty</td>\n      <td>1100</td>\n    </tr>\n    <tr>\n      <th>...</th>\n      <td>...</td>\n      <td>...</td>\n    </tr>\n    <tr>\n      <th>7</th>\n      <td>Home &amp; Kitchen</td>\n      <td>1500</td>\n    </tr>\n    <tr>\n      <th>16</th>\n      <td>Home - Kitchen</td>\n      <td>1300</td>\n    </tr>\n    <tr>\n      <th>17</th>\n      <td>Home - Kitchen</td>\n      <td>1300</td>\n    </tr>\n    <tr>\n      <th>26</th>\n      <td>Home - Kitchen</td>\n      <td>1400</td>\n    </tr>\n    <tr>\n      <th>27</th>\n      <td>Home - Kitchen</td>\n      <td>1400</td>\n    </tr>\n  </tbody>\n</table>\n<p>238 rows × 2 columns</p>\n</div>"
     },
     "execution_count": 30,
     "metadata": {},
     "output_type": "execute_result"
    }
   ],
   "source": [
    "sorted_df = df.sort_values(by='Category')\n",
    "sorted_df[[\"Category\", \"Quarterly Sales\"]]"
   ],
   "metadata": {
    "collapsed": false,
    "ExecuteTime": {
     "end_time": "2024-01-13T09:00:50.408154701Z",
     "start_time": "2024-01-13T09:00:50.269145429Z"
    }
   },
   "id": "f5b04c6f270a2f4",
   "execution_count": 30
  },
  {
   "cell_type": "markdown",
   "source": [
    "median of rating since all data in integer we should use meidan"
   ],
   "metadata": {
    "collapsed": false
   },
   "id": "2c91965285ea6442"
  },
  {
   "cell_type": "code",
   "outputs": [],
   "source": [
    "df['Seller Rating'].fillna(df['Seller Rating'].median(), inplace=True)"
   ],
   "metadata": {
    "collapsed": false,
    "ExecuteTime": {
     "end_time": "2024-01-13T09:00:50.431765951Z",
     "start_time": "2024-01-13T09:00:50.362547349Z"
    }
   },
   "id": "a2f6f7747c6a715b",
   "execution_count": 31
  },
  {
   "cell_type": "markdown",
   "source": [
    "the same with advertising cost "
   ],
   "metadata": {
    "collapsed": false
   },
   "id": "de14595b6c848596"
  },
  {
   "cell_type": "code",
   "outputs": [],
   "source": [
    "df['Advertising Cost'].fillna(df['Advertising Cost'].mean(), inplace=True)"
   ],
   "metadata": {
    "collapsed": false,
    "ExecuteTime": {
     "end_time": "2024-01-13T09:00:50.542064076Z",
     "start_time": "2024-01-13T09:00:50.420390127Z"
    }
   },
   "id": "3a730e5c14f17a20",
   "execution_count": 32
  },
  {
   "cell_type": "markdown",
   "source": [
    "some data in year is typed in a wring for example instead of 2019 there is written 20199"
   ],
   "metadata": {
    "collapsed": false
   },
   "id": "a24c360feb1f5224"
  },
  {
   "cell_type": "code",
   "outputs": [],
   "source": [
    "df['Year'] = df[\"Year\"].astype(str)\n",
    "df['Year'] = df['Year'].str[:4]\n",
    "df['Year'] = df[\"Year\"].astype(int)"
   ],
   "metadata": {
    "collapsed": false,
    "ExecuteTime": {
     "end_time": "2024-01-13T09:00:50.573926307Z",
     "start_time": "2024-01-13T09:00:50.484198127Z"
    }
   },
   "id": "502774f6ecfee929",
   "execution_count": 33
  },
  {
   "cell_type": "markdown",
   "source": [
    "let's review our change "
   ],
   "metadata": {
    "collapsed": false
   },
   "id": "52c5784bc6bd2836"
  },
  {
   "cell_type": "code",
   "outputs": [
    {
     "data": {
      "text/plain": "0      2018\n1      2018\n2      2019\n3      2019\n4      2020\n       ... \n233    2021\n234    2018\n235    2018\n236    2019\n237    2019\nName: Year, Length: 238, dtype: int64"
     },
     "execution_count": 34,
     "metadata": {},
     "output_type": "execute_result"
    }
   ],
   "source": [
    "df['Year']"
   ],
   "metadata": {
    "collapsed": false,
    "ExecuteTime": {
     "end_time": "2024-01-13T09:00:50.687323313Z",
     "start_time": "2024-01-13T09:00:50.545269386Z"
    }
   },
   "id": "966d701caecf6675",
   "execution_count": 34
  },
  {
   "cell_type": "markdown",
   "source": [
    "let's check whether in numeric exist negative, in our data it is unlikely if there would exist such values    "
   ],
   "metadata": {
    "collapsed": false
   },
   "id": "2fc48e158fe0e709"
  },
  {
   "cell_type": "code",
   "outputs": [
    {
     "name": "stdout",
     "output_type": "stream",
     "text": [
      "Negative values exist in the following columns: Customer Rating\n"
     ]
    }
   ],
   "source": [
    "negative_values_columns = df.select_dtypes(include='number').columns[df.select_dtypes(include='number').lt(0).any()]\n",
    "\n",
    "# Display the result\n",
    "if not negative_values_columns.empty:\n",
    "    print(f\"Negative values exist in the following columns: {', '.join(negative_values_columns)}\")\n",
    "else:\n",
    "    print(\"No negative values found in any numeric column.\")"
   ],
   "metadata": {
    "collapsed": false,
    "ExecuteTime": {
     "end_time": "2024-01-13T09:00:50.839439128Z",
     "start_time": "2024-01-13T09:00:50.675292999Z"
    }
   },
   "id": "b6847204092bfee9",
   "execution_count": 35
  },
  {
   "cell_type": "markdown",
   "source": [
    "range of rating is unlikely to be negative since almost all data is ranging\n",
    "from 0 to 5. we should change the negative values to positive one also convert all data to integer since all data is integer numbers"
   ],
   "metadata": {
    "collapsed": false
   },
   "id": "fe3d30cba540cf1f"
  },
  {
   "cell_type": "code",
   "outputs": [],
   "source": [
    "df[\"Customer Rating\"] = df[\"Customer Rating\"].abs().astype(int)"
   ],
   "metadata": {
    "collapsed": false,
    "ExecuteTime": {
     "end_time": "2024-01-13T09:00:50.885012074Z",
     "start_time": "2024-01-13T09:00:50.768201714Z"
    }
   },
   "id": "99c617265ef925c3",
   "execution_count": 36
  },
  {
   "cell_type": "markdown",
   "source": [
    "let's review the column"
   ],
   "metadata": {
    "collapsed": false
   },
   "id": "d726db1e14b9e60e"
  },
  {
   "cell_type": "code",
   "outputs": [
    {
     "data": {
      "text/plain": "False"
     },
     "execution_count": 37,
     "metadata": {},
     "output_type": "execute_result"
    }
   ],
   "source": [
    "(df['Customer Rating'] < 0).any()"
   ],
   "metadata": {
    "collapsed": false,
    "ExecuteTime": {
     "end_time": "2024-01-13T09:00:50.984934604Z",
     "start_time": "2024-01-13T09:00:50.864068055Z"
    }
   },
   "id": "7c7fe0c83915ba28",
   "execution_count": 37
  },
  {
   "cell_type": "markdown",
   "source": [
    "it shows that everything is OK"
   ],
   "metadata": {
    "collapsed": false
   },
   "id": "5b22ee4c104d2367"
  },
  {
   "cell_type": "markdown",
   "source": [
    "make all data inn columns in one type"
   ],
   "metadata": {
    "collapsed": false
   },
   "id": "3c27f693b4a90cd6"
  },
  {
   "cell_type": "code",
   "outputs": [],
   "source": [
    "df['Category'] = df['Category'].replace({'BEAUTY': 'Beauty',\n",
    "                                         'ELECTRONICS': 'Electronics',\n",
    "                                         'Home - Kitchen': 'Home & Kitchen',\n",
    "                                         'Book': 'Books'})\n",
    "df['Location'] = df['Location'].replace({'United States': 'US', 'ASIA': 'Asia', 'European Union': 'EU'})"
   ],
   "metadata": {
    "collapsed": false,
    "ExecuteTime": {
     "end_time": "2024-01-13T09:00:51.028745002Z",
     "start_time": "2024-01-13T09:00:50.970129304Z"
    }
   },
   "id": "12b0c5511ac80cec",
   "execution_count": 38
  },
  {
   "cell_type": "markdown",
   "source": [
    "let's check for outliers. It would be more logical if we will detect outliers in each column based on category since if we will change outliers based only on colum we might replace the data that corresponds to one category. Furthermore, average price might be 10 $ bur for the car might be 100000 $ and it would be unwise if we replace some of the by the median of column.   "
   ],
   "metadata": {
    "collapsed": false
   },
   "id": "f419b68ee82d4494"
  },
  {
   "cell_type": "markdown",
   "source": [
    "Let's write the function that will detect outliers based on Box-plot. Since each category isn't large we should detect extreme outliers  "
   ],
   "metadata": {
    "collapsed": false
   },
   "id": "3b20ca7895ace216"
  },
  {
   "cell_type": "code",
   "outputs": [],
   "source": [
    "def identify_outliers_by_category(df, category_column, numerical_column):\n",
    "    categories = df[category_column].unique()\n",
    "    outliers_dict = {}\n",
    "\n",
    "    for category in categories:\n",
    "        subset = df[df[category_column] == category]\n",
    "        column = subset[numerical_column]\n",
    "\n",
    "        Q1 = column.quantile(0.25)\n",
    "        Q3 = column.quantile(0.75)\n",
    "        IQR = Q3 - Q1\n",
    "        lower_bound = Q1 - 3 * IQR\n",
    "        upper_bound = Q3 + 3 * IQR\n",
    "        outliers = column[(column < lower_bound) | (column > upper_bound)]\n",
    "\n",
    "        # Check if the number of outliers doesn't exceed 10% of the category's data\n",
    "        if not outliers.empty:\n",
    "            category_count = len(subset)\n",
    "            outlier_count = len(outliers)\n",
    "            if outlier_count / category_count <= 0.1:\n",
    "                outliers_dict[category] = outliers\n",
    "\n",
    "    return outliers_dict"
   ],
   "metadata": {
    "collapsed": false,
    "ExecuteTime": {
     "end_time": "2024-01-13T09:00:51.131023959Z",
     "start_time": "2024-01-13T09:00:51.018937352Z"
    }
   },
   "id": "d2153a83331bc004",
   "execution_count": 39
  },
  {
   "cell_type": "markdown",
   "source": [
    "and part f the code that will proces all columns "
   ],
   "metadata": {
    "collapsed": false
   },
   "id": "757d30b6760a9070"
  },
  {
   "cell_type": "code",
   "outputs": [
    {
     "name": "stdout",
     "output_type": "stream",
     "text": [
      "\n",
      "Outliers in Year by Category:\n",
      "No outliers in Category\n",
      "\n",
      "Outliers in Quarterly Sales by Category:\n",
      "Outliers in Clothing: [70 70]\n",
      "\n",
      "Outliers in Price by Category:\n",
      "No outliers in Category\n",
      "\n",
      "Outliers in Units Sold by Category:\n",
      "No outliers in Category\n",
      "\n",
      "Outliers in Revenue by Category:\n",
      "Outliers in Electronics: [78000 78000]\n",
      "Outliers in Books: [84000 84000 84000 84000]\n",
      "\n",
      "Outliers in Advertising Cost by Category:\n",
      "No outliers in Category\n"
     ]
    }
   ],
   "source": [
    "# create a dict that will store outliers based on column \n",
    "outliers_by_category = {}\n",
    "for numerical_column in df.select_dtypes(include='number').columns:\n",
    "    if numerical_column not in [\"Customer Rating\", \"Seller Rating\", \"Discount Rate\"]:\n",
    "        outliers_by_category[numerical_column] = {}\n",
    "        for category_column in ['Category']:\n",
    "            outliers_by_category[numerical_column][category_column] = identify_outliers_by_category(df, category_column, numerical_column)\n",
    "                                                                           \n",
    "\n",
    "# Displaying outliers for each category\n",
    "for numerical_column, category_dict in outliers_by_category.items():\n",
    "    print(f\"\\nOutliers in {numerical_column} by Category:\")\n",
    "    for category_column, outliers in category_dict.items():\n",
    "        if outliers:\n",
    "            for cat, out_vals in outliers.items():\n",
    "                print(f\"Outliers in {cat}: {out_vals.values}\")\n",
    "        else:\n",
    "            print(f\"No outliers in {category_column}\")\n",
    "\n",
    "# Replacing outliers by mean of the specific columns within each category\n",
    "for numerical_column, category_dict in outliers_by_category.items():\n",
    "    for category_column, outliers in category_dict.items():\n",
    "        for cat, out_vals in outliers.items():\n",
    "            category_mean = df.loc[df[category_column] == cat, numerical_column].mean().astype(int)\n",
    "            df.loc[(df[category_column] == cat) & df[numerical_column].isin(out_vals), numerical_column] = category_mean\n"
   ],
   "metadata": {
    "collapsed": false,
    "ExecuteTime": {
     "end_time": "2024-01-13T09:00:51.256373077Z",
     "start_time": "2024-01-13T09:00:51.115471120Z"
    }
   },
   "id": "14482158ea39ce52",
   "execution_count": 40
  },
  {
   "cell_type": "markdown",
   "source": [
    "it is done"
   ],
   "metadata": {
    "collapsed": false
   },
   "id": "6b0153b435e5c3d0"
  },
  {
   "cell_type": "markdown",
   "source": [
    "let's check datatypes of colums"
   ],
   "metadata": {
    "collapsed": false
   },
   "id": "434a1802be0cfbf7"
  },
  {
   "cell_type": "code",
   "outputs": [
    {
     "data": {
      "text/plain": "Category                    object\nYear                         int64\nQuarter                     object\nQuarterly Sales              int64\nCustomer Rating              int64\nSeller Rating              float64\nPrice                        int64\nDiscount Rate              float64\nUnits Sold                   int64\nRevenue                      int64\nShipping Method             object\nLocation                    object\nAdvertising Cost           float64\nDate                datetime64[ns]\ndtype: object"
     },
     "execution_count": 41,
     "metadata": {},
     "output_type": "execute_result"
    }
   ],
   "source": [
    "show_data_type(df)"
   ],
   "metadata": {
    "collapsed": false,
    "ExecuteTime": {
     "end_time": "2024-01-13T09:00:51.338608708Z",
     "start_time": "2024-01-13T09:00:51.195923104Z"
    }
   },
   "id": "21504d1f968b3dff",
   "execution_count": 41
  },
  {
   "cell_type": "markdown",
   "source": [
    "so, let's make all numeric column in one type float64"
   ],
   "metadata": {
    "collapsed": false
   },
   "id": "10ddf886cbd7b2c7"
  },
  {
   "cell_type": "code",
   "outputs": [],
   "source": [
    "# Get a list of columns to convert to float (excluding datetime and object columns)\n",
    "columns_to_convert = df.select_dtypes(include=['int']).columns\n",
    "columns_to_exclude = df.select_dtypes(exclude=['datetime', 'object']).columns\n",
    "\n",
    "# Convert integer columns to float\n",
    "df[columns_to_convert] = df[columns_to_convert].astype(float)"
   ],
   "metadata": {
    "collapsed": false,
    "ExecuteTime": {
     "end_time": "2024-01-13T09:00:51.385474365Z",
     "start_time": "2024-01-13T09:00:51.292328737Z"
    }
   },
   "id": "bab3f8b5d0190dd1",
   "execution_count": 42
  },
  {
   "cell_type": "markdown",
   "source": [
    "review the change"
   ],
   "metadata": {
    "collapsed": false
   },
   "id": "fe7972c364ef66d8"
  },
  {
   "cell_type": "code",
   "outputs": [
    {
     "data": {
      "text/plain": "Category                    object\nYear                       float64\nQuarter                     object\nQuarterly Sales            float64\nCustomer Rating            float64\nSeller Rating              float64\nPrice                      float64\nDiscount Rate              float64\nUnits Sold                 float64\nRevenue                    float64\nShipping Method             object\nLocation                    object\nAdvertising Cost           float64\nDate                datetime64[ns]\ndtype: object"
     },
     "execution_count": 43,
     "metadata": {},
     "output_type": "execute_result"
    }
   ],
   "source": [
    "show_data_type(df)"
   ],
   "metadata": {
    "collapsed": false,
    "ExecuteTime": {
     "end_time": "2024-01-13T09:00:51.475848107Z",
     "start_time": "2024-01-13T09:00:51.389066364Z"
    }
   },
   "id": "db8466c7f6f928eb",
   "execution_count": 43
  },
  {
   "cell_type": "markdown",
   "source": [
    "Year isn't supposed to be float, is should be integer"
   ],
   "metadata": {
    "collapsed": false
   },
   "id": "961f9ecd4c7c97cd"
  },
  {
   "cell_type": "code",
   "outputs": [],
   "source": [
    "df['Year'] = df['Year'].astype(int)"
   ],
   "metadata": {
    "collapsed": false,
    "ExecuteTime": {
     "end_time": "2024-01-13T09:00:51.541007432Z",
     "start_time": "2024-01-13T09:00:51.461917209Z"
    }
   },
   "id": "fe5feec99f272eb8",
   "execution_count": 44
  },
  {
   "cell_type": "code",
   "outputs": [
    {
     "data": {
      "text/plain": "Category                    object\nYear                         int64\nQuarter                     object\nQuarterly Sales            float64\nCustomer Rating            float64\nSeller Rating              float64\nPrice                      float64\nDiscount Rate              float64\nUnits Sold                 float64\nRevenue                    float64\nShipping Method             object\nLocation                    object\nAdvertising Cost           float64\nDate                datetime64[ns]\ndtype: object"
     },
     "execution_count": 45,
     "metadata": {},
     "output_type": "execute_result"
    }
   ],
   "source": [
    "show_data_type(df)"
   ],
   "metadata": {
    "collapsed": false,
    "ExecuteTime": {
     "end_time": "2024-01-13T09:00:51.560191563Z",
     "start_time": "2024-01-13T09:00:51.537976272Z"
    }
   },
   "id": "76c2adabffcf8138",
   "execution_count": 45
  },
  {
   "cell_type": "markdown",
   "source": [
    "save a new data in csv and excel files"
   ],
   "metadata": {
    "collapsed": false
   },
   "id": "a1f7be5f9ff0845d"
  },
  {
   "cell_type": "code",
   "outputs": [],
   "source": [
    "# Save data to Excel file and csv file\n",
    "csv_filename = 'data/filtered_amazon_2.csv'\n",
    "df.to_csv(csv_filename, index=False)\n",
    "\n",
    "csv_filename = 'data/filtered_amazon_2.xlsx'\n",
    "df.to_excel(csv_filename, index=False)"
   ],
   "metadata": {
    "collapsed": false,
    "ExecuteTime": {
     "end_time": "2024-01-13T09:00:51.656560485Z",
     "start_time": "2024-01-13T09:00:51.546003206Z"
    }
   },
   "id": "4956b8a6273d0f0b",
   "execution_count": 46
  }
 ],
 "metadata": {
  "kernelspec": {
   "display_name": "Python 3",
   "language": "python",
   "name": "python3"
  },
  "language_info": {
   "codemirror_mode": {
    "name": "ipython",
    "version": 2
   },
   "file_extension": ".py",
   "mimetype": "text/x-python",
   "name": "python",
   "nbconvert_exporter": "python",
   "pygments_lexer": "ipython2",
   "version": "2.7.6"
  }
 },
 "nbformat": 4,
 "nbformat_minor": 5
}
