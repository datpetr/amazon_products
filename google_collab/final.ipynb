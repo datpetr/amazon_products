{
  "cells": [
    {
      "cell_type": "markdown",
      "source": [
        "Let's start by importing the libraries that will be utilized in our work."
      ],
      "metadata": {
        "collapsed": false,
        "id": "78e7ef115d69c9c1"
      },
      "id": "78e7ef115d69c9c1"
    },
    {
      "cell_type": "code",
      "outputs": [],
      "source": [
        "import pandas as pd\n",
        "from pandas import DataFrame"
      ],
      "metadata": {
        "ExecuteTime": {
          "end_time": "2024-01-13T09:00:47.213748196Z",
          "start_time": "2024-01-13T09:00:46.707196046Z"
        },
        "id": "82364a621d74631e"
      },
      "id": "82364a621d74631e",
      "execution_count": 17
    },
    {
      "cell_type": "markdown",
      "source": [
        "Next, we will establish functions that will be employed consistently throughout the code.\n",
        "\n",
        "- Firstly, we will define a function that will show the head of the table."
      ],
      "metadata": {
        "collapsed": false,
        "id": "edfe86d3dbfb50f"
      },
      "id": "edfe86d3dbfb50f"
    },
    {
      "cell_type": "code",
      "outputs": [],
      "source": [
        "def show_head(df):\n",
        "    return df.head()"
      ],
      "metadata": {
        "ExecuteTime": {
          "end_time": "2024-01-13T09:00:47.219386936Z",
          "start_time": "2024-01-13T09:00:47.133584853Z"
        },
        "id": "f3cd9e3d16bfa94a"
      },
      "id": "f3cd9e3d16bfa94a",
      "execution_count": 18
    },
    {
      "cell_type": "markdown",
      "source": [
        "This one will show the datatypes of variables."
      ],
      "metadata": {
        "collapsed": false,
        "id": "88fe6c8deea957f1"
      },
      "id": "88fe6c8deea957f1"
    },
    {
      "cell_type": "code",
      "outputs": [],
      "source": [
        "def show_data_type(df):\n",
        "    return df.dtypes"
      ],
      "metadata": {
        "ExecuteTime": {
          "end_time": "2024-01-13T09:00:47.223133Z",
          "start_time": "2024-01-13T09:00:47.134111251Z"
        },
        "id": "732bdd3d689e19d5"
      },
      "id": "732bdd3d689e19d5",
      "execution_count": 19
    },
    {
      "cell_type": "markdown",
      "source": [
        "- And the third will show the general info about datasets."
      ],
      "metadata": {
        "collapsed": false,
        "id": "a6014ff3cf45ce0a"
      },
      "id": "a6014ff3cf45ce0a"
    },
    {
      "cell_type": "code",
      "outputs": [],
      "source": [
        "def show_info(df):\n",
        "    return df.info()"
      ],
      "metadata": {
        "ExecuteTime": {
          "end_time": "2024-01-13T09:00:47.238167919Z",
          "start_time": "2024-01-13T09:00:47.134565212Z"
        },
        "id": "58b24d9e953984f5"
      },
      "id": "58b24d9e953984f5",
      "execution_count": 20
    },
    {
      "cell_type": "markdown",
      "source": [
        "0. To start with, I have loaded the file to a dataframe."
      ],
      "metadata": {
        "collapsed": false,
        "id": "c6c8c85ff28a787c"
      },
      "id": "c6c8c85ff28a787c"
    },
    {
      "cell_type": "code",
      "outputs": [
        {
          "output_type": "execute_result",
          "data": {
            "text/plain": [
              "  Amazon Sales Dataset : The dataset consists of 121 observations Unnamed: 1  \\\n",
              "0                                                NaN                     NaN   \n",
              "1                                           CATEGORY               PRODUCTID   \n",
              "2                                             Beauty                      B5   \n",
              "3                                             Beauty                     B10   \n",
              "4                                             Beauty                     B15   \n",
              "\n",
              "  Unnamed: 2 Unnamed: 3      Unnamed: 4      Unnamed: 5    Unnamed: 6  \\\n",
              "0        NaN        NaN             NaN             NaN           NaN   \n",
              "1      YEASR    QUARTER  QuarterlySales  CustomerRating  SELLERRATING   \n",
              "2       2018         Q1            1000               4             3   \n",
              "3       2018         Q2            1100               4             5   \n",
              "4       2019         Q3            1050               5             3   \n",
              "\n",
              "                  Unnamed: 7  \\\n",
              "0                        NaN   \n",
              "1  the product price in USD.   \n",
              "2                         80   \n",
              "3                         90   \n",
              "4                         70   \n",
              "\n",
              "                                          Unnamed: 8 Unnamed: 9 Unnamed: 10  \\\n",
              "0                                                NaN        NaN         NaN   \n",
              "1  the discount applied to the product in percentage  UnitsSold     Revenue   \n",
              "2                                                 12         40       40000   \n",
              "3                                                 18         50       55000   \n",
              "4                                                0.2         60       63000   \n",
              "\n",
              "      Unnamed: 11               Unnamed: 12      Unnamed: 13  \n",
              "0             NaN                       NaN              NaN  \n",
              "1  ShippingMethod  the location of the sale  AdvertisingCost  \n",
              "2        Standard                        EU              400  \n",
              "3        Standard                        US              450  \n",
              "4         Express                      Asia              NaN  "
            ],
            "text/html": [
              "\n",
              "  <div id=\"df-70e689e6-e3db-4c20-b3b8-dcfcede6a2c3\" class=\"colab-df-container\">\n",
              "    <div>\n",
              "<style scoped>\n",
              "    .dataframe tbody tr th:only-of-type {\n",
              "        vertical-align: middle;\n",
              "    }\n",
              "\n",
              "    .dataframe tbody tr th {\n",
              "        vertical-align: top;\n",
              "    }\n",
              "\n",
              "    .dataframe thead th {\n",
              "        text-align: right;\n",
              "    }\n",
              "</style>\n",
              "<table border=\"1\" class=\"dataframe\">\n",
              "  <thead>\n",
              "    <tr style=\"text-align: right;\">\n",
              "      <th></th>\n",
              "      <th>Amazon Sales Dataset : The dataset consists of 121 observations</th>\n",
              "      <th>Unnamed: 1</th>\n",
              "      <th>Unnamed: 2</th>\n",
              "      <th>Unnamed: 3</th>\n",
              "      <th>Unnamed: 4</th>\n",
              "      <th>Unnamed: 5</th>\n",
              "      <th>Unnamed: 6</th>\n",
              "      <th>Unnamed: 7</th>\n",
              "      <th>Unnamed: 8</th>\n",
              "      <th>Unnamed: 9</th>\n",
              "      <th>Unnamed: 10</th>\n",
              "      <th>Unnamed: 11</th>\n",
              "      <th>Unnamed: 12</th>\n",
              "      <th>Unnamed: 13</th>\n",
              "    </tr>\n",
              "  </thead>\n",
              "  <tbody>\n",
              "    <tr>\n",
              "      <th>0</th>\n",
              "      <td>NaN</td>\n",
              "      <td>NaN</td>\n",
              "      <td>NaN</td>\n",
              "      <td>NaN</td>\n",
              "      <td>NaN</td>\n",
              "      <td>NaN</td>\n",
              "      <td>NaN</td>\n",
              "      <td>NaN</td>\n",
              "      <td>NaN</td>\n",
              "      <td>NaN</td>\n",
              "      <td>NaN</td>\n",
              "      <td>NaN</td>\n",
              "      <td>NaN</td>\n",
              "      <td>NaN</td>\n",
              "    </tr>\n",
              "    <tr>\n",
              "      <th>1</th>\n",
              "      <td>CATEGORY</td>\n",
              "      <td>PRODUCTID</td>\n",
              "      <td>YEASR</td>\n",
              "      <td>QUARTER</td>\n",
              "      <td>QuarterlySales</td>\n",
              "      <td>CustomerRating</td>\n",
              "      <td>SELLERRATING</td>\n",
              "      <td>the product price in USD.</td>\n",
              "      <td>the discount applied to the product in percentage</td>\n",
              "      <td>UnitsSold</td>\n",
              "      <td>Revenue</td>\n",
              "      <td>ShippingMethod</td>\n",
              "      <td>the location of the sale</td>\n",
              "      <td>AdvertisingCost</td>\n",
              "    </tr>\n",
              "    <tr>\n",
              "      <th>2</th>\n",
              "      <td>Beauty</td>\n",
              "      <td>B5</td>\n",
              "      <td>2018</td>\n",
              "      <td>Q1</td>\n",
              "      <td>1000</td>\n",
              "      <td>4</td>\n",
              "      <td>3</td>\n",
              "      <td>80</td>\n",
              "      <td>12</td>\n",
              "      <td>40</td>\n",
              "      <td>40000</td>\n",
              "      <td>Standard</td>\n",
              "      <td>EU</td>\n",
              "      <td>400</td>\n",
              "    </tr>\n",
              "    <tr>\n",
              "      <th>3</th>\n",
              "      <td>Beauty</td>\n",
              "      <td>B10</td>\n",
              "      <td>2018</td>\n",
              "      <td>Q2</td>\n",
              "      <td>1100</td>\n",
              "      <td>4</td>\n",
              "      <td>5</td>\n",
              "      <td>90</td>\n",
              "      <td>18</td>\n",
              "      <td>50</td>\n",
              "      <td>55000</td>\n",
              "      <td>Standard</td>\n",
              "      <td>US</td>\n",
              "      <td>450</td>\n",
              "    </tr>\n",
              "    <tr>\n",
              "      <th>4</th>\n",
              "      <td>Beauty</td>\n",
              "      <td>B15</td>\n",
              "      <td>2019</td>\n",
              "      <td>Q3</td>\n",
              "      <td>1050</td>\n",
              "      <td>5</td>\n",
              "      <td>3</td>\n",
              "      <td>70</td>\n",
              "      <td>0.2</td>\n",
              "      <td>60</td>\n",
              "      <td>63000</td>\n",
              "      <td>Express</td>\n",
              "      <td>Asia</td>\n",
              "      <td>NaN</td>\n",
              "    </tr>\n",
              "  </tbody>\n",
              "</table>\n",
              "</div>\n",
              "    <div class=\"colab-df-buttons\">\n",
              "\n",
              "  <div class=\"colab-df-container\">\n",
              "    <button class=\"colab-df-convert\" onclick=\"convertToInteractive('df-70e689e6-e3db-4c20-b3b8-dcfcede6a2c3')\"\n",
              "            title=\"Convert this dataframe to an interactive table.\"\n",
              "            style=\"display:none;\">\n",
              "\n",
              "  <svg xmlns=\"http://www.w3.org/2000/svg\" height=\"24px\" viewBox=\"0 -960 960 960\">\n",
              "    <path d=\"M120-120v-720h720v720H120Zm60-500h600v-160H180v160Zm220 220h160v-160H400v160Zm0 220h160v-160H400v160ZM180-400h160v-160H180v160Zm440 0h160v-160H620v160ZM180-180h160v-160H180v160Zm440 0h160v-160H620v160Z\"/>\n",
              "  </svg>\n",
              "    </button>\n",
              "\n",
              "  <style>\n",
              "    .colab-df-container {\n",
              "      display:flex;\n",
              "      gap: 12px;\n",
              "    }\n",
              "\n",
              "    .colab-df-convert {\n",
              "      background-color: #E8F0FE;\n",
              "      border: none;\n",
              "      border-radius: 50%;\n",
              "      cursor: pointer;\n",
              "      display: none;\n",
              "      fill: #1967D2;\n",
              "      height: 32px;\n",
              "      padding: 0 0 0 0;\n",
              "      width: 32px;\n",
              "    }\n",
              "\n",
              "    .colab-df-convert:hover {\n",
              "      background-color: #E2EBFA;\n",
              "      box-shadow: 0px 1px 2px rgba(60, 64, 67, 0.3), 0px 1px 3px 1px rgba(60, 64, 67, 0.15);\n",
              "      fill: #174EA6;\n",
              "    }\n",
              "\n",
              "    .colab-df-buttons div {\n",
              "      margin-bottom: 4px;\n",
              "    }\n",
              "\n",
              "    [theme=dark] .colab-df-convert {\n",
              "      background-color: #3B4455;\n",
              "      fill: #D2E3FC;\n",
              "    }\n",
              "\n",
              "    [theme=dark] .colab-df-convert:hover {\n",
              "      background-color: #434B5C;\n",
              "      box-shadow: 0px 1px 3px 1px rgba(0, 0, 0, 0.15);\n",
              "      filter: drop-shadow(0px 1px 2px rgba(0, 0, 0, 0.3));\n",
              "      fill: #FFFFFF;\n",
              "    }\n",
              "  </style>\n",
              "\n",
              "    <script>\n",
              "      const buttonEl =\n",
              "        document.querySelector('#df-70e689e6-e3db-4c20-b3b8-dcfcede6a2c3 button.colab-df-convert');\n",
              "      buttonEl.style.display =\n",
              "        google.colab.kernel.accessAllowed ? 'block' : 'none';\n",
              "\n",
              "      async function convertToInteractive(key) {\n",
              "        const element = document.querySelector('#df-70e689e6-e3db-4c20-b3b8-dcfcede6a2c3');\n",
              "        const dataTable =\n",
              "          await google.colab.kernel.invokeFunction('convertToInteractive',\n",
              "                                                    [key], {});\n",
              "        if (!dataTable) return;\n",
              "\n",
              "        const docLinkHtml = 'Like what you see? Visit the ' +\n",
              "          '<a target=\"_blank\" href=https://colab.research.google.com/notebooks/data_table.ipynb>data table notebook</a>'\n",
              "          + ' to learn more about interactive tables.';\n",
              "        element.innerHTML = '';\n",
              "        dataTable['output_type'] = 'display_data';\n",
              "        await google.colab.output.renderOutput(dataTable, element);\n",
              "        const docLink = document.createElement('div');\n",
              "        docLink.innerHTML = docLinkHtml;\n",
              "        element.appendChild(docLink);\n",
              "      }\n",
              "    </script>\n",
              "  </div>\n",
              "\n",
              "\n",
              "<div id=\"df-6672c754-2c6b-431c-bc49-b32186f6c85e\">\n",
              "  <button class=\"colab-df-quickchart\" onclick=\"quickchart('df-6672c754-2c6b-431c-bc49-b32186f6c85e')\"\n",
              "            title=\"Suggest charts\"\n",
              "            style=\"display:none;\">\n",
              "\n",
              "<svg xmlns=\"http://www.w3.org/2000/svg\" height=\"24px\"viewBox=\"0 0 24 24\"\n",
              "     width=\"24px\">\n",
              "    <g>\n",
              "        <path d=\"M19 3H5c-1.1 0-2 .9-2 2v14c0 1.1.9 2 2 2h14c1.1 0 2-.9 2-2V5c0-1.1-.9-2-2-2zM9 17H7v-7h2v7zm4 0h-2V7h2v10zm4 0h-2v-4h2v4z\"/>\n",
              "    </g>\n",
              "</svg>\n",
              "  </button>\n",
              "\n",
              "<style>\n",
              "  .colab-df-quickchart {\n",
              "      --bg-color: #E8F0FE;\n",
              "      --fill-color: #1967D2;\n",
              "      --hover-bg-color: #E2EBFA;\n",
              "      --hover-fill-color: #174EA6;\n",
              "      --disabled-fill-color: #AAA;\n",
              "      --disabled-bg-color: #DDD;\n",
              "  }\n",
              "\n",
              "  [theme=dark] .colab-df-quickchart {\n",
              "      --bg-color: #3B4455;\n",
              "      --fill-color: #D2E3FC;\n",
              "      --hover-bg-color: #434B5C;\n",
              "      --hover-fill-color: #FFFFFF;\n",
              "      --disabled-bg-color: #3B4455;\n",
              "      --disabled-fill-color: #666;\n",
              "  }\n",
              "\n",
              "  .colab-df-quickchart {\n",
              "    background-color: var(--bg-color);\n",
              "    border: none;\n",
              "    border-radius: 50%;\n",
              "    cursor: pointer;\n",
              "    display: none;\n",
              "    fill: var(--fill-color);\n",
              "    height: 32px;\n",
              "    padding: 0;\n",
              "    width: 32px;\n",
              "  }\n",
              "\n",
              "  .colab-df-quickchart:hover {\n",
              "    background-color: var(--hover-bg-color);\n",
              "    box-shadow: 0 1px 2px rgba(60, 64, 67, 0.3), 0 1px 3px 1px rgba(60, 64, 67, 0.15);\n",
              "    fill: var(--button-hover-fill-color);\n",
              "  }\n",
              "\n",
              "  .colab-df-quickchart-complete:disabled,\n",
              "  .colab-df-quickchart-complete:disabled:hover {\n",
              "    background-color: var(--disabled-bg-color);\n",
              "    fill: var(--disabled-fill-color);\n",
              "    box-shadow: none;\n",
              "  }\n",
              "\n",
              "  .colab-df-spinner {\n",
              "    border: 2px solid var(--fill-color);\n",
              "    border-color: transparent;\n",
              "    border-bottom-color: var(--fill-color);\n",
              "    animation:\n",
              "      spin 1s steps(1) infinite;\n",
              "  }\n",
              "\n",
              "  @keyframes spin {\n",
              "    0% {\n",
              "      border-color: transparent;\n",
              "      border-bottom-color: var(--fill-color);\n",
              "      border-left-color: var(--fill-color);\n",
              "    }\n",
              "    20% {\n",
              "      border-color: transparent;\n",
              "      border-left-color: var(--fill-color);\n",
              "      border-top-color: var(--fill-color);\n",
              "    }\n",
              "    30% {\n",
              "      border-color: transparent;\n",
              "      border-left-color: var(--fill-color);\n",
              "      border-top-color: var(--fill-color);\n",
              "      border-right-color: var(--fill-color);\n",
              "    }\n",
              "    40% {\n",
              "      border-color: transparent;\n",
              "      border-right-color: var(--fill-color);\n",
              "      border-top-color: var(--fill-color);\n",
              "    }\n",
              "    60% {\n",
              "      border-color: transparent;\n",
              "      border-right-color: var(--fill-color);\n",
              "    }\n",
              "    80% {\n",
              "      border-color: transparent;\n",
              "      border-right-color: var(--fill-color);\n",
              "      border-bottom-color: var(--fill-color);\n",
              "    }\n",
              "    90% {\n",
              "      border-color: transparent;\n",
              "      border-bottom-color: var(--fill-color);\n",
              "    }\n",
              "  }\n",
              "</style>\n",
              "\n",
              "  <script>\n",
              "    async function quickchart(key) {\n",
              "      const quickchartButtonEl =\n",
              "        document.querySelector('#' + key + ' button');\n",
              "      quickchartButtonEl.disabled = true;  // To prevent multiple clicks.\n",
              "      quickchartButtonEl.classList.add('colab-df-spinner');\n",
              "      try {\n",
              "        const charts = await google.colab.kernel.invokeFunction(\n",
              "            'suggestCharts', [key], {});\n",
              "      } catch (error) {\n",
              "        console.error('Error during call to suggestCharts:', error);\n",
              "      }\n",
              "      quickchartButtonEl.classList.remove('colab-df-spinner');\n",
              "      quickchartButtonEl.classList.add('colab-df-quickchart-complete');\n",
              "    }\n",
              "    (() => {\n",
              "      let quickchartButtonEl =\n",
              "        document.querySelector('#df-6672c754-2c6b-431c-bc49-b32186f6c85e button');\n",
              "      quickchartButtonEl.style.display =\n",
              "        google.colab.kernel.accessAllowed ? 'block' : 'none';\n",
              "    })();\n",
              "  </script>\n",
              "</div>\n",
              "\n",
              "    </div>\n",
              "  </div>\n"
            ]
          },
          "metadata": {},
          "execution_count": 21
        }
      ],
      "source": [
        "show_head(pd.read_excel('/content/data/Amazon.xlsx'))"
      ],
      "metadata": {
        "ExecuteTime": {
          "end_time": "2024-01-13T09:00:47.481190148Z",
          "start_time": "2024-01-13T09:00:47.135020010Z"
        },
        "colab": {
          "base_uri": "https://localhost:8080/",
          "height": 362
        },
        "id": "ea02241a217bf5d8",
        "outputId": "e0d2f609-b2a1-41a8-f412-ce6ea4686fef"
      },
      "id": "ea02241a217bf5d8",
      "execution_count": 21
    },
    {
      "cell_type": "markdown",
      "source": [
        "I wanted to skip the title and the empty row in order to have a better view."
      ],
      "metadata": {
        "collapsed": false,
        "id": "67e6536d0f4e08d5"
      },
      "id": "67e6536d0f4e08d5"
    },
    {
      "cell_type": "code",
      "outputs": [],
      "source": [
        "df = pd.read_excel('/content/data/Amazon.xlsx', header=None, skiprows=3)"
      ],
      "metadata": {
        "ExecuteTime": {
          "end_time": "2024-01-13T09:00:47.618535759Z",
          "start_time": "2024-01-13T09:00:47.308330315Z"
        },
        "id": "62098d6ecc38ace2"
      },
      "id": "62098d6ecc38ace2",
      "execution_count": 22
    },
    {
      "cell_type": "markdown",
      "source": [
        "Now, let's examine the modified data."
      ],
      "metadata": {
        "collapsed": false,
        "id": "16494adba9825ecf"
      },
      "id": "16494adba9825ecf"
    },
    {
      "cell_type": "code",
      "outputs": [
        {
          "output_type": "execute_result",
          "data": {
            "text/plain": [
              "       0    1     2   3     4   5    6   7     8   9      10        11    12  \\\n",
              "0  Beauty   B5  2018  Q1  1000   4  3.0  80  12.0  40  40000  Standard    EU   \n",
              "1  Beauty  B10  2018  Q2  1100   4  5.0  90  18.0  50  55000  Standard    US   \n",
              "2  Beauty  B15  2019  Q3  1050   5  3.0  70   0.2  60  63000   Express  Asia   \n",
              "3  Beauty  B20  2020  Q4  1300  -4  4.0  80  15.0  25  32500  Standard    EU   \n",
              "4  Beauty  B25  2021  Q1  1050   5  4.0  90  18.0  60  63000   Express    US   \n",
              "\n",
              "      13  \n",
              "0  400.0  \n",
              "1  450.0  \n",
              "2    NaN  \n",
              "3  450.0  \n",
              "4  500.0  "
            ],
            "text/html": [
              "\n",
              "  <div id=\"df-53877397-ae36-45b4-bd59-1053ab0b9462\" class=\"colab-df-container\">\n",
              "    <div>\n",
              "<style scoped>\n",
              "    .dataframe tbody tr th:only-of-type {\n",
              "        vertical-align: middle;\n",
              "    }\n",
              "\n",
              "    .dataframe tbody tr th {\n",
              "        vertical-align: top;\n",
              "    }\n",
              "\n",
              "    .dataframe thead th {\n",
              "        text-align: right;\n",
              "    }\n",
              "</style>\n",
              "<table border=\"1\" class=\"dataframe\">\n",
              "  <thead>\n",
              "    <tr style=\"text-align: right;\">\n",
              "      <th></th>\n",
              "      <th>0</th>\n",
              "      <th>1</th>\n",
              "      <th>2</th>\n",
              "      <th>3</th>\n",
              "      <th>4</th>\n",
              "      <th>5</th>\n",
              "      <th>6</th>\n",
              "      <th>7</th>\n",
              "      <th>8</th>\n",
              "      <th>9</th>\n",
              "      <th>10</th>\n",
              "      <th>11</th>\n",
              "      <th>12</th>\n",
              "      <th>13</th>\n",
              "    </tr>\n",
              "  </thead>\n",
              "  <tbody>\n",
              "    <tr>\n",
              "      <th>0</th>\n",
              "      <td>Beauty</td>\n",
              "      <td>B5</td>\n",
              "      <td>2018</td>\n",
              "      <td>Q1</td>\n",
              "      <td>1000</td>\n",
              "      <td>4</td>\n",
              "      <td>3.0</td>\n",
              "      <td>80</td>\n",
              "      <td>12.0</td>\n",
              "      <td>40</td>\n",
              "      <td>40000</td>\n",
              "      <td>Standard</td>\n",
              "      <td>EU</td>\n",
              "      <td>400.0</td>\n",
              "    </tr>\n",
              "    <tr>\n",
              "      <th>1</th>\n",
              "      <td>Beauty</td>\n",
              "      <td>B10</td>\n",
              "      <td>2018</td>\n",
              "      <td>Q2</td>\n",
              "      <td>1100</td>\n",
              "      <td>4</td>\n",
              "      <td>5.0</td>\n",
              "      <td>90</td>\n",
              "      <td>18.0</td>\n",
              "      <td>50</td>\n",
              "      <td>55000</td>\n",
              "      <td>Standard</td>\n",
              "      <td>US</td>\n",
              "      <td>450.0</td>\n",
              "    </tr>\n",
              "    <tr>\n",
              "      <th>2</th>\n",
              "      <td>Beauty</td>\n",
              "      <td>B15</td>\n",
              "      <td>2019</td>\n",
              "      <td>Q3</td>\n",
              "      <td>1050</td>\n",
              "      <td>5</td>\n",
              "      <td>3.0</td>\n",
              "      <td>70</td>\n",
              "      <td>0.2</td>\n",
              "      <td>60</td>\n",
              "      <td>63000</td>\n",
              "      <td>Express</td>\n",
              "      <td>Asia</td>\n",
              "      <td>NaN</td>\n",
              "    </tr>\n",
              "    <tr>\n",
              "      <th>3</th>\n",
              "      <td>Beauty</td>\n",
              "      <td>B20</td>\n",
              "      <td>2020</td>\n",
              "      <td>Q4</td>\n",
              "      <td>1300</td>\n",
              "      <td>-4</td>\n",
              "      <td>4.0</td>\n",
              "      <td>80</td>\n",
              "      <td>15.0</td>\n",
              "      <td>25</td>\n",
              "      <td>32500</td>\n",
              "      <td>Standard</td>\n",
              "      <td>EU</td>\n",
              "      <td>450.0</td>\n",
              "    </tr>\n",
              "    <tr>\n",
              "      <th>4</th>\n",
              "      <td>Beauty</td>\n",
              "      <td>B25</td>\n",
              "      <td>2021</td>\n",
              "      <td>Q1</td>\n",
              "      <td>1050</td>\n",
              "      <td>5</td>\n",
              "      <td>4.0</td>\n",
              "      <td>90</td>\n",
              "      <td>18.0</td>\n",
              "      <td>60</td>\n",
              "      <td>63000</td>\n",
              "      <td>Express</td>\n",
              "      <td>US</td>\n",
              "      <td>500.0</td>\n",
              "    </tr>\n",
              "  </tbody>\n",
              "</table>\n",
              "</div>\n",
              "    <div class=\"colab-df-buttons\">\n",
              "\n",
              "  <div class=\"colab-df-container\">\n",
              "    <button class=\"colab-df-convert\" onclick=\"convertToInteractive('df-53877397-ae36-45b4-bd59-1053ab0b9462')\"\n",
              "            title=\"Convert this dataframe to an interactive table.\"\n",
              "            style=\"display:none;\">\n",
              "\n",
              "  <svg xmlns=\"http://www.w3.org/2000/svg\" height=\"24px\" viewBox=\"0 -960 960 960\">\n",
              "    <path d=\"M120-120v-720h720v720H120Zm60-500h600v-160H180v160Zm220 220h160v-160H400v160Zm0 220h160v-160H400v160ZM180-400h160v-160H180v160Zm440 0h160v-160H620v160ZM180-180h160v-160H180v160Zm440 0h160v-160H620v160Z\"/>\n",
              "  </svg>\n",
              "    </button>\n",
              "\n",
              "  <style>\n",
              "    .colab-df-container {\n",
              "      display:flex;\n",
              "      gap: 12px;\n",
              "    }\n",
              "\n",
              "    .colab-df-convert {\n",
              "      background-color: #E8F0FE;\n",
              "      border: none;\n",
              "      border-radius: 50%;\n",
              "      cursor: pointer;\n",
              "      display: none;\n",
              "      fill: #1967D2;\n",
              "      height: 32px;\n",
              "      padding: 0 0 0 0;\n",
              "      width: 32px;\n",
              "    }\n",
              "\n",
              "    .colab-df-convert:hover {\n",
              "      background-color: #E2EBFA;\n",
              "      box-shadow: 0px 1px 2px rgba(60, 64, 67, 0.3), 0px 1px 3px 1px rgba(60, 64, 67, 0.15);\n",
              "      fill: #174EA6;\n",
              "    }\n",
              "\n",
              "    .colab-df-buttons div {\n",
              "      margin-bottom: 4px;\n",
              "    }\n",
              "\n",
              "    [theme=dark] .colab-df-convert {\n",
              "      background-color: #3B4455;\n",
              "      fill: #D2E3FC;\n",
              "    }\n",
              "\n",
              "    [theme=dark] .colab-df-convert:hover {\n",
              "      background-color: #434B5C;\n",
              "      box-shadow: 0px 1px 3px 1px rgba(0, 0, 0, 0.15);\n",
              "      filter: drop-shadow(0px 1px 2px rgba(0, 0, 0, 0.3));\n",
              "      fill: #FFFFFF;\n",
              "    }\n",
              "  </style>\n",
              "\n",
              "    <script>\n",
              "      const buttonEl =\n",
              "        document.querySelector('#df-53877397-ae36-45b4-bd59-1053ab0b9462 button.colab-df-convert');\n",
              "      buttonEl.style.display =\n",
              "        google.colab.kernel.accessAllowed ? 'block' : 'none';\n",
              "\n",
              "      async function convertToInteractive(key) {\n",
              "        const element = document.querySelector('#df-53877397-ae36-45b4-bd59-1053ab0b9462');\n",
              "        const dataTable =\n",
              "          await google.colab.kernel.invokeFunction('convertToInteractive',\n",
              "                                                    [key], {});\n",
              "        if (!dataTable) return;\n",
              "\n",
              "        const docLinkHtml = 'Like what you see? Visit the ' +\n",
              "          '<a target=\"_blank\" href=https://colab.research.google.com/notebooks/data_table.ipynb>data table notebook</a>'\n",
              "          + ' to learn more about interactive tables.';\n",
              "        element.innerHTML = '';\n",
              "        dataTable['output_type'] = 'display_data';\n",
              "        await google.colab.output.renderOutput(dataTable, element);\n",
              "        const docLink = document.createElement('div');\n",
              "        docLink.innerHTML = docLinkHtml;\n",
              "        element.appendChild(docLink);\n",
              "      }\n",
              "    </script>\n",
              "  </div>\n",
              "\n",
              "\n",
              "<div id=\"df-f0873723-152d-4b32-810c-de68800f1727\">\n",
              "  <button class=\"colab-df-quickchart\" onclick=\"quickchart('df-f0873723-152d-4b32-810c-de68800f1727')\"\n",
              "            title=\"Suggest charts\"\n",
              "            style=\"display:none;\">\n",
              "\n",
              "<svg xmlns=\"http://www.w3.org/2000/svg\" height=\"24px\"viewBox=\"0 0 24 24\"\n",
              "     width=\"24px\">\n",
              "    <g>\n",
              "        <path d=\"M19 3H5c-1.1 0-2 .9-2 2v14c0 1.1.9 2 2 2h14c1.1 0 2-.9 2-2V5c0-1.1-.9-2-2-2zM9 17H7v-7h2v7zm4 0h-2V7h2v10zm4 0h-2v-4h2v4z\"/>\n",
              "    </g>\n",
              "</svg>\n",
              "  </button>\n",
              "\n",
              "<style>\n",
              "  .colab-df-quickchart {\n",
              "      --bg-color: #E8F0FE;\n",
              "      --fill-color: #1967D2;\n",
              "      --hover-bg-color: #E2EBFA;\n",
              "      --hover-fill-color: #174EA6;\n",
              "      --disabled-fill-color: #AAA;\n",
              "      --disabled-bg-color: #DDD;\n",
              "  }\n",
              "\n",
              "  [theme=dark] .colab-df-quickchart {\n",
              "      --bg-color: #3B4455;\n",
              "      --fill-color: #D2E3FC;\n",
              "      --hover-bg-color: #434B5C;\n",
              "      --hover-fill-color: #FFFFFF;\n",
              "      --disabled-bg-color: #3B4455;\n",
              "      --disabled-fill-color: #666;\n",
              "  }\n",
              "\n",
              "  .colab-df-quickchart {\n",
              "    background-color: var(--bg-color);\n",
              "    border: none;\n",
              "    border-radius: 50%;\n",
              "    cursor: pointer;\n",
              "    display: none;\n",
              "    fill: var(--fill-color);\n",
              "    height: 32px;\n",
              "    padding: 0;\n",
              "    width: 32px;\n",
              "  }\n",
              "\n",
              "  .colab-df-quickchart:hover {\n",
              "    background-color: var(--hover-bg-color);\n",
              "    box-shadow: 0 1px 2px rgba(60, 64, 67, 0.3), 0 1px 3px 1px rgba(60, 64, 67, 0.15);\n",
              "    fill: var(--button-hover-fill-color);\n",
              "  }\n",
              "\n",
              "  .colab-df-quickchart-complete:disabled,\n",
              "  .colab-df-quickchart-complete:disabled:hover {\n",
              "    background-color: var(--disabled-bg-color);\n",
              "    fill: var(--disabled-fill-color);\n",
              "    box-shadow: none;\n",
              "  }\n",
              "\n",
              "  .colab-df-spinner {\n",
              "    border: 2px solid var(--fill-color);\n",
              "    border-color: transparent;\n",
              "    border-bottom-color: var(--fill-color);\n",
              "    animation:\n",
              "      spin 1s steps(1) infinite;\n",
              "  }\n",
              "\n",
              "  @keyframes spin {\n",
              "    0% {\n",
              "      border-color: transparent;\n",
              "      border-bottom-color: var(--fill-color);\n",
              "      border-left-color: var(--fill-color);\n",
              "    }\n",
              "    20% {\n",
              "      border-color: transparent;\n",
              "      border-left-color: var(--fill-color);\n",
              "      border-top-color: var(--fill-color);\n",
              "    }\n",
              "    30% {\n",
              "      border-color: transparent;\n",
              "      border-left-color: var(--fill-color);\n",
              "      border-top-color: var(--fill-color);\n",
              "      border-right-color: var(--fill-color);\n",
              "    }\n",
              "    40% {\n",
              "      border-color: transparent;\n",
              "      border-right-color: var(--fill-color);\n",
              "      border-top-color: var(--fill-color);\n",
              "    }\n",
              "    60% {\n",
              "      border-color: transparent;\n",
              "      border-right-color: var(--fill-color);\n",
              "    }\n",
              "    80% {\n",
              "      border-color: transparent;\n",
              "      border-right-color: var(--fill-color);\n",
              "      border-bottom-color: var(--fill-color);\n",
              "    }\n",
              "    90% {\n",
              "      border-color: transparent;\n",
              "      border-bottom-color: var(--fill-color);\n",
              "    }\n",
              "  }\n",
              "</style>\n",
              "\n",
              "  <script>\n",
              "    async function quickchart(key) {\n",
              "      const quickchartButtonEl =\n",
              "        document.querySelector('#' + key + ' button');\n",
              "      quickchartButtonEl.disabled = true;  // To prevent multiple clicks.\n",
              "      quickchartButtonEl.classList.add('colab-df-spinner');\n",
              "      try {\n",
              "        const charts = await google.colab.kernel.invokeFunction(\n",
              "            'suggestCharts', [key], {});\n",
              "      } catch (error) {\n",
              "        console.error('Error during call to suggestCharts:', error);\n",
              "      }\n",
              "      quickchartButtonEl.classList.remove('colab-df-spinner');\n",
              "      quickchartButtonEl.classList.add('colab-df-quickchart-complete');\n",
              "    }\n",
              "    (() => {\n",
              "      let quickchartButtonEl =\n",
              "        document.querySelector('#df-f0873723-152d-4b32-810c-de68800f1727 button');\n",
              "      quickchartButtonEl.style.display =\n",
              "        google.colab.kernel.accessAllowed ? 'block' : 'none';\n",
              "    })();\n",
              "  </script>\n",
              "</div>\n",
              "\n",
              "    </div>\n",
              "  </div>\n"
            ]
          },
          "metadata": {},
          "execution_count": 23
        }
      ],
      "source": [
        "show_head(df)"
      ],
      "metadata": {
        "ExecuteTime": {
          "end_time": "2024-01-13T09:00:47.623615371Z",
          "start_time": "2024-01-13T09:00:47.341654570Z"
        },
        "id": "9aeffe5ca2ca021e",
        "colab": {
          "base_uri": "https://localhost:8080/",
          "height": 206
        },
        "outputId": "ed2acce8-028b-4651-a344-a6be583d404f"
      },
      "id": "9aeffe5ca2ca021e",
      "execution_count": 23
    },
    {
      "cell_type": "markdown",
      "source": [
        "After taking a look, it seems fine. To examine the data types, let's first assign names to the columns."
      ],
      "metadata": {
        "collapsed": false,
        "id": "6d5156c6eb526ce1"
      },
      "id": "6d5156c6eb526ce1"
    },
    {
      "cell_type": "code",
      "outputs": [],
      "source": [
        "df.columns = [\"Category\", \"Product ID\", \"Year\", \"Quarter\", \"Quarterly Sales\", \"Customer Rating\", \"Seller Rating\", \"Price\", \"Discount Rate\", \"Units Sold\", \"Revenue\", \"Shipping Method\", \"Location\", \"Advertising Cost\"]"
      ],
      "metadata": {
        "ExecuteTime": {
          "end_time": "2024-01-13T09:00:47.649572208Z",
          "start_time": "2024-01-13T09:00:47.344894403Z"
        },
        "id": "e9af46281815a996"
      },
      "id": "e9af46281815a996",
      "execution_count": 24
    },
    {
      "cell_type": "markdown",
      "source": [
        "Now, let's verify the updated variable names."
      ],
      "metadata": {
        "collapsed": false,
        "id": "b9da3e4d5ac242ec"
      },
      "id": "b9da3e4d5ac242ec"
    },
    {
      "cell_type": "code",
      "outputs": [
        {
          "output_type": "execute_result",
          "data": {
            "text/plain": [
              "  Category Product ID  Year Quarter Quarterly Sales  Customer Rating  \\\n",
              "0   Beauty         B5  2018      Q1            1000                4   \n",
              "1   Beauty        B10  2018      Q2            1100                4   \n",
              "2   Beauty        B15  2019      Q3            1050                5   \n",
              "3   Beauty        B20  2020      Q4            1300               -4   \n",
              "4   Beauty        B25  2021      Q1            1050                5   \n",
              "\n",
              "   Seller Rating  Price  Discount Rate  Units Sold  Revenue Shipping Method  \\\n",
              "0            3.0     80           12.0          40    40000        Standard   \n",
              "1            5.0     90           18.0          50    55000        Standard   \n",
              "2            3.0     70            0.2          60    63000         Express   \n",
              "3            4.0     80           15.0          25    32500        Standard   \n",
              "4            4.0     90           18.0          60    63000         Express   \n",
              "\n",
              "  Location  Advertising Cost  \n",
              "0       EU             400.0  \n",
              "1       US             450.0  \n",
              "2     Asia               NaN  \n",
              "3       EU             450.0  \n",
              "4       US             500.0  "
            ],
            "text/html": [
              "\n",
              "  <div id=\"df-862f06da-968e-4851-b2e4-163436fe7b41\" class=\"colab-df-container\">\n",
              "    <div>\n",
              "<style scoped>\n",
              "    .dataframe tbody tr th:only-of-type {\n",
              "        vertical-align: middle;\n",
              "    }\n",
              "\n",
              "    .dataframe tbody tr th {\n",
              "        vertical-align: top;\n",
              "    }\n",
              "\n",
              "    .dataframe thead th {\n",
              "        text-align: right;\n",
              "    }\n",
              "</style>\n",
              "<table border=\"1\" class=\"dataframe\">\n",
              "  <thead>\n",
              "    <tr style=\"text-align: right;\">\n",
              "      <th></th>\n",
              "      <th>Category</th>\n",
              "      <th>Product ID</th>\n",
              "      <th>Year</th>\n",
              "      <th>Quarter</th>\n",
              "      <th>Quarterly Sales</th>\n",
              "      <th>Customer Rating</th>\n",
              "      <th>Seller Rating</th>\n",
              "      <th>Price</th>\n",
              "      <th>Discount Rate</th>\n",
              "      <th>Units Sold</th>\n",
              "      <th>Revenue</th>\n",
              "      <th>Shipping Method</th>\n",
              "      <th>Location</th>\n",
              "      <th>Advertising Cost</th>\n",
              "    </tr>\n",
              "  </thead>\n",
              "  <tbody>\n",
              "    <tr>\n",
              "      <th>0</th>\n",
              "      <td>Beauty</td>\n",
              "      <td>B5</td>\n",
              "      <td>2018</td>\n",
              "      <td>Q1</td>\n",
              "      <td>1000</td>\n",
              "      <td>4</td>\n",
              "      <td>3.0</td>\n",
              "      <td>80</td>\n",
              "      <td>12.0</td>\n",
              "      <td>40</td>\n",
              "      <td>40000</td>\n",
              "      <td>Standard</td>\n",
              "      <td>EU</td>\n",
              "      <td>400.0</td>\n",
              "    </tr>\n",
              "    <tr>\n",
              "      <th>1</th>\n",
              "      <td>Beauty</td>\n",
              "      <td>B10</td>\n",
              "      <td>2018</td>\n",
              "      <td>Q2</td>\n",
              "      <td>1100</td>\n",
              "      <td>4</td>\n",
              "      <td>5.0</td>\n",
              "      <td>90</td>\n",
              "      <td>18.0</td>\n",
              "      <td>50</td>\n",
              "      <td>55000</td>\n",
              "      <td>Standard</td>\n",
              "      <td>US</td>\n",
              "      <td>450.0</td>\n",
              "    </tr>\n",
              "    <tr>\n",
              "      <th>2</th>\n",
              "      <td>Beauty</td>\n",
              "      <td>B15</td>\n",
              "      <td>2019</td>\n",
              "      <td>Q3</td>\n",
              "      <td>1050</td>\n",
              "      <td>5</td>\n",
              "      <td>3.0</td>\n",
              "      <td>70</td>\n",
              "      <td>0.2</td>\n",
              "      <td>60</td>\n",
              "      <td>63000</td>\n",
              "      <td>Express</td>\n",
              "      <td>Asia</td>\n",
              "      <td>NaN</td>\n",
              "    </tr>\n",
              "    <tr>\n",
              "      <th>3</th>\n",
              "      <td>Beauty</td>\n",
              "      <td>B20</td>\n",
              "      <td>2020</td>\n",
              "      <td>Q4</td>\n",
              "      <td>1300</td>\n",
              "      <td>-4</td>\n",
              "      <td>4.0</td>\n",
              "      <td>80</td>\n",
              "      <td>15.0</td>\n",
              "      <td>25</td>\n",
              "      <td>32500</td>\n",
              "      <td>Standard</td>\n",
              "      <td>EU</td>\n",
              "      <td>450.0</td>\n",
              "    </tr>\n",
              "    <tr>\n",
              "      <th>4</th>\n",
              "      <td>Beauty</td>\n",
              "      <td>B25</td>\n",
              "      <td>2021</td>\n",
              "      <td>Q1</td>\n",
              "      <td>1050</td>\n",
              "      <td>5</td>\n",
              "      <td>4.0</td>\n",
              "      <td>90</td>\n",
              "      <td>18.0</td>\n",
              "      <td>60</td>\n",
              "      <td>63000</td>\n",
              "      <td>Express</td>\n",
              "      <td>US</td>\n",
              "      <td>500.0</td>\n",
              "    </tr>\n",
              "  </tbody>\n",
              "</table>\n",
              "</div>\n",
              "    <div class=\"colab-df-buttons\">\n",
              "\n",
              "  <div class=\"colab-df-container\">\n",
              "    <button class=\"colab-df-convert\" onclick=\"convertToInteractive('df-862f06da-968e-4851-b2e4-163436fe7b41')\"\n",
              "            title=\"Convert this dataframe to an interactive table.\"\n",
              "            style=\"display:none;\">\n",
              "\n",
              "  <svg xmlns=\"http://www.w3.org/2000/svg\" height=\"24px\" viewBox=\"0 -960 960 960\">\n",
              "    <path d=\"M120-120v-720h720v720H120Zm60-500h600v-160H180v160Zm220 220h160v-160H400v160Zm0 220h160v-160H400v160ZM180-400h160v-160H180v160Zm440 0h160v-160H620v160ZM180-180h160v-160H180v160Zm440 0h160v-160H620v160Z\"/>\n",
              "  </svg>\n",
              "    </button>\n",
              "\n",
              "  <style>\n",
              "    .colab-df-container {\n",
              "      display:flex;\n",
              "      gap: 12px;\n",
              "    }\n",
              "\n",
              "    .colab-df-convert {\n",
              "      background-color: #E8F0FE;\n",
              "      border: none;\n",
              "      border-radius: 50%;\n",
              "      cursor: pointer;\n",
              "      display: none;\n",
              "      fill: #1967D2;\n",
              "      height: 32px;\n",
              "      padding: 0 0 0 0;\n",
              "      width: 32px;\n",
              "    }\n",
              "\n",
              "    .colab-df-convert:hover {\n",
              "      background-color: #E2EBFA;\n",
              "      box-shadow: 0px 1px 2px rgba(60, 64, 67, 0.3), 0px 1px 3px 1px rgba(60, 64, 67, 0.15);\n",
              "      fill: #174EA6;\n",
              "    }\n",
              "\n",
              "    .colab-df-buttons div {\n",
              "      margin-bottom: 4px;\n",
              "    }\n",
              "\n",
              "    [theme=dark] .colab-df-convert {\n",
              "      background-color: #3B4455;\n",
              "      fill: #D2E3FC;\n",
              "    }\n",
              "\n",
              "    [theme=dark] .colab-df-convert:hover {\n",
              "      background-color: #434B5C;\n",
              "      box-shadow: 0px 1px 3px 1px rgba(0, 0, 0, 0.15);\n",
              "      filter: drop-shadow(0px 1px 2px rgba(0, 0, 0, 0.3));\n",
              "      fill: #FFFFFF;\n",
              "    }\n",
              "  </style>\n",
              "\n",
              "    <script>\n",
              "      const buttonEl =\n",
              "        document.querySelector('#df-862f06da-968e-4851-b2e4-163436fe7b41 button.colab-df-convert');\n",
              "      buttonEl.style.display =\n",
              "        google.colab.kernel.accessAllowed ? 'block' : 'none';\n",
              "\n",
              "      async function convertToInteractive(key) {\n",
              "        const element = document.querySelector('#df-862f06da-968e-4851-b2e4-163436fe7b41');\n",
              "        const dataTable =\n",
              "          await google.colab.kernel.invokeFunction('convertToInteractive',\n",
              "                                                    [key], {});\n",
              "        if (!dataTable) return;\n",
              "\n",
              "        const docLinkHtml = 'Like what you see? Visit the ' +\n",
              "          '<a target=\"_blank\" href=https://colab.research.google.com/notebooks/data_table.ipynb>data table notebook</a>'\n",
              "          + ' to learn more about interactive tables.';\n",
              "        element.innerHTML = '';\n",
              "        dataTable['output_type'] = 'display_data';\n",
              "        await google.colab.output.renderOutput(dataTable, element);\n",
              "        const docLink = document.createElement('div');\n",
              "        docLink.innerHTML = docLinkHtml;\n",
              "        element.appendChild(docLink);\n",
              "      }\n",
              "    </script>\n",
              "  </div>\n",
              "\n",
              "\n",
              "<div id=\"df-4c75c794-2839-44e0-89f0-50dc38f2ee57\">\n",
              "  <button class=\"colab-df-quickchart\" onclick=\"quickchart('df-4c75c794-2839-44e0-89f0-50dc38f2ee57')\"\n",
              "            title=\"Suggest charts\"\n",
              "            style=\"display:none;\">\n",
              "\n",
              "<svg xmlns=\"http://www.w3.org/2000/svg\" height=\"24px\"viewBox=\"0 0 24 24\"\n",
              "     width=\"24px\">\n",
              "    <g>\n",
              "        <path d=\"M19 3H5c-1.1 0-2 .9-2 2v14c0 1.1.9 2 2 2h14c1.1 0 2-.9 2-2V5c0-1.1-.9-2-2-2zM9 17H7v-7h2v7zm4 0h-2V7h2v10zm4 0h-2v-4h2v4z\"/>\n",
              "    </g>\n",
              "</svg>\n",
              "  </button>\n",
              "\n",
              "<style>\n",
              "  .colab-df-quickchart {\n",
              "      --bg-color: #E8F0FE;\n",
              "      --fill-color: #1967D2;\n",
              "      --hover-bg-color: #E2EBFA;\n",
              "      --hover-fill-color: #174EA6;\n",
              "      --disabled-fill-color: #AAA;\n",
              "      --disabled-bg-color: #DDD;\n",
              "  }\n",
              "\n",
              "  [theme=dark] .colab-df-quickchart {\n",
              "      --bg-color: #3B4455;\n",
              "      --fill-color: #D2E3FC;\n",
              "      --hover-bg-color: #434B5C;\n",
              "      --hover-fill-color: #FFFFFF;\n",
              "      --disabled-bg-color: #3B4455;\n",
              "      --disabled-fill-color: #666;\n",
              "  }\n",
              "\n",
              "  .colab-df-quickchart {\n",
              "    background-color: var(--bg-color);\n",
              "    border: none;\n",
              "    border-radius: 50%;\n",
              "    cursor: pointer;\n",
              "    display: none;\n",
              "    fill: var(--fill-color);\n",
              "    height: 32px;\n",
              "    padding: 0;\n",
              "    width: 32px;\n",
              "  }\n",
              "\n",
              "  .colab-df-quickchart:hover {\n",
              "    background-color: var(--hover-bg-color);\n",
              "    box-shadow: 0 1px 2px rgba(60, 64, 67, 0.3), 0 1px 3px 1px rgba(60, 64, 67, 0.15);\n",
              "    fill: var(--button-hover-fill-color);\n",
              "  }\n",
              "\n",
              "  .colab-df-quickchart-complete:disabled,\n",
              "  .colab-df-quickchart-complete:disabled:hover {\n",
              "    background-color: var(--disabled-bg-color);\n",
              "    fill: var(--disabled-fill-color);\n",
              "    box-shadow: none;\n",
              "  }\n",
              "\n",
              "  .colab-df-spinner {\n",
              "    border: 2px solid var(--fill-color);\n",
              "    border-color: transparent;\n",
              "    border-bottom-color: var(--fill-color);\n",
              "    animation:\n",
              "      spin 1s steps(1) infinite;\n",
              "  }\n",
              "\n",
              "  @keyframes spin {\n",
              "    0% {\n",
              "      border-color: transparent;\n",
              "      border-bottom-color: var(--fill-color);\n",
              "      border-left-color: var(--fill-color);\n",
              "    }\n",
              "    20% {\n",
              "      border-color: transparent;\n",
              "      border-left-color: var(--fill-color);\n",
              "      border-top-color: var(--fill-color);\n",
              "    }\n",
              "    30% {\n",
              "      border-color: transparent;\n",
              "      border-left-color: var(--fill-color);\n",
              "      border-top-color: var(--fill-color);\n",
              "      border-right-color: var(--fill-color);\n",
              "    }\n",
              "    40% {\n",
              "      border-color: transparent;\n",
              "      border-right-color: var(--fill-color);\n",
              "      border-top-color: var(--fill-color);\n",
              "    }\n",
              "    60% {\n",
              "      border-color: transparent;\n",
              "      border-right-color: var(--fill-color);\n",
              "    }\n",
              "    80% {\n",
              "      border-color: transparent;\n",
              "      border-right-color: var(--fill-color);\n",
              "      border-bottom-color: var(--fill-color);\n",
              "    }\n",
              "    90% {\n",
              "      border-color: transparent;\n",
              "      border-bottom-color: var(--fill-color);\n",
              "    }\n",
              "  }\n",
              "</style>\n",
              "\n",
              "  <script>\n",
              "    async function quickchart(key) {\n",
              "      const quickchartButtonEl =\n",
              "        document.querySelector('#' + key + ' button');\n",
              "      quickchartButtonEl.disabled = true;  // To prevent multiple clicks.\n",
              "      quickchartButtonEl.classList.add('colab-df-spinner');\n",
              "      try {\n",
              "        const charts = await google.colab.kernel.invokeFunction(\n",
              "            'suggestCharts', [key], {});\n",
              "      } catch (error) {\n",
              "        console.error('Error during call to suggestCharts:', error);\n",
              "      }\n",
              "      quickchartButtonEl.classList.remove('colab-df-spinner');\n",
              "      quickchartButtonEl.classList.add('colab-df-quickchart-complete');\n",
              "    }\n",
              "    (() => {\n",
              "      let quickchartButtonEl =\n",
              "        document.querySelector('#df-4c75c794-2839-44e0-89f0-50dc38f2ee57 button');\n",
              "      quickchartButtonEl.style.display =\n",
              "        google.colab.kernel.accessAllowed ? 'block' : 'none';\n",
              "    })();\n",
              "  </script>\n",
              "</div>\n",
              "\n",
              "    </div>\n",
              "  </div>\n"
            ]
          },
          "metadata": {},
          "execution_count": 25
        }
      ],
      "source": [
        "show_head(df)"
      ],
      "metadata": {
        "ExecuteTime": {
          "end_time": "2024-01-13T09:00:47.683151254Z",
          "start_time": "2024-01-13T09:00:47.352210180Z"
        },
        "id": "49b5269687d96c46",
        "colab": {
          "base_uri": "https://localhost:8080/",
          "height": 206
        },
        "outputId": "149c33cd-f9fb-44ff-82f1-b88d0ad6ebc5"
      },
      "id": "49b5269687d96c46",
      "execution_count": 25
    },
    {
      "cell_type": "markdown",
      "source": [
        "1. Examine the variables and their datatypes."
      ],
      "metadata": {
        "collapsed": false,
        "id": "313a29884c5b9a46"
      },
      "id": "313a29884c5b9a46"
    },
    {
      "cell_type": "code",
      "outputs": [
        {
          "output_type": "execute_result",
          "data": {
            "text/plain": [
              "Category             object\n",
              "Product ID           object\n",
              "Year                  int64\n",
              "Quarter              object\n",
              "Quarterly Sales      object\n",
              "Customer Rating       int64\n",
              "Seller Rating       float64\n",
              "Price                 int64\n",
              "Discount Rate       float64\n",
              "Units Sold            int64\n",
              "Revenue               int64\n",
              "Shipping Method      object\n",
              "Location             object\n",
              "Advertising Cost    float64\n",
              "dtype: object"
            ]
          },
          "metadata": {},
          "execution_count": 26
        }
      ],
      "source": [
        "show_data_type(df)"
      ],
      "metadata": {
        "ExecuteTime": {
          "end_time": "2024-01-13T09:00:47.724462632Z",
          "start_time": "2024-01-13T09:00:47.365373777Z"
        },
        "id": "3565e22180085ef5",
        "colab": {
          "base_uri": "https://localhost:8080/"
        },
        "outputId": "6af1edd8-f656-40e5-d243-ad2d6942dd6e"
      },
      "id": "3565e22180085ef5",
      "execution_count": 26
    },
    {
      "cell_type": "markdown",
      "source": [
        "There appears to be a problem with 'Discount Rate' and 'Seller Rating'; they should be integers instead of floats. We plan to make this adjustment later for simplicity."
      ],
      "metadata": {
        "collapsed": false,
        "id": "b44b66162e38f7c3"
      },
      "id": "b44b66162e38f7c3"
    },
    {
      "cell_type": "markdown",
      "source": [
        "2. Remove any separation error in variables.\n",
        "\n",
        "Given that we've defined the header, there is no necessity to verify its existence. Let's instead check for the presence of any NA's."
      ],
      "metadata": {
        "collapsed": false,
        "id": "25da40cb1f56354"
      },
      "id": "25da40cb1f56354"
    },
    {
      "cell_type": "code",
      "outputs": [
        {
          "output_type": "execute_result",
          "data": {
            "text/plain": [
              "Category            0\n",
              "Product ID          0\n",
              "Year                0\n",
              "Quarter             0\n",
              "Quarterly Sales     2\n",
              "Customer Rating     0\n",
              "Seller Rating       1\n",
              "Price               0\n",
              "Discount Rate       0\n",
              "Units Sold          0\n",
              "Revenue             0\n",
              "Shipping Method     0\n",
              "Location            0\n",
              "Advertising Cost    2\n",
              "dtype: int64"
            ]
          },
          "metadata": {},
          "execution_count": 27
        }
      ],
      "source": [
        "df.isna().sum()"
      ],
      "metadata": {
        "ExecuteTime": {
          "end_time": "2024-01-13T09:00:47.768940846Z",
          "start_time": "2024-01-13T09:00:47.439727264Z"
        },
        "id": "2ba2ee5eefde3d5f",
        "colab": {
          "base_uri": "https://localhost:8080/"
        },
        "outputId": "aa1688f1-9453-43b2-85c5-2a4df8baa6ff"
      },
      "id": "2ba2ee5eefde3d5f",
      "execution_count": 27
    },
    {
      "cell_type": "markdown",
      "source": [
        "There are NA values in 'Seller Rating', 'Advertising Cost', and 'Quarterly Sales'.\n",
        "\n",
        "To ensure there are no NA or string-type NA values, let's start by removing any white spaces in the code."
      ],
      "metadata": {
        "collapsed": false,
        "id": "bfc0fd8999a956ff"
      },
      "id": "bfc0fd8999a956ff"
    },
    {
      "cell_type": "code",
      "outputs": [],
      "source": [
        "df = df.applymap(lambda x: x.strip() if isinstance(x, str) else x)"
      ],
      "metadata": {
        "ExecuteTime": {
          "end_time": "2024-01-13T09:00:48.144050108Z",
          "start_time": "2024-01-13T09:00:47.767884280Z"
        },
        "id": "94db1e43d1b06711"
      },
      "id": "94db1e43d1b06711",
      "execution_count": 28
    },
    {
      "cell_type": "markdown",
      "source": [
        "Additionally, we will replace string 'NA' occurrences with actual NA values."
      ],
      "metadata": {
        "collapsed": false,
        "id": "df87f3a2af12877a"
      },
      "id": "df87f3a2af12877a"
    },
    {
      "cell_type": "code",
      "outputs": [],
      "source": [
        "df.replace('NA', pd.NA, inplace=True)"
      ],
      "metadata": {
        "ExecuteTime": {
          "end_time": "2024-01-13T09:00:48.390558738Z",
          "start_time": "2024-01-13T09:00:48.115322307Z"
        },
        "id": "9f5ed4b8a51fd7f0"
      },
      "id": "9f5ed4b8a51fd7f0",
      "execution_count": 29
    },
    {
      "cell_type": "markdown",
      "source": [
        "Now, let's verify whether there are any new occurrences of NA values."
      ],
      "metadata": {
        "collapsed": false,
        "id": "59d293c6c04195b9"
      },
      "id": "59d293c6c04195b9"
    },
    {
      "cell_type": "code",
      "outputs": [
        {
          "output_type": "execute_result",
          "data": {
            "text/plain": [
              "Category            0\n",
              "Product ID          0\n",
              "Year                0\n",
              "Quarter             0\n",
              "Quarterly Sales     3\n",
              "Customer Rating     0\n",
              "Seller Rating       1\n",
              "Price               0\n",
              "Discount Rate       0\n",
              "Units Sold          0\n",
              "Revenue             0\n",
              "Shipping Method     0\n",
              "Location            0\n",
              "Advertising Cost    2\n",
              "dtype: int64"
            ]
          },
          "metadata": {},
          "execution_count": 30
        }
      ],
      "source": [
        "df.isna().sum()"
      ],
      "metadata": {
        "ExecuteTime": {
          "end_time": "2024-01-13T09:00:48.660791465Z",
          "start_time": "2024-01-13T09:00:48.366337613Z"
        },
        "id": "319662135b756aa8",
        "colab": {
          "base_uri": "https://localhost:8080/"
        },
        "outputId": "3f4fad45-24f8-4f20-c268-10a58b7ddc28"
      },
      "id": "319662135b756aa8",
      "execution_count": 30
    },
    {
      "cell_type": "markdown",
      "source": [
        "There was one occurrence of the string 'NA' in the \"Quarterly Sales\" column."
      ],
      "metadata": {
        "collapsed": false,
        "id": "659b3f9e4fe634b8"
      },
      "id": "659b3f9e4fe634b8"
    },
    {
      "cell_type": "markdown",
      "source": [
        "Got it, only the \"Quarterly Sales\" column has a problem; we'll address it later."
      ],
      "metadata": {
        "collapsed": false,
        "id": "4b79680fc963274f"
      },
      "id": "4b79680fc963274f"
    },
    {
      "cell_type": "markdown",
      "source": [
        "Remove specified characters from string columns."
      ],
      "metadata": {
        "collapsed": false,
        "id": "dbe4c5e742806fb9"
      },
      "id": "dbe4c5e742806fb9"
    },
    {
      "cell_type": "code",
      "outputs": [],
      "source": [
        "df.replace(to_replace=[r'\\{', r'\\}', r';', r':', r',', r'\\t', r'\\n'], value='', regex=True, inplace=True)"
      ],
      "metadata": {
        "ExecuteTime": {
          "end_time": "2024-01-13T09:00:48.701782908Z",
          "start_time": "2024-01-13T09:00:48.638098201Z"
        },
        "id": "f59629be1b75e106"
      },
      "id": "f59629be1b75e106",
      "execution_count": 31
    },
    {
      "cell_type": "markdown",
      "source": [
        "\n",
        "3. Given that we've manually defined the column names, there's no need to verify whether column headers are treated as values or variable names."
      ],
      "metadata": {
        "collapsed": false,
        "id": "b6d5d362f3bf7fa3"
      },
      "id": "b6d5d362f3bf7fa3"
    },
    {
      "cell_type": "markdown",
      "source": [
        "- To check for multiple data types in a column, let's see if there is a mix of data types present."
      ],
      "metadata": {
        "collapsed": false,
        "id": "d0b3c65be82d801"
      },
      "id": "d0b3c65be82d801"
    },
    {
      "cell_type": "code",
      "outputs": [
        {
          "output_type": "execute_result",
          "data": {
            "text/plain": [
              "Category                                              {<class 'str'>}\n",
              "Product ID                                            {<class 'str'>}\n",
              "Year                                                  {<class 'int'>}\n",
              "Quarter                                               {<class 'str'>}\n",
              "Quarterly Sales     {<class 'pandas._libs.missing.NAType'>, <class...\n",
              "Customer Rating                                       {<class 'int'>}\n",
              "Seller Rating                                       {<class 'float'>}\n",
              "Price                                                 {<class 'int'>}\n",
              "Discount Rate                                       {<class 'float'>}\n",
              "Units Sold                                            {<class 'int'>}\n",
              "Revenue                                               {<class 'int'>}\n",
              "Shipping Method                                       {<class 'str'>}\n",
              "Location                                              {<class 'str'>}\n",
              "Advertising Cost                                    {<class 'float'>}\n",
              "dtype: object"
            ]
          },
          "metadata": {},
          "execution_count": 32
        }
      ],
      "source": [
        "df.applymap(type).apply(set)"
      ],
      "metadata": {
        "ExecuteTime": {
          "end_time": "2024-01-13T09:00:48.916370045Z",
          "start_time": "2024-01-13T09:00:48.707255724Z"
        },
        "id": "37620d97b9875f08",
        "colab": {
          "base_uri": "https://localhost:8080/"
        },
        "outputId": "854b7066-5fdf-483d-f39a-6c3e26753f26"
      },
      "id": "37620d97b9875f08",
      "execution_count": 32
    },
    {
      "cell_type": "markdown",
      "source": [
        "In the \"Quarterly Sales\" column, we observe three types of values. We'll address this later; for now, let's decide how to handle the NA values."
      ],
      "metadata": {
        "collapsed": false,
        "id": "fac5679d9830febc"
      },
      "id": "fac5679d9830febc"
    },
    {
      "cell_type": "markdown",
      "source": [
        "Check if certain values suggest the existence of multiple variables in any columns."
      ],
      "metadata": {
        "collapsed": false,
        "id": "f9d25fd43928081c"
      },
      "id": "f9d25fd43928081c"
    },
    {
      "cell_type": "markdown",
      "source": [
        "Creating a function to check for the presence of specific characters and subsequently removing them."
      ],
      "metadata": {
        "collapsed": false,
        "id": "b6a4e41a738f1d2f"
      },
      "id": "b6a4e41a738f1d2f"
    },
    {
      "cell_type": "code",
      "outputs": [],
      "source": [
        "def check_and_remove_specific_values(df, specific_values):\n",
        "    return df.applymap(lambda x: ''.join(c for c in str(x) if c not in specific_values))"
      ],
      "metadata": {
        "ExecuteTime": {
          "end_time": "2024-01-13T09:00:49.058299435Z",
          "start_time": "2024-01-13T09:00:48.901158365Z"
        },
        "id": "e252753d2b01be8c"
      },
      "id": "e252753d2b01be8c",
      "execution_count": 33
    },
    {
      "cell_type": "markdown",
      "source": [
        "Now, let's take a look at the columns."
      ],
      "metadata": {
        "collapsed": false,
        "id": "15093cf78fa8a773"
      },
      "id": "15093cf78fa8a773"
    },
    {
      "cell_type": "code",
      "outputs": [
        {
          "output_type": "execute_result",
          "data": {
            "text/plain": [
              "           Category Product ID  Year Quarter Quarterly Sales Customer Rating  \\\n",
              "0            Beauty         B5  2018      Q1            1000               4   \n",
              "1            Beauty        B10  2018      Q2            1100               4   \n",
              "2            Beauty        B15  2019      Q3            1050               5   \n",
              "3            Beauty        B20  2020      Q4            1300              -4   \n",
              "4            Beauty        B25  2021      Q1            1050               5   \n",
              "..              ...        ...   ...     ...             ...             ...   \n",
              "117  Home & Kitchen         H9  2018      Q4            1400               5   \n",
              "118  Home & Kitchen        H14  2019      Q3            1200               4   \n",
              "119  Home & Kitchen        H19  2020      Q4            1400               5   \n",
              "120  Home & Kitchen        H24  2021      Q1            1600               5   \n",
              "121  Home & Kitchen        H29  2018      Q2            1300               4   \n",
              "\n",
              "    Seller Rating Price Discount Rate Units Sold Revenue Shipping Method  \\\n",
              "0              30    80           120         40   40000        Standard   \n",
              "1              50    90           180         50   55000        Standard   \n",
              "2              30    70            02         60   63000         Express   \n",
              "3              40    80           150         25   32500        Standard   \n",
              "4              40    90           180         60   63000         Express   \n",
              "..            ...   ...           ...        ...     ...             ...   \n",
              "117            40   110           150         25   35000        Standard   \n",
              "118            40   100           120         40   48000         Express   \n",
              "119            50   120            50         35   49000        Standard   \n",
              "120            50   130            80         20   32000         Express   \n",
              "121            30    90           150         25   32500        Standard   \n",
              "\n",
              "    Location Advertising Cost  \n",
              "0         EU             4000  \n",
              "1         US             4500  \n",
              "2       Asia              nan  \n",
              "3         EU             4500  \n",
              "4         US             5000  \n",
              "..       ...              ...  \n",
              "117     Asia             8000  \n",
              "118       EU             5000  \n",
              "119       US             8000  \n",
              "120     Asia             9000  \n",
              "121       EU             6000  \n",
              "\n",
              "[122 rows x 14 columns]"
            ],
            "text/html": [
              "\n",
              "  <div id=\"df-6bdb36a4-d2d7-4e3d-8c86-5122dfe02301\" class=\"colab-df-container\">\n",
              "    <div>\n",
              "<style scoped>\n",
              "    .dataframe tbody tr th:only-of-type {\n",
              "        vertical-align: middle;\n",
              "    }\n",
              "\n",
              "    .dataframe tbody tr th {\n",
              "        vertical-align: top;\n",
              "    }\n",
              "\n",
              "    .dataframe thead th {\n",
              "        text-align: right;\n",
              "    }\n",
              "</style>\n",
              "<table border=\"1\" class=\"dataframe\">\n",
              "  <thead>\n",
              "    <tr style=\"text-align: right;\">\n",
              "      <th></th>\n",
              "      <th>Category</th>\n",
              "      <th>Product ID</th>\n",
              "      <th>Year</th>\n",
              "      <th>Quarter</th>\n",
              "      <th>Quarterly Sales</th>\n",
              "      <th>Customer Rating</th>\n",
              "      <th>Seller Rating</th>\n",
              "      <th>Price</th>\n",
              "      <th>Discount Rate</th>\n",
              "      <th>Units Sold</th>\n",
              "      <th>Revenue</th>\n",
              "      <th>Shipping Method</th>\n",
              "      <th>Location</th>\n",
              "      <th>Advertising Cost</th>\n",
              "    </tr>\n",
              "  </thead>\n",
              "  <tbody>\n",
              "    <tr>\n",
              "      <th>0</th>\n",
              "      <td>Beauty</td>\n",
              "      <td>B5</td>\n",
              "      <td>2018</td>\n",
              "      <td>Q1</td>\n",
              "      <td>1000</td>\n",
              "      <td>4</td>\n",
              "      <td>30</td>\n",
              "      <td>80</td>\n",
              "      <td>120</td>\n",
              "      <td>40</td>\n",
              "      <td>40000</td>\n",
              "      <td>Standard</td>\n",
              "      <td>EU</td>\n",
              "      <td>4000</td>\n",
              "    </tr>\n",
              "    <tr>\n",
              "      <th>1</th>\n",
              "      <td>Beauty</td>\n",
              "      <td>B10</td>\n",
              "      <td>2018</td>\n",
              "      <td>Q2</td>\n",
              "      <td>1100</td>\n",
              "      <td>4</td>\n",
              "      <td>50</td>\n",
              "      <td>90</td>\n",
              "      <td>180</td>\n",
              "      <td>50</td>\n",
              "      <td>55000</td>\n",
              "      <td>Standard</td>\n",
              "      <td>US</td>\n",
              "      <td>4500</td>\n",
              "    </tr>\n",
              "    <tr>\n",
              "      <th>2</th>\n",
              "      <td>Beauty</td>\n",
              "      <td>B15</td>\n",
              "      <td>2019</td>\n",
              "      <td>Q3</td>\n",
              "      <td>1050</td>\n",
              "      <td>5</td>\n",
              "      <td>30</td>\n",
              "      <td>70</td>\n",
              "      <td>02</td>\n",
              "      <td>60</td>\n",
              "      <td>63000</td>\n",
              "      <td>Express</td>\n",
              "      <td>Asia</td>\n",
              "      <td>nan</td>\n",
              "    </tr>\n",
              "    <tr>\n",
              "      <th>3</th>\n",
              "      <td>Beauty</td>\n",
              "      <td>B20</td>\n",
              "      <td>2020</td>\n",
              "      <td>Q4</td>\n",
              "      <td>1300</td>\n",
              "      <td>-4</td>\n",
              "      <td>40</td>\n",
              "      <td>80</td>\n",
              "      <td>150</td>\n",
              "      <td>25</td>\n",
              "      <td>32500</td>\n",
              "      <td>Standard</td>\n",
              "      <td>EU</td>\n",
              "      <td>4500</td>\n",
              "    </tr>\n",
              "    <tr>\n",
              "      <th>4</th>\n",
              "      <td>Beauty</td>\n",
              "      <td>B25</td>\n",
              "      <td>2021</td>\n",
              "      <td>Q1</td>\n",
              "      <td>1050</td>\n",
              "      <td>5</td>\n",
              "      <td>40</td>\n",
              "      <td>90</td>\n",
              "      <td>180</td>\n",
              "      <td>60</td>\n",
              "      <td>63000</td>\n",
              "      <td>Express</td>\n",
              "      <td>US</td>\n",
              "      <td>5000</td>\n",
              "    </tr>\n",
              "    <tr>\n",
              "      <th>...</th>\n",
              "      <td>...</td>\n",
              "      <td>...</td>\n",
              "      <td>...</td>\n",
              "      <td>...</td>\n",
              "      <td>...</td>\n",
              "      <td>...</td>\n",
              "      <td>...</td>\n",
              "      <td>...</td>\n",
              "      <td>...</td>\n",
              "      <td>...</td>\n",
              "      <td>...</td>\n",
              "      <td>...</td>\n",
              "      <td>...</td>\n",
              "      <td>...</td>\n",
              "    </tr>\n",
              "    <tr>\n",
              "      <th>117</th>\n",
              "      <td>Home &amp; Kitchen</td>\n",
              "      <td>H9</td>\n",
              "      <td>2018</td>\n",
              "      <td>Q4</td>\n",
              "      <td>1400</td>\n",
              "      <td>5</td>\n",
              "      <td>40</td>\n",
              "      <td>110</td>\n",
              "      <td>150</td>\n",
              "      <td>25</td>\n",
              "      <td>35000</td>\n",
              "      <td>Standard</td>\n",
              "      <td>Asia</td>\n",
              "      <td>8000</td>\n",
              "    </tr>\n",
              "    <tr>\n",
              "      <th>118</th>\n",
              "      <td>Home &amp; Kitchen</td>\n",
              "      <td>H14</td>\n",
              "      <td>2019</td>\n",
              "      <td>Q3</td>\n",
              "      <td>1200</td>\n",
              "      <td>4</td>\n",
              "      <td>40</td>\n",
              "      <td>100</td>\n",
              "      <td>120</td>\n",
              "      <td>40</td>\n",
              "      <td>48000</td>\n",
              "      <td>Express</td>\n",
              "      <td>EU</td>\n",
              "      <td>5000</td>\n",
              "    </tr>\n",
              "    <tr>\n",
              "      <th>119</th>\n",
              "      <td>Home &amp; Kitchen</td>\n",
              "      <td>H19</td>\n",
              "      <td>2020</td>\n",
              "      <td>Q4</td>\n",
              "      <td>1400</td>\n",
              "      <td>5</td>\n",
              "      <td>50</td>\n",
              "      <td>120</td>\n",
              "      <td>50</td>\n",
              "      <td>35</td>\n",
              "      <td>49000</td>\n",
              "      <td>Standard</td>\n",
              "      <td>US</td>\n",
              "      <td>8000</td>\n",
              "    </tr>\n",
              "    <tr>\n",
              "      <th>120</th>\n",
              "      <td>Home &amp; Kitchen</td>\n",
              "      <td>H24</td>\n",
              "      <td>2021</td>\n",
              "      <td>Q1</td>\n",
              "      <td>1600</td>\n",
              "      <td>5</td>\n",
              "      <td>50</td>\n",
              "      <td>130</td>\n",
              "      <td>80</td>\n",
              "      <td>20</td>\n",
              "      <td>32000</td>\n",
              "      <td>Express</td>\n",
              "      <td>Asia</td>\n",
              "      <td>9000</td>\n",
              "    </tr>\n",
              "    <tr>\n",
              "      <th>121</th>\n",
              "      <td>Home &amp; Kitchen</td>\n",
              "      <td>H29</td>\n",
              "      <td>2018</td>\n",
              "      <td>Q2</td>\n",
              "      <td>1300</td>\n",
              "      <td>4</td>\n",
              "      <td>30</td>\n",
              "      <td>90</td>\n",
              "      <td>150</td>\n",
              "      <td>25</td>\n",
              "      <td>32500</td>\n",
              "      <td>Standard</td>\n",
              "      <td>EU</td>\n",
              "      <td>6000</td>\n",
              "    </tr>\n",
              "  </tbody>\n",
              "</table>\n",
              "<p>122 rows × 14 columns</p>\n",
              "</div>\n",
              "    <div class=\"colab-df-buttons\">\n",
              "\n",
              "  <div class=\"colab-df-container\">\n",
              "    <button class=\"colab-df-convert\" onclick=\"convertToInteractive('df-6bdb36a4-d2d7-4e3d-8c86-5122dfe02301')\"\n",
              "            title=\"Convert this dataframe to an interactive table.\"\n",
              "            style=\"display:none;\">\n",
              "\n",
              "  <svg xmlns=\"http://www.w3.org/2000/svg\" height=\"24px\" viewBox=\"0 -960 960 960\">\n",
              "    <path d=\"M120-120v-720h720v720H120Zm60-500h600v-160H180v160Zm220 220h160v-160H400v160Zm0 220h160v-160H400v160ZM180-400h160v-160H180v160Zm440 0h160v-160H620v160ZM180-180h160v-160H180v160Zm440 0h160v-160H620v160Z\"/>\n",
              "  </svg>\n",
              "    </button>\n",
              "\n",
              "  <style>\n",
              "    .colab-df-container {\n",
              "      display:flex;\n",
              "      gap: 12px;\n",
              "    }\n",
              "\n",
              "    .colab-df-convert {\n",
              "      background-color: #E8F0FE;\n",
              "      border: none;\n",
              "      border-radius: 50%;\n",
              "      cursor: pointer;\n",
              "      display: none;\n",
              "      fill: #1967D2;\n",
              "      height: 32px;\n",
              "      padding: 0 0 0 0;\n",
              "      width: 32px;\n",
              "    }\n",
              "\n",
              "    .colab-df-convert:hover {\n",
              "      background-color: #E2EBFA;\n",
              "      box-shadow: 0px 1px 2px rgba(60, 64, 67, 0.3), 0px 1px 3px 1px rgba(60, 64, 67, 0.15);\n",
              "      fill: #174EA6;\n",
              "    }\n",
              "\n",
              "    .colab-df-buttons div {\n",
              "      margin-bottom: 4px;\n",
              "    }\n",
              "\n",
              "    [theme=dark] .colab-df-convert {\n",
              "      background-color: #3B4455;\n",
              "      fill: #D2E3FC;\n",
              "    }\n",
              "\n",
              "    [theme=dark] .colab-df-convert:hover {\n",
              "      background-color: #434B5C;\n",
              "      box-shadow: 0px 1px 3px 1px rgba(0, 0, 0, 0.15);\n",
              "      filter: drop-shadow(0px 1px 2px rgba(0, 0, 0, 0.3));\n",
              "      fill: #FFFFFF;\n",
              "    }\n",
              "  </style>\n",
              "\n",
              "    <script>\n",
              "      const buttonEl =\n",
              "        document.querySelector('#df-6bdb36a4-d2d7-4e3d-8c86-5122dfe02301 button.colab-df-convert');\n",
              "      buttonEl.style.display =\n",
              "        google.colab.kernel.accessAllowed ? 'block' : 'none';\n",
              "\n",
              "      async function convertToInteractive(key) {\n",
              "        const element = document.querySelector('#df-6bdb36a4-d2d7-4e3d-8c86-5122dfe02301');\n",
              "        const dataTable =\n",
              "          await google.colab.kernel.invokeFunction('convertToInteractive',\n",
              "                                                    [key], {});\n",
              "        if (!dataTable) return;\n",
              "\n",
              "        const docLinkHtml = 'Like what you see? Visit the ' +\n",
              "          '<a target=\"_blank\" href=https://colab.research.google.com/notebooks/data_table.ipynb>data table notebook</a>'\n",
              "          + ' to learn more about interactive tables.';\n",
              "        element.innerHTML = '';\n",
              "        dataTable['output_type'] = 'display_data';\n",
              "        await google.colab.output.renderOutput(dataTable, element);\n",
              "        const docLink = document.createElement('div');\n",
              "        docLink.innerHTML = docLinkHtml;\n",
              "        element.appendChild(docLink);\n",
              "      }\n",
              "    </script>\n",
              "  </div>\n",
              "\n",
              "\n",
              "<div id=\"df-997df46a-4d9c-4ce8-a857-f27439d3980e\">\n",
              "  <button class=\"colab-df-quickchart\" onclick=\"quickchart('df-997df46a-4d9c-4ce8-a857-f27439d3980e')\"\n",
              "            title=\"Suggest charts\"\n",
              "            style=\"display:none;\">\n",
              "\n",
              "<svg xmlns=\"http://www.w3.org/2000/svg\" height=\"24px\"viewBox=\"0 0 24 24\"\n",
              "     width=\"24px\">\n",
              "    <g>\n",
              "        <path d=\"M19 3H5c-1.1 0-2 .9-2 2v14c0 1.1.9 2 2 2h14c1.1 0 2-.9 2-2V5c0-1.1-.9-2-2-2zM9 17H7v-7h2v7zm4 0h-2V7h2v10zm4 0h-2v-4h2v4z\"/>\n",
              "    </g>\n",
              "</svg>\n",
              "  </button>\n",
              "\n",
              "<style>\n",
              "  .colab-df-quickchart {\n",
              "      --bg-color: #E8F0FE;\n",
              "      --fill-color: #1967D2;\n",
              "      --hover-bg-color: #E2EBFA;\n",
              "      --hover-fill-color: #174EA6;\n",
              "      --disabled-fill-color: #AAA;\n",
              "      --disabled-bg-color: #DDD;\n",
              "  }\n",
              "\n",
              "  [theme=dark] .colab-df-quickchart {\n",
              "      --bg-color: #3B4455;\n",
              "      --fill-color: #D2E3FC;\n",
              "      --hover-bg-color: #434B5C;\n",
              "      --hover-fill-color: #FFFFFF;\n",
              "      --disabled-bg-color: #3B4455;\n",
              "      --disabled-fill-color: #666;\n",
              "  }\n",
              "\n",
              "  .colab-df-quickchart {\n",
              "    background-color: var(--bg-color);\n",
              "    border: none;\n",
              "    border-radius: 50%;\n",
              "    cursor: pointer;\n",
              "    display: none;\n",
              "    fill: var(--fill-color);\n",
              "    height: 32px;\n",
              "    padding: 0;\n",
              "    width: 32px;\n",
              "  }\n",
              "\n",
              "  .colab-df-quickchart:hover {\n",
              "    background-color: var(--hover-bg-color);\n",
              "    box-shadow: 0 1px 2px rgba(60, 64, 67, 0.3), 0 1px 3px 1px rgba(60, 64, 67, 0.15);\n",
              "    fill: var(--button-hover-fill-color);\n",
              "  }\n",
              "\n",
              "  .colab-df-quickchart-complete:disabled,\n",
              "  .colab-df-quickchart-complete:disabled:hover {\n",
              "    background-color: var(--disabled-bg-color);\n",
              "    fill: var(--disabled-fill-color);\n",
              "    box-shadow: none;\n",
              "  }\n",
              "\n",
              "  .colab-df-spinner {\n",
              "    border: 2px solid var(--fill-color);\n",
              "    border-color: transparent;\n",
              "    border-bottom-color: var(--fill-color);\n",
              "    animation:\n",
              "      spin 1s steps(1) infinite;\n",
              "  }\n",
              "\n",
              "  @keyframes spin {\n",
              "    0% {\n",
              "      border-color: transparent;\n",
              "      border-bottom-color: var(--fill-color);\n",
              "      border-left-color: var(--fill-color);\n",
              "    }\n",
              "    20% {\n",
              "      border-color: transparent;\n",
              "      border-left-color: var(--fill-color);\n",
              "      border-top-color: var(--fill-color);\n",
              "    }\n",
              "    30% {\n",
              "      border-color: transparent;\n",
              "      border-left-color: var(--fill-color);\n",
              "      border-top-color: var(--fill-color);\n",
              "      border-right-color: var(--fill-color);\n",
              "    }\n",
              "    40% {\n",
              "      border-color: transparent;\n",
              "      border-right-color: var(--fill-color);\n",
              "      border-top-color: var(--fill-color);\n",
              "    }\n",
              "    60% {\n",
              "      border-color: transparent;\n",
              "      border-right-color: var(--fill-color);\n",
              "    }\n",
              "    80% {\n",
              "      border-color: transparent;\n",
              "      border-right-color: var(--fill-color);\n",
              "      border-bottom-color: var(--fill-color);\n",
              "    }\n",
              "    90% {\n",
              "      border-color: transparent;\n",
              "      border-bottom-color: var(--fill-color);\n",
              "    }\n",
              "  }\n",
              "</style>\n",
              "\n",
              "  <script>\n",
              "    async function quickchart(key) {\n",
              "      const quickchartButtonEl =\n",
              "        document.querySelector('#' + key + ' button');\n",
              "      quickchartButtonEl.disabled = true;  // To prevent multiple clicks.\n",
              "      quickchartButtonEl.classList.add('colab-df-spinner');\n",
              "      try {\n",
              "        const charts = await google.colab.kernel.invokeFunction(\n",
              "            'suggestCharts', [key], {});\n",
              "      } catch (error) {\n",
              "        console.error('Error during call to suggestCharts:', error);\n",
              "      }\n",
              "      quickchartButtonEl.classList.remove('colab-df-spinner');\n",
              "      quickchartButtonEl.classList.add('colab-df-quickchart-complete');\n",
              "    }\n",
              "    (() => {\n",
              "      let quickchartButtonEl =\n",
              "        document.querySelector('#df-997df46a-4d9c-4ce8-a857-f27439d3980e button');\n",
              "      quickchartButtonEl.style.display =\n",
              "        google.colab.kernel.accessAllowed ? 'block' : 'none';\n",
              "    })();\n",
              "  </script>\n",
              "</div>\n",
              "\n",
              "    </div>\n",
              "  </div>\n"
            ]
          },
          "metadata": {},
          "execution_count": 34
        }
      ],
      "source": [
        "# Define a list of specific values to check for and remove\n",
        "specific_values = [':', ';', ',', '.', '/', '?', '|', '*', '%']\n",
        "\n",
        "# Check for the presence of specific values in all columns\n",
        "check_and_remove_specific_values(df, specific_values)"
      ],
      "metadata": {
        "ExecuteTime": {
          "end_time": "2024-01-13T09:00:49.106584355Z",
          "start_time": "2024-01-13T09:00:49.037362165Z"
        },
        "id": "93eed3edd726997b",
        "colab": {
          "base_uri": "https://localhost:8080/",
          "height": 527
        },
        "outputId": "5d363d9f-a789-40d7-e6f7-94a453ac315d"
      },
      "id": "93eed3edd726997b",
      "execution_count": 34
    },
    {
      "cell_type": "markdown",
      "source": [
        "So now, the data does not contain the specified characters."
      ],
      "metadata": {
        "collapsed": false,
        "id": "c3d58be94143993f"
      },
      "id": "c3d58be94143993f"
    },
    {
      "cell_type": "markdown",
      "source": [
        "Let's verify whether each string in each column consists of one or more word characters. Specifically, we'll check for the pattern of a letter followed by one or more digits in the \"Product ID\" column."
      ],
      "metadata": {
        "collapsed": false,
        "id": "6329e62f99fe7f1c"
      },
      "id": "6329e62f99fe7f1c"
    },
    {
      "cell_type": "code",
      "outputs": [
        {
          "output_type": "execute_result",
          "data": {
            "text/plain": [
              "0      True\n",
              "1      True\n",
              "2      True\n",
              "3      True\n",
              "4      True\n",
              "       ... \n",
              "117    True\n",
              "118    True\n",
              "119    True\n",
              "120    True\n",
              "121    True\n",
              "Name: Product ID, Length: 122, dtype: bool"
            ]
          },
          "metadata": {},
          "execution_count": 35
        }
      ],
      "source": [
        "pattern_to_check_product_id = '^[A-Z]\\d+$'\n",
        "# Check if the pattern is present in Product ID column\n",
        "\n",
        "df['Product ID'] = df['Product ID'].astype(str)  # Ensure the column is of string type\n",
        "df['Product ID'].str.match(pattern_to_check_product_id)"
      ],
      "metadata": {
        "ExecuteTime": {
          "end_time": "2024-01-13T09:00:49.250747160Z",
          "start_time": "2024-01-13T09:00:49.093842385Z"
        },
        "id": "655d18d3527d2cdd",
        "colab": {
          "base_uri": "https://localhost:8080/"
        },
        "outputId": "0284e423-c7c0-452a-ae42-a5d3c44e093c"
      },
      "id": "655d18d3527d2cdd",
      "execution_count": 35
    },
    {
      "cell_type": "markdown",
      "source": [
        "It appears that everything is fine."
      ],
      "metadata": {
        "collapsed": false,
        "id": "3088adffb6c88d1a"
      },
      "id": "3088adffb6c88d1a"
    },
    {
      "cell_type": "markdown",
      "source": [
        "Verify if the \"quarter\" column follows the pattern of 'Q' followed by a digit from 1 to 4."
      ],
      "metadata": {
        "collapsed": false,
        "id": "5f89303f1ae573e9"
      },
      "id": "5f89303f1ae573e9"
    },
    {
      "cell_type": "code",
      "outputs": [
        {
          "output_type": "execute_result",
          "data": {
            "text/plain": [
              "0      True\n",
              "1      True\n",
              "2      True\n",
              "3      True\n",
              "4      True\n",
              "       ... \n",
              "117    True\n",
              "118    True\n",
              "119    True\n",
              "120    True\n",
              "121    True\n",
              "Name: Quarter, Length: 122, dtype: bool"
            ]
          },
          "metadata": {},
          "execution_count": 36
        }
      ],
      "source": [
        "pattern_to_check_quarter = '^Q[1-4]$'\n",
        "\n",
        "# Check if the pattern is present in Quarter column\n",
        "df['Quarter'] = df['Quarter'].astype(str)  # Ensure the column is of string type\n",
        "df['Quarter'].str.match(pattern_to_check_quarter)"
      ],
      "metadata": {
        "ExecuteTime": {
          "end_time": "2024-01-13T09:00:49.298367133Z",
          "start_time": "2024-01-13T09:00:49.238088867Z"
        },
        "id": "b0342a14fce57e3e",
        "colab": {
          "base_uri": "https://localhost:8080/"
        },
        "outputId": "c23c32bd-4b6f-412e-c1e8-1523e6c34ac9"
      },
      "id": "b0342a14fce57e3e",
      "execution_count": 36
    },
    {
      "cell_type": "markdown",
      "source": [
        "It appears that everything is fine."
      ],
      "metadata": {
        "collapsed": false,
        "id": "c622f0061bd2f7c4"
      },
      "id": "c622f0061bd2f7c4"
    },
    {
      "cell_type": "markdown",
      "source": [
        "Now, let's ensure that the other categorical columns only consist of letters."
      ],
      "metadata": {
        "collapsed": false,
        "id": "bffd4c5917c84680"
      },
      "id": "bffd4c5917c84680"
    },
    {
      "cell_type": "code",
      "outputs": [
        {
          "output_type": "stream",
          "name": "stdout",
          "text": [
            "Category contains only digits:\n",
            "0      True\n",
            "1      True\n",
            "2      True\n",
            "3      True\n",
            "4      True\n",
            "       ... \n",
            "117    True\n",
            "118    True\n",
            "119    True\n",
            "120    True\n",
            "121    True\n",
            "Name: Category, Length: 122, dtype: bool\n",
            "Location contains only digits:\n",
            "0      True\n",
            "1      True\n",
            "2      True\n",
            "3      True\n",
            "4      True\n",
            "       ... \n",
            "117    True\n",
            "118    True\n",
            "119    True\n",
            "120    True\n",
            "121    True\n",
            "Name: Location, Length: 122, dtype: bool\n",
            "Shipping Method contains only digits:\n",
            "0      True\n",
            "1      True\n",
            "2      True\n",
            "3      True\n",
            "4      True\n",
            "       ... \n",
            "117    True\n",
            "118    True\n",
            "119    True\n",
            "120    True\n",
            "121    True\n",
            "Name: Shipping Method, Length: 122, dtype: bool\n"
          ]
        }
      ],
      "source": [
        "# Identify categorical columns (excluding 'Product ID' and 'Quarter')\n",
        "categorical_columns = df.select_dtypes(include='object').columns.difference(['Product ID', 'Quarter', 'Quarterly Sales'])\n",
        "\n",
        "# Check if categorical columns contain only digits\n",
        "for column in categorical_columns:\n",
        "    df[column] = df[column].astype(str)  # Ensure the column is of string type\n",
        "    contains_only_digits = df[column].str.match(r'\\w+')\n",
        "    print(f\"{column} contains only digits:\")\n",
        "    print(contains_only_digits)"
      ],
      "metadata": {
        "ExecuteTime": {
          "end_time": "2024-01-13T09:00:49.465378374Z",
          "start_time": "2024-01-13T09:00:49.286436667Z"
        },
        "id": "27f57fff67c89459",
        "colab": {
          "base_uri": "https://localhost:8080/"
        },
        "outputId": "f1982fc0-b942-4823-bd52-5781a2a0e41d"
      },
      "id": "27f57fff67c89459",
      "execution_count": 37
    },
    {
      "cell_type": "markdown",
      "source": [
        "\"Category,\" \"Location,\" and \"Shipping method\" columns are confirmed to only contain letters, so they are fine."
      ],
      "metadata": {
        "collapsed": false,
        "id": "a81d107c0e0c128f"
      },
      "id": "a81d107c0e0c128f"
    },
    {
      "cell_type": "markdown",
      "source": [
        "The remaining columns will be checked later, as they contain NA values that need to be assessed."
      ],
      "metadata": {
        "collapsed": false,
        "id": "231410e1c363749"
      },
      "id": "231410e1c363749"
    },
    {
      "cell_type": "markdown",
      "source": [
        "Check if variables are stored in both rows and columns."
      ],
      "metadata": {
        "collapsed": false,
        "id": "46d45974f189f3ca"
      },
      "id": "46d45974f189f3ca"
    },
    {
      "cell_type": "code",
      "outputs": [
        {
          "output_type": "execute_result",
          "data": {
            "text/plain": [
              "set()"
            ]
          },
          "metadata": {},
          "execution_count": 38
        }
      ],
      "source": [
        "set(df.columns) & set(df.values.flatten())"
      ],
      "metadata": {
        "ExecuteTime": {
          "end_time": "2024-01-13T09:00:49.616418586Z",
          "start_time": "2024-01-13T09:00:49.439125221Z"
        },
        "id": "75af7c8712b54201",
        "colab": {
          "base_uri": "https://localhost:8080/"
        },
        "outputId": "31a5b3e5-0ad0-4a4c-906d-6bf982b96c64"
      },
      "id": "75af7c8712b54201",
      "execution_count": 38
    },
    {
      "cell_type": "markdown",
      "source": [
        "The result is an empty set, indicating that no variables are stored in both rows and columns."
      ],
      "metadata": {
        "collapsed": false,
        "id": "b4a9aa417b6e0e1a"
      },
      "id": "b4a9aa417b6e0e1a"
    },
    {
      "cell_type": "markdown",
      "source": [
        "Given that we have a single table, there's no need to check whether a single observational unit exists in different tables. We can simply proceed by dropping duplicates."
      ],
      "metadata": {
        "collapsed": false,
        "id": "95969dd0c7058f9c"
      },
      "id": "95969dd0c7058f9c"
    },
    {
      "cell_type": "code",
      "outputs": [],
      "source": [
        "df.drop_duplicates(inplace=True)"
      ],
      "metadata": {
        "ExecuteTime": {
          "end_time": "2024-01-13T09:00:49.676105950Z",
          "start_time": "2024-01-13T09:00:49.502086797Z"
        },
        "id": "f99b30bd4de687d7"
      },
      "id": "f99b30bd4de687d7",
      "execution_count": 39
    },
    {
      "cell_type": "markdown",
      "source": [
        "4. The column names have already been fixed."
      ],
      "metadata": {
        "collapsed": false,
        "id": "21ab94c6621b235a"
      },
      "id": "21ab94c6621b235a"
    },
    {
      "cell_type": "markdown",
      "source": [
        "5. I'm removing the \"Product ID\" column as it is unnecessary for data visualization."
      ],
      "metadata": {
        "collapsed": false,
        "id": "2d2800920623b70a"
      },
      "id": "2d2800920623b70a"
    },
    {
      "cell_type": "code",
      "outputs": [],
      "source": [
        "df = df.drop(\"Product ID\", axis=1)"
      ],
      "metadata": {
        "ExecuteTime": {
          "end_time": "2024-01-13T09:00:49.845369834Z",
          "start_time": "2024-01-13T09:00:49.678092837Z"
        },
        "id": "b7f7bd2bfa8b48a4"
      },
      "id": "b7f7bd2bfa8b48a4",
      "execution_count": 40
    },
    {
      "cell_type": "markdown",
      "source": [
        "6. We have already eliminated duplicate entries from the dataset."
      ],
      "metadata": {
        "collapsed": false,
        "id": "6971d06a188d7b99"
      },
      "id": "6971d06a188d7b99"
    },
    {
      "cell_type": "markdown",
      "source": [
        "7. We have already checked if there are any unnecessary strings in the values."
      ],
      "metadata": {
        "collapsed": false,
        "id": "d0330f69989ccd88"
      },
      "id": "d0330f69989ccd88"
    },
    {
      "cell_type": "markdown",
      "source": [
        "8. We have already checked for white spaces."
      ],
      "metadata": {
        "collapsed": false,
        "id": "4b37407a55e4795b"
      },
      "id": "4b37407a55e4795b"
    },
    {
      "cell_type": "markdown",
      "source": [
        "9. Now, we need to format the titles."
      ],
      "metadata": {
        "collapsed": false,
        "id": "ad78606959778988"
      },
      "id": "ad78606959778988"
    },
    {
      "cell_type": "code",
      "outputs": [],
      "source": [
        "df[\"Category\"] = df[\"Category\"].str.title()"
      ],
      "metadata": {
        "ExecuteTime": {
          "end_time": "2024-01-13T09:00:49.944457934Z",
          "start_time": "2024-01-13T09:00:49.827379815Z"
        },
        "id": "50ea4b060fc90cb0"
      },
      "id": "50ea4b060fc90cb0",
      "execution_count": 41
    },
    {
      "cell_type": "markdown",
      "source": [
        "10. We don't have to check if levels of categories are unique, as we don't need it to be unique for this data set."
      ],
      "metadata": {
        "collapsed": false,
        "id": "7a7f8204de0b20a6"
      },
      "id": "7a7f8204de0b20a6"
    },
    {
      "cell_type": "markdown",
      "source": [
        "11. We need to create a column that specifies the year and quarter, but before that, we must fix the \"Year\" column."
      ],
      "metadata": {
        "collapsed": false,
        "id": "b42e59f2cfb23b38"
      },
      "id": "b42e59f2cfb23b38"
    },
    {
      "cell_type": "markdown",
      "source": [
        "Some of the values in the Year column has an unnecessary extra digit at the end; let's fix it."
      ],
      "metadata": {
        "collapsed": false,
        "id": "a7790b506521055c"
      },
      "id": "a7790b506521055c"
    },
    {
      "cell_type": "code",
      "outputs": [],
      "source": [
        "df['Year'] = df['Year'].astype(str)\n",
        "df['Year'] = df['Year'].str[:4]\n",
        "df['Year'] = df['Year'].astype(int)"
      ],
      "metadata": {
        "ExecuteTime": {
          "end_time": "2024-01-13T09:00:50.036300353Z",
          "start_time": "2024-01-13T09:00:49.876641570Z"
        },
        "id": "8c647a3ad8ea844e"
      },
      "id": "8c647a3ad8ea844e",
      "execution_count": 42
    },
    {
      "cell_type": "markdown",
      "source": [
        "Now, we can proceed to create a new column for the date."
      ],
      "metadata": {
        "collapsed": false,
        "id": "5da9eaafe30a7d1"
      },
      "id": "5da9eaafe30a7d1"
    },
    {
      "cell_type": "code",
      "outputs": [
        {
          "output_type": "execute_result",
          "data": {
            "text/plain": [
              "0      2018-01\n",
              "1      2018-02\n",
              "2      2019-03\n",
              "3      2020-04\n",
              "4      2021-01\n",
              "        ...   \n",
              "117    2018-04\n",
              "118    2019-03\n",
              "119    2020-04\n",
              "120    2021-01\n",
              "121    2018-02\n",
              "Name: Date, Length: 119, dtype: object"
            ]
          },
          "metadata": {},
          "execution_count": 63
        }
      ],
      "source": [
        "#First, let's create a column with modified quarter values to use them as integers.\n",
        "quarter_map = {'Q1': '01', 'Q2': '02', 'Q3': '03', 'Q4': '4'}\n",
        "modified_quarter = df['Quarter'].map(quarter_map)\n",
        "#Then, let's go on with creating a date column.\n",
        "df['Date'] = df['Year'].astype(str) + '.' + modified_quarter.astype(str)\n",
        "df['Date'] = pd.to_datetime(df['Date'], format='%Y.%m')\n",
        "df['Date'] = df['Date'].dt.strftime('%Y-%m')\n",
        "df['Date']"
      ],
      "metadata": {
        "ExecuteTime": {
          "end_time": "2024-01-13T09:00:50.120037628Z",
          "start_time": "2024-01-13T09:00:49.998910998Z"
        },
        "id": "b519a4582749a5d3",
        "colab": {
          "base_uri": "https://localhost:8080/"
        },
        "outputId": "277ef38b-4f6a-4bb3-c390-94bf71564242"
      },
      "id": "b519a4582749a5d3",
      "execution_count": 63
    },
    {
      "cell_type": "markdown",
      "source": [
        "We have generated a new column that combines the information from the \"Year\" and \"Quarter\" columns, with the data type designated as date."
      ],
      "metadata": {
        "collapsed": false,
        "id": "2fd2d3af95190950"
      },
      "id": "2fd2d3af95190950"
    },
    {
      "cell_type": "markdown",
      "source": [
        "so, as we checked we NA's in Quarterly Sales and in Seller Rating"
      ],
      "metadata": {
        "collapsed": false,
        "id": "75a4f91d04f071af"
      },
      "id": "75a4f91d04f071af"
    },
    {
      "cell_type": "markdown",
      "source": [
        "We can use the median of the Sales to override the NA's."
      ],
      "metadata": {
        "collapsed": false,
        "id": "326c8b090d2390cc"
      },
      "id": "326c8b090d2390cc"
    },
    {
      "cell_type": "code",
      "outputs": [],
      "source": [
        "df['Quarterly Sales'].fillna(df['Quarterly Sales'].median(), inplace=True)\n",
        "df['Quarterly Sales'] = df['Quarterly Sales'].astype(int)"
      ],
      "metadata": {
        "ExecuteTime": {
          "end_time": "2024-01-13T09:00:50.204729558Z",
          "start_time": "2024-01-13T09:00:50.068857691Z"
        },
        "id": "5a529477aca96082"
      },
      "id": "5a529477aca96082",
      "execution_count": 44
    },
    {
      "cell_type": "markdown",
      "source": [
        "Let's check if there are any NA values in the \"Quarterly Sales\" column."
      ],
      "metadata": {
        "collapsed": false,
        "id": "fcf778308a5e2b7"
      },
      "id": "fcf778308a5e2b7"
    },
    {
      "cell_type": "code",
      "outputs": [
        {
          "output_type": "execute_result",
          "data": {
            "text/plain": [
              "0"
            ]
          },
          "metadata": {},
          "execution_count": 45
        }
      ],
      "source": [
        "df[\"Quarterly Sales\"].isna().sum()"
      ],
      "metadata": {
        "ExecuteTime": {
          "end_time": "2024-01-13T09:00:50.262645337Z",
          "start_time": "2024-01-13T09:00:50.155281738Z"
        },
        "id": "3b981fbe843b8036",
        "colab": {
          "base_uri": "https://localhost:8080/"
        },
        "outputId": "376c6f0d-c378-404e-a670-93ade18e39f7"
      },
      "id": "3b981fbe843b8036",
      "execution_count": 45
    },
    {
      "cell_type": "markdown",
      "source": [
        "So, there are no NA values in the \"Quarterly Sales\" column."
      ],
      "metadata": {
        "collapsed": false,
        "id": "563bc5264176e9d8"
      },
      "id": "563bc5264176e9d8"
    },
    {
      "cell_type": "markdown",
      "source": [
        "Let's sort the data of the \"Quarterly Sales\" column."
      ],
      "metadata": {
        "collapsed": false,
        "id": "ac833424ae065967"
      },
      "id": "ac833424ae065967"
    },
    {
      "cell_type": "code",
      "outputs": [
        {
          "output_type": "execute_result",
          "data": {
            "text/plain": [
              "           Category  Quarterly Sales\n",
              "0            Beauty             1000\n",
              "23           Beauty             1100\n",
              "22           Beauty             1050\n",
              "21           Beauty              980\n",
              "20           Beauty              880\n",
              "..              ...              ...\n",
              "120  Home & Kitchen             1600\n",
              "108  Home & Kitchen             1100\n",
              "121  Home & Kitchen             1300\n",
              "99   Home - Kitchen             1400\n",
              "98   Home - Kitchen             1300\n",
              "\n",
              "[119 rows x 2 columns]"
            ],
            "text/html": [
              "\n",
              "  <div id=\"df-406a197f-fafd-4eed-a8a7-f5981f419633\" class=\"colab-df-container\">\n",
              "    <div>\n",
              "<style scoped>\n",
              "    .dataframe tbody tr th:only-of-type {\n",
              "        vertical-align: middle;\n",
              "    }\n",
              "\n",
              "    .dataframe tbody tr th {\n",
              "        vertical-align: top;\n",
              "    }\n",
              "\n",
              "    .dataframe thead th {\n",
              "        text-align: right;\n",
              "    }\n",
              "</style>\n",
              "<table border=\"1\" class=\"dataframe\">\n",
              "  <thead>\n",
              "    <tr style=\"text-align: right;\">\n",
              "      <th></th>\n",
              "      <th>Category</th>\n",
              "      <th>Quarterly Sales</th>\n",
              "    </tr>\n",
              "  </thead>\n",
              "  <tbody>\n",
              "    <tr>\n",
              "      <th>0</th>\n",
              "      <td>Beauty</td>\n",
              "      <td>1000</td>\n",
              "    </tr>\n",
              "    <tr>\n",
              "      <th>23</th>\n",
              "      <td>Beauty</td>\n",
              "      <td>1100</td>\n",
              "    </tr>\n",
              "    <tr>\n",
              "      <th>22</th>\n",
              "      <td>Beauty</td>\n",
              "      <td>1050</td>\n",
              "    </tr>\n",
              "    <tr>\n",
              "      <th>21</th>\n",
              "      <td>Beauty</td>\n",
              "      <td>980</td>\n",
              "    </tr>\n",
              "    <tr>\n",
              "      <th>20</th>\n",
              "      <td>Beauty</td>\n",
              "      <td>880</td>\n",
              "    </tr>\n",
              "    <tr>\n",
              "      <th>...</th>\n",
              "      <td>...</td>\n",
              "      <td>...</td>\n",
              "    </tr>\n",
              "    <tr>\n",
              "      <th>120</th>\n",
              "      <td>Home &amp; Kitchen</td>\n",
              "      <td>1600</td>\n",
              "    </tr>\n",
              "    <tr>\n",
              "      <th>108</th>\n",
              "      <td>Home &amp; Kitchen</td>\n",
              "      <td>1100</td>\n",
              "    </tr>\n",
              "    <tr>\n",
              "      <th>121</th>\n",
              "      <td>Home &amp; Kitchen</td>\n",
              "      <td>1300</td>\n",
              "    </tr>\n",
              "    <tr>\n",
              "      <th>99</th>\n",
              "      <td>Home - Kitchen</td>\n",
              "      <td>1400</td>\n",
              "    </tr>\n",
              "    <tr>\n",
              "      <th>98</th>\n",
              "      <td>Home - Kitchen</td>\n",
              "      <td>1300</td>\n",
              "    </tr>\n",
              "  </tbody>\n",
              "</table>\n",
              "<p>119 rows × 2 columns</p>\n",
              "</div>\n",
              "    <div class=\"colab-df-buttons\">\n",
              "\n",
              "  <div class=\"colab-df-container\">\n",
              "    <button class=\"colab-df-convert\" onclick=\"convertToInteractive('df-406a197f-fafd-4eed-a8a7-f5981f419633')\"\n",
              "            title=\"Convert this dataframe to an interactive table.\"\n",
              "            style=\"display:none;\">\n",
              "\n",
              "  <svg xmlns=\"http://www.w3.org/2000/svg\" height=\"24px\" viewBox=\"0 -960 960 960\">\n",
              "    <path d=\"M120-120v-720h720v720H120Zm60-500h600v-160H180v160Zm220 220h160v-160H400v160Zm0 220h160v-160H400v160ZM180-400h160v-160H180v160Zm440 0h160v-160H620v160ZM180-180h160v-160H180v160Zm440 0h160v-160H620v160Z\"/>\n",
              "  </svg>\n",
              "    </button>\n",
              "\n",
              "  <style>\n",
              "    .colab-df-container {\n",
              "      display:flex;\n",
              "      gap: 12px;\n",
              "    }\n",
              "\n",
              "    .colab-df-convert {\n",
              "      background-color: #E8F0FE;\n",
              "      border: none;\n",
              "      border-radius: 50%;\n",
              "      cursor: pointer;\n",
              "      display: none;\n",
              "      fill: #1967D2;\n",
              "      height: 32px;\n",
              "      padding: 0 0 0 0;\n",
              "      width: 32px;\n",
              "    }\n",
              "\n",
              "    .colab-df-convert:hover {\n",
              "      background-color: #E2EBFA;\n",
              "      box-shadow: 0px 1px 2px rgba(60, 64, 67, 0.3), 0px 1px 3px 1px rgba(60, 64, 67, 0.15);\n",
              "      fill: #174EA6;\n",
              "    }\n",
              "\n",
              "    .colab-df-buttons div {\n",
              "      margin-bottom: 4px;\n",
              "    }\n",
              "\n",
              "    [theme=dark] .colab-df-convert {\n",
              "      background-color: #3B4455;\n",
              "      fill: #D2E3FC;\n",
              "    }\n",
              "\n",
              "    [theme=dark] .colab-df-convert:hover {\n",
              "      background-color: #434B5C;\n",
              "      box-shadow: 0px 1px 3px 1px rgba(0, 0, 0, 0.15);\n",
              "      filter: drop-shadow(0px 1px 2px rgba(0, 0, 0, 0.3));\n",
              "      fill: #FFFFFF;\n",
              "    }\n",
              "  </style>\n",
              "\n",
              "    <script>\n",
              "      const buttonEl =\n",
              "        document.querySelector('#df-406a197f-fafd-4eed-a8a7-f5981f419633 button.colab-df-convert');\n",
              "      buttonEl.style.display =\n",
              "        google.colab.kernel.accessAllowed ? 'block' : 'none';\n",
              "\n",
              "      async function convertToInteractive(key) {\n",
              "        const element = document.querySelector('#df-406a197f-fafd-4eed-a8a7-f5981f419633');\n",
              "        const dataTable =\n",
              "          await google.colab.kernel.invokeFunction('convertToInteractive',\n",
              "                                                    [key], {});\n",
              "        if (!dataTable) return;\n",
              "\n",
              "        const docLinkHtml = 'Like what you see? Visit the ' +\n",
              "          '<a target=\"_blank\" href=https://colab.research.google.com/notebooks/data_table.ipynb>data table notebook</a>'\n",
              "          + ' to learn more about interactive tables.';\n",
              "        element.innerHTML = '';\n",
              "        dataTable['output_type'] = 'display_data';\n",
              "        await google.colab.output.renderOutput(dataTable, element);\n",
              "        const docLink = document.createElement('div');\n",
              "        docLink.innerHTML = docLinkHtml;\n",
              "        element.appendChild(docLink);\n",
              "      }\n",
              "    </script>\n",
              "  </div>\n",
              "\n",
              "\n",
              "<div id=\"df-6df46bfb-9bd7-475d-8caf-c7f5a639faa1\">\n",
              "  <button class=\"colab-df-quickchart\" onclick=\"quickchart('df-6df46bfb-9bd7-475d-8caf-c7f5a639faa1')\"\n",
              "            title=\"Suggest charts\"\n",
              "            style=\"display:none;\">\n",
              "\n",
              "<svg xmlns=\"http://www.w3.org/2000/svg\" height=\"24px\"viewBox=\"0 0 24 24\"\n",
              "     width=\"24px\">\n",
              "    <g>\n",
              "        <path d=\"M19 3H5c-1.1 0-2 .9-2 2v14c0 1.1.9 2 2 2h14c1.1 0 2-.9 2-2V5c0-1.1-.9-2-2-2zM9 17H7v-7h2v7zm4 0h-2V7h2v10zm4 0h-2v-4h2v4z\"/>\n",
              "    </g>\n",
              "</svg>\n",
              "  </button>\n",
              "\n",
              "<style>\n",
              "  .colab-df-quickchart {\n",
              "      --bg-color: #E8F0FE;\n",
              "      --fill-color: #1967D2;\n",
              "      --hover-bg-color: #E2EBFA;\n",
              "      --hover-fill-color: #174EA6;\n",
              "      --disabled-fill-color: #AAA;\n",
              "      --disabled-bg-color: #DDD;\n",
              "  }\n",
              "\n",
              "  [theme=dark] .colab-df-quickchart {\n",
              "      --bg-color: #3B4455;\n",
              "      --fill-color: #D2E3FC;\n",
              "      --hover-bg-color: #434B5C;\n",
              "      --hover-fill-color: #FFFFFF;\n",
              "      --disabled-bg-color: #3B4455;\n",
              "      --disabled-fill-color: #666;\n",
              "  }\n",
              "\n",
              "  .colab-df-quickchart {\n",
              "    background-color: var(--bg-color);\n",
              "    border: none;\n",
              "    border-radius: 50%;\n",
              "    cursor: pointer;\n",
              "    display: none;\n",
              "    fill: var(--fill-color);\n",
              "    height: 32px;\n",
              "    padding: 0;\n",
              "    width: 32px;\n",
              "  }\n",
              "\n",
              "  .colab-df-quickchart:hover {\n",
              "    background-color: var(--hover-bg-color);\n",
              "    box-shadow: 0 1px 2px rgba(60, 64, 67, 0.3), 0 1px 3px 1px rgba(60, 64, 67, 0.15);\n",
              "    fill: var(--button-hover-fill-color);\n",
              "  }\n",
              "\n",
              "  .colab-df-quickchart-complete:disabled,\n",
              "  .colab-df-quickchart-complete:disabled:hover {\n",
              "    background-color: var(--disabled-bg-color);\n",
              "    fill: var(--disabled-fill-color);\n",
              "    box-shadow: none;\n",
              "  }\n",
              "\n",
              "  .colab-df-spinner {\n",
              "    border: 2px solid var(--fill-color);\n",
              "    border-color: transparent;\n",
              "    border-bottom-color: var(--fill-color);\n",
              "    animation:\n",
              "      spin 1s steps(1) infinite;\n",
              "  }\n",
              "\n",
              "  @keyframes spin {\n",
              "    0% {\n",
              "      border-color: transparent;\n",
              "      border-bottom-color: var(--fill-color);\n",
              "      border-left-color: var(--fill-color);\n",
              "    }\n",
              "    20% {\n",
              "      border-color: transparent;\n",
              "      border-left-color: var(--fill-color);\n",
              "      border-top-color: var(--fill-color);\n",
              "    }\n",
              "    30% {\n",
              "      border-color: transparent;\n",
              "      border-left-color: var(--fill-color);\n",
              "      border-top-color: var(--fill-color);\n",
              "      border-right-color: var(--fill-color);\n",
              "    }\n",
              "    40% {\n",
              "      border-color: transparent;\n",
              "      border-right-color: var(--fill-color);\n",
              "      border-top-color: var(--fill-color);\n",
              "    }\n",
              "    60% {\n",
              "      border-color: transparent;\n",
              "      border-right-color: var(--fill-color);\n",
              "    }\n",
              "    80% {\n",
              "      border-color: transparent;\n",
              "      border-right-color: var(--fill-color);\n",
              "      border-bottom-color: var(--fill-color);\n",
              "    }\n",
              "    90% {\n",
              "      border-color: transparent;\n",
              "      border-bottom-color: var(--fill-color);\n",
              "    }\n",
              "  }\n",
              "</style>\n",
              "\n",
              "  <script>\n",
              "    async function quickchart(key) {\n",
              "      const quickchartButtonEl =\n",
              "        document.querySelector('#' + key + ' button');\n",
              "      quickchartButtonEl.disabled = true;  // To prevent multiple clicks.\n",
              "      quickchartButtonEl.classList.add('colab-df-spinner');\n",
              "      try {\n",
              "        const charts = await google.colab.kernel.invokeFunction(\n",
              "            'suggestCharts', [key], {});\n",
              "      } catch (error) {\n",
              "        console.error('Error during call to suggestCharts:', error);\n",
              "      }\n",
              "      quickchartButtonEl.classList.remove('colab-df-spinner');\n",
              "      quickchartButtonEl.classList.add('colab-df-quickchart-complete');\n",
              "    }\n",
              "    (() => {\n",
              "      let quickchartButtonEl =\n",
              "        document.querySelector('#df-6df46bfb-9bd7-475d-8caf-c7f5a639faa1 button');\n",
              "      quickchartButtonEl.style.display =\n",
              "        google.colab.kernel.accessAllowed ? 'block' : 'none';\n",
              "    })();\n",
              "  </script>\n",
              "</div>\n",
              "\n",
              "    </div>\n",
              "  </div>\n"
            ]
          },
          "metadata": {},
          "execution_count": 46
        }
      ],
      "source": [
        "sorted_df = df.sort_values(by='Category')\n",
        "sorted_df[[\"Category\", \"Quarterly Sales\"]]"
      ],
      "metadata": {
        "ExecuteTime": {
          "end_time": "2024-01-13T09:00:50.408154701Z",
          "start_time": "2024-01-13T09:00:50.269145429Z"
        },
        "id": "f5b04c6f270a2f4",
        "colab": {
          "base_uri": "https://localhost:8080/",
          "height": 423
        },
        "outputId": "6eb3b8cb-b6a7-4e4d-836d-deecda206b24"
      },
      "id": "f5b04c6f270a2f4",
      "execution_count": 46
    },
    {
      "cell_type": "markdown",
      "source": [
        "Since all the data is in integer format, let's use the medians to override the NA's"
      ],
      "metadata": {
        "collapsed": false,
        "id": "2c91965285ea6442"
      },
      "id": "2c91965285ea6442"
    },
    {
      "cell_type": "code",
      "outputs": [],
      "source": [
        "df['Seller Rating'].fillna(df['Seller Rating'].median(), inplace=True)"
      ],
      "metadata": {
        "ExecuteTime": {
          "end_time": "2024-01-13T09:00:50.431765951Z",
          "start_time": "2024-01-13T09:00:50.362547349Z"
        },
        "id": "a2f6f7747c6a715b"
      },
      "id": "a2f6f7747c6a715b",
      "execution_count": 47
    },
    {
      "cell_type": "code",
      "outputs": [],
      "source": [
        "df['Advertising Cost'].fillna(df['Advertising Cost'].median(), inplace=True)"
      ],
      "metadata": {
        "ExecuteTime": {
          "end_time": "2024-01-13T09:00:50.542064076Z",
          "start_time": "2024-01-13T09:00:50.420390127Z"
        },
        "id": "3a730e5c14f17a20"
      },
      "id": "3a730e5c14f17a20",
      "execution_count": 48
    },
    {
      "cell_type": "markdown",
      "source": [
        "\n",
        "Let's verify if there are any negative values in the numeric columns. There shouldn't be any in our dataset."
      ],
      "metadata": {
        "collapsed": false,
        "id": "2fc48e158fe0e709"
      },
      "id": "2fc48e158fe0e709"
    },
    {
      "cell_type": "code",
      "outputs": [
        {
          "output_type": "stream",
          "name": "stdout",
          "text": [
            "Negative values exist in the following columns: Customer Rating\n"
          ]
        }
      ],
      "source": [
        "negative_values_columns = df.select_dtypes(include='number').columns[df.select_dtypes(include='number').lt(0).any()]\n",
        "\n",
        "# Display the result\n",
        "if not negative_values_columns.empty:\n",
        "    print(f\"Negative values exist in the following columns: {', '.join(negative_values_columns)}\")\n",
        "else:\n",
        "    print(\"No negative values found in any numeric column.\")"
      ],
      "metadata": {
        "ExecuteTime": {
          "end_time": "2024-01-13T09:00:50.839439128Z",
          "start_time": "2024-01-13T09:00:50.675292999Z"
        },
        "id": "b6847204092bfee9",
        "colab": {
          "base_uri": "https://localhost:8080/"
        },
        "outputId": "901d7965-5167-48f8-ff7b-44bf275cef77"
      },
      "id": "b6847204092bfee9",
      "execution_count": 51
    },
    {
      "cell_type": "markdown",
      "source": [
        "The range should not be negative since all the data in our dataset falls within the range of 3 to 5."
      ],
      "metadata": {
        "collapsed": false,
        "id": "fe3d30cba540cf1f"
      },
      "id": "fe3d30cba540cf1f"
    },
    {
      "cell_type": "code",
      "outputs": [],
      "source": [
        "df[\"Customer Rating\"] = df[\"Customer Rating\"].abs().astype(int)"
      ],
      "metadata": {
        "ExecuteTime": {
          "end_time": "2024-01-13T09:00:50.885012074Z",
          "start_time": "2024-01-13T09:00:50.768201714Z"
        },
        "id": "99c617265ef925c3"
      },
      "id": "99c617265ef925c3",
      "execution_count": 52
    },
    {
      "cell_type": "markdown",
      "source": [
        "Let's check it again."
      ],
      "metadata": {
        "collapsed": false,
        "id": "d726db1e14b9e60e"
      },
      "id": "d726db1e14b9e60e"
    },
    {
      "cell_type": "code",
      "outputs": [
        {
          "output_type": "execute_result",
          "data": {
            "text/plain": [
              "False"
            ]
          },
          "metadata": {},
          "execution_count": 53
        }
      ],
      "source": [
        "(df['Customer Rating'] < 0).any()"
      ],
      "metadata": {
        "ExecuteTime": {
          "end_time": "2024-01-13T09:00:50.984934604Z",
          "start_time": "2024-01-13T09:00:50.864068055Z"
        },
        "id": "7c7fe0c83915ba28",
        "colab": {
          "base_uri": "https://localhost:8080/"
        },
        "outputId": "188ad7a2-09d6-4815-e774-e48595a68cc5"
      },
      "id": "7c7fe0c83915ba28",
      "execution_count": 53
    },
    {
      "cell_type": "markdown",
      "source": [
        "It shows that everything is fine now."
      ],
      "metadata": {
        "collapsed": false,
        "id": "5b22ee4c104d2367"
      },
      "id": "5b22ee4c104d2367"
    },
    {
      "cell_type": "markdown",
      "source": [
        "Let's standardize the writing format for the data in the category columns."
      ],
      "metadata": {
        "collapsed": false,
        "id": "3c27f693b4a90cd6"
      },
      "id": "3c27f693b4a90cd6"
    },
    {
      "cell_type": "code",
      "outputs": [],
      "source": [
        "df['Category'] = df['Category'].replace({'BEAUTY': 'Beauty',\n",
        "                                         'ELECTRONICS': 'Electronics',\n",
        "                                         'Home - Kitchen': 'Home & Kitchen',\n",
        "                                         'Book': 'Books'})\n",
        "df['Location'] = df['Location'].replace({'United States': 'US', 'ASIA': 'Asia', 'European Union': 'EU'})"
      ],
      "metadata": {
        "ExecuteTime": {
          "end_time": "2024-01-13T09:00:51.028745002Z",
          "start_time": "2024-01-13T09:00:50.970129304Z"
        },
        "id": "12b0c5511ac80cec"
      },
      "id": "12b0c5511ac80cec",
      "execution_count": 54
    },
    {
      "cell_type": "markdown",
      "source": [
        "Let's check the outliers based on the values of each column categorized by their respective categories, as it would be more logical since the values vary a lot in different categories."
      ],
      "metadata": {
        "collapsed": false,
        "id": "f419b68ee82d4494"
      },
      "id": "f419b68ee82d4494"
    },
    {
      "cell_type": "markdown",
      "source": [
        "Let's create a function that will identify outliers using a box plot. Given that each category isn't extensive, we will focus on detecting extreme outliers."
      ],
      "metadata": {
        "collapsed": false,
        "id": "3b20ca7895ace216"
      },
      "id": "3b20ca7895ace216"
    },
    {
      "cell_type": "code",
      "outputs": [],
      "source": [
        "def identify_outliers_by_category(df, category_column, numerical_column):\n",
        "    categories = df[category_column].unique()\n",
        "    outliers_dict = {}\n",
        "\n",
        "    for category in categories:\n",
        "        subset = df[df[category_column] == category]\n",
        "        column = subset[numerical_column]\n",
        "\n",
        "        Q1 = column.quantile(0.25)\n",
        "        Q3 = column.quantile(0.75)\n",
        "        IQR = Q3 - Q1\n",
        "        lower_bound = Q1 - 3 * IQR\n",
        "        upper_bound = Q3 + 3 * IQR\n",
        "        outliers = column[(column < lower_bound) | (column > upper_bound)]\n",
        "\n",
        "        # Check if the number of outliers doesn't exceed 10% of the category's data\n",
        "        if not outliers.empty:\n",
        "            category_count = len(subset)\n",
        "            outlier_count = len(outliers)\n",
        "            if outlier_count / category_count <= 0.1:\n",
        "                outliers_dict[category] = outliers\n",
        "\n",
        "    return outliers_dict"
      ],
      "metadata": {
        "ExecuteTime": {
          "end_time": "2024-01-13T09:00:51.131023959Z",
          "start_time": "2024-01-13T09:00:51.018937352Z"
        },
        "id": "d2153a83331bc004"
      },
      "id": "d2153a83331bc004",
      "execution_count": 55
    },
    {
      "cell_type": "markdown",
      "source": [
        "And here is the part of the code that will process for every column."
      ],
      "metadata": {
        "collapsed": false,
        "id": "757d30b6760a9070"
      },
      "id": "757d30b6760a9070"
    },
    {
      "cell_type": "code",
      "outputs": [
        {
          "output_type": "stream",
          "name": "stdout",
          "text": [
            "\n",
            "Outliers in Year by Category:\n",
            "No outliers in Category\n",
            "\n",
            "Outliers in Quarterly Sales by Category:\n",
            "No outliers in Category\n",
            "\n",
            "Outliers in Price by Category:\n",
            "No outliers in Category\n",
            "\n",
            "Outliers in Units Sold by Category:\n",
            "No outliers in Category\n",
            "\n",
            "Outliers in Revenue by Category:\n",
            "Outliers in Books: [84000 84000]\n",
            "Outliers in Electronics: [78000 56250]\n",
            "\n",
            "Outliers in Advertising Cost by Category:\n",
            "No outliers in Category\n"
          ]
        }
      ],
      "source": [
        "# create a dict that will store outliers based on column\n",
        "outliers_by_category = {}\n",
        "for numerical_column in df.select_dtypes(include='number').columns:\n",
        "    if numerical_column not in [\"Customer Rating\", \"Seller Rating\", \"Discount Rate\"]:\n",
        "        outliers_by_category[numerical_column] = {}\n",
        "        for category_column in ['Category']:\n",
        "            outliers_by_category[numerical_column][category_column] = identify_outliers_by_category(df, category_column, numerical_column)\n",
        "\n",
        "\n",
        "# Displaying outliers for each category\n",
        "for numerical_column, category_dict in outliers_by_category.items():\n",
        "    print(f\"\\nOutliers in {numerical_column} by Category:\")\n",
        "    for category_column, outliers in category_dict.items():\n",
        "        if outliers:\n",
        "            for cat, out_vals in outliers.items():\n",
        "                print(f\"Outliers in {cat}: {out_vals.values}\")\n",
        "        else:\n",
        "            print(f\"No outliers in {category_column}\")\n",
        "\n",
        "# Replacing outliers by mean of the specific columns within each category\n",
        "for numerical_column, category_dict in outliers_by_category.items():\n",
        "    for category_column, outliers in category_dict.items():\n",
        "        for cat, out_vals in outliers.items():\n",
        "            category_mean = df.loc[df[category_column] == cat, numerical_column].mean().astype(int)\n",
        "            df.loc[(df[category_column] == cat) & df[numerical_column].isin(out_vals), numerical_column] = category_mean\n"
      ],
      "metadata": {
        "ExecuteTime": {
          "end_time": "2024-01-13T09:00:51.256373077Z",
          "start_time": "2024-01-13T09:00:51.115471120Z"
        },
        "id": "14482158ea39ce52",
        "colab": {
          "base_uri": "https://localhost:8080/"
        },
        "outputId": "80e39190-3b6c-4035-ca6a-15677d324302"
      },
      "id": "14482158ea39ce52",
      "execution_count": 56
    },
    {
      "cell_type": "markdown",
      "source": [
        "And now, it is done."
      ],
      "metadata": {
        "collapsed": false,
        "id": "6b0153b435e5c3d0"
      },
      "id": "6b0153b435e5c3d0"
    },
    {
      "cell_type": "markdown",
      "source": [
        "Let's check the datatypes of the columns."
      ],
      "metadata": {
        "collapsed": false,
        "id": "434a1802be0cfbf7"
      },
      "id": "434a1802be0cfbf7"
    },
    {
      "cell_type": "code",
      "outputs": [
        {
          "output_type": "execute_result",
          "data": {
            "text/plain": [
              "Category                    object\n",
              "Year                         int64\n",
              "Quarter                     object\n",
              "Quarterly Sales              int64\n",
              "Customer Rating              int64\n",
              "Seller Rating              float64\n",
              "Price                        int64\n",
              "Discount Rate              float64\n",
              "Units Sold                   int64\n",
              "Revenue                      int64\n",
              "Shipping Method             object\n",
              "Location                    object\n",
              "Advertising Cost           float64\n",
              "Date                datetime64[ns]\n",
              "dtype: object"
            ]
          },
          "metadata": {},
          "execution_count": 57
        }
      ],
      "source": [
        "show_data_type(df)"
      ],
      "metadata": {
        "ExecuteTime": {
          "end_time": "2024-01-13T09:00:51.338608708Z",
          "start_time": "2024-01-13T09:00:51.195923104Z"
        },
        "id": "21504d1f968b3dff",
        "colab": {
          "base_uri": "https://localhost:8080/"
        },
        "outputId": "d913f378-236e-404e-e54d-fbd18e4615ab"
      },
      "id": "21504d1f968b3dff",
      "execution_count": 57
    },
    {
      "cell_type": "markdown",
      "source": [
        "Now, let's ensure that all numeric columns are of the same data type, specifically float64."
      ],
      "metadata": {
        "collapsed": false,
        "id": "10ddf886cbd7b2c7"
      },
      "id": "10ddf886cbd7b2c7"
    },
    {
      "cell_type": "code",
      "outputs": [],
      "source": [
        "# Get a list of columns to convert to float (excluding datetime and object columns)\n",
        "columns_to_convert = df.select_dtypes(include=['int']).columns\n",
        "columns_to_exclude = df.select_dtypes(exclude=['datetime', 'object']).columns\n",
        "\n",
        "# Convert integer columns to float\n",
        "df[columns_to_convert] = df[columns_to_convert].astype(float)"
      ],
      "metadata": {
        "ExecuteTime": {
          "end_time": "2024-01-13T09:00:51.385474365Z",
          "start_time": "2024-01-13T09:00:51.292328737Z"
        },
        "id": "bab3f8b5d0190dd1"
      },
      "id": "bab3f8b5d0190dd1",
      "execution_count": 58
    },
    {
      "cell_type": "markdown",
      "source": [
        "Let's review the fixed version."
      ],
      "metadata": {
        "collapsed": false,
        "id": "fe7972c364ef66d8"
      },
      "id": "fe7972c364ef66d8"
    },
    {
      "cell_type": "code",
      "outputs": [
        {
          "output_type": "execute_result",
          "data": {
            "text/plain": [
              "Category                    object\n",
              "Year                       float64\n",
              "Quarter                     object\n",
              "Quarterly Sales            float64\n",
              "Customer Rating            float64\n",
              "Seller Rating              float64\n",
              "Price                      float64\n",
              "Discount Rate              float64\n",
              "Units Sold                 float64\n",
              "Revenue                    float64\n",
              "Shipping Method             object\n",
              "Location                    object\n",
              "Advertising Cost           float64\n",
              "Date                datetime64[ns]\n",
              "dtype: object"
            ]
          },
          "metadata": {},
          "execution_count": 59
        }
      ],
      "source": [
        "show_data_type(df)"
      ],
      "metadata": {
        "ExecuteTime": {
          "end_time": "2024-01-13T09:00:51.475848107Z",
          "start_time": "2024-01-13T09:00:51.389066364Z"
        },
        "id": "db8466c7f6f928eb",
        "colab": {
          "base_uri": "https://localhost:8080/"
        },
        "outputId": "5ec35a6b-9c2b-4f0e-b289-fd2abee40981"
      },
      "id": "db8466c7f6f928eb",
      "execution_count": 59
    },
    {
      "cell_type": "markdown",
      "source": [
        "The \"Year\" column should be of integer type, not float."
      ],
      "metadata": {
        "collapsed": false,
        "id": "961f9ecd4c7c97cd"
      },
      "id": "961f9ecd4c7c97cd"
    },
    {
      "cell_type": "code",
      "outputs": [],
      "source": [
        "df['Year'] = df['Year'].astype(int)"
      ],
      "metadata": {
        "ExecuteTime": {
          "end_time": "2024-01-13T09:00:51.541007432Z",
          "start_time": "2024-01-13T09:00:51.461917209Z"
        },
        "id": "fe5feec99f272eb8"
      },
      "id": "fe5feec99f272eb8",
      "execution_count": 60
    },
    {
      "cell_type": "code",
      "outputs": [
        {
          "output_type": "execute_result",
          "data": {
            "text/plain": [
              "Category                    object\n",
              "Year                         int64\n",
              "Quarter                     object\n",
              "Quarterly Sales            float64\n",
              "Customer Rating            float64\n",
              "Seller Rating              float64\n",
              "Price                      float64\n",
              "Discount Rate              float64\n",
              "Units Sold                 float64\n",
              "Revenue                    float64\n",
              "Shipping Method             object\n",
              "Location                    object\n",
              "Advertising Cost           float64\n",
              "Date                datetime64[ns]\n",
              "dtype: object"
            ]
          },
          "metadata": {},
          "execution_count": 61
        }
      ],
      "source": [
        "show_data_type(df)"
      ],
      "metadata": {
        "ExecuteTime": {
          "end_time": "2024-01-13T09:00:51.560191563Z",
          "start_time": "2024-01-13T09:00:51.537976272Z"
        },
        "id": "76c2adabffcf8138",
        "colab": {
          "base_uri": "https://localhost:8080/"
        },
        "outputId": "7c7d61a8-ceb1-438b-b801-658c23a65cc7"
      },
      "id": "76c2adabffcf8138",
      "execution_count": 61
    },
    {
      "cell_type": "markdown",
      "source": [
        "Save the updated data into both CSV and Excel files."
      ],
      "metadata": {
        "collapsed": false,
        "id": "a1f7be5f9ff0845d"
      },
      "id": "a1f7be5f9ff0845d"
    },
    {
      "cell_type": "code",
      "outputs": [],
      "source": [
        "# Save data to Excel file and csv file\n",
        "csv_filename = '/content/data/filtered_amazon_2.csv'\n",
        "df.to_csv(csv_filename, index=False)\n",
        "\n",
        "csv_filename = '/content/data/filtered_amazon_2.xlsx'\n",
        "df.to_excel(csv_filename, index=False)"
      ],
      "metadata": {
        "ExecuteTime": {
          "end_time": "2024-01-13T09:00:51.656560485Z",
          "start_time": "2024-01-13T09:00:51.546003206Z"
        },
        "id": "4956b8a6273d0f0b"
      },
      "id": "4956b8a6273d0f0b",
      "execution_count": 62
    }
  ],
  "metadata": {
    "kernelspec": {
      "display_name": "Python 3",
      "language": "python",
      "name": "python3"
    },
    "language_info": {
      "codemirror_mode": {
        "name": "ipython",
        "version": 2
      },
      "file_extension": ".py",
      "mimetype": "text/x-python",
      "name": "python",
      "nbconvert_exporter": "python",
      "pygments_lexer": "ipython2",
      "version": "2.7.6"
    },
    "colab": {
      "provenance": []
    }
  },
  "nbformat": 4,
  "nbformat_minor": 5
}